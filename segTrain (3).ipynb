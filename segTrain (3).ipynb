{
 "cells": [
  {
   "cell_type": "markdown",
   "metadata": {},
   "source": [
    "add blur"
   ]
  },
  {
   "cell_type": "code",
   "execution_count": 8,
   "metadata": {},
   "outputs": [
    {
     "name": "stdout",
     "output_type": "stream",
     "text": [
      "Processed and saved: Kvasir-SEG-Blured2x/images/val\\cju160wshltz10993i1gmqxbe.jpg\n",
      "Processed and saved: Kvasir-SEG-Blured2x/images/val\\cju171py4qiha0835u8sl59ds.jpg\n",
      "Processed and saved: Kvasir-SEG-Blured2x/images/val\\cju175facms5f0993a5tjikvt.jpg\n",
      "Processed and saved: Kvasir-SEG-Blured2x/images/val\\cju1819curo000988pd5xcqme.jpg\n",
      "Processed and saved: Kvasir-SEG-Blured2x/images/val\\cju183od81ff608017ekzif89.jpg\n",
      "Processed and saved: Kvasir-SEG-Blured2x/images/val\\cju1871y11d6r0799k6cw4yze.jpg\n",
      "Processed and saved: Kvasir-SEG-Blured2x/images/val\\cju18849rrsgr0988p90hkygb.jpg\n",
      "Processed and saved: Kvasir-SEG-Blured2x/images/val\\cju300m3s04fg0988uzupuf7z.jpg\n",
      "Processed and saved: Kvasir-SEG-Blured2x/images/val\\cju302fqq9spc0878rrygyzzz.jpg\n",
      "Processed and saved: Kvasir-SEG-Blured2x/images/val\\cju303j5r062k098835zxfds5.jpg\n",
      "Processed and saved: Kvasir-SEG-Blured2x/images/val\\cju30525w04r10835ygp257sb.jpg\n",
      "Processed and saved: Kvasir-SEG-Blured2x/images/val\\cju306x7w05nb0835cunv799x.jpg\n",
      "Processed and saved: Kvasir-SEG-Blured2x/images/val\\cju310f6val1v0855xo8tc3gu.jpg\n",
      "Processed and saved: Kvasir-SEG-Blured2x/images/val\\cju3128yi0rpu0988o4oo5n8n.jpg\n",
      "Processed and saved: Kvasir-SEG-Blured2x/images/val\\cju320gyvbch60801v2amdi2g.jpg\n",
      "Processed and saved: Kvasir-SEG-Blured2x/images/val\\cju323ypb1fbb0988gx5rzudb.jpg\n",
      "Processed and saved: Kvasir-SEG-Blured2x/images/val\\cju324q101fhe08350wae9cif.jpg\n",
      "Processed and saved: Kvasir-SEG-Blured2x/images/val\\cju326h4v1gxw08352px40p7r.jpg\n",
      "Processed and saved: Kvasir-SEG-Blured2x/images/val\\cju3280wv1ir009882jze27tc.jpg\n",
      "Processed and saved: Kvasir-SEG-Blured2x/images/val\\cju330ofbc2l30801th5g3hw6.jpg\n",
      "Processed and saved: Kvasir-SEG-Blured2x/images/val\\cju33231uy4gi0993qc7b1jch.jpg\n",
      "Processed and saved: Kvasir-SEG-Blured2x/images/val\\cju334jzo261t0835yqudnfs1.jpg\n",
      "Processed and saved: Kvasir-SEG-Blured2x/images/val\\cju336l68y7if0993wf092166.jpg\n",
      "Processed and saved: Kvasir-SEG-Blured2x/images/val\\cju3381d8bz3h07991xtl7ra0.jpg\n",
      "Processed and saved: Kvasir-SEG-Blured2x/images/val\\cju3518w2d838079939fqztbc.jpg\n",
      "Processed and saved: Kvasir-SEG-Blured2x/images/val\\cju3521y5d5mq0878t3ezsu4p.jpg\n",
      "Processed and saved: Kvasir-SEG-Blured2x/images/val\\cju353d1eda8c07992afde611.jpg\n",
      "Processed and saved: Kvasir-SEG-Blured2x/images/val\\cju35740hzm0g0993zl5ic246.jpg\n",
      "Processed and saved: Kvasir-SEG-Blured2x/images/val\\cju357rxxdaz30878y2esjpjt.jpg\n",
      "Processed and saved: Kvasir-SEG-Blured2x/images/val\\cju358pwtdby20878cg7nm0np.jpg\n",
      "Processed and saved: Kvasir-SEG-Blured2x/images/val\\cju410dnfl0960755y8lu8d79.jpg\n",
      "Processed and saved: Kvasir-SEG-Blured2x/images/val\\cju412uwlkva50850d1ps1ww7.jpg\n",
      "Processed and saved: Kvasir-SEG-Blured2x/images/val\\cju414lf2l1lt0801rl3hjllj.jpg\n",
      "Processed and saved: Kvasir-SEG-Blured2x/images/val\\cju418rckl3ur08012psrx1r1.jpg\n",
      "Processed and saved: Kvasir-SEG-Blured2x/images/val\\cju422cm8lfxn0818ojicxejb.jpg\n",
      "Processed and saved: Kvasir-SEG-Blured2x/images/val\\cju424hy5lckr085073fva1ok.jpg\n",
      "Processed and saved: Kvasir-SEG-Blured2x/images/val\\cju426tomlhll0818fc0i7nvh.jpg\n",
      "Processed and saved: Kvasir-SEG-Blured2x/images/val\\cju428k5fldt108177s6g6f45.jpg\n",
      "Processed and saved: Kvasir-SEG-Blured2x/images/val\\cju430pm2lz0y0755jkhcc3d1.jpg\n",
      "Processed and saved: Kvasir-SEG-Blured2x/images/val\\cju439oazm2fu0871ma0vvrft.jpg\n",
      "Processed and saved: Kvasir-SEG-Blured2x/images/val\\cju77196iyshb0850ycbto50a.jpg\n",
      "Processed and saved: Kvasir-SEG-Blured2x/images/val\\cju772304yw5t0818vbw8kkjf.jpg\n",
      "Processed and saved: Kvasir-SEG-Blured2x/images/val\\cju773hsyyosz0817pk1e7sjq.jpg\n",
      "Processed and saved: Kvasir-SEG-Blured2x/images/val\\cju774fmayxif0818u2g79usw.jpg\n",
      "Processed and saved: Kvasir-SEG-Blured2x/images/val\\cju7787c5yy3l080159mwqsnj.jpg\n",
      "Processed and saved: Kvasir-SEG-Blured2x/images/val\\cju77bvg0yv4r0987yh60xmjo.jpg\n",
      "Processed and saved: Kvasir-SEG-Blured2x/images/val\\cju77g99iyxc00817zqi2ppor.jpg\n",
      "Processed and saved: Kvasir-SEG-Blured2x/images/val\\cju77idwfz36d0871tzfzz51i.jpg\n",
      "Processed and saved: Kvasir-SEG-Blured2x/images/val\\cju77j66ez52p08019xygi0co.jpg\n",
      "Processed and saved: Kvasir-SEG-Blured2x/images/val\\cju77k828z46w0871r0avuoo9.jpg\n",
      "Processed and saved: Kvasir-SEG-Blured2x/images/val\\cju77q10sz9ug0801449wu1nu.jpg\n",
      "Processed and saved: Kvasir-SEG-Blured2x/images/val\\cju77re6fz5bb0817vp9redjg.jpg\n",
      "Processed and saved: Kvasir-SEG-Blured2x/images/val\\cju77t0razbvm080106o56289.jpg\n",
      "Processed and saved: Kvasir-SEG-Blured2x/images/val\\cju77u1sjz77b0817ft44r3fk.jpg\n",
      "Processed and saved: Kvasir-SEG-Blured2x/images/val\\cju77vvcwzcm50850lzoykuva.jpg\n",
      "Processed and saved: Kvasir-SEG-Blured2x/images/val\\cju783tmkzkqu081803g7q5vk.jpg\n",
      "Processed and saved: Kvasir-SEG-Blured2x/images/val\\cju784jpdzeae0987q5ypq883.jpg\n",
      "Processed and saved: Kvasir-SEG-Blured2x/images/val\\cju785htizjzo08017tvlhtg4.jpg\n",
      "Processed and saved: Kvasir-SEG-Blured2x/images/val\\cju787jnjzjuj0871p94nck9g.jpg\n",
      "Processed and saved: Kvasir-SEG-Blured2x/images/val\\cju83h9ysjwe808716nt35oah.jpg\n",
      "Processed and saved: Kvasir-SEG-Blured2x/images/val\\cju83ipu3jwpx0801z5pvguf8.jpg\n",
      "Processed and saved: Kvasir-SEG-Blured2x/images/val\\cju83k8fyjsxr0817d6nxs6r4.jpg\n",
      "Processed and saved: Kvasir-SEG-Blured2x/images/val\\cju83kxitjv340987z09m0ezy.jpg\n",
      "Processed and saved: Kvasir-SEG-Blured2x/images/val\\cju83mki1jv5w0817kubxm31r.jpg\n",
      "Processed and saved: Kvasir-SEG-Blured2x/images/val\\cju83nwu1jxte0987h1krpfmv.jpg\n",
      "Processed and saved: Kvasir-SEG-Blured2x/images/val\\cju83qd0yjyht0817ktkfl268.jpg\n",
      "Processed and saved: Kvasir-SEG-Blured2x/images/val\\cju83rcnzkbsj0755x5anfrcg.jpg\n",
      "Processed and saved: Kvasir-SEG-Blured2x/images/val\\cju83syhdk6gs0801rf1rekdl.jpg\n",
      "Processed and saved: Kvasir-SEG-Blured2x/images/val\\cju83u9ftk3ni0987qnhlcinv.jpg\n",
      "Processed and saved: Kvasir-SEG-Blured2x/images/val\\cju83vvmik9wa08710yeh7cuk.jpg\n",
      "Processed and saved: Kvasir-SEG-Blured2x/images/val\\cju83wwn1k55e0850kw6i2d81.jpg\n",
      "Processed and saved: Kvasir-SEG-Blured2x/images/val\\cju83yddek68q0850d2x7zfkm.jpg\n",
      "Processed and saved: Kvasir-SEG-Blured2x/images/val\\cju8402x1kcy70801t6kz6bdi.jpg\n",
      "Processed and saved: Kvasir-SEG-Blured2x/images/val\\cju8418jhkf7d0818ga2v0xq0.jpg\n",
      "Processed and saved: Kvasir-SEG-Blured2x/images/val\\cju8432cmkgq90871cxe4iptl.jpg\n",
      "Processed and saved: Kvasir-SEG-Blured2x/images/val\\cju843yjskhq30818qre4rwm2.jpg\n",
      "Processed and saved: Kvasir-SEG-Blured2x/images/val\\cju846ec0kj7z08012o10klrb.jpg\n",
      "Processed and saved: Kvasir-SEG-Blured2x/images/val\\cju847pxykriq0755268ktrk2.jpg\n",
      "Processed and saved: Kvasir-SEG-Blured2x/images/val\\cju849c23kgnk0817cgv2hw1e.jpg\n",
      "Processed and saved: Kvasir-SEG-Blured2x/images/val\\cju84aoa3ktwn0755pfl4gfwd.jpg\n",
      "Processed and saved: Kvasir-SEG-Blured2x/images/val\\cju84dsvaklpx098750hp83x4.jpg\n",
      "Processed and saved: Kvasir-SEG-Blured2x/images/val\\cju84ffdzkrjn08183jh1fxmb.jpg\n",
      "Processed and saved: Kvasir-SEG-Blured2x/images/val\\cju84gpefknwm098714oq8q61.jpg\n",
      "Processed and saved: Kvasir-SEG-Blured2x/images/val\\cju84hibuktj80871u519o71q.jpg\n",
      "Processed and saved: Kvasir-SEG-Blured2x/images/val\\cju84ih17kp5l09876bkooocl.jpg\n",
      "Processed and saved: Kvasir-SEG-Blured2x/images/val\\cju84jdl9kv0i0871eog9b3i9.jpg\n",
      "Processed and saved: Kvasir-SEG-Blured2x/images/val\\cju84kplnl1y30755ropua1b0.jpg\n",
      "Processed and saved: Kvasir-SEG-Blured2x/images/val\\cju8567gdlcbq0801dwwyo2jt.jpg\n",
      "Processed and saved: Kvasir-SEG-Blured2x/images/val\\cju857ad0l88m0817qx4cwxnf.jpg\n",
      "Processed and saved: Kvasir-SEG-Blured2x/images/val\\cju858eswlepn0871pzvdrhj1.jpg\n",
      "Processed and saved: Kvasir-SEG-Blured2x/images/val\\cju85a8h8llwm07559wxg4t5w.jpg\n",
      "Processed and saved: Kvasir-SEG-Blured2x/images/val\\cju85bf1algsq0871y9gtlq97.jpg\n",
      "Processed and saved: Kvasir-SEG-Blured2x/images/val\\cju85c2d4ln1b0755zz1z3onx.jpg\n",
      "Processed and saved: Kvasir-SEG-Blured2x/images/val\\cju85citjlnfm0755i4rk5tqj.jpg\n",
      "Processed and saved: Kvasir-SEG-Blured2x/images/val\\cju85dx63lic408017f0l0400.jpg\n",
      "Processed and saved: Kvasir-SEG-Blured2x/images/val\\cju85fc11ljr40818edpb0inh.jpg\n",
      "Processed and saved: Kvasir-SEG-Blured2x/images/val\\cju85hguellg50818kwu3s8d1.jpg\n",
      "Processed and saved: Kvasir-SEG-Blured2x/images/val\\cju85ia1slh220987y7c20sm2.jpg\n",
      "Processed and saved: Kvasir-SEG-Blured2x/images/val\\cju85je7vlht70817c9jcjwi4.jpg\n",
      "Processed and saved: Kvasir-SEG-Blured2x/images/val\\cju85l4yjlops0801fvmnwptf.jpg\n",
      "Processed and saved: Kvasir-SEG-Blured2x/images/val\\cju85mpuglq8k0818d2it6hzb.jpg\n",
      "Processed and saved: Kvasir-SEG-Blured2x/images/val\\cju85nr8elly209872w9n5m0s.jpg\n",
      "Processed and saved: Kvasir-SEG-Blured2x/images/val\\cju85omszllp30850b6rm9mi3.jpg\n",
      "Processed and saved: Kvasir-SEG-Blured2x/images/val\\cju85plp7lmkw0850rx42jdpf.jpg\n",
      "Processed and saved: Kvasir-SEG-Blured2x/images/val\\cju85qefyln6v0850szeb9byi.jpg\n",
      "Processed and saved: Kvasir-SEG-Blured2x/images/val\\cju85rkbnlo1c08503uxcpax1.jpg\n",
      "Processed and saved: Kvasir-SEG-Blured2x/images/val\\cju87kbcen2av0987usezo8kn.jpg\n",
      "Processed and saved: Kvasir-SEG-Blured2x/images/val\\cju87li0zn3yb0817kbwgjiz8.jpg\n",
      "Processed and saved: Kvasir-SEG-Blured2x/images/val\\cju87mrypnb1e0818scv1mxxg.jpg\n",
      "Processed and saved: Kvasir-SEG-Blured2x/images/val\\cju87nkyrnb970801q84m47yt.jpg\n",
      "Processed and saved: Kvasir-SEG-Blured2x/images/val\\cju87ox0kncom0801b98hqnd2.jpg\n",
      "Processed and saved: Kvasir-SEG-Blured2x/images/val\\cju87q6yoneim0871dl4phvkd.jpg\n",
      "Processed and saved: Kvasir-SEG-Blured2x/images/val\\cju87r56lnkyp0755hz30leew.jpg\n",
      "Processed and saved: Kvasir-SEG-Blured2x/images/val\\cju87tyddnnad0755bj0wxahe.jpg\n",
      "Processed and saved: Kvasir-SEG-Blured2x/images/val\\cju87vqa0ndwg0850onjdz7ol.jpg\n",
      "Processed and saved: Kvasir-SEG-Blured2x/images/val\\cju87xn2snfmv0987sc3d9xnq.jpg\n",
      "Processed and saved: Kvasir-SEG-Blured2x/images/val\\cju87z6o6nh73085045bzsx6o.jpg\n",
      "Processed and saved: Kvasir-SEG-Blured2x/images/val\\cju87zv8lni0o0850hbbecbq6.jpg\n",
      "Processed and saved: Kvasir-SEG-Blured2x/images/val\\cju8828oxnool0801qno9luhr.jpg\n",
      "Processed and saved: Kvasir-SEG-Blured2x/images/val\\cju884985nlmx0817vzpax3y4.jpg\n",
      "Processed and saved: Kvasir-SEG-Blured2x/images/val\\cju885ikhnmkn09878s2lqtuh.jpg\n",
      "Processed and saved: Kvasir-SEG-Blured2x/images/val\\cju886ryxnsl50801r93jai7q.jpg\n",
      "Processed and saved: Kvasir-SEG-Blured2x/images/val\\cju887ftknop008177nnjt46y.jpg\n",
      "Processed and saved: Kvasir-SEG-Blured2x/images/val\\cju888fr7nveu0818r9uwtiit.jpg\n",
      "Processed and saved: Kvasir-SEG-Blured2x/images/val\\cju88aq6vo1ij0755c2ey7z7n.jpg\n",
      "Processed and saved: Kvasir-SEG-Blured2x/images/val\\cju88cddensj00987788yotmg.jpg\n",
      "Processed and saved: Kvasir-SEG-Blured2x/images/val\\cju88evxanv9r08176zkeovec.jpg\n",
      "Processed and saved: Kvasir-SEG-Blured2x/images/val\\cju88fpm4o0tl0871w1i6a4ds.jpg\n",
      "Processed and saved: Kvasir-SEG-Blured2x/images/val\\cju88gx09o2vk0818610zody3.jpg\n",
      "Processed and saved: Kvasir-SEG-Blured2x/images/val\\cju88itqbny720987hxizbj5y.jpg\n",
      "Processed and saved: Kvasir-SEG-Blured2x/images/val\\cju88k75inzyb0850ccv5x3vk.jpg\n",
      "Processed and saved: Kvasir-SEG-Blured2x/images/val\\cju88l66no10s0850rsda7ej1.jpg\n",
      "Processed and saved: Kvasir-SEG-Blured2x/images/val\\cju88msmoo3470817m441j4sg.jpg\n",
      "Processed and saved: Kvasir-SEG-Blured2x/images/val\\cju88nroho44508500129f1nh.jpg\n",
      "Processed and saved: Kvasir-SEG-Blured2x/images/val\\cju88oh0po9gq0801nge4tgr1.jpg\n",
      "Processed and saved: Kvasir-SEG-Blured2x/images/val\\cju88q6h6obpd0871ckmiabbo.jpg\n",
      "Processed and saved: Kvasir-SEG-Blured2x/images/val\\cju88rl5eo94l0850kf5wtrm1.jpg\n",
      "Processed and saved: Kvasir-SEG-Blured2x/images/val\\cju88t4fvokxf07558ymyh281.jpg\n",
      "Processed and saved: Kvasir-SEG-Blured2x/images/val\\cju88trl3ogi208716qvti51b.jpg\n",
      "Processed and saved: Kvasir-SEG-Blured2x/images/val\\cju88v2f9oi8w0871hx9auh01.jpg\n",
      "Processed and saved: Kvasir-SEG-Blured2x/images/val\\cju88vx2uoocy075531lc63n3.jpg\n",
      "Processed and saved: Kvasir-SEG-Blured2x/images/val\\cju88y1mwoln50871emyfny1g.jpg\n",
      "Processed and saved: Kvasir-SEG-Blured2x/images/val\\cju88z8bson4h0871nnd7fdxo.jpg\n",
      "Processed and saved: Kvasir-SEG-Blured2x/images/val\\cju890guyoiti098753yg6cdu.jpg\n",
      "Processed and saved: Kvasir-SEG-Blured2x/images/val\\cju8914beokbf0850isxpocrk.jpg\n",
      "Processed and saved: Kvasir-SEG-Blured2x/images/val\\cju892fesoq2g0801n0e0jyia.jpg\n",
      "Processed and saved: Kvasir-SEG-Blured2x/images/val\\cju893jmdompz0817xn3g1w4h.jpg\n",
      "Processed and saved: Kvasir-SEG-Blured2x/images/val\\cju89y9h0puti0818i5yw29e6.jpg\n",
      "Processed and saved: Kvasir-SEG-Blured2x/images/val\\cju89z6pqpqfx0817mfv8ixjc.jpg\n",
      "Processed and saved: Kvasir-SEG-Blured2x/images/val\\cjyzjzssvd8pq0838f4nolj5l.jpg\n",
      "Processed and saved: Kvasir-SEG-Blured2x/images/val\\cjyzk8qieoboa0848ogj51wwm.jpg\n",
      "Processed and saved: Kvasir-SEG-Blured2x/images/val\\cjyzkmjy8evns070165gf9dmq.jpg\n",
      "Processed and saved: Kvasir-SEG-Blured2x/images/val\\cjyzkpsbjdsjq07211dfi4sru.jpg\n",
      "Processed and saved: Kvasir-SEG-Blured2x/images/val\\cjyzl833ndne80838pzuq6ila.jpg\n",
      "Processed and saved: Kvasir-SEG-Blured2x/images/val\\cjyzlw7f9faqr070129au64sq.jpg\n",
      "Processed and saved: Kvasir-SEG-Blured2x/images/val\\cjyztzaqtrv430848l8xgcerw.jpg\n",
      "Processed and saved: Kvasir-SEG-Blured2x/images/val\\cjyzu3reghjya0794w7pwoi50.jpg\n",
      "Processed and saved: Kvasir-SEG-Blured2x/images/val\\cjyzu9th0qt4r0a46pyl4zik0.jpg\n",
      "Processed and saved: Kvasir-SEG-Blured2x/images/val\\cjyzufihqquiw0a46jatrbwln.jpg\n",
      "Processed and saved: Kvasir-SEG-Blured2x/images/val\\cjyzuio1qgh040763k56deohv.jpg\n",
      "Processed and saved: Kvasir-SEG-Blured2x/images/val\\cjyzul1qggwwj07216mhiv5sy.jpg\n",
      "Processed and saved: Kvasir-SEG-Blured2x/images/val\\cjyzurzvohqnr0794es1itzek.jpg\n",
      "Processed and saved: Kvasir-SEG-Blured2x/images/val\\cjz14qsk2wci60794un9ozwmw.jpg\n",
      "Processed and saved: Kvasir-SEG-Blured2x/images/val\\ck2395w2mb4vu07480otsu6tw.jpg\n",
      "Processed and saved: Kvasir-SEG-Blured2x/images/val\\ck2bxiswtxuw80838qkisqjwz.jpg\n",
      "Processed and saved: Kvasir-SEG-Blured2x/images/val\\ck2bxknhjvs1x0794iogrq49k.jpg\n",
      "Processed and saved: Kvasir-SEG-Blured2x/images/val\\ck2bxlujamu330725szlc2jdu.jpg\n",
      "Processed and saved: Kvasir-SEG-Blured2x/images/val\\ck2bxpfgxu2mk0748gsh7xelu.jpg\n",
      "Processed and saved: Kvasir-SEG-Blured2x/images/val\\ck2bxqz3evvg20794iiyv5v2m.jpg\n",
      "Processed and saved: Kvasir-SEG-Blured2x/images/val\\ck2bxskgxxzfv08386xkqtqdy.jpg\n",
      "Processed and saved: Kvasir-SEG-Blured2x/images/val\\ck2bxw18mmz1k0725litqq2mc.jpg\n",
      "Processed and saved: Kvasir-SEG-Blured2x/images/val\\ck2da7fwcjfis07218r1rvm95.jpg\n"
     ]
    }
   ],
   "source": [
    "import cv2\n",
    "import os\n",
    "import numpy as np\n",
    "\n",
    "def apply_motion_blur(image, kernel_size=15):\n",
    "    kernel = np.zeros((kernel_size, kernel_size))\n",
    "    kernel[int((kernel_size - 1)/2), :] = np.ones(kernel_size)\n",
    "    kernel = kernel / kernel_size\n",
    "\n",
    "    blurred = cv2.filter2D(image, -1, kernel)\n",
    "    return blurred\n",
    "\n",
    "def process_images(input_folder, output_folder, kernel_size=15):\n",
    "    if not os.path.exists(output_folder):\n",
    "        os.makedirs(output_folder)\n",
    "\n",
    "    for filename in os.listdir(input_folder):\n",
    "        if filename.endswith(('.png', '.jpg', '.jpeg', '.bmp', '.tiff')):  \n",
    "            img_path = os.path.join(input_folder, filename)\n",
    "            image = cv2.imread(img_path)\n",
    "\n",
    "            blurred_image = apply_motion_blur(image, kernel_size)\n",
    "\n",
    "            output_path = os.path.join(output_folder, filename)\n",
    "            cv2.imwrite(output_path, blurred_image)\n",
    "\n",
    "            print(f\"Processed and saved: {output_path}\")\n",
    "\n",
    "input_folder = 'Kvasir-SEG-Blured/images/val'\n",
    "output_folder = 'Kvasir-SEG-Blured2x/images/val'\n",
    "\n",
    "process_images(input_folder, output_folder, kernel_size=15)\n"
   ]
  },
  {
   "cell_type": "markdown",
   "metadata": {},
   "source": [
    "deblur"
   ]
  },
  {
   "cell_type": "code",
   "execution_count": 13,
   "metadata": {},
   "outputs": [
    {
     "name": "stdout",
     "output_type": "stream",
     "text": [
      "Collecting natsort\n",
      "  Downloading natsort-8.4.0-py3-none-any.whl.metadata (21 kB)\n",
      "Downloading natsort-8.4.0-py3-none-any.whl (38 kB)\n",
      "Installing collected packages: natsort\n",
      "Successfully installed natsort-8.4.0\n",
      "Note: you may need to restart the kernel to use updated packages.\n"
     ]
    }
   ],
   "source": [
    "pip install natsort\n"
   ]
  },
  {
   "cell_type": "code",
   "execution_count": 1,
   "metadata": {},
   "outputs": [
    {
     "name": "stdout",
     "output_type": "stream",
     "text": [
      "Images have been successfully split into 15 folders.\n"
     ]
    }
   ],
   "source": [
    "import os\n",
    "import shutil\n",
    "import math\n",
    "\n",
    "source_dir = \"Kvasir-SEG-Blured1/images/train\"\n",
    "target_base_dir = \"Kvasir-SEG-Blured1/images\"\n",
    "\n",
    "os.makedirs(target_base_dir, exist_ok=True)\n",
    "\n",
    "image_files = [f for f in os.listdir(source_dir) if os.path.isfile(os.path.join(source_dir, f))]\n",
    "\n",
    "total_images = len(image_files)\n",
    "images_per_folder = math.ceil(total_images / 15)\n",
    "\n",
    "for i in range(15):\n",
    "    target_dir = os.path.join(target_base_dir, f\"train{i+1}\")\n",
    "    os.makedirs(target_dir, exist_ok=True)\n",
    "    \n",
    "    start_idx = i * images_per_folder\n",
    "    end_idx = start_idx + images_per_folder\n",
    "    images_to_move = image_files[start_idx:end_idx]\n",
    "    \n",
    "    for img in images_to_move:\n",
    "        shutil.move(os.path.join(source_dir, img), os.path.join(target_dir, img))\n",
    "\n",
    "print(\"Images have been successfully split into 15 folders.\")\n"
   ]
  },
  {
   "cell_type": "code",
   "execution_count": 1,
   "metadata": {},
   "outputs": [
    {
     "ename": "KeyboardInterrupt",
     "evalue": "",
     "output_type": "error",
     "traceback": [
      "\u001b[1;31m---------------------------------------------------------------------------\u001b[0m",
      "\u001b[1;31mKeyboardInterrupt\u001b[0m                         Traceback (most recent call last)",
      "Input \u001b[1;32mIn [1]\u001b[0m, in \u001b[0;36m<cell line: 62>\u001b[1;34m()\u001b[0m\n\u001b[0;32m     78\u001b[0m \u001b[38;5;66;03m# Unpad the output\u001b[39;00m\n\u001b[0;32m     79\u001b[0m restored \u001b[38;5;241m=\u001b[39m restored[:,:,:h,:w]\n\u001b[1;32m---> 81\u001b[0m restored \u001b[38;5;241m=\u001b[39m \u001b[43mrestored\u001b[49m\u001b[38;5;241;43m.\u001b[39;49m\u001b[43mpermute\u001b[49m\u001b[43m(\u001b[49m\u001b[38;5;241;43m0\u001b[39;49m\u001b[43m,\u001b[49m\u001b[43m \u001b[49m\u001b[38;5;241;43m2\u001b[39;49m\u001b[43m,\u001b[49m\u001b[43m \u001b[49m\u001b[38;5;241;43m3\u001b[39;49m\u001b[43m,\u001b[49m\u001b[43m \u001b[49m\u001b[38;5;241;43m1\u001b[39;49m\u001b[43m)\u001b[49m\u001b[38;5;241;43m.\u001b[39;49m\u001b[43mcpu\u001b[49m\u001b[43m(\u001b[49m\u001b[43m)\u001b[49m\u001b[38;5;241m.\u001b[39mdetach()\u001b[38;5;241m.\u001b[39mnumpy()\n\u001b[0;32m     82\u001b[0m restored \u001b[38;5;241m=\u001b[39m img_as_ubyte(restored[\u001b[38;5;241m0\u001b[39m])\n\u001b[0;32m     84\u001b[0m f \u001b[38;5;241m=\u001b[39m os\u001b[38;5;241m.\u001b[39mpath\u001b[38;5;241m.\u001b[39msplitext(os\u001b[38;5;241m.\u001b[39mpath\u001b[38;5;241m.\u001b[39msplit(file_)[\u001b[38;5;241m-\u001b[39m\u001b[38;5;241m1\u001b[39m])[\u001b[38;5;241m0\u001b[39m]\n",
      "\u001b[1;31mKeyboardInterrupt\u001b[0m: "
     ]
    }
   ],
   "source": [
    "import torch\n",
    "import torch.nn as nn\n",
    "import torch.nn.functional as F\n",
    "import torchvision.transforms.functional as TF\n",
    "from PIL import Image\n",
    "import os\n",
    "from runpy import run_path\n",
    "from skimage import img_as_ubyte\n",
    "from collections import OrderedDict\n",
    "from natsort import natsorted\n",
    "from glob import glob\n",
    "import cv2\n",
    "import argparse\n",
    "\n",
    "# parser = argparse.ArgumentParser(description='Demo MPRNet')\n",
    "# parser.add_argument('--input_dir', default='Kvasir-SEG-Blured/images/val', type=str, help='Input images')\n",
    "# parser.add_argument('--result_dir', default='Kvasir-SEG-DeBlured/images/val', type=str, help='Directory for results')\n",
    "# parser.add_argument('--task', required=True, type=str, help='Task to run', choices=['Deblurring', 'Denoising', 'Deraining'])\n",
    "\n",
    "# args = parser.parse_args()\n",
    "\n",
    "def save_img(filepath, img):\n",
    "    cv2.imwrite(filepath,cv2.cvtColor(img, cv2.COLOR_RGB2BGR))\n",
    "\n",
    "def load_checkpoint(model, weights):\n",
    "    checkpoint = torch.load(weights)\n",
    "    try:\n",
    "        model.load_state_dict(checkpoint[\"state_dict\"])\n",
    "    except:\n",
    "        state_dict = checkpoint[\"state_dict\"]\n",
    "        new_state_dict = OrderedDict()\n",
    "        for k, v in state_dict.items():\n",
    "            name = k[7:] \n",
    "            new_state_dict[name] = v\n",
    "        model.load_state_dict(new_state_dict)\n",
    "\n",
    "task    = 'Deblurring'\n",
    "inp_dir = 'doubleblur/images/train'\n",
    "out_dir = 'doubleblur_deblurred_finetuned/images/train'\n",
    "\n",
    "os.makedirs(out_dir, exist_ok=True)\n",
    "\n",
    "files = natsorted(glob(os.path.join(inp_dir, '*.jpg'))\n",
    "                + glob(os.path.join(inp_dir, '*.JPG'))\n",
    "                + glob(os.path.join(inp_dir, '*.png'))\n",
    "                + glob(os.path.join(inp_dir, '*.PNG')))\n",
    "\n",
    "if len(files) == 0:\n",
    "    raise Exception(f\"No files found at {inp_dir}\")\n",
    "\n",
    "load_file = run_path(os.path.join(task, \"MPRNet.py\"))\n",
    "model = load_file['MPRNet']()\n",
    "model.cuda()\n",
    "\n",
    "weights = os.path.join(task, \"pretrained_models\", \"poop_\"+task.lower()+\".pth\")\n",
    "load_checkpoint(model, weights)\n",
    "model.eval()\n",
    "\n",
    "img_multiple_of = 8\n",
    "\n",
    "for file_ in files:\n",
    "    img = Image.open(file_).convert('RGB')\n",
    "    input_ = TF.to_tensor(img).unsqueeze(0).cuda()\n",
    "\n",
    "    h,w = input_.shape[2], input_.shape[3]\n",
    "    H,W = ((h+img_multiple_of)//img_multiple_of)*img_multiple_of, ((w+img_multiple_of)//img_multiple_of)*img_multiple_of\n",
    "    padh = H-h if h%img_multiple_of!=0 else 0\n",
    "    padw = W-w if w%img_multiple_of!=0 else 0\n",
    "    input_ = F.pad(input_, (0,padw,0,padh), 'reflect')\n",
    "\n",
    "    with torch.no_grad():\n",
    "        restored = model(input_)\n",
    "    restored = restored[0]\n",
    "    restored = torch.clamp(restored, 0, 1)\n",
    "\n",
    "    restored = restored[:,:,:h,:w]\n",
    "\n",
    "    restored = restored.permute(0, 2, 3, 1).cpu().detach().numpy()\n",
    "    restored = img_as_ubyte(restored[0])\n",
    "\n",
    "    f = os.path.splitext(os.path.split(file_)[-1])[0]\n",
    "    save_img((os.path.join(out_dir, f+'.jpg')), restored)\n",
    "\n",
    "print(f\"Files saved at {out_dir}\")"
   ]
  },
  {
   "cell_type": "code",
   "execution_count": 1,
   "metadata": {},
   "outputs": [],
   "source": [
    "import torch\n",
    "import torch.nn as nn\n",
    "import torch.nn.functional as F\n",
    "import torchvision.transforms.functional as TF\n",
    "from PIL import Image\n",
    "import os\n",
    "from runpy import run_path\n",
    "from skimage import img_as_ubyte\n",
    "from collections import OrderedDict\n",
    "from natsort import natsorted\n",
    "from glob import glob\n",
    "import cv2\n",
    "import argparse\n",
    "\n",
    "# parser = argparse.ArgumentParser(description='Demo MPRNet')\n",
    "# parser.add_argument('--input_dir', default='Kvasir-SEG-Blured/images/val', type=str, help='Input images')\n",
    "# parser.add_argument('--result_dir', default='Kvasir-SEG-DeBlured/images/val', type=str, help='Directory for results')\n",
    "# parser.add_argument('--task', required=True, type=str, help='Task to run', choices=['Deblurring', 'Denoising', 'Deraining'])\n",
    "\n",
    "# args = parser.parse_args()\n",
    "\n",
    "def save_img(filepath, img):\n",
    "    cv2.imwrite(filepath,cv2.cvtColor(img, cv2.COLOR_RGB2BGR))\n",
    "\n",
    "def load_checkpoint(model, weights):\n",
    "    checkpoint = torch.load(weights)\n",
    "    try:\n",
    "        model.load_state_dict(checkpoint[\"state_dict\"])\n",
    "    except:\n",
    "        state_dict = checkpoint[\"state_dict\"]\n",
    "        new_state_dict = OrderedDict()\n",
    "        for k, v in state_dict.items():\n",
    "            name = k[7:]\n",
    "            new_state_dict[name] = v\n",
    "        model.load_state_dict(new_state_dict)\n",
    "\n",
    "def stuff(task,piggy, inp_dir, out_dir):\n",
    "    os.makedirs(out_dir, exist_ok=True)\n",
    "\n",
    "    files = natsorted(glob(os.path.join(inp_dir, '*.jpg'))\n",
    "                    + glob(os.path.join(inp_dir, '*.JPG'))\n",
    "                    + glob(os.path.join(inp_dir, '*.png'))\n",
    "                    + glob(os.path.join(inp_dir, '*.PNG')))\n",
    "\n",
    "    if len(files) == 0:\n",
    "        raise Exception(f\"No files found at {inp_dir}\")\n",
    "\n",
    "    load_file = run_path(os.path.join(task, \"MPRNet.py\"))\n",
    "    model = load_file['MPRNet']()\n",
    "    model.cuda()\n",
    "\n",
    "    weights = os.path.join(task, \"pretrained_models\", \"model_\"+piggy.lower()+\".pth\")\n",
    "    load_checkpoint(model, weights)\n",
    "    model.eval()\n",
    "\n",
    "    img_multiple_of = 8\n",
    "\n",
    "    for file_ in files:\n",
    "        img = Image.open(file_).convert('RGB')\n",
    "        input_ = TF.to_tensor(img).unsqueeze(0).cuda()\n",
    "\n",
    "        h,w = input_.shape[2], input_.shape[3]\n",
    "        H,W = ((h+img_multiple_of)//img_multiple_of)*img_multiple_of, ((w+img_multiple_of)//img_multiple_of)*img_multiple_of\n",
    "        padh = H-h if h%img_multiple_of!=0 else 0\n",
    "        padw = W-w if w%img_multiple_of!=0 else 0\n",
    "        input_ = F.pad(input_, (0,padw,0,padh), 'reflect')\n",
    "\n",
    "        with torch.no_grad():\n",
    "            restored = model(input_)\n",
    "        restored = restored[0]\n",
    "        restored = torch.clamp(restored, 0, 1)\n",
    "\n",
    "        restored = restored[:,:,:h,:w]\n",
    "\n",
    "        restored = restored.permute(0, 2, 3, 1).cpu().detach().numpy()\n",
    "        restored = img_as_ubyte(restored[0])\n",
    "\n",
    "        f = os.path.splitext(os.path.split(file_)[-1])[0]\n",
    "        save_img((os.path.join(out_dir, f+'.jpg')), restored)\n",
    "\n",
    "    print(f\"Files saved at {out_dir}\")"
   ]
  },
  {
   "cell_type": "code",
   "execution_count": 5,
   "metadata": {},
   "outputs": [
    {
     "name": "stdout",
     "output_type": "stream",
     "text": [
      "Files saved at noisy_denoised/images/val\n"
     ]
    }
   ],
   "source": [
    "#stuff('Denoising','Denoising','noisy/images/val','noisy_ft_denoised/images/val')\n",
    "stuff('Denoising','Denoisingold','noisy/images/val','noisy_denoised/images/val')\n"
   ]
  },
  {
   "cell_type": "code",
   "execution_count": 4,
   "metadata": {},
   "outputs": [
    {
     "name": "stdout",
     "output_type": "stream",
     "text": [
      "Files saved at blurred30xunblur/images/train\n",
      "Files saved at blurred30xunblur/images/val\n"
     ]
    }
   ],
   "source": [
    "stuff('Deblurring','deblurring','blurred30x/images/train','blurred30xunblur/images/train')\n",
    "stuff('Deblurring','deblurring','blurred30x/images/val','blurred30xunblur/images/val')"
   ]
  },
  {
   "cell_type": "code",
   "execution_count": 2,
   "metadata": {},
   "outputs": [],
   "source": [
    "from ultralytics import YOLO  \n",
    "import logging\n",
    "\n",
    "\n",
    "def train_models(yaml_file, model_name='yolov8n-seg.pt', epochs=30, imgsz=640, seed=1, optimizer=\"Adam\", lr0=0.001, lrf=0.00005, close_mosaic=10):\n",
    "    model = YOLO(model_name)\n",
    "    \n",
    "    try:\n",
    "        print(f\"\\nTraining model with configuration from: {yaml_file}\")\n",
    "        \n",
    "        results = model.train(\n",
    "            data=yaml_file, \n",
    "            epochs=epochs, \n",
    "            imgsz=imgsz,   \n",
    "            seed=seed,    \n",
    "            optimizer=optimizer,  \n",
    "            lr0=lr0,       \n",
    "            lrf=lrf,       \n",
    "            close_mosaic=close_mosaic  \n",
    "        )\n",
    "        \n",
    "        print(f\"Training complete for: {yaml_file}\")\n",
    "        print(f\"F1 Score not found for {yaml_file}. Check results format.\")\n",
    "    \n",
    "    except Exception as e:\n",
    "        print(f\"Error occurred while training with {yaml_file}: {e}\")\n"
   ]
  },
  {
   "cell_type": "code",
   "execution_count": 6,
   "metadata": {},
   "outputs": [],
   "source": [
    "from ultralytics import YOLO \n",
    "\n",
    "def diffmodel(yaml, path = 'runs/segment/train13/weights/best.pt'):\n",
    "    model = YOLO(path)  \n",
    "    \n",
    "    results = model.val(data=yaml, imgsz=640)  \n",
    "\n",
    "\n",
    "    print(\"Class indices with average precision:\", results.ap_class_index)\n",
    "    print(\"Average precision for all classes:\", results.box.all_ap)\n",
    "    print(\"Mean average precision at IoU=0.50:\", results.box.map50)\n",
    "    print(\"Mean recall:\", results.box.mr)\n",
    "\n",
    "    precision = results.box.mp  \n",
    "    recall = results.box.mr    \n",
    "\n",
    "    f1_score = 2 * (precision * recall) / (precision + recall)\n",
    "\n",
    "    print(f\"Name: {yaml}\")\n",
    "    print(f\"F1 Score: {f1_score}\")"
   ]
  },
  {
   "cell_type": "code",
   "execution_count": 3,
   "metadata": {},
   "outputs": [
    {
     "name": "stdout",
     "output_type": "stream",
     "text": [
      "\n",
      "Training model with configuration from: blurred30xunblur.yaml\n",
      "New https://pypi.org/project/ultralytics/8.3.13 available  Update with 'pip install -U ultralytics'\n",
      "Ultralytics YOLOv8.2.8  Python-3.10.5 torch-2.1.1+cu121 CUDA:0 (NVIDIA GeForce RTX 2070 SUPER, 8192MiB)\n",
      "\u001b[34m\u001b[1mengine\\trainer: \u001b[0mtask=segment, mode=train, model=yolov8n-seg.pt, data=blurred30xunblur.yaml, epochs=30, time=None, patience=100, batch=16, imgsz=640, save=True, save_period=-1, cache=False, device=None, workers=8, project=None, name=train26, exist_ok=False, pretrained=True, optimizer=Adam, verbose=True, seed=1, deterministic=True, single_cls=False, rect=False, cos_lr=False, close_mosaic=10, resume=False, amp=True, fraction=1.0, profile=False, freeze=None, multi_scale=False, overlap_mask=True, mask_ratio=4, dropout=0.0, val=True, split=val, save_json=False, save_hybrid=False, conf=None, iou=0.7, max_det=300, half=False, dnn=False, plots=True, source=None, vid_stride=1, stream_buffer=False, visualize=False, augment=False, agnostic_nms=False, classes=None, retina_masks=False, embed=None, show=False, save_frames=False, save_txt=False, save_conf=False, save_crop=False, show_labels=True, show_conf=True, show_boxes=True, line_width=None, format=torchscript, keras=False, optimize=False, int8=False, dynamic=False, simplify=False, opset=None, workspace=4, nms=False, lr0=0.001, lrf=5e-05, momentum=0.937, weight_decay=0.0005, warmup_epochs=3.0, warmup_momentum=0.8, warmup_bias_lr=0.1, box=7.5, cls=0.5, dfl=1.5, pose=12.0, kobj=1.0, label_smoothing=0.0, nbs=64, hsv_h=0.015, hsv_s=0.7, hsv_v=0.4, degrees=0.0, translate=0.1, scale=0.5, shear=0.0, perspective=0.0, flipud=0.0, fliplr=0.5, bgr=0.0, mosaic=1.0, mixup=0.0, copy_paste=0.0, auto_augment=randaugment, erasing=0.4, crop_fraction=1.0, cfg=None, tracker=botsort.yaml, save_dir=runs\\segment\\train26\n",
      "Overriding model.yaml nc=80 with nc=1\n",
      "\n",
      "                   from  n    params  module                                       arguments                     \n",
      "  0                  -1  1       464  ultralytics.nn.modules.conv.Conv             [3, 16, 3, 2]                 \n",
      "  1                  -1  1      4672  ultralytics.nn.modules.conv.Conv             [16, 32, 3, 2]                \n",
      "  2                  -1  1      7360  ultralytics.nn.modules.block.C2f             [32, 32, 1, True]             \n",
      "  3                  -1  1     18560  ultralytics.nn.modules.conv.Conv             [32, 64, 3, 2]                \n",
      "  4                  -1  2     49664  ultralytics.nn.modules.block.C2f             [64, 64, 2, True]             \n",
      "  5                  -1  1     73984  ultralytics.nn.modules.conv.Conv             [64, 128, 3, 2]               \n",
      "  6                  -1  2    197632  ultralytics.nn.modules.block.C2f             [128, 128, 2, True]           \n",
      "  7                  -1  1    295424  ultralytics.nn.modules.conv.Conv             [128, 256, 3, 2]              \n",
      "  8                  -1  1    460288  ultralytics.nn.modules.block.C2f             [256, 256, 1, True]           \n",
      "  9                  -1  1    164608  ultralytics.nn.modules.block.SPPF            [256, 256, 5]                 \n",
      " 10                  -1  1         0  torch.nn.modules.upsampling.Upsample         [None, 2, 'nearest']          \n",
      " 11             [-1, 6]  1         0  ultralytics.nn.modules.conv.Concat           [1]                           \n",
      " 12                  -1  1    148224  ultralytics.nn.modules.block.C2f             [384, 128, 1]                 \n",
      " 13                  -1  1         0  torch.nn.modules.upsampling.Upsample         [None, 2, 'nearest']          \n",
      " 14             [-1, 4]  1         0  ultralytics.nn.modules.conv.Concat           [1]                           \n",
      " 15                  -1  1     37248  ultralytics.nn.modules.block.C2f             [192, 64, 1]                  \n",
      " 16                  -1  1     36992  ultralytics.nn.modules.conv.Conv             [64, 64, 3, 2]                \n",
      " 17            [-1, 12]  1         0  ultralytics.nn.modules.conv.Concat           [1]                           \n",
      " 18                  -1  1    123648  ultralytics.nn.modules.block.C2f             [192, 128, 1]                 \n",
      " 19                  -1  1    147712  ultralytics.nn.modules.conv.Conv             [128, 128, 3, 2]              \n",
      " 20             [-1, 9]  1         0  ultralytics.nn.modules.conv.Concat           [1]                           \n",
      " 21                  -1  1    493056  ultralytics.nn.modules.block.C2f             [384, 256, 1]                 \n",
      " 22        [15, 18, 21]  1   1004275  ultralytics.nn.modules.head.Segment          [1, 32, 64, [64, 128, 256]]   \n",
      "YOLOv8n-seg summary: 261 layers, 3263811 parameters, 3263795 gradients, 12.1 GFLOPs\n",
      "\n",
      "Transferred 381/417 items from pretrained weights\n",
      "Freezing layer 'model.22.dfl.conv.weight'\n",
      "\u001b[34m\u001b[1mAMP: \u001b[0mrunning Automatic Mixed Precision (AMP) checks with YOLOv8n...\n",
      "\u001b[34m\u001b[1mAMP: \u001b[0mchecks passed \n"
     ]
    },
    {
     "name": "stderr",
     "output_type": "stream",
     "text": [
      "\u001b[34m\u001b[1mtrain: \u001b[0mScanning C:\\Users\\Ben\\Documents\\WorkComp\\Uoa Engineering Master\\Year 4\\Sem2\\760\\Project\\compsci-760-project\\blurred30xunblur\\labels\\train.cache... 1921 images, 1325 backgrounds, 0 corrupt: 100%|██████████| 1921/1921 [00:00<?, ?it/s]\n"
     ]
    },
    {
     "name": "stdout",
     "output_type": "stream",
     "text": [
      "\u001b[34m\u001b[1malbumentations: \u001b[0mBlur(p=0.01, blur_limit=(3, 7)), MedianBlur(p=0.01, blur_limit=(3, 7)), ToGray(p=0.01), CLAHE(p=0.01, clip_limit=(1, 4.0), tile_grid_size=(8, 8))\n"
     ]
    },
    {
     "name": "stderr",
     "output_type": "stream",
     "text": [
      "C:\\Users\\Ben\\AppData\\Roaming\\Python\\Python310\\site-packages\\albumentations\\__init__.py:13: UserWarning: A new version of Albumentations is available: 1.4.18 (you have 1.4.14). Upgrade using: pip install -U albumentations. To disable automatic update checks, set the environment variable NO_ALBUMENTATIONS_UPDATE to 1.\n",
      "  check_for_updates()\n",
      "C:\\Users\\Ben\\AppData\\Roaming\\Python\\Python310\\site-packages\\albumentations\\core\\composition.py:161: UserWarning: Got processor for bboxes, but no transform to process it.\n",
      "  self._set_keys()\n",
      "\u001b[34m\u001b[1mval: \u001b[0mScanning C:\\Users\\Ben\\Documents\\WorkComp\\Uoa Engineering Master\\Year 4\\Sem2\\760\\Project\\compsci-760-project\\blurred30xunblur\\labels\\val.cache... 327 images, 232 backgrounds, 0 corrupt: 100%|██████████| 327/327 [00:00<?, ?it/s]\n"
     ]
    },
    {
     "name": "stdout",
     "output_type": "stream",
     "text": [
      "Plotting labels to runs\\segment\\train26\\labels.jpg... \n",
      "\u001b[34m\u001b[1moptimizer:\u001b[0m Adam(lr=0.001, momentum=0.937) with parameter groups 66 weight(decay=0.0), 77 weight(decay=0.0005), 76 bias(decay=0.0)\n",
      "Image sizes 640 train, 640 val\n",
      "Using 8 dataloader workers\n",
      "Logging results to \u001b[1mruns\\segment\\train26\u001b[0m\n",
      "Starting training for 30 epochs...\n",
      "\n",
      "      Epoch    GPU_mem   box_loss   seg_loss   cls_loss   dfl_loss  Instances       Size\n"
     ]
    },
    {
     "name": "stderr",
     "output_type": "stream",
     "text": [
      "       1/30      2.82G      1.918        3.5      4.459      1.705          0        640: 100%|██████████| 121/121 [00:30<00:00,  3.99it/s]\n",
      "                 Class     Images  Instances      Box(P          R      mAP50  mAP50-95)     Mask(P          R      mAP50  mAP50-95): 100%|██████████| 11/11 [00:05<00:00,  1.91it/s]"
     ]
    },
    {
     "name": "stdout",
     "output_type": "stream",
     "text": [
      "                   all        327         96     0.0197      0.625     0.0358     0.0172     0.0174      0.552     0.0328     0.0115\n"
     ]
    },
    {
     "name": "stderr",
     "output_type": "stream",
     "text": [
      "\n"
     ]
    },
    {
     "name": "stdout",
     "output_type": "stream",
     "text": [
      "\n",
      "      Epoch    GPU_mem   box_loss   seg_loss   cls_loss   dfl_loss  Instances       Size\n"
     ]
    },
    {
     "name": "stderr",
     "output_type": "stream",
     "text": [
      "       2/30      2.67G       1.75      2.643      2.027      1.518          0        640: 100%|██████████| 121/121 [00:23<00:00,  5.12it/s]\n",
      "                 Class     Images  Instances      Box(P          R      mAP50  mAP50-95)     Mask(P          R      mAP50  mAP50-95): 100%|██████████| 11/11 [00:02<00:00,  4.02it/s]\n"
     ]
    },
    {
     "name": "stdout",
     "output_type": "stream",
     "text": [
      "                   all        327         96      0.745       0.61      0.682      0.283     0.0813      0.125     0.0207    0.00405\n",
      "\n",
      "      Epoch    GPU_mem   box_loss   seg_loss   cls_loss   dfl_loss  Instances       Size\n"
     ]
    },
    {
     "name": "stderr",
     "output_type": "stream",
     "text": [
      "       3/30      2.69G      1.597      2.453      1.646      1.422          0        640: 100%|██████████| 121/121 [00:21<00:00,  5.53it/s]\n",
      "                 Class     Images  Instances      Box(P          R      mAP50  mAP50-95)     Mask(P          R      mAP50  mAP50-95): 100%|██████████| 11/11 [00:02<00:00,  4.37it/s]"
     ]
    },
    {
     "name": "stdout",
     "output_type": "stream",
     "text": [
      "                   all        327         96      0.492      0.552       0.53      0.302      0.483      0.542      0.504      0.226\n"
     ]
    },
    {
     "name": "stderr",
     "output_type": "stream",
     "text": [
      "\n"
     ]
    },
    {
     "name": "stdout",
     "output_type": "stream",
     "text": [
      "\n",
      "      Epoch    GPU_mem   box_loss   seg_loss   cls_loss   dfl_loss  Instances       Size\n"
     ]
    },
    {
     "name": "stderr",
     "output_type": "stream",
     "text": [
      "       4/30      2.69G      1.652      2.496      1.787      1.462          0        640: 100%|██████████| 121/121 [00:21<00:00,  5.66it/s]\n",
      "                 Class     Images  Instances      Box(P          R      mAP50  mAP50-95)     Mask(P          R      mAP50  mAP50-95): 100%|██████████| 11/11 [00:02<00:00,  3.70it/s]"
     ]
    },
    {
     "name": "stdout",
     "output_type": "stream",
     "text": [
      "                   all        327         96      0.472      0.512      0.495      0.266      0.462        0.5      0.479      0.225\n"
     ]
    },
    {
     "name": "stderr",
     "output_type": "stream",
     "text": [
      "\n"
     ]
    },
    {
     "name": "stdout",
     "output_type": "stream",
     "text": [
      "\n",
      "      Epoch    GPU_mem   box_loss   seg_loss   cls_loss   dfl_loss  Instances       Size\n"
     ]
    },
    {
     "name": "stderr",
     "output_type": "stream",
     "text": [
      "       5/30      2.69G      1.532      2.344      1.653      1.398          0        640: 100%|██████████| 121/121 [00:21<00:00,  5.58it/s]\n",
      "                 Class     Images  Instances      Box(P          R      mAP50  mAP50-95)     Mask(P          R      mAP50  mAP50-95): 100%|██████████| 11/11 [00:02<00:00,  4.38it/s]"
     ]
    },
    {
     "name": "stdout",
     "output_type": "stream",
     "text": [
      "                   all        327         96      0.759      0.677      0.728      0.377      0.759      0.677      0.729      0.304\n"
     ]
    },
    {
     "name": "stderr",
     "output_type": "stream",
     "text": [
      "\n"
     ]
    },
    {
     "name": "stdout",
     "output_type": "stream",
     "text": [
      "\n",
      "      Epoch    GPU_mem   box_loss   seg_loss   cls_loss   dfl_loss  Instances       Size\n"
     ]
    },
    {
     "name": "stderr",
     "output_type": "stream",
     "text": [
      "       6/30      2.68G      1.463      2.154      1.533      1.323          2        640: 100%|██████████| 121/121 [00:21<00:00,  5.64it/s]\n",
      "                 Class     Images  Instances      Box(P          R      mAP50  mAP50-95)     Mask(P          R      mAP50  mAP50-95): 100%|██████████| 11/11 [00:02<00:00,  4.37it/s]"
     ]
    },
    {
     "name": "stdout",
     "output_type": "stream",
     "text": [
      "                   all        327         96      0.883      0.628      0.782       0.48      0.883      0.628      0.789      0.459\n"
     ]
    },
    {
     "name": "stderr",
     "output_type": "stream",
     "text": [
      "\n"
     ]
    },
    {
     "name": "stdout",
     "output_type": "stream",
     "text": [
      "\n",
      "      Epoch    GPU_mem   box_loss   seg_loss   cls_loss   dfl_loss  Instances       Size\n"
     ]
    },
    {
     "name": "stderr",
     "output_type": "stream",
     "text": [
      "       7/30       2.7G      1.494      2.169      1.505      1.341          1        640: 100%|██████████| 121/121 [00:22<00:00,  5.31it/s]\n",
      "                 Class     Images  Instances      Box(P          R      mAP50  mAP50-95)     Mask(P          R      mAP50  mAP50-95): 100%|██████████| 11/11 [00:02<00:00,  4.13it/s]"
     ]
    },
    {
     "name": "stdout",
     "output_type": "stream",
     "text": [
      "                   all        327         96       0.86      0.766      0.843      0.482      0.848      0.756      0.833      0.392\n"
     ]
    },
    {
     "name": "stderr",
     "output_type": "stream",
     "text": [
      "\n"
     ]
    },
    {
     "name": "stdout",
     "output_type": "stream",
     "text": [
      "\n",
      "      Epoch    GPU_mem   box_loss   seg_loss   cls_loss   dfl_loss  Instances       Size\n"
     ]
    },
    {
     "name": "stderr",
     "output_type": "stream",
     "text": [
      "       8/30      2.69G      1.387      2.012      1.337      1.287          0        640: 100%|██████████| 121/121 [00:22<00:00,  5.48it/s]\n",
      "                 Class     Images  Instances      Box(P          R      mAP50  mAP50-95)     Mask(P          R      mAP50  mAP50-95): 100%|██████████| 11/11 [00:02<00:00,  4.38it/s]"
     ]
    },
    {
     "name": "stdout",
     "output_type": "stream",
     "text": [
      "                   all        327         96      0.796      0.569      0.701      0.357      0.795      0.458      0.588      0.303\n"
     ]
    },
    {
     "name": "stderr",
     "output_type": "stream",
     "text": [
      "\n"
     ]
    },
    {
     "name": "stdout",
     "output_type": "stream",
     "text": [
      "\n",
      "      Epoch    GPU_mem   box_loss   seg_loss   cls_loss   dfl_loss  Instances       Size\n"
     ]
    },
    {
     "name": "stderr",
     "output_type": "stream",
     "text": [
      "       9/30      2.69G      1.448      2.054      1.307      1.322          0        640: 100%|██████████| 121/121 [00:22<00:00,  5.45it/s]\n",
      "                 Class     Images  Instances      Box(P          R      mAP50  mAP50-95)     Mask(P          R      mAP50  mAP50-95): 100%|██████████| 11/11 [00:02<00:00,  4.13it/s]"
     ]
    },
    {
     "name": "stdout",
     "output_type": "stream",
     "text": [
      "                   all        327         96      0.758      0.729      0.801       0.45      0.757      0.719      0.773      0.363\n"
     ]
    },
    {
     "name": "stderr",
     "output_type": "stream",
     "text": [
      "\n"
     ]
    },
    {
     "name": "stdout",
     "output_type": "stream",
     "text": [
      "\n",
      "      Epoch    GPU_mem   box_loss   seg_loss   cls_loss   dfl_loss  Instances       Size\n"
     ]
    },
    {
     "name": "stderr",
     "output_type": "stream",
     "text": [
      "      10/30      2.69G      1.406      1.917      1.195      1.304          1        640: 100%|██████████| 121/121 [00:22<00:00,  5.48it/s]\n",
      "                 Class     Images  Instances      Box(P          R      mAP50  mAP50-95)     Mask(P          R      mAP50  mAP50-95): 100%|██████████| 11/11 [00:02<00:00,  4.98it/s]"
     ]
    },
    {
     "name": "stdout",
     "output_type": "stream",
     "text": [
      "                   all        327         96      0.804      0.599       0.71      0.402      0.776      0.578      0.674      0.338\n"
     ]
    },
    {
     "name": "stderr",
     "output_type": "stream",
     "text": [
      "\n"
     ]
    },
    {
     "name": "stdout",
     "output_type": "stream",
     "text": [
      "\n",
      "      Epoch    GPU_mem   box_loss   seg_loss   cls_loss   dfl_loss  Instances       Size\n"
     ]
    },
    {
     "name": "stderr",
     "output_type": "stream",
     "text": [
      "      11/30      2.69G      1.292      1.758      1.145      1.228          0        640: 100%|██████████| 121/121 [00:22<00:00,  5.48it/s]\n",
      "                 Class     Images  Instances      Box(P          R      mAP50  mAP50-95)     Mask(P          R      mAP50  mAP50-95): 100%|██████████| 11/11 [00:02<00:00,  3.91it/s]"
     ]
    },
    {
     "name": "stdout",
     "output_type": "stream",
     "text": [
      "                   all        327         96       0.87      0.769      0.874      0.533      0.907      0.781      0.881      0.571\n"
     ]
    },
    {
     "name": "stderr",
     "output_type": "stream",
     "text": [
      "\n"
     ]
    },
    {
     "name": "stdout",
     "output_type": "stream",
     "text": [
      "\n",
      "      Epoch    GPU_mem   box_loss   seg_loss   cls_loss   dfl_loss  Instances       Size\n"
     ]
    },
    {
     "name": "stderr",
     "output_type": "stream",
     "text": [
      "      12/30      2.69G      1.333      1.984      1.129      1.255          0        640: 100%|██████████| 121/121 [00:22<00:00,  5.50it/s]\n",
      "                 Class     Images  Instances      Box(P          R      mAP50  mAP50-95)     Mask(P          R      mAP50  mAP50-95): 100%|██████████| 11/11 [00:02<00:00,  4.01it/s]"
     ]
    },
    {
     "name": "stdout",
     "output_type": "stream",
     "text": [
      "                   all        327         96      0.912      0.823      0.885      0.572      0.973      0.802      0.891      0.582\n"
     ]
    },
    {
     "name": "stderr",
     "output_type": "stream",
     "text": [
      "\n"
     ]
    },
    {
     "name": "stdout",
     "output_type": "stream",
     "text": [
      "\n",
      "      Epoch    GPU_mem   box_loss   seg_loss   cls_loss   dfl_loss  Instances       Size\n"
     ]
    },
    {
     "name": "stderr",
     "output_type": "stream",
     "text": [
      "      13/30      2.69G      1.357      2.002       1.19      1.247          0        640: 100%|██████████| 121/121 [00:22<00:00,  5.47it/s]\n",
      "                 Class     Images  Instances      Box(P          R      mAP50  mAP50-95)     Mask(P          R      mAP50  mAP50-95): 100%|██████████| 11/11 [00:02<00:00,  4.39it/s]"
     ]
    },
    {
     "name": "stdout",
     "output_type": "stream",
     "text": [
      "                   all        327         96      0.926      0.771      0.855      0.591      0.926      0.771       0.83      0.525\n"
     ]
    },
    {
     "name": "stderr",
     "output_type": "stream",
     "text": [
      "\n"
     ]
    },
    {
     "name": "stdout",
     "output_type": "stream",
     "text": [
      "\n",
      "      Epoch    GPU_mem   box_loss   seg_loss   cls_loss   dfl_loss  Instances       Size\n"
     ]
    },
    {
     "name": "stderr",
     "output_type": "stream",
     "text": [
      "      14/30      2.68G      1.246      1.916      1.126      1.183          1        640: 100%|██████████| 121/121 [00:21<00:00,  5.60it/s]\n",
      "                 Class     Images  Instances      Box(P          R      mAP50  mAP50-95)     Mask(P          R      mAP50  mAP50-95): 100%|██████████| 11/11 [00:02<00:00,  4.32it/s]"
     ]
    },
    {
     "name": "stdout",
     "output_type": "stream",
     "text": [
      "                   all        327         96      0.965      0.859      0.919       0.62      0.942      0.839      0.899      0.564\n"
     ]
    },
    {
     "name": "stderr",
     "output_type": "stream",
     "text": [
      "\n"
     ]
    },
    {
     "name": "stdout",
     "output_type": "stream",
     "text": [
      "\n",
      "      Epoch    GPU_mem   box_loss   seg_loss   cls_loss   dfl_loss  Instances       Size\n"
     ]
    },
    {
     "name": "stderr",
     "output_type": "stream",
     "text": [
      "      15/30      2.69G      1.263      1.887      1.079      1.222          1        640: 100%|██████████| 121/121 [00:22<00:00,  5.30it/s]\n",
      "                 Class     Images  Instances      Box(P          R      mAP50  mAP50-95)     Mask(P          R      mAP50  mAP50-95): 100%|██████████| 11/11 [00:02<00:00,  4.48it/s]"
     ]
    },
    {
     "name": "stdout",
     "output_type": "stream",
     "text": [
      "                   all        327         96      0.882      0.778      0.872      0.515      0.843      0.837      0.896      0.463\n"
     ]
    },
    {
     "name": "stderr",
     "output_type": "stream",
     "text": [
      "\n"
     ]
    },
    {
     "name": "stdout",
     "output_type": "stream",
     "text": [
      "\n",
      "      Epoch    GPU_mem   box_loss   seg_loss   cls_loss   dfl_loss  Instances       Size\n"
     ]
    },
    {
     "name": "stderr",
     "output_type": "stream",
     "text": [
      "      16/30      2.69G      1.226      1.812     0.9428      1.201          1        640: 100%|██████████| 121/121 [00:22<00:00,  5.36it/s]\n",
      "                 Class     Images  Instances      Box(P          R      mAP50  mAP50-95)     Mask(P          R      mAP50  mAP50-95): 100%|██████████| 11/11 [00:02<00:00,  4.56it/s]"
     ]
    },
    {
     "name": "stdout",
     "output_type": "stream",
     "text": [
      "                   all        327         96      0.951      0.814      0.913      0.605      0.963      0.823      0.922      0.542\n"
     ]
    },
    {
     "name": "stderr",
     "output_type": "stream",
     "text": [
      "\n"
     ]
    },
    {
     "name": "stdout",
     "output_type": "stream",
     "text": [
      "\n",
      "      Epoch    GPU_mem   box_loss   seg_loss   cls_loss   dfl_loss  Instances       Size\n"
     ]
    },
    {
     "name": "stderr",
     "output_type": "stream",
     "text": [
      "      17/30      2.69G      1.222      1.745     0.9397      1.171          0        640: 100%|██████████| 121/121 [00:22<00:00,  5.47it/s]\n",
      "                 Class     Images  Instances      Box(P          R      mAP50  mAP50-95)     Mask(P          R      mAP50  mAP50-95): 100%|██████████| 11/11 [00:02<00:00,  4.07it/s]"
     ]
    },
    {
     "name": "stdout",
     "output_type": "stream",
     "text": [
      "                   all        327         96      0.991      0.833      0.928      0.626      0.991      0.833      0.925      0.569\n"
     ]
    },
    {
     "name": "stderr",
     "output_type": "stream",
     "text": [
      "\n"
     ]
    },
    {
     "name": "stdout",
     "output_type": "stream",
     "text": [
      "\n",
      "      Epoch    GPU_mem   box_loss   seg_loss   cls_loss   dfl_loss  Instances       Size\n"
     ]
    },
    {
     "name": "stderr",
     "output_type": "stream",
     "text": [
      "      18/30      2.68G      1.144      1.624      0.883      1.158          0        640: 100%|██████████| 121/121 [00:21<00:00,  5.51it/s]\n",
      "                 Class     Images  Instances      Box(P          R      mAP50  mAP50-95)     Mask(P          R      mAP50  mAP50-95): 100%|██████████| 11/11 [00:02<00:00,  4.31it/s]"
     ]
    },
    {
     "name": "stdout",
     "output_type": "stream",
     "text": [
      "                   all        327         96      0.966      0.883      0.921      0.655      0.943      0.863      0.899      0.595\n"
     ]
    },
    {
     "name": "stderr",
     "output_type": "stream",
     "text": [
      "\n"
     ]
    },
    {
     "name": "stdout",
     "output_type": "stream",
     "text": [
      "\n",
      "      Epoch    GPU_mem   box_loss   seg_loss   cls_loss   dfl_loss  Instances       Size\n"
     ]
    },
    {
     "name": "stderr",
     "output_type": "stream",
     "text": [
      "      19/30      2.69G      1.052      1.597     0.7943        1.1          0        640: 100%|██████████| 121/121 [00:21<00:00,  5.50it/s]\n",
      "                 Class     Images  Instances      Box(P          R      mAP50  mAP50-95)     Mask(P          R      mAP50  mAP50-95): 100%|██████████| 11/11 [00:02<00:00,  4.67it/s]"
     ]
    },
    {
     "name": "stdout",
     "output_type": "stream",
     "text": [
      "                   all        327         96      0.945      0.893      0.926      0.675      0.931      0.875      0.916      0.632\n"
     ]
    },
    {
     "name": "stderr",
     "output_type": "stream",
     "text": [
      "\n"
     ]
    },
    {
     "name": "stdout",
     "output_type": "stream",
     "text": [
      "\n",
      "      Epoch    GPU_mem   box_loss   seg_loss   cls_loss   dfl_loss  Instances       Size\n"
     ]
    },
    {
     "name": "stderr",
     "output_type": "stream",
     "text": [
      "      20/30      2.69G      1.057      1.569     0.7707      1.094          0        640: 100%|██████████| 121/121 [00:22<00:00,  5.45it/s]\n",
      "                 Class     Images  Instances      Box(P          R      mAP50  mAP50-95)     Mask(P          R      mAP50  mAP50-95): 100%|██████████| 11/11 [00:02<00:00,  4.56it/s]"
     ]
    },
    {
     "name": "stdout",
     "output_type": "stream",
     "text": [
      "                   all        327         96      0.885      0.881       0.91      0.652      0.968      0.771      0.866      0.564\n"
     ]
    },
    {
     "name": "stderr",
     "output_type": "stream",
     "text": [
      "\n"
     ]
    },
    {
     "name": "stdout",
     "output_type": "stream",
     "text": [
      "Closing dataloader mosaic\n",
      "\u001b[34m\u001b[1malbumentations: \u001b[0mBlur(p=0.01, blur_limit=(3, 7)), MedianBlur(p=0.01, blur_limit=(3, 7)), ToGray(p=0.01), CLAHE(p=0.01, clip_limit=(1, 4.0), tile_grid_size=(8, 8))\n"
     ]
    },
    {
     "name": "stderr",
     "output_type": "stream",
     "text": [
      "C:\\Users\\Ben\\AppData\\Roaming\\Python\\Python310\\site-packages\\albumentations\\core\\composition.py:161: UserWarning: Got processor for bboxes, but no transform to process it.\n",
      "  self._set_keys()\n"
     ]
    },
    {
     "name": "stdout",
     "output_type": "stream",
     "text": [
      "\n",
      "      Epoch    GPU_mem   box_loss   seg_loss   cls_loss   dfl_loss  Instances       Size\n"
     ]
    },
    {
     "name": "stderr",
     "output_type": "stream",
     "text": [
      "      21/30      2.82G     0.9944      1.539     0.7579      1.155          0        640: 100%|██████████| 121/121 [00:24<00:00,  5.03it/s]\n",
      "                 Class     Images  Instances      Box(P          R      mAP50  mAP50-95)     Mask(P          R      mAP50  mAP50-95): 100%|██████████| 11/11 [00:02<00:00,  4.32it/s]"
     ]
    },
    {
     "name": "stdout",
     "output_type": "stream",
     "text": [
      "                   all        327         96      0.945      0.894      0.925      0.599      0.923      0.874      0.889      0.567\n"
     ]
    },
    {
     "name": "stderr",
     "output_type": "stream",
     "text": [
      "\n"
     ]
    },
    {
     "name": "stdout",
     "output_type": "stream",
     "text": [
      "\n",
      "      Epoch    GPU_mem   box_loss   seg_loss   cls_loss   dfl_loss  Instances       Size\n"
     ]
    },
    {
     "name": "stderr",
     "output_type": "stream",
     "text": [
      "      22/30      2.68G      1.039       1.52     0.7589      1.163          0        640: 100%|██████████| 121/121 [00:21<00:00,  5.59it/s]\n",
      "                 Class     Images  Instances      Box(P          R      mAP50  mAP50-95)     Mask(P          R      mAP50  mAP50-95): 100%|██████████| 11/11 [00:02<00:00,  4.52it/s]"
     ]
    },
    {
     "name": "stdout",
     "output_type": "stream",
     "text": [
      "                   all        327         96      0.976      0.865      0.937       0.69      0.976      0.865      0.934      0.636\n"
     ]
    },
    {
     "name": "stderr",
     "output_type": "stream",
     "text": [
      "\n"
     ]
    },
    {
     "name": "stdout",
     "output_type": "stream",
     "text": [
      "\n",
      "      Epoch    GPU_mem   box_loss   seg_loss   cls_loss   dfl_loss  Instances       Size\n"
     ]
    },
    {
     "name": "stderr",
     "output_type": "stream",
     "text": [
      "      23/30      2.69G     0.9463      1.452     0.6796      1.092          0        640: 100%|██████████| 121/121 [00:21<00:00,  5.62it/s]\n",
      "                 Class     Images  Instances      Box(P          R      mAP50  mAP50-95)     Mask(P          R      mAP50  mAP50-95): 100%|██████████| 11/11 [00:02<00:00,  4.38it/s]"
     ]
    },
    {
     "name": "stdout",
     "output_type": "stream",
     "text": [
      "                   all        327         96      0.951      0.875      0.932      0.677      0.971      0.833      0.899      0.621\n"
     ]
    },
    {
     "name": "stderr",
     "output_type": "stream",
     "text": [
      "\n"
     ]
    },
    {
     "name": "stdout",
     "output_type": "stream",
     "text": [
      "\n",
      "      Epoch    GPU_mem   box_loss   seg_loss   cls_loss   dfl_loss  Instances       Size\n"
     ]
    },
    {
     "name": "stderr",
     "output_type": "stream",
     "text": [
      "      24/30      2.69G     0.9777      1.443      0.647      1.125          0        640: 100%|██████████| 121/121 [00:21<00:00,  5.63it/s]\n",
      "                 Class     Images  Instances      Box(P          R      mAP50  mAP50-95)     Mask(P          R      mAP50  mAP50-95): 100%|██████████| 11/11 [00:02<00:00,  4.81it/s]"
     ]
    },
    {
     "name": "stdout",
     "output_type": "stream",
     "text": [
      "                   all        327         96      0.975      0.885      0.927      0.688      0.975      0.885      0.924      0.631\n"
     ]
    },
    {
     "name": "stderr",
     "output_type": "stream",
     "text": [
      "\n"
     ]
    },
    {
     "name": "stdout",
     "output_type": "stream",
     "text": [
      "\n",
      "      Epoch    GPU_mem   box_loss   seg_loss   cls_loss   dfl_loss  Instances       Size\n"
     ]
    },
    {
     "name": "stderr",
     "output_type": "stream",
     "text": [
      "      25/30      2.69G     0.9591      1.322      0.659      1.107          0        640: 100%|██████████| 121/121 [00:21<00:00,  5.62it/s]\n",
      "                 Class     Images  Instances      Box(P          R      mAP50  mAP50-95)     Mask(P          R      mAP50  mAP50-95): 100%|██████████| 11/11 [00:02<00:00,  4.79it/s]"
     ]
    },
    {
     "name": "stdout",
     "output_type": "stream",
     "text": [
      "                   all        327         96      0.966      0.881      0.931      0.689      0.942      0.896      0.938      0.621\n"
     ]
    },
    {
     "name": "stderr",
     "output_type": "stream",
     "text": [
      "\n"
     ]
    },
    {
     "name": "stdout",
     "output_type": "stream",
     "text": [
      "\n",
      "      Epoch    GPU_mem   box_loss   seg_loss   cls_loss   dfl_loss  Instances       Size\n"
     ]
    },
    {
     "name": "stderr",
     "output_type": "stream",
     "text": [
      "      26/30      2.68G     0.8844      1.314     0.5969      1.077          0        640: 100%|██████████| 121/121 [00:21<00:00,  5.66it/s]\n",
      "                 Class     Images  Instances      Box(P          R      mAP50  mAP50-95)     Mask(P          R      mAP50  mAP50-95): 100%|██████████| 11/11 [00:02<00:00,  4.79it/s]"
     ]
    },
    {
     "name": "stdout",
     "output_type": "stream",
     "text": [
      "                   all        327         96      0.942      0.896      0.932      0.674      0.942      0.896      0.931      0.609\n"
     ]
    },
    {
     "name": "stderr",
     "output_type": "stream",
     "text": [
      "\n"
     ]
    },
    {
     "name": "stdout",
     "output_type": "stream",
     "text": [
      "\n",
      "      Epoch    GPU_mem   box_loss   seg_loss   cls_loss   dfl_loss  Instances       Size\n"
     ]
    },
    {
     "name": "stderr",
     "output_type": "stream",
     "text": [
      "      27/30      2.69G     0.8552       1.27     0.5685      1.064          0        640: 100%|██████████| 121/121 [00:21<00:00,  5.68it/s]\n",
      "                 Class     Images  Instances      Box(P          R      mAP50  mAP50-95)     Mask(P          R      mAP50  mAP50-95): 100%|██████████| 11/11 [00:02<00:00,  4.66it/s]"
     ]
    },
    {
     "name": "stdout",
     "output_type": "stream",
     "text": [
      "                   all        327         96      0.967      0.903      0.938      0.709      0.967      0.903      0.935      0.648\n"
     ]
    },
    {
     "name": "stderr",
     "output_type": "stream",
     "text": [
      "\n"
     ]
    },
    {
     "name": "stdout",
     "output_type": "stream",
     "text": [
      "\n",
      "      Epoch    GPU_mem   box_loss   seg_loss   cls_loss   dfl_loss  Instances       Size\n"
     ]
    },
    {
     "name": "stderr",
     "output_type": "stream",
     "text": [
      "      28/30      2.68G     0.8197        1.2     0.5463      1.052          0        640: 100%|██████████| 121/121 [00:21<00:00,  5.64it/s]\n",
      "                 Class     Images  Instances      Box(P          R      mAP50  mAP50-95)     Mask(P          R      mAP50  mAP50-95): 100%|██████████| 11/11 [00:02<00:00,  4.75it/s]"
     ]
    },
    {
     "name": "stdout",
     "output_type": "stream",
     "text": [
      "                   all        327         96      0.926      0.906      0.939      0.685      0.926      0.906      0.937      0.665\n"
     ]
    },
    {
     "name": "stderr",
     "output_type": "stream",
     "text": [
      "\n"
     ]
    },
    {
     "name": "stdout",
     "output_type": "stream",
     "text": [
      "\n",
      "      Epoch    GPU_mem   box_loss   seg_loss   cls_loss   dfl_loss  Instances       Size\n"
     ]
    },
    {
     "name": "stderr",
     "output_type": "stream",
     "text": [
      "      29/30      2.68G     0.7971      1.225     0.5824      1.025          0        640: 100%|██████████| 121/121 [00:21<00:00,  5.66it/s]\n",
      "                 Class     Images  Instances      Box(P          R      mAP50  mAP50-95)     Mask(P          R      mAP50  mAP50-95): 100%|██████████| 11/11 [00:02<00:00,  4.78it/s]"
     ]
    },
    {
     "name": "stdout",
     "output_type": "stream",
     "text": [
      "                   all        327         96      0.981      0.885      0.938      0.705      0.981      0.885      0.938      0.654\n"
     ]
    },
    {
     "name": "stderr",
     "output_type": "stream",
     "text": [
      "\n"
     ]
    },
    {
     "name": "stdout",
     "output_type": "stream",
     "text": [
      "\n",
      "      Epoch    GPU_mem   box_loss   seg_loss   cls_loss   dfl_loss  Instances       Size\n"
     ]
    },
    {
     "name": "stderr",
     "output_type": "stream",
     "text": [
      "      30/30      2.68G     0.7244      1.115     0.4993     0.9957          0        640: 100%|██████████| 121/121 [00:21<00:00,  5.63it/s]\n",
      "                 Class     Images  Instances      Box(P          R      mAP50  mAP50-95)     Mask(P          R      mAP50  mAP50-95): 100%|██████████| 11/11 [00:02<00:00,  4.78it/s]"
     ]
    },
    {
     "name": "stdout",
     "output_type": "stream",
     "text": [
      "                   all        327         96      0.977      0.905      0.939      0.697      0.977      0.905      0.937      0.655\n"
     ]
    },
    {
     "name": "stderr",
     "output_type": "stream",
     "text": [
      "\n"
     ]
    },
    {
     "name": "stdout",
     "output_type": "stream",
     "text": [
      "\n",
      "30 epochs completed in 0.236 hours.\n",
      "Optimizer stripped from runs\\segment\\train26\\weights\\last.pt, 6.8MB\n",
      "Optimizer stripped from runs\\segment\\train26\\weights\\best.pt, 6.8MB\n",
      "\n",
      "Validating runs\\segment\\train26\\weights\\best.pt...\n",
      "Ultralytics YOLOv8.2.8  Python-3.10.5 torch-2.1.1+cu121 CUDA:0 (NVIDIA GeForce RTX 2070 SUPER, 8192MiB)\n",
      "YOLOv8n-seg summary (fused): 195 layers, 3258259 parameters, 0 gradients, 12.0 GFLOPs\n"
     ]
    },
    {
     "name": "stderr",
     "output_type": "stream",
     "text": [
      "                 Class     Images  Instances      Box(P          R      mAP50  mAP50-95)     Mask(P          R      mAP50  mAP50-95): 100%|██████████| 11/11 [00:03<00:00,  2.80it/s]\n"
     ]
    },
    {
     "name": "stdout",
     "output_type": "stream",
     "text": [
      "                   all        327         96       0.98      0.885      0.939      0.706       0.98      0.885      0.938      0.653\n",
      "Speed: 0.6ms preprocess, 3.4ms inference, 0.0ms loss, 1.8ms postprocess per image\n",
      "Results saved to \u001b[1mruns\\segment\\train26\u001b[0m\n",
      "Training complete for: blurred30xunblur.yaml\n",
      "F1 Score not found for blurred30xunblur.yaml. Check results format.\n"
     ]
    }
   ],
   "source": [
    "train_models('blurred30xunblur.yaml')"
   ]
  },
  {
   "cell_type": "code",
   "execution_count": 1,
   "metadata": {},
   "outputs": [
    {
     "name": "stderr",
     "output_type": "stream",
     "text": [
      "C:\\Users\\joshu\\AppData\\Local\\Temp\\ipykernel_2972\\3257596221.py:26: FutureWarning: You are using `torch.load` with `weights_only=False` (the current default value), which uses the default pickle module implicitly. It is possible to construct malicious pickle data which will execute arbitrary code during unpickling (See https://github.com/pytorch/pytorch/blob/main/SECURITY.md#untrusted-models for more details). In a future release, the default value for `weights_only` will be flipped to `True`. This limits the functions that could be executed during unpickling. Arbitrary objects will no longer be allowed to be loaded via this mode unless they are explicitly allowlisted by the user via `torch.serialization.add_safe_globals`. We recommend you start setting `weights_only=True` for any use case where you don't have full control of the loaded file. Please open an issue on GitHub for any issues related to this experimental feature.\n",
      "  checkpoint = torch.load(weights)\n"
     ]
    },
    {
     "name": "stdout",
     "output_type": "stream",
     "text": [
      "Files saved at Kvasir-SEG-DeNoise/images/train\n"
     ]
    }
   ],
   "source": [
    "import torch\n",
    "import torch.nn as nn\n",
    "import torch.nn.functional as F\n",
    "import torchvision.transforms.functional as TF\n",
    "from PIL import Image\n",
    "import os\n",
    "from runpy import run_path\n",
    "from skimage import img_as_ubyte\n",
    "from collections import OrderedDict\n",
    "from natsort import natsorted\n",
    "from glob import glob\n",
    "import cv2\n",
    "import argparse\n",
    "\n",
    "# parser = argparse.ArgumentParser(description='Demo MPRNet')\n",
    "# parser.add_argument('--input_dir', default='Kvasir-SEG-Blured/images/val', type=str, help='Input images')\n",
    "# parser.add_argument('--result_dir', default='Kvasir-SEG-DeBlured/images/val', type=str, help='Directory for results')\n",
    "# parser.add_argument('--task', required=True, type=str, help='Task to run', choices=['Deblurring', 'Denoising', 'Deraining'])\n",
    "\n",
    "# args = parser.parse_args()\n",
    "\n",
    "def save_img(filepath, img):\n",
    "    cv2.imwrite(filepath,cv2.cvtColor(img, cv2.COLOR_RGB2BGR))\n",
    "\n",
    "def load_checkpoint(model, weights):\n",
    "    checkpoint = torch.load(weights)\n",
    "    try:\n",
    "        model.load_state_dict(checkpoint[\"state_dict\"])\n",
    "    except:\n",
    "        state_dict = checkpoint[\"state_dict\"]\n",
    "        new_state_dict = OrderedDict()\n",
    "        for k, v in state_dict.items():\n",
    "            name = k[7:]\n",
    "            new_state_dict[name] = v\n",
    "        model.load_state_dict(new_state_dict)\n",
    "\n",
    "# task    = 'Deblurring'\n",
    "task    = 'Denoising'\n",
    "inp_dir = 'Kvasir-SEG-Noise/images/train'\n",
    "out_dir = 'Kvasir-SEG-DeNoise/images/train'\n",
    "\n",
    "os.makedirs(out_dir, exist_ok=True)\n",
    "\n",
    "files = natsorted(glob(os.path.join(inp_dir, '*.jpg'))\n",
    "                + glob(os.path.join(inp_dir, '*.JPG'))\n",
    "                + glob(os.path.join(inp_dir, '*.png'))\n",
    "                + glob(os.path.join(inp_dir, '*.PNG')))\n",
    "\n",
    "if len(files) == 0:\n",
    "    raise Exception(f\"No files found at {inp_dir}\")\n",
    "\n",
    "load_file = run_path(os.path.join(task, \"MPRNet.py\"))\n",
    "model = load_file['MPRNet']()\n",
    "model.cuda()\n",
    "\n",
    "weights = os.path.join(task, \"pretrained_models\", \"model_\"+task.lower()+\".pth\")\n",
    "load_checkpoint(model, weights)\n",
    "model.eval()\n",
    "\n",
    "img_multiple_of = 8\n",
    "\n",
    "for file_ in files:\n",
    "    img = Image.open(file_).convert('RGB')\n",
    "    input_ = TF.to_tensor(img).unsqueeze(0).cuda()\n",
    "\n",
    "    h,w = input_.shape[2], input_.shape[3]\n",
    "    H,W = ((h+img_multiple_of)//img_multiple_of)*img_multiple_of, ((w+img_multiple_of)//img_multiple_of)*img_multiple_of\n",
    "    padh = H-h if h%img_multiple_of!=0 else 0\n",
    "    padw = W-w if w%img_multiple_of!=0 else 0\n",
    "    input_ = F.pad(input_, (0,padw,0,padh), 'reflect')\n",
    "\n",
    "    with torch.no_grad():\n",
    "        restored = model(input_)\n",
    "    restored = restored[0]\n",
    "    restored = torch.clamp(restored, 0, 1)\n",
    "\n",
    "    restored = restored[:,:,:h,:w]\n",
    "\n",
    "    restored = restored.permute(0, 2, 3, 1).cpu().detach().numpy()\n",
    "    restored = img_as_ubyte(restored[0])\n",
    "\n",
    "    f = os.path.splitext(os.path.split(file_)[-1])[0]\n",
    "    save_img((os.path.join(out_dir, f+'.jpg')), restored)\n",
    "\n",
    "print(f\"Files saved at {out_dir}\")"
   ]
  },
  {
   "cell_type": "code",
   "execution_count": 2,
   "metadata": {},
   "outputs": [
    {
     "name": "stderr",
     "output_type": "stream",
     "text": [
      "C:\\Users\\joshu\\AppData\\Local\\Temp\\ipykernel_2972\\597409225.py:26: FutureWarning: You are using `torch.load` with `weights_only=False` (the current default value), which uses the default pickle module implicitly. It is possible to construct malicious pickle data which will execute arbitrary code during unpickling (See https://github.com/pytorch/pytorch/blob/main/SECURITY.md#untrusted-models for more details). In a future release, the default value for `weights_only` will be flipped to `True`. This limits the functions that could be executed during unpickling. Arbitrary objects will no longer be allowed to be loaded via this mode unless they are explicitly allowlisted by the user via `torch.serialization.add_safe_globals`. We recommend you start setting `weights_only=True` for any use case where you don't have full control of the loaded file. Please open an issue on GitHub for any issues related to this experimental feature.\n",
      "  checkpoint = torch.load(weights)\n"
     ]
    },
    {
     "name": "stdout",
     "output_type": "stream",
     "text": [
      "Files saved at Kvasir-SEG-DeNoise/images/val\n"
     ]
    }
   ],
   "source": [
    "import torch\n",
    "import torch.nn as nn\n",
    "import torch.nn.functional as F\n",
    "import torchvision.transforms.functional as TF\n",
    "from PIL import Image\n",
    "import os\n",
    "from runpy import run_path\n",
    "from skimage import img_as_ubyte\n",
    "from collections import OrderedDict\n",
    "from natsort import natsorted\n",
    "from glob import glob\n",
    "import cv2\n",
    "import argparse\n",
    "\n",
    "# parser = argparse.ArgumentParser(description='Demo MPRNet')\n",
    "# parser.add_argument('--input_dir', default='Kvasir-SEG-Blured/images/val', type=str, help='Input images')\n",
    "# parser.add_argument('--result_dir', default='Kvasir-SEG-DeBlured/images/val', type=str, help='Directory for results')\n",
    "# parser.add_argument('--task', required=True, type=str, help='Task to run', choices=['Deblurring', 'Denoising', 'Deraining'])\n",
    "\n",
    "# args = parser.parse_args()\n",
    "\n",
    "def save_img(filepath, img):\n",
    "    cv2.imwrite(filepath,cv2.cvtColor(img, cv2.COLOR_RGB2BGR))\n",
    "\n",
    "def load_checkpoint(model, weights):\n",
    "    checkpoint = torch.load(weights)\n",
    "    try:\n",
    "        model.load_state_dict(checkpoint[\"state_dict\"])\n",
    "    except:\n",
    "        state_dict = checkpoint[\"state_dict\"]\n",
    "        new_state_dict = OrderedDict()\n",
    "        for k, v in state_dict.items():\n",
    "            name = k[7:]\n",
    "            new_state_dict[name] = v\n",
    "        model.load_state_dict(new_state_dict)\n",
    "\n",
    "# task    = 'Deblurring'\n",
    "task    = 'Denoising'\n",
    "inp_dir = 'Kvasir-SEG-Noise/images/val'\n",
    "out_dir = 'Kvasir-SEG-DeNoise/images/val'\n",
    "\n",
    "os.makedirs(out_dir, exist_ok=True)\n",
    "\n",
    "files = natsorted(glob(os.path.join(inp_dir, '*.jpg'))\n",
    "                + glob(os.path.join(inp_dir, '*.JPG'))\n",
    "                + glob(os.path.join(inp_dir, '*.png'))\n",
    "                + glob(os.path.join(inp_dir, '*.PNG')))\n",
    "\n",
    "if len(files) == 0:\n",
    "    raise Exception(f\"No files found at {inp_dir}\")\n",
    "\n",
    "load_file = run_path(os.path.join(task, \"MPRNet.py\"))\n",
    "model = load_file['MPRNet']()\n",
    "model.cuda()\n",
    "\n",
    "weights = os.path.join(task, \"pretrained_models\", \"model_\"+task.lower()+\".pth\")\n",
    "load_checkpoint(model, weights)\n",
    "model.eval()\n",
    "\n",
    "img_multiple_of = 8\n",
    "\n",
    "for file_ in files:\n",
    "    img = Image.open(file_).convert('RGB')\n",
    "    input_ = TF.to_tensor(img).unsqueeze(0).cuda()\n",
    "\n",
    "    h,w = input_.shape[2], input_.shape[3]\n",
    "    H,W = ((h+img_multiple_of)//img_multiple_of)*img_multiple_of, ((w+img_multiple_of)//img_multiple_of)*img_multiple_of\n",
    "    padh = H-h if h%img_multiple_of!=0 else 0\n",
    "    padw = W-w if w%img_multiple_of!=0 else 0\n",
    "    input_ = F.pad(input_, (0,padw,0,padh), 'reflect')\n",
    "\n",
    "    with torch.no_grad():\n",
    "        restored = model(input_)\n",
    "    restored = restored[0]\n",
    "    restored = torch.clamp(restored, 0, 1)\n",
    "\n",
    "    restored = restored[:,:,:h,:w]\n",
    "\n",
    "    restored = restored.permute(0, 2, 3, 1).cpu().detach().numpy()\n",
    "    restored = img_as_ubyte(restored[0])\n",
    "\n",
    "    f = os.path.splitext(os.path.split(file_)[-1])[0]\n",
    "    save_img((os.path.join(out_dir, f+'.jpg')), restored)\n",
    "\n",
    "print(f\"Files saved at {out_dir}\")"
   ]
  },
  {
   "cell_type": "markdown",
   "metadata": {},
   "source": [
    "reduce image res"
   ]
  },
  {
   "cell_type": "code",
   "execution_count": 2,
   "metadata": {},
   "outputs": [
    {
     "name": "stdout",
     "output_type": "stream",
     "text": [
      "Resized and saved: cju160wshltz10993i1gmqxbe.jpg\n",
      "Resized and saved: cju171py4qiha0835u8sl59ds.jpg\n",
      "Resized and saved: cju175facms5f0993a5tjikvt.jpg\n",
      "Resized and saved: cju1819curo000988pd5xcqme.jpg\n",
      "Resized and saved: cju183od81ff608017ekzif89.jpg\n",
      "Resized and saved: cju1871y11d6r0799k6cw4yze.jpg\n",
      "Resized and saved: cju18849rrsgr0988p90hkygb.jpg\n",
      "Resized and saved: cju300m3s04fg0988uzupuf7z.jpg\n",
      "Resized and saved: cju302fqq9spc0878rrygyzzz.jpg\n",
      "Resized and saved: cju303j5r062k098835zxfds5.jpg\n",
      "Resized and saved: cju30525w04r10835ygp257sb.jpg\n",
      "Resized and saved: cju306x7w05nb0835cunv799x.jpg\n",
      "Resized and saved: cju310f6val1v0855xo8tc3gu.jpg\n",
      "Resized and saved: cju3128yi0rpu0988o4oo5n8n.jpg\n",
      "Resized and saved: cju320gyvbch60801v2amdi2g.jpg\n",
      "Resized and saved: cju323ypb1fbb0988gx5rzudb.jpg\n",
      "Resized and saved: cju324q101fhe08350wae9cif.jpg\n",
      "Resized and saved: cju326h4v1gxw08352px40p7r.jpg\n",
      "Resized and saved: cju3280wv1ir009882jze27tc.jpg\n",
      "Resized and saved: cju330ofbc2l30801th5g3hw6.jpg\n",
      "Resized and saved: cju33231uy4gi0993qc7b1jch.jpg\n",
      "Resized and saved: cju334jzo261t0835yqudnfs1.jpg\n",
      "Resized and saved: cju336l68y7if0993wf092166.jpg\n",
      "Resized and saved: cju3381d8bz3h07991xtl7ra0.jpg\n",
      "Resized and saved: cju3518w2d838079939fqztbc.jpg\n",
      "Resized and saved: cju3521y5d5mq0878t3ezsu4p.jpg\n",
      "Resized and saved: cju353d1eda8c07992afde611.jpg\n",
      "Resized and saved: cju35740hzm0g0993zl5ic246.jpg\n",
      "Resized and saved: cju357rxxdaz30878y2esjpjt.jpg\n",
      "Resized and saved: cju358pwtdby20878cg7nm0np.jpg\n",
      "Resized and saved: cju410dnfl0960755y8lu8d79.jpg\n",
      "Resized and saved: cju412uwlkva50850d1ps1ww7.jpg\n",
      "Resized and saved: cju414lf2l1lt0801rl3hjllj.jpg\n",
      "Resized and saved: cju418rckl3ur08012psrx1r1.jpg\n",
      "Resized and saved: cju422cm8lfxn0818ojicxejb.jpg\n",
      "Resized and saved: cju424hy5lckr085073fva1ok.jpg\n",
      "Resized and saved: cju426tomlhll0818fc0i7nvh.jpg\n",
      "Resized and saved: cju428k5fldt108177s6g6f45.jpg\n",
      "Resized and saved: cju430pm2lz0y0755jkhcc3d1.jpg\n",
      "Resized and saved: cju439oazm2fu0871ma0vvrft.jpg\n",
      "Resized and saved: cju77196iyshb0850ycbto50a.jpg\n",
      "Resized and saved: cju772304yw5t0818vbw8kkjf.jpg\n",
      "Resized and saved: cju773hsyyosz0817pk1e7sjq.jpg\n",
      "Resized and saved: cju774fmayxif0818u2g79usw.jpg\n",
      "Resized and saved: cju7787c5yy3l080159mwqsnj.jpg\n",
      "Resized and saved: cju77bvg0yv4r0987yh60xmjo.jpg\n",
      "Resized and saved: cju77g99iyxc00817zqi2ppor.jpg\n",
      "Resized and saved: cju77idwfz36d0871tzfzz51i.jpg\n",
      "Resized and saved: cju77j66ez52p08019xygi0co.jpg\n",
      "Resized and saved: cju77k828z46w0871r0avuoo9.jpg\n",
      "Resized and saved: cju77q10sz9ug0801449wu1nu.jpg\n",
      "Resized and saved: cju77re6fz5bb0817vp9redjg.jpg\n",
      "Resized and saved: cju77t0razbvm080106o56289.jpg\n",
      "Resized and saved: cju77u1sjz77b0817ft44r3fk.jpg\n",
      "Resized and saved: cju77vvcwzcm50850lzoykuva.jpg\n",
      "Resized and saved: cju783tmkzkqu081803g7q5vk.jpg\n",
      "Resized and saved: cju784jpdzeae0987q5ypq883.jpg\n",
      "Resized and saved: cju785htizjzo08017tvlhtg4.jpg\n",
      "Resized and saved: cju787jnjzjuj0871p94nck9g.jpg\n",
      "Resized and saved: cju83h9ysjwe808716nt35oah.jpg\n",
      "Resized and saved: cju83ipu3jwpx0801z5pvguf8.jpg\n",
      "Resized and saved: cju83k8fyjsxr0817d6nxs6r4.jpg\n",
      "Resized and saved: cju83kxitjv340987z09m0ezy.jpg\n",
      "Resized and saved: cju83mki1jv5w0817kubxm31r.jpg\n",
      "Resized and saved: cju83nwu1jxte0987h1krpfmv.jpg\n",
      "Resized and saved: cju83qd0yjyht0817ktkfl268.jpg\n",
      "Resized and saved: cju83rcnzkbsj0755x5anfrcg.jpg\n",
      "Resized and saved: cju83syhdk6gs0801rf1rekdl.jpg\n",
      "Resized and saved: cju83u9ftk3ni0987qnhlcinv.jpg\n",
      "Resized and saved: cju83vvmik9wa08710yeh7cuk.jpg\n",
      "Resized and saved: cju83wwn1k55e0850kw6i2d81.jpg\n",
      "Resized and saved: cju83yddek68q0850d2x7zfkm.jpg\n",
      "Resized and saved: cju8402x1kcy70801t6kz6bdi.jpg\n",
      "Resized and saved: cju8418jhkf7d0818ga2v0xq0.jpg\n",
      "Resized and saved: cju8432cmkgq90871cxe4iptl.jpg\n",
      "Resized and saved: cju843yjskhq30818qre4rwm2.jpg\n",
      "Resized and saved: cju846ec0kj7z08012o10klrb.jpg\n",
      "Resized and saved: cju847pxykriq0755268ktrk2.jpg\n",
      "Resized and saved: cju849c23kgnk0817cgv2hw1e.jpg\n",
      "Resized and saved: cju84aoa3ktwn0755pfl4gfwd.jpg\n",
      "Resized and saved: cju84dsvaklpx098750hp83x4.jpg\n",
      "Resized and saved: cju84ffdzkrjn08183jh1fxmb.jpg\n",
      "Resized and saved: cju84gpefknwm098714oq8q61.jpg\n",
      "Resized and saved: cju84hibuktj80871u519o71q.jpg\n",
      "Resized and saved: cju84ih17kp5l09876bkooocl.jpg\n",
      "Resized and saved: cju84jdl9kv0i0871eog9b3i9.jpg\n",
      "Resized and saved: cju84kplnl1y30755ropua1b0.jpg\n",
      "Resized and saved: cju8567gdlcbq0801dwwyo2jt.jpg\n",
      "Resized and saved: cju857ad0l88m0817qx4cwxnf.jpg\n",
      "Resized and saved: cju858eswlepn0871pzvdrhj1.jpg\n",
      "Resized and saved: cju85a8h8llwm07559wxg4t5w.jpg\n",
      "Resized and saved: cju85bf1algsq0871y9gtlq97.jpg\n",
      "Resized and saved: cju85c2d4ln1b0755zz1z3onx.jpg\n",
      "Resized and saved: cju85citjlnfm0755i4rk5tqj.jpg\n",
      "Resized and saved: cju85dx63lic408017f0l0400.jpg\n",
      "Resized and saved: cju85fc11ljr40818edpb0inh.jpg\n",
      "Resized and saved: cju85hguellg50818kwu3s8d1.jpg\n",
      "Resized and saved: cju85ia1slh220987y7c20sm2.jpg\n",
      "Resized and saved: cju85je7vlht70817c9jcjwi4.jpg\n",
      "Resized and saved: cju85l4yjlops0801fvmnwptf.jpg\n",
      "Resized and saved: cju85mpuglq8k0818d2it6hzb.jpg\n",
      "Resized and saved: cju85nr8elly209872w9n5m0s.jpg\n",
      "Resized and saved: cju85omszllp30850b6rm9mi3.jpg\n",
      "Resized and saved: cju85plp7lmkw0850rx42jdpf.jpg\n",
      "Resized and saved: cju85qefyln6v0850szeb9byi.jpg\n",
      "Resized and saved: cju85rkbnlo1c08503uxcpax1.jpg\n",
      "Resized and saved: cju87kbcen2av0987usezo8kn.jpg\n",
      "Resized and saved: cju87li0zn3yb0817kbwgjiz8.jpg\n",
      "Resized and saved: cju87mrypnb1e0818scv1mxxg.jpg\n",
      "Resized and saved: cju87nkyrnb970801q84m47yt.jpg\n",
      "Resized and saved: cju87ox0kncom0801b98hqnd2.jpg\n",
      "Resized and saved: cju87q6yoneim0871dl4phvkd.jpg\n",
      "Resized and saved: cju87r56lnkyp0755hz30leew.jpg\n",
      "Resized and saved: cju87tyddnnad0755bj0wxahe.jpg\n",
      "Resized and saved: cju87vqa0ndwg0850onjdz7ol.jpg\n",
      "Resized and saved: cju87xn2snfmv0987sc3d9xnq.jpg\n",
      "Resized and saved: cju87z6o6nh73085045bzsx6o.jpg\n",
      "Resized and saved: cju87zv8lni0o0850hbbecbq6.jpg\n",
      "Resized and saved: cju8828oxnool0801qno9luhr.jpg\n",
      "Resized and saved: cju884985nlmx0817vzpax3y4.jpg\n",
      "Resized and saved: cju885ikhnmkn09878s2lqtuh.jpg\n",
      "Resized and saved: cju886ryxnsl50801r93jai7q.jpg\n",
      "Resized and saved: cju887ftknop008177nnjt46y.jpg\n",
      "Resized and saved: cju888fr7nveu0818r9uwtiit.jpg\n",
      "Resized and saved: cju88aq6vo1ij0755c2ey7z7n.jpg\n",
      "Resized and saved: cju88cddensj00987788yotmg.jpg\n",
      "Resized and saved: cju88evxanv9r08176zkeovec.jpg\n",
      "Resized and saved: cju88fpm4o0tl0871w1i6a4ds.jpg\n",
      "Resized and saved: cju88gx09o2vk0818610zody3.jpg\n",
      "Resized and saved: cju88itqbny720987hxizbj5y.jpg\n",
      "Resized and saved: cju88k75inzyb0850ccv5x3vk.jpg\n",
      "Resized and saved: cju88l66no10s0850rsda7ej1.jpg\n",
      "Resized and saved: cju88msmoo3470817m441j4sg.jpg\n",
      "Resized and saved: cju88nroho44508500129f1nh.jpg\n",
      "Resized and saved: cju88oh0po9gq0801nge4tgr1.jpg\n",
      "Resized and saved: cju88q6h6obpd0871ckmiabbo.jpg\n",
      "Resized and saved: cju88rl5eo94l0850kf5wtrm1.jpg\n",
      "Resized and saved: cju88t4fvokxf07558ymyh281.jpg\n",
      "Resized and saved: cju88trl3ogi208716qvti51b.jpg\n",
      "Resized and saved: cju88v2f9oi8w0871hx9auh01.jpg\n",
      "Resized and saved: cju88vx2uoocy075531lc63n3.jpg\n",
      "Resized and saved: cju88y1mwoln50871emyfny1g.jpg\n",
      "Resized and saved: cju88z8bson4h0871nnd7fdxo.jpg\n",
      "Resized and saved: cju890guyoiti098753yg6cdu.jpg\n",
      "Resized and saved: cju8914beokbf0850isxpocrk.jpg\n",
      "Resized and saved: cju892fesoq2g0801n0e0jyia.jpg\n",
      "Resized and saved: cju893jmdompz0817xn3g1w4h.jpg\n",
      "Resized and saved: cju89y9h0puti0818i5yw29e6.jpg\n",
      "Resized and saved: cju89z6pqpqfx0817mfv8ixjc.jpg\n",
      "Resized and saved: cjyzjzssvd8pq0838f4nolj5l.jpg\n",
      "Resized and saved: cjyzk8qieoboa0848ogj51wwm.jpg\n",
      "Resized and saved: cjyzkmjy8evns070165gf9dmq.jpg\n",
      "Resized and saved: cjyzkpsbjdsjq07211dfi4sru.jpg\n",
      "Resized and saved: cjyzl833ndne80838pzuq6ila.jpg\n",
      "Resized and saved: cjyzlw7f9faqr070129au64sq.jpg\n",
      "Resized and saved: cjyztzaqtrv430848l8xgcerw.jpg\n",
      "Resized and saved: cjyzu3reghjya0794w7pwoi50.jpg\n",
      "Resized and saved: cjyzu9th0qt4r0a46pyl4zik0.jpg\n",
      "Resized and saved: cjyzufihqquiw0a46jatrbwln.jpg\n",
      "Resized and saved: cjyzuio1qgh040763k56deohv.jpg\n",
      "Resized and saved: cjyzul1qggwwj07216mhiv5sy.jpg\n",
      "Resized and saved: cjyzurzvohqnr0794es1itzek.jpg\n",
      "Resized and saved: cjz14qsk2wci60794un9ozwmw.jpg\n",
      "Resized and saved: ck2395w2mb4vu07480otsu6tw.jpg\n",
      "Resized and saved: ck2bxiswtxuw80838qkisqjwz.jpg\n",
      "Resized and saved: ck2bxknhjvs1x0794iogrq49k.jpg\n",
      "Resized and saved: ck2bxlujamu330725szlc2jdu.jpg\n",
      "Resized and saved: ck2bxpfgxu2mk0748gsh7xelu.jpg\n",
      "Resized and saved: ck2bxqz3evvg20794iiyv5v2m.jpg\n",
      "Resized and saved: ck2bxskgxxzfv08386xkqtqdy.jpg\n",
      "Resized and saved: ck2bxw18mmz1k0725litqq2mc.jpg\n",
      "Resized and saved: ck2da7fwcjfis07218r1rvm95.jpg\n",
      "All images have been resized and saved to the new folder.\n"
     ]
    }
   ],
   "source": [
    "import cv2\n",
    "import os\n",
    "\n",
    "input_folder = 'Kvasir-SEG/images/val'  \n",
    "output_folder = 'Kvasir-SEG-LowRes/images/val' \n",
    "\n",
    "if not os.path.exists(output_folder):\n",
    "    os.makedirs(output_folder)\n",
    "\n",
    "for filename in os.listdir(input_folder):\n",
    "    if filename.endswith(('.jpg', '.jpeg', '.png', '.bmp', '.tiff')):\n",
    "        file_path = os.path.join(input_folder, filename)\n",
    "        \n",
    "        img = cv2.imread(file_path)\n",
    "        \n",
    "        resized_img = cv2.resize(img, (50, 50))\n",
    "        \n",
    "        output_path = os.path.join(output_folder, filename)\n",
    "        cv2.imwrite(output_path, resized_img)\n",
    "        \n",
    "        print(f\"Resized and saved: {filename}\")\n",
    "\n",
    "print(\"All images have been resized and saved to the new folder.\")\n"
   ]
  },
  {
   "cell_type": "markdown",
   "metadata": {},
   "source": [
    "upscale image res"
   ]
  },
  {
   "cell_type": "code",
   "execution_count": 33,
   "metadata": {},
   "outputs": [
    {
     "ename": "ModuleNotFoundError",
     "evalue": "No module named 'torchvision.transforms.functional_tensor'",
     "output_type": "error",
     "traceback": [
      "\u001b[1;31m---------------------------------------------------------------------------\u001b[0m",
      "\u001b[1;31mModuleNotFoundError\u001b[0m                       Traceback (most recent call last)",
      "Input \u001b[1;32mIn [33]\u001b[0m, in \u001b[0;36m<cell line: 2>\u001b[1;34m()\u001b[0m\n\u001b[0;32m      1\u001b[0m \u001b[38;5;28;01mimport\u001b[39;00m \u001b[38;5;21;01mtorch\u001b[39;00m\n\u001b[1;32m----> 2\u001b[0m \u001b[38;5;28;01mfrom\u001b[39;00m \u001b[38;5;21;01mbasicsr\u001b[39;00m\u001b[38;5;21;01m.\u001b[39;00m\u001b[38;5;21;01marchs\u001b[39;00m\u001b[38;5;21;01m.\u001b[39;00m\u001b[38;5;21;01mrrdbnet_arch\u001b[39;00m \u001b[38;5;28;01mimport\u001b[39;00m RRDBNet\n\u001b[0;32m      3\u001b[0m \u001b[38;5;28;01mfrom\u001b[39;00m \u001b[38;5;21;01mrealesrgan\u001b[39;00m \u001b[38;5;28;01mimport\u001b[39;00m RealESRGANer\n\u001b[0;32m      4\u001b[0m \u001b[38;5;28;01mfrom\u001b[39;00m \u001b[38;5;21;01mPIL\u001b[39;00m \u001b[38;5;28;01mimport\u001b[39;00m Image\n",
      "File \u001b[1;32mc:\\Users\\joshu\\AppData\\Local\\Programs\\Python\\Python310\\lib\\site-packages\\basicsr\\__init__.py:4\u001b[0m, in \u001b[0;36m<module>\u001b[1;34m\u001b[0m\n\u001b[0;32m      1\u001b[0m \u001b[38;5;66;03m# https://github.com/xinntao/BasicSR\u001b[39;00m\n\u001b[0;32m      2\u001b[0m \u001b[38;5;66;03m# flake8: noqa\u001b[39;00m\n\u001b[0;32m      3\u001b[0m \u001b[38;5;28;01mfrom\u001b[39;00m \u001b[38;5;21;01m.\u001b[39;00m\u001b[38;5;21;01marchs\u001b[39;00m \u001b[38;5;28;01mimport\u001b[39;00m \u001b[38;5;241m*\u001b[39m\n\u001b[1;32m----> 4\u001b[0m \u001b[38;5;28;01mfrom\u001b[39;00m \u001b[38;5;21;01m.\u001b[39;00m\u001b[38;5;21;01mdata\u001b[39;00m \u001b[38;5;28;01mimport\u001b[39;00m \u001b[38;5;241m*\u001b[39m\n\u001b[0;32m      5\u001b[0m \u001b[38;5;28;01mfrom\u001b[39;00m \u001b[38;5;21;01m.\u001b[39;00m\u001b[38;5;21;01mlosses\u001b[39;00m \u001b[38;5;28;01mimport\u001b[39;00m \u001b[38;5;241m*\u001b[39m\n\u001b[0;32m      6\u001b[0m \u001b[38;5;28;01mfrom\u001b[39;00m \u001b[38;5;21;01m.\u001b[39;00m\u001b[38;5;21;01mmetrics\u001b[39;00m \u001b[38;5;28;01mimport\u001b[39;00m \u001b[38;5;241m*\u001b[39m\n",
      "File \u001b[1;32mc:\\Users\\joshu\\AppData\\Local\\Programs\\Python\\Python310\\lib\\site-packages\\basicsr\\data\\__init__.py:22\u001b[0m, in \u001b[0;36m<module>\u001b[1;34m\u001b[0m\n\u001b[0;32m     20\u001b[0m dataset_filenames \u001b[38;5;241m=\u001b[39m [osp\u001b[38;5;241m.\u001b[39msplitext(osp\u001b[38;5;241m.\u001b[39mbasename(v))[\u001b[38;5;241m0\u001b[39m] \u001b[38;5;28;01mfor\u001b[39;00m v \u001b[38;5;129;01min\u001b[39;00m scandir(data_folder) \u001b[38;5;28;01mif\u001b[39;00m v\u001b[38;5;241m.\u001b[39mendswith(\u001b[38;5;124m'\u001b[39m\u001b[38;5;124m_dataset.py\u001b[39m\u001b[38;5;124m'\u001b[39m)]\n\u001b[0;32m     21\u001b[0m \u001b[38;5;66;03m# import all the dataset modules\u001b[39;00m\n\u001b[1;32m---> 22\u001b[0m _dataset_modules \u001b[38;5;241m=\u001b[39m [importlib\u001b[38;5;241m.\u001b[39mimport_module(\u001b[38;5;124mf\u001b[39m\u001b[38;5;124m'\u001b[39m\u001b[38;5;124mbasicsr.data.\u001b[39m\u001b[38;5;132;01m{\u001b[39;00mfile_name\u001b[38;5;132;01m}\u001b[39;00m\u001b[38;5;124m'\u001b[39m) \u001b[38;5;28;01mfor\u001b[39;00m file_name \u001b[38;5;129;01min\u001b[39;00m dataset_filenames]\n\u001b[0;32m     25\u001b[0m \u001b[38;5;28;01mdef\u001b[39;00m \u001b[38;5;21mbuild_dataset\u001b[39m(dataset_opt):\n\u001b[0;32m     26\u001b[0m     \u001b[38;5;124;03m\"\"\"Build dataset from options.\u001b[39;00m\n\u001b[0;32m     27\u001b[0m \n\u001b[0;32m     28\u001b[0m \u001b[38;5;124;03m    Args:\u001b[39;00m\n\u001b[1;32m   (...)\u001b[0m\n\u001b[0;32m     31\u001b[0m \u001b[38;5;124;03m            type (str): Dataset type.\u001b[39;00m\n\u001b[0;32m     32\u001b[0m \u001b[38;5;124;03m    \"\"\"\u001b[39;00m\n",
      "File \u001b[1;32mc:\\Users\\joshu\\AppData\\Local\\Programs\\Python\\Python310\\lib\\site-packages\\basicsr\\data\\__init__.py:22\u001b[0m, in \u001b[0;36m<listcomp>\u001b[1;34m(.0)\u001b[0m\n\u001b[0;32m     20\u001b[0m dataset_filenames \u001b[38;5;241m=\u001b[39m [osp\u001b[38;5;241m.\u001b[39msplitext(osp\u001b[38;5;241m.\u001b[39mbasename(v))[\u001b[38;5;241m0\u001b[39m] \u001b[38;5;28;01mfor\u001b[39;00m v \u001b[38;5;129;01min\u001b[39;00m scandir(data_folder) \u001b[38;5;28;01mif\u001b[39;00m v\u001b[38;5;241m.\u001b[39mendswith(\u001b[38;5;124m'\u001b[39m\u001b[38;5;124m_dataset.py\u001b[39m\u001b[38;5;124m'\u001b[39m)]\n\u001b[0;32m     21\u001b[0m \u001b[38;5;66;03m# import all the dataset modules\u001b[39;00m\n\u001b[1;32m---> 22\u001b[0m _dataset_modules \u001b[38;5;241m=\u001b[39m [\u001b[43mimportlib\u001b[49m\u001b[38;5;241;43m.\u001b[39;49m\u001b[43mimport_module\u001b[49m\u001b[43m(\u001b[49m\u001b[38;5;124;43mf\u001b[39;49m\u001b[38;5;124;43m'\u001b[39;49m\u001b[38;5;124;43mbasicsr.data.\u001b[39;49m\u001b[38;5;132;43;01m{\u001b[39;49;00m\u001b[43mfile_name\u001b[49m\u001b[38;5;132;43;01m}\u001b[39;49;00m\u001b[38;5;124;43m'\u001b[39;49m\u001b[43m)\u001b[49m \u001b[38;5;28;01mfor\u001b[39;00m file_name \u001b[38;5;129;01min\u001b[39;00m dataset_filenames]\n\u001b[0;32m     25\u001b[0m \u001b[38;5;28;01mdef\u001b[39;00m \u001b[38;5;21mbuild_dataset\u001b[39m(dataset_opt):\n\u001b[0;32m     26\u001b[0m     \u001b[38;5;124;03m\"\"\"Build dataset from options.\u001b[39;00m\n\u001b[0;32m     27\u001b[0m \n\u001b[0;32m     28\u001b[0m \u001b[38;5;124;03m    Args:\u001b[39;00m\n\u001b[1;32m   (...)\u001b[0m\n\u001b[0;32m     31\u001b[0m \u001b[38;5;124;03m            type (str): Dataset type.\u001b[39;00m\n\u001b[0;32m     32\u001b[0m \u001b[38;5;124;03m    \"\"\"\u001b[39;00m\n",
      "File \u001b[1;32mc:\\Users\\joshu\\AppData\\Local\\Programs\\Python\\Python310\\lib\\importlib\\__init__.py:126\u001b[0m, in \u001b[0;36mimport_module\u001b[1;34m(name, package)\u001b[0m\n\u001b[0;32m    124\u001b[0m             \u001b[38;5;28;01mbreak\u001b[39;00m\n\u001b[0;32m    125\u001b[0m         level \u001b[38;5;241m+\u001b[39m\u001b[38;5;241m=\u001b[39m \u001b[38;5;241m1\u001b[39m\n\u001b[1;32m--> 126\u001b[0m \u001b[38;5;28;01mreturn\u001b[39;00m \u001b[43m_bootstrap\u001b[49m\u001b[38;5;241;43m.\u001b[39;49m\u001b[43m_gcd_import\u001b[49m\u001b[43m(\u001b[49m\u001b[43mname\u001b[49m\u001b[43m[\u001b[49m\u001b[43mlevel\u001b[49m\u001b[43m:\u001b[49m\u001b[43m]\u001b[49m\u001b[43m,\u001b[49m\u001b[43m \u001b[49m\u001b[43mpackage\u001b[49m\u001b[43m,\u001b[49m\u001b[43m \u001b[49m\u001b[43mlevel\u001b[49m\u001b[43m)\u001b[49m\n",
      "File \u001b[1;32mc:\\Users\\joshu\\AppData\\Local\\Programs\\Python\\Python310\\lib\\site-packages\\basicsr\\data\\realesrgan_dataset.py:11\u001b[0m, in \u001b[0;36m<module>\u001b[1;34m\u001b[0m\n\u001b[0;32m      8\u001b[0m \u001b[38;5;28;01mimport\u001b[39;00m \u001b[38;5;21;01mtorch\u001b[39;00m\n\u001b[0;32m      9\u001b[0m \u001b[38;5;28;01mfrom\u001b[39;00m \u001b[38;5;21;01mtorch\u001b[39;00m\u001b[38;5;21;01m.\u001b[39;00m\u001b[38;5;21;01mutils\u001b[39;00m \u001b[38;5;28;01mimport\u001b[39;00m data \u001b[38;5;28;01mas\u001b[39;00m data\n\u001b[1;32m---> 11\u001b[0m \u001b[38;5;28;01mfrom\u001b[39;00m \u001b[38;5;21;01mbasicsr\u001b[39;00m\u001b[38;5;21;01m.\u001b[39;00m\u001b[38;5;21;01mdata\u001b[39;00m\u001b[38;5;21;01m.\u001b[39;00m\u001b[38;5;21;01mdegradations\u001b[39;00m \u001b[38;5;28;01mimport\u001b[39;00m circular_lowpass_kernel, random_mixed_kernels\n\u001b[0;32m     12\u001b[0m \u001b[38;5;28;01mfrom\u001b[39;00m \u001b[38;5;21;01mbasicsr\u001b[39;00m\u001b[38;5;21;01m.\u001b[39;00m\u001b[38;5;21;01mdata\u001b[39;00m\u001b[38;5;21;01m.\u001b[39;00m\u001b[38;5;21;01mtransforms\u001b[39;00m \u001b[38;5;28;01mimport\u001b[39;00m augment\n\u001b[0;32m     13\u001b[0m \u001b[38;5;28;01mfrom\u001b[39;00m \u001b[38;5;21;01mbasicsr\u001b[39;00m\u001b[38;5;21;01m.\u001b[39;00m\u001b[38;5;21;01mutils\u001b[39;00m \u001b[38;5;28;01mimport\u001b[39;00m FileClient, get_root_logger, imfrombytes, img2tensor\n",
      "File \u001b[1;32mc:\\Users\\joshu\\AppData\\Local\\Programs\\Python\\Python310\\lib\\site-packages\\basicsr\\data\\degradations.py:8\u001b[0m, in \u001b[0;36m<module>\u001b[1;34m\u001b[0m\n\u001b[0;32m      6\u001b[0m \u001b[38;5;28;01mfrom\u001b[39;00m \u001b[38;5;21;01mscipy\u001b[39;00m \u001b[38;5;28;01mimport\u001b[39;00m special\n\u001b[0;32m      7\u001b[0m \u001b[38;5;28;01mfrom\u001b[39;00m \u001b[38;5;21;01mscipy\u001b[39;00m\u001b[38;5;21;01m.\u001b[39;00m\u001b[38;5;21;01mstats\u001b[39;00m \u001b[38;5;28;01mimport\u001b[39;00m multivariate_normal\n\u001b[1;32m----> 8\u001b[0m \u001b[38;5;28;01mfrom\u001b[39;00m \u001b[38;5;21;01mtorchvision\u001b[39;00m\u001b[38;5;21;01m.\u001b[39;00m\u001b[38;5;21;01mtransforms\u001b[39;00m\u001b[38;5;21;01m.\u001b[39;00m\u001b[38;5;21;01mfunctional_tensor\u001b[39;00m \u001b[38;5;28;01mimport\u001b[39;00m rgb_to_grayscale\n\u001b[0;32m     10\u001b[0m \u001b[38;5;66;03m# -------------------------------------------------------------------- #\u001b[39;00m\n\u001b[0;32m     11\u001b[0m \u001b[38;5;66;03m# --------------------------- blur kernels --------------------------- #\u001b[39;00m\n\u001b[0;32m     12\u001b[0m \u001b[38;5;66;03m# -------------------------------------------------------------------- #\u001b[39;00m\n\u001b[0;32m     13\u001b[0m \n\u001b[0;32m     14\u001b[0m \n\u001b[0;32m     15\u001b[0m \u001b[38;5;66;03m# --------------------------- util functions --------------------------- #\u001b[39;00m\n\u001b[0;32m     16\u001b[0m \u001b[38;5;28;01mdef\u001b[39;00m \u001b[38;5;21msigma_matrix2\u001b[39m(sig_x, sig_y, theta):\n",
      "\u001b[1;31mModuleNotFoundError\u001b[0m: No module named 'torchvision.transforms.functional_tensor'"
     ]
    }
   ],
   "source": [
    "import torch\n",
    "from basicsr.archs.rrdbnet_arch import RRDBNet\n",
    "from realesrgan import RealESRGANer\n",
    "from PIL import Image\n",
    "import glob\n",
    "import os\n",
    "import numpy as np\n",
    "\n",
    "model = RRDBNet(num_in_ch=3, num_out_ch=3, num_feat=64,\n",
    "                num_block=23, num_grow_ch=32, scale=4)\n",
    "upscaler = RealESRGANer(scale=4, model_path='RealESRGAN_x4plus.pth', model=model, tile=0, tile_pad=10, pre_pad=0, half=True)\n",
    "\n",
    "# input_folder = 'Kvasir-SEG/images/train'\n",
    "input_folder = 'xray/images/train'\n",
    "output_folder = 'xray/imageupscaled/train'\n",
    "os.makedirs(output_folder, exist_ok=True)\n",
    "\n",
    "image_paths = glob.glob(os.path.join(input_folder, '*'))\n",
    "\n",
    "for image_path in image_paths:\n",
    "    img = Image.open(image_path).convert('RGB')\n",
    "    img = np.array(img)\n",
    "\n",
    "    with torch.no_grad():\n",
    "        upscaled_img, _ = upscaler.enhance(img, outscale=4)\n",
    "\n",
    "    upscaled_img = Image.fromarray(upscaled_img)\n",
    "    base_name = os.path.basename(image_path)\n",
    "    upscaled_img.save(os.path.join(output_folder, base_name))\n"
   ]
  },
  {
   "cell_type": "markdown",
   "metadata": {},
   "source": [
    "create masks for yolov8 input"
   ]
  },
  {
   "cell_type": "code",
   "execution_count": 1,
   "metadata": {},
   "outputs": [],
   "source": [
    "import os\n",
    "\n",
    "import cv2\n",
    "import numpy as np\n",
    "\n",
    "input_dir = 'Kvasir-SEG/masks'\n",
    "output_dir = 'Kvasir-SEG/polyMasks'\n",
    "\n",
    "for j in os.listdir(input_dir):\n",
    "    image_path = os.path.join(input_dir, j)\n",
    "    mask = cv2.imread(image_path, cv2.IMREAD_GRAYSCALE)\n",
    "    _, mask = cv2.threshold(mask, 0, 255, cv2.THRESH_BINARY)\n",
    "\n",
    "    H, W = mask.shape\n",
    "    contours, hierarchy = cv2.findContours(mask, cv2.RETR_EXTERNAL, cv2.CHAIN_APPROX_SIMPLE)\n",
    "\n",
    "    polygons = []\n",
    "    for cnt in contours:\n",
    "        if cv2.contourArea(cnt) > 1:\n",
    "            polygon = []\n",
    "            for point in cnt:\n",
    "                x, y = point[0]\n",
    "                polygon.append(x / W)\n",
    "                polygon.append(y / H)\n",
    "            polygons.append(polygon)\n",
    "\n",
    "    with open('{}.txt'.format(os.path.join(output_dir, j)[:-4]), 'w') as f:\n",
    "        for polygon in polygons:\n",
    "            for p_, p in enumerate(polygon):\n",
    "                if p_ == len(polygon) - 1:\n",
    "                    f.write('{}\\n'.format(p))\n",
    "                elif p_ == 0:\n",
    "                    f.write('0 {} '.format(p))\n",
    "                else:\n",
    "                    f.write('{} '.format(p))\n",
    "\n",
    "        f.close()"
   ]
  },
  {
   "cell_type": "code",
   "execution_count": 4,
   "metadata": {},
   "outputs": [
    {
     "name": "stdout",
     "output_type": "stream",
     "text": [
      "True\n"
     ]
    }
   ],
   "source": [
    "print(torch.cuda.is_available())"
   ]
  },
  {
   "cell_type": "code",
   "execution_count": 3,
   "metadata": {},
   "outputs": [
    {
     "name": "stdout",
     "output_type": "stream",
     "text": [
      "2.4.0+cu124\n"
     ]
    }
   ],
   "source": [
    "import torch\n",
    "print(torch.__version__)\n"
   ]
  },
  {
   "cell_type": "code",
   "execution_count": 2,
   "metadata": {},
   "outputs": [
    {
     "name": "stdout",
     "output_type": "stream",
     "text": [
      "Looking in indexes: https://download.pytorch.org/whl/cu124\n",
      "Collecting torch\n",
      "  Downloading https://download.pytorch.org/whl/cu124/torch-2.4.0%2Bcu124-cp310-cp310-win_amd64.whl (2503.3 MB)\n",
      "     ---------------------------------------- 2.5/2.5 GB ? eta 0:00:00\n",
      "Requirement already satisfied: torchvision in c:\\users\\joshu\\appdata\\local\\programs\\python\\python310\\lib\\site-packages (0.18.1)\n",
      "Requirement already satisfied: torchaudio in c:\\users\\joshu\\appdata\\local\\programs\\python\\python310\\lib\\site-packages (2.3.1+cu121)\n",
      "Requirement already satisfied: filelock in c:\\users\\joshu\\appdata\\local\\programs\\python\\python310\\lib\\site-packages (from torch) (3.12.2)\n",
      "Requirement already satisfied: typing-extensions>=4.8.0 in c:\\users\\joshu\\appdata\\local\\programs\\python\\python310\\lib\\site-packages (from torch) (4.12.2)\n",
      "Requirement already satisfied: sympy in c:\\users\\joshu\\appdata\\local\\programs\\python\\python310\\lib\\site-packages (from torch) (1.12)\n",
      "Requirement already satisfied: networkx in c:\\users\\joshu\\appdata\\local\\programs\\python\\python310\\lib\\site-packages (from torch) (3.1)\n",
      "Requirement already satisfied: jinja2 in c:\\users\\joshu\\appdata\\local\\programs\\python\\python310\\lib\\site-packages (from torch) (3.1.2)\n",
      "Requirement already satisfied: fsspec in c:\\users\\joshu\\appdata\\local\\programs\\python\\python310\\lib\\site-packages (from torch) (2023.6.0)\n",
      "Requirement already satisfied: numpy in c:\\users\\joshu\\appdata\\local\\programs\\python\\python310\\lib\\site-packages (from torchvision) (1.26.4)\n",
      "INFO: pip is looking at multiple versions of torchvision to determine which version is compatible with other requirements. This could take a while.\n",
      "Collecting torchvision\n",
      "  Downloading https://download.pytorch.org/whl/cu124/torchvision-0.19.0%2Bcu124-cp310-cp310-win_amd64.whl (5.9 MB)\n",
      "     ---------------------------------------- 5.9/5.9 MB 5.0 MB/s eta 0:00:00\n",
      "Requirement already satisfied: pillow!=8.3.*,>=5.3.0 in c:\\users\\joshu\\appdata\\roaming\\python\\python310\\site-packages (from torchvision) (9.2.0)\n",
      "INFO: pip is looking at multiple versions of torchaudio to determine which version is compatible with other requirements. This could take a while.\n",
      "Collecting torchaudio\n",
      "  Downloading https://download.pytorch.org/whl/cu124/torchaudio-2.4.0%2Bcu124-cp310-cp310-win_amd64.whl (4.1 MB)\n",
      "     ---------------------------------------- 4.1/4.1 MB 24.6 MB/s eta 0:00:00\n",
      "Requirement already satisfied: MarkupSafe>=2.0 in c:\\users\\joshu\\appdata\\local\\programs\\python\\python310\\lib\\site-packages (from jinja2->torch) (2.1.1)\n",
      "Requirement already satisfied: mpmath>=0.19 in c:\\users\\joshu\\appdata\\local\\programs\\python\\python310\\lib\\site-packages (from sympy->torch) (1.3.0)\n",
      "Installing collected packages: torch, torchvision, torchaudio\n",
      "  Attempting uninstall: torchvision\n",
      "    Found existing installation: torchvision 0.18.1\n",
      "    Uninstalling torchvision-0.18.1:\n",
      "      Successfully uninstalled torchvision-0.18.1\n",
      "  Attempting uninstall: torchaudio\n",
      "    Found existing installation: torchaudio 2.3.1+cu121\n",
      "    Uninstalling torchaudio-2.3.1+cu121:\n",
      "      Successfully uninstalled torchaudio-2.3.1+cu121\n",
      "Successfully installed torch-2.4.0+cu124 torchaudio-2.4.0+cu124 torchvision-0.19.0+cu124\n",
      "Note: you may need to restart the kernel to use updated packages.\n"
     ]
    },
    {
     "name": "stderr",
     "output_type": "stream",
     "text": [
      "ERROR: pip's dependency resolver does not currently take into account all the packages that are installed. This behaviour is the source of the following dependency conflicts.\n",
      "ultralytics 8.2.86 requires torch<2.4.0,>=1.8.0; sys_platform == \"win32\", but you have torch 2.4.0+cu124 which is incompatible.\n"
     ]
    }
   ],
   "source": [
    "# pip install torch torchvision torchaudio --index-url https://download.pytorch.org/whl/cu124"
   ]
  },
  {
   "cell_type": "code",
   "execution_count": 3,
   "metadata": {},
   "outputs": [
    {
     "name": "stdout",
     "output_type": "stream",
     "text": [
      "CUDA is available. Training on GPU: NVIDIA GeForce RTX 3060 Ti\n"
     ]
    }
   ],
   "source": [
    "import torch\n",
    "\n",
    "\n",
    "if torch.cuda.is_available():\n",
    "    device = 'cuda'\n",
    "    print(f\"CUDA is available. Training on GPU: {torch.cuda.get_device_name(0)}\")\n",
    "else:\n",
    "    device = 'cpu'\n",
    "    print(\"CUDA is not available. Training on CPU.\")\n"
   ]
  },
  {
   "cell_type": "code",
   "execution_count": 1,
   "metadata": {},
   "outputs": [
    {
     "name": "stdout",
     "output_type": "stream",
     "text": [
      "Looking in indexes: https://download.pytorch.org/whl/cu124Note: you may need to restart the kernel to use updated packages.\n",
      "\n",
      "Requirement already satisfied: torch in c:\\users\\joshu\\appdata\\local\\programs\\python\\python310\\lib\\site-packages (2.3.1+cu121)\n",
      "Requirement already satisfied: torchvision in c:\\users\\joshu\\appdata\\local\\programs\\python\\python310\\lib\\site-packages (0.18.1)\n",
      "Requirement already satisfied: torchaudio in c:\\users\\joshu\\appdata\\local\\programs\\python\\python310\\lib\\site-packages (2.3.1+cu121)\n",
      "Requirement already satisfied: filelock in c:\\users\\joshu\\appdata\\local\\programs\\python\\python310\\lib\\site-packages (from torch) (3.12.2)\n",
      "Requirement already satisfied: typing-extensions>=4.8.0 in c:\\users\\joshu\\appdata\\local\\programs\\python\\python310\\lib\\site-packages (from torch) (4.12.2)\n",
      "Requirement already satisfied: sympy in c:\\users\\joshu\\appdata\\local\\programs\\python\\python310\\lib\\site-packages (from torch) (1.12)\n",
      "Requirement already satisfied: networkx in c:\\users\\joshu\\appdata\\local\\programs\\python\\python310\\lib\\site-packages (from torch) (3.1)\n",
      "Requirement already satisfied: jinja2 in c:\\users\\joshu\\appdata\\local\\programs\\python\\python310\\lib\\site-packages (from torch) (3.1.2)\n",
      "Requirement already satisfied: fsspec in c:\\users\\joshu\\appdata\\local\\programs\\python\\python310\\lib\\site-packages (from torch) (2023.6.0)\n",
      "Requirement already satisfied: mkl<=2021.4.0,>=2021.1.1 in c:\\users\\joshu\\appdata\\local\\programs\\python\\python310\\lib\\site-packages (from torch) (2021.4.0)\n",
      "Requirement already satisfied: numpy in c:\\users\\joshu\\appdata\\local\\programs\\python\\python310\\lib\\site-packages (from torchvision) (1.26.4)\n",
      "Requirement already satisfied: pillow!=8.3.*,>=5.3.0 in c:\\users\\joshu\\appdata\\roaming\\python\\python310\\site-packages (from torchvision) (9.2.0)\n",
      "Requirement already satisfied: intel-openmp==2021.* in c:\\users\\joshu\\appdata\\local\\programs\\python\\python310\\lib\\site-packages (from mkl<=2021.4.0,>=2021.1.1->torch) (2021.4.0)\n",
      "Requirement already satisfied: tbb==2021.* in c:\\users\\joshu\\appdata\\local\\programs\\python\\python310\\lib\\site-packages (from mkl<=2021.4.0,>=2021.1.1->torch) (2021.13.1)\n",
      "Requirement already satisfied: MarkupSafe>=2.0 in c:\\users\\joshu\\appdata\\local\\programs\\python\\python310\\lib\\site-packages (from jinja2->torch) (2.1.1)\n",
      "Requirement already satisfied: mpmath>=0.19 in c:\\users\\joshu\\appdata\\local\\programs\\python\\python310\\lib\\site-packages (from sympy->torch) (1.3.0)\n"
     ]
    }
   ],
   "source": [
    "# pip install torch torchvision torchaudio --index-url https://download.pytorch.org/whl/cu124"
   ]
  },
  {
   "cell_type": "markdown",
   "metadata": {},
   "source": [
    "train"
   ]
  },
  {
   "cell_type": "code",
   "execution_count": 1,
   "metadata": {},
   "outputs": [],
   "source": [
    "import torch\n",
    "\n",
    "torch.cuda.set_device(0) "
   ]
  },
  {
   "cell_type": "code",
   "execution_count": 2,
   "metadata": {},
   "outputs": [
    {
     "name": "stdout",
     "output_type": "stream",
     "text": [
      "WARNING  Known issue with torch>=2.4.0 on Windows with CPU, recommend downgrading to torch<=2.3.1 to resolve https://github.com/ultralytics/ultralytics/issues/15049\n",
      "New https://pypi.org/project/ultralytics/8.2.102 available  Update with 'pip install -U ultralytics'\n",
      "Ultralytics YOLOv8.2.86  Python-3.10.6 torch-2.4.0+cu124 CUDA:0 (NVIDIA GeForce RTX 3060 Ti, 8192MiB)\n",
      "\u001b[34m\u001b[1mengine\\trainer: \u001b[0mtask=segment, mode=train, model=yolov8n-seg.pt, data=config.yaml, epochs=10, time=None, patience=100, batch=16, imgsz=640, save=True, save_period=-1, cache=False, device=None, workers=8, project=None, name=train9, exist_ok=False, pretrained=True, optimizer=Adam, verbose=True, seed=1, deterministic=True, single_cls=False, rect=False, cos_lr=False, close_mosaic=5, resume=False, amp=True, fraction=1.0, profile=False, freeze=None, multi_scale=False, overlap_mask=True, mask_ratio=4, dropout=0.0, val=True, split=val, save_json=False, save_hybrid=False, conf=None, iou=0.7, max_det=300, half=False, dnn=False, plots=True, source=None, vid_stride=1, stream_buffer=False, visualize=False, augment=False, agnostic_nms=False, classes=None, retina_masks=False, embed=None, show=False, save_frames=False, save_txt=False, save_conf=False, save_crop=False, show_labels=True, show_conf=True, show_boxes=True, line_width=None, format=torchscript, keras=False, optimize=False, int8=False, dynamic=False, simplify=False, opset=None, workspace=4, nms=False, lr0=0.001, lrf=5e-05, momentum=0.937, weight_decay=0.0005, warmup_epochs=3.0, warmup_momentum=0.8, warmup_bias_lr=0.1, box=7.5, cls=0.5, dfl=1.5, pose=12.0, kobj=1.0, label_smoothing=0.0, nbs=64, hsv_h=0.015, hsv_s=0.7, hsv_v=0.4, degrees=0.0, translate=0.1, scale=0.5, shear=0.0, perspective=0.0, flipud=0.0, fliplr=0.5, bgr=0.0, mosaic=1.0, mixup=0.0, copy_paste=0.0, auto_augment=randaugment, erasing=0.4, crop_fraction=1.0, cfg=None, tracker=botsort.yaml, save_dir=runs\\segment\\train9\n",
      "Overriding model.yaml nc=80 with nc=1\n",
      "\n",
      "                   from  n    params  module                                       arguments                     \n",
      "  0                  -1  1       464  ultralytics.nn.modules.conv.Conv             [3, 16, 3, 2]                 \n",
      "  1                  -1  1      4672  ultralytics.nn.modules.conv.Conv             [16, 32, 3, 2]                \n",
      "  2                  -1  1      7360  ultralytics.nn.modules.block.C2f             [32, 32, 1, True]             \n",
      "  3                  -1  1     18560  ultralytics.nn.modules.conv.Conv             [32, 64, 3, 2]                \n",
      "  4                  -1  2     49664  ultralytics.nn.modules.block.C2f             [64, 64, 2, True]             \n",
      "  5                  -1  1     73984  ultralytics.nn.modules.conv.Conv             [64, 128, 3, 2]               \n",
      "  6                  -1  2    197632  ultralytics.nn.modules.block.C2f             [128, 128, 2, True]           \n",
      "  7                  -1  1    295424  ultralytics.nn.modules.conv.Conv             [128, 256, 3, 2]              \n",
      "  8                  -1  1    460288  ultralytics.nn.modules.block.C2f             [256, 256, 1, True]           \n",
      "  9                  -1  1    164608  ultralytics.nn.modules.block.SPPF            [256, 256, 5]                 \n",
      " 10                  -1  1         0  torch.nn.modules.upsampling.Upsample         [None, 2, 'nearest']          \n",
      " 11             [-1, 6]  1         0  ultralytics.nn.modules.conv.Concat           [1]                           \n",
      " 12                  -1  1    148224  ultralytics.nn.modules.block.C2f             [384, 128, 1]                 \n",
      " 13                  -1  1         0  torch.nn.modules.upsampling.Upsample         [None, 2, 'nearest']          \n",
      " 14             [-1, 4]  1         0  ultralytics.nn.modules.conv.Concat           [1]                           \n",
      " 15                  -1  1     37248  ultralytics.nn.modules.block.C2f             [192, 64, 1]                  \n",
      " 16                  -1  1     36992  ultralytics.nn.modules.conv.Conv             [64, 64, 3, 2]                \n",
      " 17            [-1, 12]  1         0  ultralytics.nn.modules.conv.Concat           [1]                           \n",
      " 18                  -1  1    123648  ultralytics.nn.modules.block.C2f             [192, 128, 1]                 \n",
      " 19                  -1  1    147712  ultralytics.nn.modules.conv.Conv             [128, 128, 3, 2]              \n",
      " 20             [-1, 9]  1         0  ultralytics.nn.modules.conv.Concat           [1]                           \n",
      " 21                  -1  1    493056  ultralytics.nn.modules.block.C2f             [384, 256, 1]                 \n",
      " 22        [15, 18, 21]  1   1004275  ultralytics.nn.modules.head.Segment          [1, 32, 64, [64, 128, 256]]   \n",
      "YOLOv8n-seg summary: 261 layers, 3,263,811 parameters, 3,263,795 gradients, 12.1 GFLOPs\n",
      "\n",
      "Transferred 381/417 items from pretrained weights\n",
      "\u001b[34m\u001b[1mTensorBoard: \u001b[0mStart with 'tensorboard --logdir runs\\segment\\train9', view at http://localhost:6006/\n",
      "Freezing layer 'model.22.dfl.conv.weight'\n",
      "\u001b[34m\u001b[1mAMP: \u001b[0mrunning Automatic Mixed Precision (AMP) checks with YOLOv8n...\n",
      "\u001b[34m\u001b[1mAMP: \u001b[0mchecks passed \n"
     ]
    },
    {
     "name": "stderr",
     "output_type": "stream",
     "text": [
      "c:\\Users\\joshu\\AppData\\Local\\Programs\\Python\\Python310\\lib\\site-packages\\ultralytics\\engine\\trainer.py:268: FutureWarning: `torch.cuda.amp.GradScaler(args...)` is deprecated. Please use `torch.amp.GradScaler('cuda', args...)` instead.\n",
      "  self.scaler = torch.cuda.amp.GradScaler(enabled=self.amp)\n",
      "\u001b[34m\u001b[1mtrain: \u001b[0mScanning C:\\Users\\joshu\\Documents\\0 uni courses\\fourth year\\760\\segmentation\\Kvasir-SEG-Noise\\labels\\train.cache... 828 images, 0 backgrounds, 0 corrupt: 100%|██████████| 828/828 [00:00<?, ?it/s]\n"
     ]
    },
    {
     "name": "stdout",
     "output_type": "stream",
     "text": [
      "\u001b[34m\u001b[1malbumentations: \u001b[0mBlur(p=0.01, blur_limit=(3, 7)), MedianBlur(p=0.01, blur_limit=(3, 7)), ToGray(p=0.01), CLAHE(p=0.01, clip_limit=(1, 4.0), tile_grid_size=(8, 8))\n"
     ]
    },
    {
     "name": "stderr",
     "output_type": "stream",
     "text": [
      "c:\\Users\\joshu\\AppData\\Local\\Programs\\Python\\Python310\\lib\\site-packages\\tqdm\\auto.py:22: TqdmWarning: IProgress not found. Please update jupyter and ipywidgets. See https://ipywidgets.readthedocs.io/en/stable/user_install.html\n",
      "  from .autonotebook import tqdm as notebook_tqdm\n",
      "c:\\Users\\joshu\\AppData\\Local\\Programs\\Python\\Python310\\lib\\site-packages\\albumentations\\__init__.py:13: UserWarning: A new version of Albumentations is available: 1.4.16 (you have 1.4.14). Upgrade using: pip install -U albumentations. To disable automatic update checks, set the environment variable NO_ALBUMENTATIONS_UPDATE to 1.\n",
      "  check_for_updates()\n",
      "\u001b[34m\u001b[1mval: \u001b[0mScanning C:\\Users\\joshu\\Documents\\0 uni courses\\fourth year\\760\\segmentation\\Kvasir-SEG-Noise\\labels\\val.cache... 172 images, 0 backgrounds, 0 corrupt: 100%|██████████| 172/172 [00:00<?, ?it/s]\n"
     ]
    },
    {
     "name": "stdout",
     "output_type": "stream",
     "text": [
      "Plotting labels to runs\\segment\\train9\\labels.jpg... \n",
      "\u001b[34m\u001b[1moptimizer:\u001b[0m Adam(lr=0.001, momentum=0.937) with parameter groups 66 weight(decay=0.0), 77 weight(decay=0.0005), 76 bias(decay=0.0)\n",
      "\u001b[34m\u001b[1mTensorBoard: \u001b[0mmodel graph visualization added \n",
      "Image sizes 640 train, 640 val\n",
      "Using 8 dataloader workers\n",
      "Logging results to \u001b[1mruns\\segment\\train9\u001b[0m\n",
      "Starting training for 10 epochs...\n",
      "\n",
      "      Epoch    GPU_mem   box_loss   seg_loss   cls_loss   dfl_loss  Instances       Size\n"
     ]
    },
    {
     "name": "stderr",
     "output_type": "stream",
     "text": [
      "       1/10      2.89G      1.695      3.717      2.649      1.871        136        640: 100%|██████████| 52/52 [00:10<00:00,  4.75it/s]\n",
      "                 Class     Images  Instances      Box(P          R      mAP50  mAP50-95)     Mask(P          R      mAP50  mAP50-95): 100%|██████████| 6/6 [00:01<00:00,  3.45it/s]\n"
     ]
    },
    {
     "name": "stdout",
     "output_type": "stream",
     "text": [
      "                   all        172       1520    0.00501     0.0921     0.0114     0.0034    0.00401     0.0737    0.00456   0.000953\n",
      "\n",
      "      Epoch    GPU_mem   box_loss   seg_loss   cls_loss   dfl_loss  Instances       Size\n"
     ]
    },
    {
     "name": "stderr",
     "output_type": "stream",
     "text": [
      "       2/10      2.74G      1.372      2.704      1.917      1.559         97        640: 100%|██████████| 52/52 [00:09<00:00,  5.40it/s]\n",
      "                 Class     Images  Instances      Box(P          R      mAP50  mAP50-95)     Mask(P          R      mAP50  mAP50-95): 100%|██████████| 6/6 [00:01<00:00,  4.01it/s]"
     ]
    },
    {
     "name": "stdout",
     "output_type": "stream",
     "text": [
      "                   all        172       1520      0.248     0.0776     0.0537     0.0282    0.00648     0.0507    0.00387   0.000944\n"
     ]
    },
    {
     "name": "stderr",
     "output_type": "stream",
     "text": [
      "\n"
     ]
    },
    {
     "name": "stdout",
     "output_type": "stream",
     "text": [
      "\n",
      "      Epoch    GPU_mem   box_loss   seg_loss   cls_loss   dfl_loss  Instances       Size\n"
     ]
    },
    {
     "name": "stderr",
     "output_type": "stream",
     "text": [
      "       3/10      2.68G      1.366      2.544       1.78      1.533        150        640: 100%|██████████| 52/52 [00:09<00:00,  5.50it/s]\n",
      "                 Class     Images  Instances      Box(P          R      mAP50  mAP50-95)     Mask(P          R      mAP50  mAP50-95): 100%|██████████| 6/6 [00:01<00:00,  3.87it/s]"
     ]
    },
    {
     "name": "stdout",
     "output_type": "stream",
     "text": [
      "                   all        172       1520      0.319     0.0882      0.074     0.0454      0.326     0.0809      0.072     0.0329\n"
     ]
    },
    {
     "name": "stderr",
     "output_type": "stream",
     "text": [
      "\n"
     ]
    },
    {
     "name": "stdout",
     "output_type": "stream",
     "text": [
      "\n",
      "      Epoch    GPU_mem   box_loss   seg_loss   cls_loss   dfl_loss  Instances       Size\n"
     ]
    },
    {
     "name": "stderr",
     "output_type": "stream",
     "text": [
      "       4/10      2.74G      1.414      2.566      1.763      1.528        117        640: 100%|██████████| 52/52 [00:09<00:00,  5.45it/s]\n",
      "                 Class     Images  Instances      Box(P          R      mAP50  mAP50-95)     Mask(P          R      mAP50  mAP50-95): 100%|██████████| 6/6 [00:01<00:00,  3.67it/s]"
     ]
    },
    {
     "name": "stdout",
     "output_type": "stream",
     "text": [
      "                   all        172       1520      0.346     0.0875     0.0768     0.0451      0.318     0.0875     0.0753     0.0413\n"
     ]
    },
    {
     "name": "stderr",
     "output_type": "stream",
     "text": [
      "\n"
     ]
    },
    {
     "name": "stdout",
     "output_type": "stream",
     "text": [
      "\n",
      "      Epoch    GPU_mem   box_loss   seg_loss   cls_loss   dfl_loss  Instances       Size\n"
     ]
    },
    {
     "name": "stderr",
     "output_type": "stream",
     "text": [
      "       5/10      2.77G      1.318      2.452      1.629      1.451        129        640: 100%|██████████| 52/52 [00:09<00:00,  5.49it/s]\n",
      "                 Class     Images  Instances      Box(P          R      mAP50  mAP50-95)     Mask(P          R      mAP50  mAP50-95): 100%|██████████| 6/6 [00:01<00:00,  3.68it/s]"
     ]
    },
    {
     "name": "stdout",
     "output_type": "stream",
     "text": [
      "                   all        172       1520      0.395     0.0908     0.0799     0.0502      0.387     0.0888     0.0791     0.0454\n"
     ]
    },
    {
     "name": "stderr",
     "output_type": "stream",
     "text": [
      "\n"
     ]
    },
    {
     "name": "stdout",
     "output_type": "stream",
     "text": [
      "Closing dataloader mosaic\n",
      "\u001b[34m\u001b[1malbumentations: \u001b[0mBlur(p=0.01, blur_limit=(3, 7)), MedianBlur(p=0.01, blur_limit=(3, 7)), ToGray(p=0.01), CLAHE(p=0.01, clip_limit=(1, 4.0), tile_grid_size=(8, 8))\n",
      "\n",
      "      Epoch    GPU_mem   box_loss   seg_loss   cls_loss   dfl_loss  Instances       Size\n"
     ]
    },
    {
     "name": "stderr",
     "output_type": "stream",
     "text": [
      "       6/10      2.87G      1.361      2.602      1.709      1.487         93        640: 100%|██████████| 52/52 [00:09<00:00,  5.28it/s]\n",
      "                 Class     Images  Instances      Box(P          R      mAP50  mAP50-95)     Mask(P          R      mAP50  mAP50-95): 100%|██████████| 6/6 [00:01<00:00,  3.54it/s]"
     ]
    },
    {
     "name": "stdout",
     "output_type": "stream",
     "text": [
      "                   all        172       1520      0.419     0.0967     0.0866     0.0545      0.427     0.0967     0.0877     0.0534\n"
     ]
    },
    {
     "name": "stderr",
     "output_type": "stream",
     "text": [
      "\n"
     ]
    },
    {
     "name": "stdout",
     "output_type": "stream",
     "text": [
      "\n",
      "      Epoch    GPU_mem   box_loss   seg_loss   cls_loss   dfl_loss  Instances       Size\n"
     ]
    },
    {
     "name": "stderr",
     "output_type": "stream",
     "text": [
      "       7/10      2.66G      1.332      2.494       1.55      1.434         81        640: 100%|██████████| 52/52 [00:09<00:00,  5.65it/s]\n",
      "                 Class     Images  Instances      Box(P          R      mAP50  mAP50-95)     Mask(P          R      mAP50  mAP50-95): 100%|██████████| 6/6 [00:01<00:00,  3.68it/s]"
     ]
    },
    {
     "name": "stdout",
     "output_type": "stream",
     "text": [
      "                   all        172       1520      0.431     0.0999     0.0894     0.0567      0.431      0.098     0.0878     0.0569\n"
     ]
    },
    {
     "name": "stderr",
     "output_type": "stream",
     "text": [
      "\n"
     ]
    },
    {
     "name": "stdout",
     "output_type": "stream",
     "text": [
      "\n",
      "      Epoch    GPU_mem   box_loss   seg_loss   cls_loss   dfl_loss  Instances       Size\n"
     ]
    },
    {
     "name": "stderr",
     "output_type": "stream",
     "text": [
      "       8/10      2.66G      1.288      2.457       1.42      1.372         84        640: 100%|██████████| 52/52 [00:09<00:00,  5.58it/s]\n",
      "                 Class     Images  Instances      Box(P          R      mAP50  mAP50-95)     Mask(P          R      mAP50  mAP50-95): 100%|██████████| 6/6 [00:01<00:00,  3.79it/s]"
     ]
    },
    {
     "name": "stdout",
     "output_type": "stream",
     "text": [
      "                   all        172       1520      0.475     0.0947     0.0937     0.0647       0.48     0.0954     0.0931     0.0619\n"
     ]
    },
    {
     "name": "stderr",
     "output_type": "stream",
     "text": [
      "\n"
     ]
    },
    {
     "name": "stdout",
     "output_type": "stream",
     "text": [
      "\n",
      "      Epoch    GPU_mem   box_loss   seg_loss   cls_loss   dfl_loss  Instances       Size\n"
     ]
    },
    {
     "name": "stderr",
     "output_type": "stream",
     "text": [
      "       9/10      2.65G      1.256      2.384      1.347      1.361         98        640: 100%|██████████| 52/52 [00:09<00:00,  5.61it/s]\n",
      "                 Class     Images  Instances      Box(P          R      mAP50  mAP50-95)     Mask(P          R      mAP50  mAP50-95): 100%|██████████| 6/6 [00:01<00:00,  3.83it/s]"
     ]
    },
    {
     "name": "stdout",
     "output_type": "stream",
     "text": [
      "                   all        172       1520      0.533        0.1     0.0989     0.0688      0.529     0.0993     0.0973     0.0659\n"
     ]
    },
    {
     "name": "stderr",
     "output_type": "stream",
     "text": [
      "\n"
     ]
    },
    {
     "name": "stdout",
     "output_type": "stream",
     "text": [
      "\n",
      "      Epoch    GPU_mem   box_loss   seg_loss   cls_loss   dfl_loss  Instances       Size\n"
     ]
    },
    {
     "name": "stderr",
     "output_type": "stream",
     "text": [
      "      10/10      2.73G      1.266      2.363      1.327      1.378         69        640: 100%|██████████| 52/52 [00:09<00:00,  5.62it/s]\n",
      "                 Class     Images  Instances      Box(P          R      mAP50  mAP50-95)     Mask(P          R      mAP50  mAP50-95): 100%|██████████| 6/6 [00:01<00:00,  3.82it/s]"
     ]
    },
    {
     "name": "stdout",
     "output_type": "stream",
     "text": [
      "                   all        172       1520      0.523      0.103      0.098     0.0672      0.507      0.102     0.0986     0.0661\n"
     ]
    },
    {
     "name": "stderr",
     "output_type": "stream",
     "text": [
      "\n"
     ]
    },
    {
     "name": "stdout",
     "output_type": "stream",
     "text": [
      "\n",
      "10 epochs completed in 0.042 hours.\n",
      "Optimizer stripped from runs\\segment\\train9\\weights\\last.pt, 6.8MB\n",
      "Optimizer stripped from runs\\segment\\train9\\weights\\best.pt, 6.8MB\n",
      "\n",
      "Validating runs\\segment\\train9\\weights\\best.pt...\n",
      "Ultralytics YOLOv8.2.86  Python-3.10.6 torch-2.4.0+cu124 CUDA:0 (NVIDIA GeForce RTX 3060 Ti, 8192MiB)\n",
      "YOLOv8n-seg summary (fused): 195 layers, 3,258,259 parameters, 0 gradients, 12.0 GFLOPs\n"
     ]
    },
    {
     "name": "stderr",
     "output_type": "stream",
     "text": [
      "                 Class     Images  Instances      Box(P          R      mAP50  mAP50-95)     Mask(P          R      mAP50  mAP50-95): 100%|██████████| 6/6 [00:02<00:00,  2.54it/s]\n"
     ]
    },
    {
     "name": "stdout",
     "output_type": "stream",
     "text": [
      "                   all        172       1520      0.538        0.1     0.0989     0.0687       0.53     0.0993     0.0973     0.0659\n",
      "Speed: 0.6ms preprocess, 2.0ms inference, 0.0ms loss, 1.1ms postprocess per image\n",
      "Results saved to \u001b[1mruns\\segment\\train9\u001b[0m\n"
     ]
    },
    {
     "data": {
      "text/plain": [
       "ultralytics.utils.metrics.SegmentMetrics object with attributes:\n",
       "\n",
       "ap_class_index: array([0])\n",
       "box: ultralytics.utils.metrics.Metric object\n",
       "confusion_matrix: <ultralytics.utils.metrics.ConfusionMatrix object at 0x0000014325895F00>\n",
       "curves: ['Precision-Recall(B)', 'F1-Confidence(B)', 'Precision-Confidence(B)', 'Recall-Confidence(B)', 'Precision-Recall(M)', 'F1-Confidence(M)', 'Precision-Confidence(M)', 'Recall-Confidence(M)']\n",
       "curves_results: [[array([          0,    0.001001,    0.002002,    0.003003,    0.004004,    0.005005,    0.006006,    0.007007,    0.008008,    0.009009,     0.01001,    0.011011,    0.012012,    0.013013,    0.014014,    0.015015,    0.016016,    0.017017,    0.018018,    0.019019,     0.02002,    0.021021,    0.022022,    0.023023,\n",
       "          0.024024,    0.025025,    0.026026,    0.027027,    0.028028,    0.029029,     0.03003,    0.031031,    0.032032,    0.033033,    0.034034,    0.035035,    0.036036,    0.037037,    0.038038,    0.039039,     0.04004,    0.041041,    0.042042,    0.043043,    0.044044,    0.045045,    0.046046,    0.047047,\n",
       "          0.048048,    0.049049,     0.05005,    0.051051,    0.052052,    0.053053,    0.054054,    0.055055,    0.056056,    0.057057,    0.058058,    0.059059,     0.06006,    0.061061,    0.062062,    0.063063,    0.064064,    0.065065,    0.066066,    0.067067,    0.068068,    0.069069,     0.07007,    0.071071,\n",
       "          0.072072,    0.073073,    0.074074,    0.075075,    0.076076,    0.077077,    0.078078,    0.079079,     0.08008,    0.081081,    0.082082,    0.083083,    0.084084,    0.085085,    0.086086,    0.087087,    0.088088,    0.089089,     0.09009,    0.091091,    0.092092,    0.093093,    0.094094,    0.095095,\n",
       "          0.096096,    0.097097,    0.098098,    0.099099,      0.1001,      0.1011,      0.1021,      0.1031,      0.1041,     0.10511,     0.10611,     0.10711,     0.10811,     0.10911,     0.11011,     0.11111,     0.11211,     0.11311,     0.11411,     0.11512,     0.11612,     0.11712,     0.11812,     0.11912,\n",
       "           0.12012,     0.12112,     0.12212,     0.12312,     0.12412,     0.12513,     0.12613,     0.12713,     0.12813,     0.12913,     0.13013,     0.13113,     0.13213,     0.13313,     0.13413,     0.13514,     0.13614,     0.13714,     0.13814,     0.13914,     0.14014,     0.14114,     0.14214,     0.14314,\n",
       "           0.14414,     0.14515,     0.14615,     0.14715,     0.14815,     0.14915,     0.15015,     0.15115,     0.15215,     0.15315,     0.15415,     0.15516,     0.15616,     0.15716,     0.15816,     0.15916,     0.16016,     0.16116,     0.16216,     0.16316,     0.16416,     0.16517,     0.16617,     0.16717,\n",
       "           0.16817,     0.16917,     0.17017,     0.17117,     0.17217,     0.17317,     0.17417,     0.17518,     0.17618,     0.17718,     0.17818,     0.17918,     0.18018,     0.18118,     0.18218,     0.18318,     0.18418,     0.18519,     0.18619,     0.18719,     0.18819,     0.18919,     0.19019,     0.19119,\n",
       "           0.19219,     0.19319,     0.19419,      0.1952,      0.1962,      0.1972,      0.1982,      0.1992,      0.2002,      0.2012,      0.2022,      0.2032,      0.2042,     0.20521,     0.20621,     0.20721,     0.20821,     0.20921,     0.21021,     0.21121,     0.21221,     0.21321,     0.21421,     0.21522,\n",
       "           0.21622,     0.21722,     0.21822,     0.21922,     0.22022,     0.22122,     0.22222,     0.22322,     0.22422,     0.22523,     0.22623,     0.22723,     0.22823,     0.22923,     0.23023,     0.23123,     0.23223,     0.23323,     0.23423,     0.23524,     0.23624,     0.23724,     0.23824,     0.23924,\n",
       "           0.24024,     0.24124,     0.24224,     0.24324,     0.24424,     0.24525,     0.24625,     0.24725,     0.24825,     0.24925,     0.25025,     0.25125,     0.25225,     0.25325,     0.25425,     0.25526,     0.25626,     0.25726,     0.25826,     0.25926,     0.26026,     0.26126,     0.26226,     0.26326,\n",
       "           0.26426,     0.26527,     0.26627,     0.26727,     0.26827,     0.26927,     0.27027,     0.27127,     0.27227,     0.27327,     0.27427,     0.27528,     0.27628,     0.27728,     0.27828,     0.27928,     0.28028,     0.28128,     0.28228,     0.28328,     0.28428,     0.28529,     0.28629,     0.28729,\n",
       "           0.28829,     0.28929,     0.29029,     0.29129,     0.29229,     0.29329,     0.29429,      0.2953,      0.2963,      0.2973,      0.2983,      0.2993,      0.3003,      0.3013,      0.3023,      0.3033,      0.3043,     0.30531,     0.30631,     0.30731,     0.30831,     0.30931,     0.31031,     0.31131,\n",
       "           0.31231,     0.31331,     0.31431,     0.31532,     0.31632,     0.31732,     0.31832,     0.31932,     0.32032,     0.32132,     0.32232,     0.32332,     0.32432,     0.32533,     0.32633,     0.32733,     0.32833,     0.32933,     0.33033,     0.33133,     0.33233,     0.33333,     0.33433,     0.33534,\n",
       "           0.33634,     0.33734,     0.33834,     0.33934,     0.34034,     0.34134,     0.34234,     0.34334,     0.34434,     0.34535,     0.34635,     0.34735,     0.34835,     0.34935,     0.35035,     0.35135,     0.35235,     0.35335,     0.35435,     0.35536,     0.35636,     0.35736,     0.35836,     0.35936,\n",
       "           0.36036,     0.36136,     0.36236,     0.36336,     0.36436,     0.36537,     0.36637,     0.36737,     0.36837,     0.36937,     0.37037,     0.37137,     0.37237,     0.37337,     0.37437,     0.37538,     0.37638,     0.37738,     0.37838,     0.37938,     0.38038,     0.38138,     0.38238,     0.38338,\n",
       "           0.38438,     0.38539,     0.38639,     0.38739,     0.38839,     0.38939,     0.39039,     0.39139,     0.39239,     0.39339,     0.39439,      0.3954,      0.3964,      0.3974,      0.3984,      0.3994,      0.4004,      0.4014,      0.4024,      0.4034,      0.4044,     0.40541,     0.40641,     0.40741,\n",
       "           0.40841,     0.40941,     0.41041,     0.41141,     0.41241,     0.41341,     0.41441,     0.41542,     0.41642,     0.41742,     0.41842,     0.41942,     0.42042,     0.42142,     0.42242,     0.42342,     0.42442,     0.42543,     0.42643,     0.42743,     0.42843,     0.42943,     0.43043,     0.43143,\n",
       "           0.43243,     0.43343,     0.43443,     0.43544,     0.43644,     0.43744,     0.43844,     0.43944,     0.44044,     0.44144,     0.44244,     0.44344,     0.44444,     0.44545,     0.44645,     0.44745,     0.44845,     0.44945,     0.45045,     0.45145,     0.45245,     0.45345,     0.45445,     0.45546,\n",
       "           0.45646,     0.45746,     0.45846,     0.45946,     0.46046,     0.46146,     0.46246,     0.46346,     0.46446,     0.46547,     0.46647,     0.46747,     0.46847,     0.46947,     0.47047,     0.47147,     0.47247,     0.47347,     0.47447,     0.47548,     0.47648,     0.47748,     0.47848,     0.47948,\n",
       "           0.48048,     0.48148,     0.48248,     0.48348,     0.48448,     0.48549,     0.48649,     0.48749,     0.48849,     0.48949,     0.49049,     0.49149,     0.49249,     0.49349,     0.49449,      0.4955,      0.4965,      0.4975,      0.4985,      0.4995,      0.5005,      0.5015,      0.5025,      0.5035,\n",
       "            0.5045,     0.50551,     0.50651,     0.50751,     0.50851,     0.50951,     0.51051,     0.51151,     0.51251,     0.51351,     0.51451,     0.51552,     0.51652,     0.51752,     0.51852,     0.51952,     0.52052,     0.52152,     0.52252,     0.52352,     0.52452,     0.52553,     0.52653,     0.52753,\n",
       "           0.52853,     0.52953,     0.53053,     0.53153,     0.53253,     0.53353,     0.53453,     0.53554,     0.53654,     0.53754,     0.53854,     0.53954,     0.54054,     0.54154,     0.54254,     0.54354,     0.54454,     0.54555,     0.54655,     0.54755,     0.54855,     0.54955,     0.55055,     0.55155,\n",
       "           0.55255,     0.55355,     0.55455,     0.55556,     0.55656,     0.55756,     0.55856,     0.55956,     0.56056,     0.56156,     0.56256,     0.56356,     0.56456,     0.56557,     0.56657,     0.56757,     0.56857,     0.56957,     0.57057,     0.57157,     0.57257,     0.57357,     0.57457,     0.57558,\n",
       "           0.57658,     0.57758,     0.57858,     0.57958,     0.58058,     0.58158,     0.58258,     0.58358,     0.58458,     0.58559,     0.58659,     0.58759,     0.58859,     0.58959,     0.59059,     0.59159,     0.59259,     0.59359,     0.59459,      0.5956,      0.5966,      0.5976,      0.5986,      0.5996,\n",
       "            0.6006,      0.6016,      0.6026,      0.6036,      0.6046,     0.60561,     0.60661,     0.60761,     0.60861,     0.60961,     0.61061,     0.61161,     0.61261,     0.61361,     0.61461,     0.61562,     0.61662,     0.61762,     0.61862,     0.61962,     0.62062,     0.62162,     0.62262,     0.62362,\n",
       "           0.62462,     0.62563,     0.62663,     0.62763,     0.62863,     0.62963,     0.63063,     0.63163,     0.63263,     0.63363,     0.63463,     0.63564,     0.63664,     0.63764,     0.63864,     0.63964,     0.64064,     0.64164,     0.64264,     0.64364,     0.64464,     0.64565,     0.64665,     0.64765,\n",
       "           0.64865,     0.64965,     0.65065,     0.65165,     0.65265,     0.65365,     0.65465,     0.65566,     0.65666,     0.65766,     0.65866,     0.65966,     0.66066,     0.66166,     0.66266,     0.66366,     0.66466,     0.66567,     0.66667,     0.66767,     0.66867,     0.66967,     0.67067,     0.67167,\n",
       "           0.67267,     0.67367,     0.67467,     0.67568,     0.67668,     0.67768,     0.67868,     0.67968,     0.68068,     0.68168,     0.68268,     0.68368,     0.68468,     0.68569,     0.68669,     0.68769,     0.68869,     0.68969,     0.69069,     0.69169,     0.69269,     0.69369,     0.69469,      0.6957,\n",
       "            0.6967,      0.6977,      0.6987,      0.6997,      0.7007,      0.7017,      0.7027,      0.7037,      0.7047,     0.70571,     0.70671,     0.70771,     0.70871,     0.70971,     0.71071,     0.71171,     0.71271,     0.71371,     0.71471,     0.71572,     0.71672,     0.71772,     0.71872,     0.71972,\n",
       "           0.72072,     0.72172,     0.72272,     0.72372,     0.72472,     0.72573,     0.72673,     0.72773,     0.72873,     0.72973,     0.73073,     0.73173,     0.73273,     0.73373,     0.73473,     0.73574,     0.73674,     0.73774,     0.73874,     0.73974,     0.74074,     0.74174,     0.74274,     0.74374,\n",
       "           0.74474,     0.74575,     0.74675,     0.74775,     0.74875,     0.74975,     0.75075,     0.75175,     0.75275,     0.75375,     0.75475,     0.75576,     0.75676,     0.75776,     0.75876,     0.75976,     0.76076,     0.76176,     0.76276,     0.76376,     0.76476,     0.76577,     0.76677,     0.76777,\n",
       "           0.76877,     0.76977,     0.77077,     0.77177,     0.77277,     0.77377,     0.77477,     0.77578,     0.77678,     0.77778,     0.77878,     0.77978,     0.78078,     0.78178,     0.78278,     0.78378,     0.78478,     0.78579,     0.78679,     0.78779,     0.78879,     0.78979,     0.79079,     0.79179,\n",
       "           0.79279,     0.79379,     0.79479,      0.7958,      0.7968,      0.7978,      0.7988,      0.7998,      0.8008,      0.8018,      0.8028,      0.8038,      0.8048,     0.80581,     0.80681,     0.80781,     0.80881,     0.80981,     0.81081,     0.81181,     0.81281,     0.81381,     0.81481,     0.81582,\n",
       "           0.81682,     0.81782,     0.81882,     0.81982,     0.82082,     0.82182,     0.82282,     0.82382,     0.82482,     0.82583,     0.82683,     0.82783,     0.82883,     0.82983,     0.83083,     0.83183,     0.83283,     0.83383,     0.83483,     0.83584,     0.83684,     0.83784,     0.83884,     0.83984,\n",
       "           0.84084,     0.84184,     0.84284,     0.84384,     0.84484,     0.84585,     0.84685,     0.84785,     0.84885,     0.84985,     0.85085,     0.85185,     0.85285,     0.85385,     0.85485,     0.85586,     0.85686,     0.85786,     0.85886,     0.85986,     0.86086,     0.86186,     0.86286,     0.86386,\n",
       "           0.86486,     0.86587,     0.86687,     0.86787,     0.86887,     0.86987,     0.87087,     0.87187,     0.87287,     0.87387,     0.87487,     0.87588,     0.87688,     0.87788,     0.87888,     0.87988,     0.88088,     0.88188,     0.88288,     0.88388,     0.88488,     0.88589,     0.88689,     0.88789,\n",
       "           0.88889,     0.88989,     0.89089,     0.89189,     0.89289,     0.89389,     0.89489,      0.8959,      0.8969,      0.8979,      0.8989,      0.8999,      0.9009,      0.9019,      0.9029,      0.9039,      0.9049,     0.90591,     0.90691,     0.90791,     0.90891,     0.90991,     0.91091,     0.91191,\n",
       "           0.91291,     0.91391,     0.91491,     0.91592,     0.91692,     0.91792,     0.91892,     0.91992,     0.92092,     0.92192,     0.92292,     0.92392,     0.92492,     0.92593,     0.92693,     0.92793,     0.92893,     0.92993,     0.93093,     0.93193,     0.93293,     0.93393,     0.93493,     0.93594,\n",
       "           0.93694,     0.93794,     0.93894,     0.93994,     0.94094,     0.94194,     0.94294,     0.94394,     0.94494,     0.94595,     0.94695,     0.94795,     0.94895,     0.94995,     0.95095,     0.95195,     0.95295,     0.95395,     0.95495,     0.95596,     0.95696,     0.95796,     0.95896,     0.95996,\n",
       "           0.96096,     0.96196,     0.96296,     0.96396,     0.96496,     0.96597,     0.96697,     0.96797,     0.96897,     0.96997,     0.97097,     0.97197,     0.97297,     0.97397,     0.97497,     0.97598,     0.97698,     0.97798,     0.97898,     0.97998,     0.98098,     0.98198,     0.98298,     0.98398,\n",
       "           0.98498,     0.98599,     0.98699,     0.98799,     0.98899,     0.98999,     0.99099,     0.99199,     0.99299,     0.99399,     0.99499,       0.996,       0.997,       0.998,       0.999,           1]), array([[          1,           1,           1,           1,           1,           1,           1,           1,           1,           1,           1,           1,           1,           1,           1,           1,           1,           1,           1,           1,           1,           1,           1,\n",
       "                  1,           1,           1,           1,     0.98246,     0.98246,     0.98246,     0.98246,     0.98246,     0.98246,     0.98246,     0.98246,     0.98246,     0.98246,      0.9661,     0.95522,     0.95522,     0.95522,     0.95522,     0.95522,     0.92045,     0.92045,     0.92045,\n",
       "            0.92045,     0.92045,     0.92045,     0.92045,     0.92045,     0.92045,     0.92045,     0.92045,     0.89583,     0.89583,     0.89583,     0.89216,     0.89216,     0.89216,     0.88991,     0.88991,     0.88991,     0.88991,     0.88696,     0.88696,     0.88696,     0.88696,     0.88235,\n",
       "            0.88235,     0.87705,     0.86508,     0.85938,     0.85185,     0.85185,     0.85185,     0.82432,     0.82432,     0.82432,     0.82432,     0.82432,     0.82119,      0.8129,     0.80892,     0.80503,     0.79878,     0.79878,     0.77326,     0.76136,     0.74725,     0.72487,     0.72021,\n",
       "            0.69802,     0.66667,     0.65158,     0.64035,         0.6,       0.592,      0.5814,     0.57854,     0.52218,     0.51678,     0.45087,     0.43014,      0.3995,     0.35714,     0.32079,     0.29211,     0.27228,     0.25972,     0.22252,     0.21806,     0.18153,     0.16211,     0.13262,\n",
       "            0.11589,    0.088589,    0.069112,    0.067064,    0.029584,    0.026924,    0.018474,    0.017762,    0.016093,    0.015296,    0.011976,    0.011243,    0.010172,    0.010161,    0.010149,    0.010137,    0.010126,    0.010114,    0.010102,    0.010091,    0.010079,    0.010067,    0.010056,\n",
       "           0.010044,    0.010032,    0.010021,    0.010009,   0.0099972,   0.0099855,   0.0099739,   0.0099622,   0.0099505,   0.0099389,   0.0099272,   0.0099155,   0.0099039,   0.0098922,   0.0098805,   0.0098689,   0.0098572,   0.0098455,   0.0098339,   0.0098222,   0.0098105,   0.0097989,   0.0097872,\n",
       "          0.0097755,   0.0097639,   0.0097522,   0.0097406,   0.0097289,   0.0097172,   0.0097056,   0.0096939,   0.0096822,   0.0096706,   0.0096589,   0.0096472,   0.0096356,   0.0096239,   0.0096122,   0.0096006,   0.0095889,   0.0095772,   0.0095656,   0.0095539,   0.0095422,   0.0095306,   0.0095189,\n",
       "          0.0095072,   0.0094956,   0.0094839,   0.0094723,   0.0094606,   0.0094489,   0.0094373,   0.0094256,   0.0094139,   0.0094023,   0.0093906,   0.0093789,   0.0093673,   0.0093556,   0.0093439,   0.0093323,   0.0093206,   0.0093089,   0.0092973,   0.0092856,   0.0092739,   0.0092623,   0.0092506,\n",
       "          0.0092389,   0.0092273,   0.0092156,   0.0092039,   0.0091923,   0.0091806,    0.009169,   0.0091573,   0.0091456,    0.009134,   0.0091223,   0.0091106,    0.009099,   0.0090873,   0.0090756,    0.009064,   0.0090523,   0.0090406,    0.009029,   0.0090173,   0.0090056,    0.008994,   0.0089823,\n",
       "          0.0089706,    0.008959,   0.0089473,   0.0089356,    0.008924,   0.0089123,   0.0089006,    0.008889,   0.0088773,   0.0088657,    0.008854,   0.0088423,   0.0088307,    0.008819,   0.0088073,   0.0087957,    0.008784,   0.0087723,   0.0087607,    0.008749,   0.0087373,   0.0087257,    0.008714,\n",
       "          0.0087023,   0.0086907,    0.008679,   0.0086673,   0.0086557,    0.008644,   0.0086323,   0.0086207,    0.008609,   0.0085974,   0.0085857,    0.008574,   0.0085624,   0.0085507,    0.008539,   0.0085274,   0.0085157,    0.008504,   0.0084924,   0.0084807,    0.008469,   0.0084574,   0.0084457,\n",
       "           0.008434,   0.0084224,   0.0084107,    0.008399,   0.0083874,   0.0083757,    0.008364,   0.0083524,   0.0083407,    0.008329,   0.0083174,   0.0083057,   0.0082941,   0.0082824,   0.0082707,   0.0082591,   0.0082474,   0.0082357,   0.0082241,   0.0082124,   0.0082007,   0.0081891,   0.0081774,\n",
       "          0.0081657,   0.0081541,   0.0081424,   0.0081307,   0.0081191,   0.0081074,   0.0080957,   0.0080841,   0.0080724,   0.0080607,   0.0080491,   0.0080374,   0.0080257,   0.0080141,   0.0080024,   0.0079908,   0.0079791,   0.0079674,   0.0079558,   0.0079441,   0.0079324,   0.0079208,   0.0079091,\n",
       "          0.0078974,   0.0078858,   0.0078741,   0.0078624,   0.0078508,   0.0078391,   0.0078274,   0.0078158,   0.0078041,   0.0077924,   0.0077808,   0.0077691,   0.0077574,   0.0077458,   0.0077341,   0.0077225,   0.0077108,   0.0076991,   0.0076875,   0.0076758,   0.0076641,   0.0076525,   0.0076408,\n",
       "          0.0076291,   0.0076175,   0.0076058,   0.0075941,   0.0075825,   0.0075708,   0.0075591,   0.0075475,   0.0075358,   0.0075241,   0.0075125,   0.0075008,   0.0074891,   0.0074775,   0.0074658,   0.0074541,   0.0074425,   0.0074308,   0.0074192,   0.0074075,   0.0073958,   0.0073842,   0.0073725,\n",
       "          0.0073608,   0.0073492,   0.0073375,   0.0073258,   0.0073142,   0.0073025,   0.0072908,   0.0072792,   0.0072675,   0.0072558,   0.0072442,   0.0072325,   0.0072208,   0.0072092,   0.0071975,   0.0071858,   0.0071742,   0.0071625,   0.0071508,   0.0071392,   0.0071275,   0.0071159,   0.0071042,\n",
       "          0.0070925,   0.0070809,   0.0070692,   0.0070575,   0.0070459,   0.0070342,   0.0070225,   0.0070109,   0.0069992,   0.0069875,   0.0069759,   0.0069642,   0.0069525,   0.0069409,   0.0069292,   0.0069175,   0.0069059,   0.0068942,   0.0068825,   0.0068709,   0.0068592,   0.0068476,   0.0068359,\n",
       "          0.0068242,   0.0068126,   0.0068009,   0.0067892,   0.0067776,   0.0067659,   0.0067542,   0.0067426,   0.0067309,   0.0067192,   0.0067076,   0.0066959,   0.0066842,   0.0066726,   0.0066609,   0.0066492,   0.0066376,   0.0066259,   0.0066142,   0.0066026,   0.0065909,   0.0065792,   0.0065676,\n",
       "          0.0065559,   0.0065443,   0.0065326,   0.0065209,   0.0065093,   0.0064976,   0.0064859,   0.0064743,   0.0064626,   0.0064509,   0.0064393,   0.0064276,   0.0064159,   0.0064043,   0.0063926,   0.0063809,   0.0063693,   0.0063576,   0.0063459,   0.0063343,   0.0063226,   0.0063109,   0.0062993,\n",
       "          0.0062876,   0.0062759,   0.0062643,   0.0062526,    0.006241,   0.0062293,   0.0062176,    0.006206,   0.0061943,   0.0061826,    0.006171,   0.0061593,   0.0061476,    0.006136,   0.0061243,   0.0061126,    0.006101,   0.0060893,   0.0060776,    0.006066,   0.0060543,   0.0060426,    0.006031,\n",
       "          0.0060193,   0.0060076,    0.005996,   0.0059843,   0.0059727,    0.005961,   0.0059493,   0.0059377,    0.005926,   0.0059143,   0.0059027,    0.005891,   0.0058793,   0.0058677,    0.005856,   0.0058443,   0.0058327,    0.005821,   0.0058093,   0.0057977,    0.005786,   0.0057743,   0.0057627,\n",
       "           0.005751,   0.0057393,   0.0057277,    0.005716,   0.0057043,   0.0056927,    0.005681,   0.0056694,   0.0056577,    0.005646,   0.0056344,   0.0056227,    0.005611,   0.0055994,   0.0055877,    0.005576,   0.0055644,   0.0055527,    0.005541,   0.0055294,   0.0055177,    0.005506,   0.0054944,\n",
       "          0.0054827,    0.005471,   0.0054594,   0.0054477,    0.005436,   0.0054244,   0.0054127,    0.005401,   0.0053894,   0.0053777,   0.0053661,   0.0053544,   0.0053427,   0.0053311,   0.0053194,   0.0053077,   0.0052961,   0.0052844,   0.0052727,   0.0052611,   0.0052494,   0.0052377,   0.0052261,\n",
       "          0.0052144,   0.0052027,   0.0051911,   0.0051794,   0.0051677,   0.0051561,   0.0051444,   0.0051327,   0.0051211,   0.0051094,   0.0050978,   0.0050861,   0.0050744,   0.0050628,   0.0050511,   0.0050394,   0.0050278,   0.0050161,   0.0050044,   0.0049928,   0.0049811,   0.0049694,   0.0049578,\n",
       "          0.0049461,   0.0049344,   0.0049228,   0.0049111,   0.0048994,   0.0048878,   0.0048761,   0.0048644,   0.0048528,   0.0048411,   0.0048294,   0.0048178,   0.0048061,   0.0047945,   0.0047828,   0.0047711,   0.0047595,   0.0047478,   0.0047361,   0.0047245,   0.0047128,   0.0047011,   0.0046895,\n",
       "          0.0046778,   0.0046661,   0.0046545,   0.0046428,   0.0046311,   0.0046195,   0.0046078,   0.0045961,   0.0045845,   0.0045728,   0.0045611,   0.0045495,   0.0045378,   0.0045261,   0.0045145,   0.0045028,   0.0044912,   0.0044795,   0.0044678,   0.0044562,   0.0044445,   0.0044328,   0.0044212,\n",
       "          0.0044095,   0.0043978,   0.0043862,   0.0043745,   0.0043628,   0.0043512,   0.0043395,   0.0043278,   0.0043162,   0.0043045,   0.0042928,   0.0042812,   0.0042695,   0.0042578,   0.0042462,   0.0042345,   0.0042229,   0.0042112,   0.0041995,   0.0041879,   0.0041762,   0.0041645,   0.0041529,\n",
       "          0.0041412,   0.0041295,   0.0041179,   0.0041062,   0.0040945,   0.0040829,   0.0040712,   0.0040595,   0.0040479,   0.0040362,   0.0040245,   0.0040129,   0.0040012,   0.0039895,   0.0039779,   0.0039662,   0.0039545,   0.0039429,   0.0039312,   0.0039196,   0.0039079,   0.0038962,   0.0038846,\n",
       "          0.0038729,   0.0038612,   0.0038496,   0.0038379,   0.0038262,   0.0038146,   0.0038029,   0.0037912,   0.0037796,   0.0037679,   0.0037562,   0.0037446,   0.0037329,   0.0037212,   0.0037096,   0.0036979,   0.0036862,   0.0036746,   0.0036629,   0.0036512,   0.0036396,   0.0036279,   0.0036163,\n",
       "          0.0036046,   0.0035929,   0.0035813,   0.0035696,   0.0035579,   0.0035463,   0.0035346,   0.0035229,   0.0035113,   0.0034996,   0.0034879,   0.0034763,   0.0034646,   0.0034529,   0.0034413,   0.0034296,   0.0034179,   0.0034063,   0.0033946,   0.0033829,   0.0033713,   0.0033596,    0.003348,\n",
       "          0.0033363,   0.0033246,    0.003313,   0.0033013,   0.0032896,    0.003278,   0.0032663,   0.0032546,    0.003243,   0.0032313,   0.0032196,    0.003208,   0.0031963,   0.0031846,    0.003173,   0.0031613,   0.0031496,    0.003138,   0.0031263,   0.0031146,    0.003103,   0.0030913,   0.0030796,\n",
       "           0.003068,   0.0030563,   0.0030447,    0.003033,   0.0030213,   0.0030097,    0.002998,   0.0029863,   0.0029747,    0.002963,   0.0029513,   0.0029397,    0.002928,   0.0029163,   0.0029047,    0.002893,   0.0028813,   0.0028697,    0.002858,   0.0028463,   0.0028347,    0.002823,   0.0028113,\n",
       "          0.0027997,    0.002788,   0.0027763,   0.0027647,    0.002753,   0.0027414,   0.0027297,    0.002718,   0.0027064,   0.0026947,    0.002683,   0.0026714,   0.0026597,    0.002648,   0.0026364,   0.0026247,    0.002613,   0.0026014,   0.0025897,    0.002578,   0.0025664,   0.0025547,    0.002543,\n",
       "          0.0025314,   0.0025197,    0.002508,   0.0024964,   0.0024847,   0.0024731,   0.0024614,   0.0024497,   0.0024381,   0.0024264,   0.0024147,   0.0024031,   0.0023914,   0.0023797,   0.0023681,   0.0023564,   0.0023447,   0.0023331,   0.0023214,   0.0023097,   0.0022981,   0.0022864,   0.0022747,\n",
       "          0.0022631,   0.0022514,   0.0022397,   0.0022281,   0.0022164,   0.0022047,   0.0021931,   0.0021814,   0.0021698,   0.0021581,   0.0021464,   0.0021348,   0.0021231,   0.0021114,   0.0020998,   0.0020881,   0.0020764,   0.0020648,   0.0020531,   0.0020414,   0.0020298,   0.0020181,   0.0020064,\n",
       "          0.0019948,   0.0019831,   0.0019714,   0.0019598,   0.0019481,   0.0019364,   0.0019248,   0.0019131,   0.0019014,   0.0018898,   0.0018781,   0.0018665,   0.0018548,   0.0018431,   0.0018315,   0.0018198,   0.0018081,   0.0017965,   0.0017848,   0.0017731,   0.0017615,   0.0017498,   0.0017381,\n",
       "          0.0017265,   0.0017148,   0.0017031,   0.0016915,   0.0016798,   0.0016681,   0.0016565,   0.0016448,   0.0016331,   0.0016215,   0.0016098,   0.0015982,   0.0015865,   0.0015748,   0.0015632,   0.0015515,   0.0015398,   0.0015282,   0.0015165,   0.0015048,   0.0014932,   0.0014815,   0.0014698,\n",
       "          0.0014582,   0.0014465,   0.0014348,   0.0014232,   0.0014115,   0.0013998,   0.0013882,   0.0013765,   0.0013648,   0.0013532,   0.0013415,   0.0013298,   0.0013182,   0.0013065,   0.0012949,   0.0012832,   0.0012715,   0.0012599,   0.0012482,   0.0012365,   0.0012249,   0.0012132,   0.0012015,\n",
       "          0.0011899,   0.0011782,   0.0011665,   0.0011549,   0.0011432,   0.0011315,   0.0011199,   0.0011082,   0.0010965,   0.0010849,   0.0010732,   0.0010615,   0.0010499,   0.0010382,   0.0010265,   0.0010149,   0.0010032,  0.00099155,  0.00097989,  0.00096822,  0.00095656,  0.00094489,  0.00093323,\n",
       "         0.00092156,   0.0009099,  0.00089823,  0.00088657,   0.0008749,  0.00086323,  0.00085157,   0.0008399,  0.00082824,  0.00081657,  0.00080491,  0.00079324,  0.00078158,  0.00076991,  0.00075825,  0.00074658,  0.00073492,  0.00072325,  0.00071159,  0.00069992,  0.00068825,  0.00067659,  0.00066492,\n",
       "         0.00065326,  0.00064159,  0.00062993,  0.00061826,   0.0006066,  0.00059493,  0.00058327,   0.0005716,  0.00055994,  0.00054827,  0.00053661,  0.00052494,  0.00051327,  0.00050161,  0.00048994,  0.00047828,  0.00046661,  0.00045495,  0.00044328,  0.00043162,  0.00041995,  0.00040829,  0.00039662,\n",
       "         0.00038496,  0.00037329,  0.00036163,  0.00034996,  0.00033829,  0.00032663,  0.00031496,   0.0003033,  0.00029163,  0.00027997,   0.0002683,  0.00025664,  0.00024497,  0.00023331,  0.00022164,  0.00020998,  0.00019831,  0.00018665,  0.00017498,  0.00016331,  0.00015165,  0.00013998,  0.00012832,\n",
       "         0.00011665,  0.00010499,  9.3323e-05,  8.1657e-05,  6.9992e-05,  5.8327e-05,  4.6661e-05,  3.4996e-05,  2.3331e-05,  1.1665e-05,           0]]), 'Recall', 'Precision'], [array([          0,    0.001001,    0.002002,    0.003003,    0.004004,    0.005005,    0.006006,    0.007007,    0.008008,    0.009009,     0.01001,    0.011011,    0.012012,    0.013013,    0.014014,    0.015015,    0.016016,    0.017017,    0.018018,    0.019019,     0.02002,    0.021021,    0.022022,    0.023023,\n",
       "          0.024024,    0.025025,    0.026026,    0.027027,    0.028028,    0.029029,     0.03003,    0.031031,    0.032032,    0.033033,    0.034034,    0.035035,    0.036036,    0.037037,    0.038038,    0.039039,     0.04004,    0.041041,    0.042042,    0.043043,    0.044044,    0.045045,    0.046046,    0.047047,\n",
       "          0.048048,    0.049049,     0.05005,    0.051051,    0.052052,    0.053053,    0.054054,    0.055055,    0.056056,    0.057057,    0.058058,    0.059059,     0.06006,    0.061061,    0.062062,    0.063063,    0.064064,    0.065065,    0.066066,    0.067067,    0.068068,    0.069069,     0.07007,    0.071071,\n",
       "          0.072072,    0.073073,    0.074074,    0.075075,    0.076076,    0.077077,    0.078078,    0.079079,     0.08008,    0.081081,    0.082082,    0.083083,    0.084084,    0.085085,    0.086086,    0.087087,    0.088088,    0.089089,     0.09009,    0.091091,    0.092092,    0.093093,    0.094094,    0.095095,\n",
       "          0.096096,    0.097097,    0.098098,    0.099099,      0.1001,      0.1011,      0.1021,      0.1031,      0.1041,     0.10511,     0.10611,     0.10711,     0.10811,     0.10911,     0.11011,     0.11111,     0.11211,     0.11311,     0.11411,     0.11512,     0.11612,     0.11712,     0.11812,     0.11912,\n",
       "           0.12012,     0.12112,     0.12212,     0.12312,     0.12412,     0.12513,     0.12613,     0.12713,     0.12813,     0.12913,     0.13013,     0.13113,     0.13213,     0.13313,     0.13413,     0.13514,     0.13614,     0.13714,     0.13814,     0.13914,     0.14014,     0.14114,     0.14214,     0.14314,\n",
       "           0.14414,     0.14515,     0.14615,     0.14715,     0.14815,     0.14915,     0.15015,     0.15115,     0.15215,     0.15315,     0.15415,     0.15516,     0.15616,     0.15716,     0.15816,     0.15916,     0.16016,     0.16116,     0.16216,     0.16316,     0.16416,     0.16517,     0.16617,     0.16717,\n",
       "           0.16817,     0.16917,     0.17017,     0.17117,     0.17217,     0.17317,     0.17417,     0.17518,     0.17618,     0.17718,     0.17818,     0.17918,     0.18018,     0.18118,     0.18218,     0.18318,     0.18418,     0.18519,     0.18619,     0.18719,     0.18819,     0.18919,     0.19019,     0.19119,\n",
       "           0.19219,     0.19319,     0.19419,      0.1952,      0.1962,      0.1972,      0.1982,      0.1992,      0.2002,      0.2012,      0.2022,      0.2032,      0.2042,     0.20521,     0.20621,     0.20721,     0.20821,     0.20921,     0.21021,     0.21121,     0.21221,     0.21321,     0.21421,     0.21522,\n",
       "           0.21622,     0.21722,     0.21822,     0.21922,     0.22022,     0.22122,     0.22222,     0.22322,     0.22422,     0.22523,     0.22623,     0.22723,     0.22823,     0.22923,     0.23023,     0.23123,     0.23223,     0.23323,     0.23423,     0.23524,     0.23624,     0.23724,     0.23824,     0.23924,\n",
       "           0.24024,     0.24124,     0.24224,     0.24324,     0.24424,     0.24525,     0.24625,     0.24725,     0.24825,     0.24925,     0.25025,     0.25125,     0.25225,     0.25325,     0.25425,     0.25526,     0.25626,     0.25726,     0.25826,     0.25926,     0.26026,     0.26126,     0.26226,     0.26326,\n",
       "           0.26426,     0.26527,     0.26627,     0.26727,     0.26827,     0.26927,     0.27027,     0.27127,     0.27227,     0.27327,     0.27427,     0.27528,     0.27628,     0.27728,     0.27828,     0.27928,     0.28028,     0.28128,     0.28228,     0.28328,     0.28428,     0.28529,     0.28629,     0.28729,\n",
       "           0.28829,     0.28929,     0.29029,     0.29129,     0.29229,     0.29329,     0.29429,      0.2953,      0.2963,      0.2973,      0.2983,      0.2993,      0.3003,      0.3013,      0.3023,      0.3033,      0.3043,     0.30531,     0.30631,     0.30731,     0.30831,     0.30931,     0.31031,     0.31131,\n",
       "           0.31231,     0.31331,     0.31431,     0.31532,     0.31632,     0.31732,     0.31832,     0.31932,     0.32032,     0.32132,     0.32232,     0.32332,     0.32432,     0.32533,     0.32633,     0.32733,     0.32833,     0.32933,     0.33033,     0.33133,     0.33233,     0.33333,     0.33433,     0.33534,\n",
       "           0.33634,     0.33734,     0.33834,     0.33934,     0.34034,     0.34134,     0.34234,     0.34334,     0.34434,     0.34535,     0.34635,     0.34735,     0.34835,     0.34935,     0.35035,     0.35135,     0.35235,     0.35335,     0.35435,     0.35536,     0.35636,     0.35736,     0.35836,     0.35936,\n",
       "           0.36036,     0.36136,     0.36236,     0.36336,     0.36436,     0.36537,     0.36637,     0.36737,     0.36837,     0.36937,     0.37037,     0.37137,     0.37237,     0.37337,     0.37437,     0.37538,     0.37638,     0.37738,     0.37838,     0.37938,     0.38038,     0.38138,     0.38238,     0.38338,\n",
       "           0.38438,     0.38539,     0.38639,     0.38739,     0.38839,     0.38939,     0.39039,     0.39139,     0.39239,     0.39339,     0.39439,      0.3954,      0.3964,      0.3974,      0.3984,      0.3994,      0.4004,      0.4014,      0.4024,      0.4034,      0.4044,     0.40541,     0.40641,     0.40741,\n",
       "           0.40841,     0.40941,     0.41041,     0.41141,     0.41241,     0.41341,     0.41441,     0.41542,     0.41642,     0.41742,     0.41842,     0.41942,     0.42042,     0.42142,     0.42242,     0.42342,     0.42442,     0.42543,     0.42643,     0.42743,     0.42843,     0.42943,     0.43043,     0.43143,\n",
       "           0.43243,     0.43343,     0.43443,     0.43544,     0.43644,     0.43744,     0.43844,     0.43944,     0.44044,     0.44144,     0.44244,     0.44344,     0.44444,     0.44545,     0.44645,     0.44745,     0.44845,     0.44945,     0.45045,     0.45145,     0.45245,     0.45345,     0.45445,     0.45546,\n",
       "           0.45646,     0.45746,     0.45846,     0.45946,     0.46046,     0.46146,     0.46246,     0.46346,     0.46446,     0.46547,     0.46647,     0.46747,     0.46847,     0.46947,     0.47047,     0.47147,     0.47247,     0.47347,     0.47447,     0.47548,     0.47648,     0.47748,     0.47848,     0.47948,\n",
       "           0.48048,     0.48148,     0.48248,     0.48348,     0.48448,     0.48549,     0.48649,     0.48749,     0.48849,     0.48949,     0.49049,     0.49149,     0.49249,     0.49349,     0.49449,      0.4955,      0.4965,      0.4975,      0.4985,      0.4995,      0.5005,      0.5015,      0.5025,      0.5035,\n",
       "            0.5045,     0.50551,     0.50651,     0.50751,     0.50851,     0.50951,     0.51051,     0.51151,     0.51251,     0.51351,     0.51451,     0.51552,     0.51652,     0.51752,     0.51852,     0.51952,     0.52052,     0.52152,     0.52252,     0.52352,     0.52452,     0.52553,     0.52653,     0.52753,\n",
       "           0.52853,     0.52953,     0.53053,     0.53153,     0.53253,     0.53353,     0.53453,     0.53554,     0.53654,     0.53754,     0.53854,     0.53954,     0.54054,     0.54154,     0.54254,     0.54354,     0.54454,     0.54555,     0.54655,     0.54755,     0.54855,     0.54955,     0.55055,     0.55155,\n",
       "           0.55255,     0.55355,     0.55455,     0.55556,     0.55656,     0.55756,     0.55856,     0.55956,     0.56056,     0.56156,     0.56256,     0.56356,     0.56456,     0.56557,     0.56657,     0.56757,     0.56857,     0.56957,     0.57057,     0.57157,     0.57257,     0.57357,     0.57457,     0.57558,\n",
       "           0.57658,     0.57758,     0.57858,     0.57958,     0.58058,     0.58158,     0.58258,     0.58358,     0.58458,     0.58559,     0.58659,     0.58759,     0.58859,     0.58959,     0.59059,     0.59159,     0.59259,     0.59359,     0.59459,      0.5956,      0.5966,      0.5976,      0.5986,      0.5996,\n",
       "            0.6006,      0.6016,      0.6026,      0.6036,      0.6046,     0.60561,     0.60661,     0.60761,     0.60861,     0.60961,     0.61061,     0.61161,     0.61261,     0.61361,     0.61461,     0.61562,     0.61662,     0.61762,     0.61862,     0.61962,     0.62062,     0.62162,     0.62262,     0.62362,\n",
       "           0.62462,     0.62563,     0.62663,     0.62763,     0.62863,     0.62963,     0.63063,     0.63163,     0.63263,     0.63363,     0.63463,     0.63564,     0.63664,     0.63764,     0.63864,     0.63964,     0.64064,     0.64164,     0.64264,     0.64364,     0.64464,     0.64565,     0.64665,     0.64765,\n",
       "           0.64865,     0.64965,     0.65065,     0.65165,     0.65265,     0.65365,     0.65465,     0.65566,     0.65666,     0.65766,     0.65866,     0.65966,     0.66066,     0.66166,     0.66266,     0.66366,     0.66466,     0.66567,     0.66667,     0.66767,     0.66867,     0.66967,     0.67067,     0.67167,\n",
       "           0.67267,     0.67367,     0.67467,     0.67568,     0.67668,     0.67768,     0.67868,     0.67968,     0.68068,     0.68168,     0.68268,     0.68368,     0.68468,     0.68569,     0.68669,     0.68769,     0.68869,     0.68969,     0.69069,     0.69169,     0.69269,     0.69369,     0.69469,      0.6957,\n",
       "            0.6967,      0.6977,      0.6987,      0.6997,      0.7007,      0.7017,      0.7027,      0.7037,      0.7047,     0.70571,     0.70671,     0.70771,     0.70871,     0.70971,     0.71071,     0.71171,     0.71271,     0.71371,     0.71471,     0.71572,     0.71672,     0.71772,     0.71872,     0.71972,\n",
       "           0.72072,     0.72172,     0.72272,     0.72372,     0.72472,     0.72573,     0.72673,     0.72773,     0.72873,     0.72973,     0.73073,     0.73173,     0.73273,     0.73373,     0.73473,     0.73574,     0.73674,     0.73774,     0.73874,     0.73974,     0.74074,     0.74174,     0.74274,     0.74374,\n",
       "           0.74474,     0.74575,     0.74675,     0.74775,     0.74875,     0.74975,     0.75075,     0.75175,     0.75275,     0.75375,     0.75475,     0.75576,     0.75676,     0.75776,     0.75876,     0.75976,     0.76076,     0.76176,     0.76276,     0.76376,     0.76476,     0.76577,     0.76677,     0.76777,\n",
       "           0.76877,     0.76977,     0.77077,     0.77177,     0.77277,     0.77377,     0.77477,     0.77578,     0.77678,     0.77778,     0.77878,     0.77978,     0.78078,     0.78178,     0.78278,     0.78378,     0.78478,     0.78579,     0.78679,     0.78779,     0.78879,     0.78979,     0.79079,     0.79179,\n",
       "           0.79279,     0.79379,     0.79479,      0.7958,      0.7968,      0.7978,      0.7988,      0.7998,      0.8008,      0.8018,      0.8028,      0.8038,      0.8048,     0.80581,     0.80681,     0.80781,     0.80881,     0.80981,     0.81081,     0.81181,     0.81281,     0.81381,     0.81481,     0.81582,\n",
       "           0.81682,     0.81782,     0.81882,     0.81982,     0.82082,     0.82182,     0.82282,     0.82382,     0.82482,     0.82583,     0.82683,     0.82783,     0.82883,     0.82983,     0.83083,     0.83183,     0.83283,     0.83383,     0.83483,     0.83584,     0.83684,     0.83784,     0.83884,     0.83984,\n",
       "           0.84084,     0.84184,     0.84284,     0.84384,     0.84484,     0.84585,     0.84685,     0.84785,     0.84885,     0.84985,     0.85085,     0.85185,     0.85285,     0.85385,     0.85485,     0.85586,     0.85686,     0.85786,     0.85886,     0.85986,     0.86086,     0.86186,     0.86286,     0.86386,\n",
       "           0.86486,     0.86587,     0.86687,     0.86787,     0.86887,     0.86987,     0.87087,     0.87187,     0.87287,     0.87387,     0.87487,     0.87588,     0.87688,     0.87788,     0.87888,     0.87988,     0.88088,     0.88188,     0.88288,     0.88388,     0.88488,     0.88589,     0.88689,     0.88789,\n",
       "           0.88889,     0.88989,     0.89089,     0.89189,     0.89289,     0.89389,     0.89489,      0.8959,      0.8969,      0.8979,      0.8989,      0.8999,      0.9009,      0.9019,      0.9029,      0.9039,      0.9049,     0.90591,     0.90691,     0.90791,     0.90891,     0.90991,     0.91091,     0.91191,\n",
       "           0.91291,     0.91391,     0.91491,     0.91592,     0.91692,     0.91792,     0.91892,     0.91992,     0.92092,     0.92192,     0.92292,     0.92392,     0.92492,     0.92593,     0.92693,     0.92793,     0.92893,     0.92993,     0.93093,     0.93193,     0.93293,     0.93393,     0.93493,     0.93594,\n",
       "           0.93694,     0.93794,     0.93894,     0.93994,     0.94094,     0.94194,     0.94294,     0.94394,     0.94494,     0.94595,     0.94695,     0.94795,     0.94895,     0.94995,     0.95095,     0.95195,     0.95295,     0.95395,     0.95495,     0.95596,     0.95696,     0.95796,     0.95896,     0.95996,\n",
       "           0.96096,     0.96196,     0.96296,     0.96396,     0.96496,     0.96597,     0.96697,     0.96797,     0.96897,     0.96997,     0.97097,     0.97197,     0.97297,     0.97397,     0.97497,     0.97598,     0.97698,     0.97798,     0.97898,     0.97998,     0.98098,     0.98198,     0.98298,     0.98398,\n",
       "           0.98498,     0.98599,     0.98699,     0.98799,     0.98899,     0.98999,     0.99099,     0.99199,     0.99299,     0.99399,     0.99499,       0.996,       0.997,       0.998,       0.999,           1]), array([[   0.018838,    0.018838,    0.041299,    0.065585,    0.086346,     0.10061,     0.11302,      0.1218,     0.12768,     0.13215,     0.13465,      0.1386,      0.1406,     0.14336,     0.14535,     0.14726,     0.14831,     0.15029,     0.15144,     0.15288,     0.15417,     0.15397,     0.15437,\n",
       "            0.15515,     0.15623,      0.1571,     0.15684,     0.15671,     0.15757,     0.15849,     0.15887,     0.15955,     0.15924,     0.16013,     0.16058,     0.16109,      0.1615,     0.16194,     0.16218,     0.16253,     0.16292,     0.16225,     0.16175,     0.16227,     0.16276,     0.16333,\n",
       "            0.16374,       0.164,     0.16461,     0.16523,     0.16571,     0.16488,     0.16497,     0.16413,     0.16481,     0.16494,     0.16498,     0.16505,     0.16524,      0.1654,     0.16569,     0.16611,     0.16645,     0.16611,     0.16621,     0.16631,     0.16667,     0.16675,     0.16682,\n",
       "            0.16696,     0.16707,     0.16677,     0.16631,     0.16667,     0.16681,     0.16703,     0.16713,     0.16718,     0.16727,     0.16735,     0.16748,     0.16685,     0.16703,      0.1672,     0.16734,     0.16767,     0.16781,     0.16787,     0.16792,     0.16818,      0.1685,     0.16856,\n",
       "            0.16887,     0.16907,     0.16921,     0.16941,     0.16854,     0.16871,     0.16875,     0.16815,     0.16782,     0.16788,     0.16793,     0.16806,      0.1681,     0.16814,     0.16821,      0.1683,     0.16845,     0.16864,      0.1688,     0.16865,     0.16813,       0.168,     0.16805,\n",
       "            0.16838,     0.16845,     0.16847,     0.16849,     0.16852,      0.1686,     0.16894,     0.16903,     0.16907,     0.16924,     0.16938,     0.16941,     0.16943,     0.16946,     0.16951,     0.16956,     0.16864,     0.16862,     0.16845,     0.16785,     0.16696,      0.1671,     0.16621,\n",
       "             0.1663,     0.16633,     0.16636,     0.16638,     0.16554,      0.1656,     0.16581,     0.16592,     0.16596,       0.166,     0.16607,     0.16614,     0.16623,     0.16634,     0.16642,     0.16649,     0.16665,     0.16693,     0.16594,     0.16514,     0.16521,     0.16528,     0.16534,\n",
       "            0.16538,     0.16539,     0.16482,     0.16437,     0.16439,      0.1644,     0.16442,     0.16443,     0.16445,     0.16446,     0.16387,     0.16372,     0.16311,     0.16295,     0.16307,     0.16322,     0.16328,     0.16332,     0.16335,     0.16338,     0.16341,     0.16345,     0.16351,\n",
       "             0.1636,     0.16365,     0.16329,     0.16231,     0.16172,     0.16164,     0.16166,     0.16167,     0.16169,      0.1617,     0.16172,     0.16174,     0.16177,     0.16179,     0.16182,     0.16185,     0.16189,     0.16194,     0.16203,     0.16209,     0.16212,     0.16214,     0.16216,\n",
       "            0.16219,     0.16197,     0.16151,     0.16103,     0.16054,     0.16016,     0.16025,     0.16029,     0.16032,     0.16022,      0.1601,     0.15998,     0.15986,     0.15974,     0.15963,     0.15951,     0.15939,     0.15927,     0.15927,     0.15929,     0.15931,     0.15932,     0.15934,\n",
       "            0.15944,     0.15947,      0.1595,     0.15956,     0.15964,     0.15967,     0.15971,     0.15974,     0.15977,     0.15981,     0.15912,      0.1588,     0.15878,     0.15845,     0.15812,     0.15785,     0.15794,     0.15797,     0.15801,     0.15695,     0.15698,     0.15701,     0.15706,\n",
       "            0.15712,     0.15719,     0.15698,     0.15661,     0.15624,     0.15613,     0.15614,     0.15615,     0.15617,     0.15618,     0.15619,      0.1562,     0.15621,     0.15622,     0.15623,     0.15624,     0.15625,     0.15625,     0.15626,     0.15627,     0.15628,     0.15629,     0.15629,\n",
       "             0.1563,     0.15631,     0.15632,     0.15633,     0.15634,     0.15635,     0.15636,     0.15637,     0.15638,     0.15639,     0.15641,     0.15646,     0.15651,     0.15655,     0.15657,     0.15551,     0.15557,     0.15522,     0.15477,     0.15425,      0.1536,     0.15309,     0.15264,\n",
       "            0.15232,     0.15243,     0.15169,     0.15139,     0.15141,     0.15143,     0.15145,     0.15074,     0.15044,      0.1502,     0.14993,     0.14967,      0.1494,     0.14917,     0.14896,     0.14874,     0.14852,     0.14831,     0.14825,     0.14828,     0.14831,     0.14839,     0.14828,\n",
       "            0.14817,     0.14806,     0.14795,     0.14785,     0.14774,     0.14763,     0.14752,     0.14741,      0.1462,     0.14625,     0.14514,     0.14505,     0.14496,     0.14487,     0.14478,     0.14469,      0.1446,      0.1445,     0.14441,     0.14432,     0.14423,     0.14414,     0.14404,\n",
       "            0.14386,     0.14367,     0.14349,     0.14331,     0.14312,     0.14294,     0.14284,     0.14273,     0.14263,     0.14253,     0.14242,     0.14232,     0.14221,     0.14211,     0.14201,      0.1419,     0.14151,     0.14064,      0.1404,     0.14015,     0.13991,     0.13967,     0.13961,\n",
       "            0.13964,     0.13967,     0.13903,     0.13865,     0.13868,     0.13871,     0.13883,     0.13887,     0.13891,     0.13894,     0.13897,     0.13857,     0.13815,     0.13769,     0.13711,     0.13653,     0.13595,      0.1355,     0.13526,     0.13501,     0.13477,     0.13453,     0.13428,\n",
       "            0.13404,      0.1338,     0.13355,     0.13334,     0.13337,      0.1334,     0.13342,     0.13342,     0.13343,     0.13344,     0.13344,     0.13345,     0.13346,     0.13346,     0.13347,     0.13348,     0.13348,     0.13349,     0.13341,     0.13302,     0.13263,     0.13237,      0.1324,\n",
       "            0.13243,     0.13232,     0.13213,     0.13193,     0.13174,     0.13155,     0.13135,     0.13122,     0.13112,     0.13101,      0.1309,     0.13079,     0.13068,     0.13057,     0.13047,     0.13036,     0.13025,     0.13019,     0.13025,     0.13026,     0.13027,     0.13028,     0.13029,\n",
       "            0.13031,     0.13032,     0.13033,     0.12946,     0.12904,     0.12885,     0.12865,     0.12846,     0.12826,     0.12807,     0.12806,     0.12807,     0.12808,     0.12809,     0.12811,     0.12812,     0.12812,     0.12798,     0.12785,     0.12771,     0.12758,     0.12745,     0.12731,\n",
       "            0.12718,     0.12704,     0.12634,     0.12567,     0.12538,     0.12508,     0.12479,      0.1247,      0.1247,      0.1247,     0.12471,     0.12471,     0.12472,     0.12472,     0.12472,     0.12473,     0.12473,     0.12474,     0.12474,     0.12474,     0.12475,     0.12475,     0.12476,\n",
       "            0.12476,     0.12476,     0.12477,     0.12475,     0.12465,     0.12454,     0.12443,     0.12433,     0.12422,     0.12411,     0.12401,      0.1239,     0.12379,     0.12368,     0.12312,     0.12241,     0.12226,     0.12211,     0.12197,     0.12182,     0.12167,     0.12152,     0.12138,\n",
       "            0.12107,     0.12068,     0.12028,     0.11932,     0.11902,     0.11903,     0.11904,     0.11905,     0.11906,     0.11907,     0.11907,     0.11908,     0.11909,     0.11871,     0.11832,     0.11793,     0.11783,     0.11773,     0.11764,     0.11754,     0.11744,     0.11734,     0.11724,\n",
       "            0.11714,     0.11704,     0.11694,     0.11685,     0.11557,      0.1154,     0.11523,     0.11506,     0.11489,     0.11472,     0.11455,     0.11416,     0.11357,     0.11319,     0.11299,     0.11279,      0.1126,      0.1124,      0.1122,     0.11215,     0.11218,      0.1122,     0.11215,\n",
       "            0.11208,     0.11201,     0.11193,     0.11186,     0.11179,     0.11172,     0.11165,     0.11157,      0.1115,     0.11143,     0.11136,     0.11128,     0.11121,     0.11114,     0.11107,     0.11024,     0.10946,     0.10886,     0.10858,     0.10841,     0.10824,     0.10807,      0.1079,\n",
       "            0.10773,     0.10755,     0.10727,     0.10697,     0.10667,     0.10637,      0.1064,      0.1056,     0.10457,     0.10373,     0.10313,     0.10252,     0.10192,     0.10132,     0.10071,     0.10057,      0.1006,     0.10062,     0.10062,     0.10063,     0.10063,     0.10064,     0.10064,\n",
       "            0.10065,     0.10065,     0.10065,     0.10066,     0.10066,     0.10067,     0.10067,     0.10068,     0.10068,     0.10069,      0.1007,     0.10071,     0.10072,     0.10074,     0.10062,     0.10022,    0.099815,     0.09938,    0.098895,    0.098409,    0.096051,    0.094834,    0.094707,\n",
       "           0.094591,    0.094475,    0.094359,    0.094243,    0.094127,    0.094011,    0.093895,    0.093778,    0.093662,    0.093373,    0.093024,    0.092675,    0.092399,    0.092271,    0.092142,    0.092014,    0.091885,    0.091756,    0.091628,    0.091499,     0.09137,    0.091239,    0.091064,\n",
       "           0.090889,    0.090715,     0.09054,    0.090365,     0.09019,    0.088797,    0.088524,    0.088252,    0.087979,    0.087707,    0.086626,    0.085397,    0.085316,    0.084566,    0.084079,    0.083994,    0.083909,    0.083824,    0.083739,    0.083654,    0.083569,    0.083484,    0.083399,\n",
       "           0.083314,    0.083229,    0.083144,    0.083058,    0.082973,    0.082867,    0.082713,    0.082558,    0.082404,    0.082249,    0.082095,    0.081941,    0.081786,    0.081751,    0.081132,    0.080555,    0.080566,    0.080578,    0.080589,    0.080601,    0.080446,    0.080136,    0.079826,\n",
       "           0.079516,    0.079285,    0.079078,    0.078871,    0.078664,    0.078457,     0.07825,    0.077776,    0.077279,    0.076849,    0.076494,    0.076138,    0.074579,    0.074423,    0.074267,    0.074111,    0.073955,    0.073799,    0.073643,    0.073487,    0.073208,    0.072583,    0.070977,\n",
       "           0.070982,    0.070986,    0.070991,    0.070995,    0.070999,    0.071004,    0.071008,    0.071013,    0.071017,    0.071016,     0.07094,    0.070864,    0.070788,    0.070712,    0.070636,     0.07056,    0.070484,    0.070408,    0.070332,    0.070256,     0.07018,    0.070104,    0.070028,\n",
       "           0.069951,    0.069875,    0.069799,     0.06845,    0.068199,    0.067947,    0.067696,    0.067444,    0.067192,    0.066941,    0.066689,    0.066437,    0.066185,    0.065811,    0.065391,     0.06497,    0.063877,    0.063134,    0.062501,    0.062175,    0.061894,    0.061613,    0.061331,\n",
       "           0.061146,    0.061064,    0.060983,    0.060901,    0.060819,    0.060737,    0.060656,    0.060574,    0.060492,     0.06041,    0.060329,    0.060247,    0.060165,    0.060083,    0.060001,    0.059766,    0.059259,    0.058751,    0.058565,    0.058406,    0.058247,    0.058088,    0.057929,\n",
       "           0.057771,    0.057612,    0.057397,    0.056761,     0.05609,     0.05524,    0.054092,    0.052815,    0.052499,    0.052502,    0.052504,    0.052507,     0.05251,    0.052512,    0.052515,    0.052518,     0.05252,    0.052523,    0.052525,    0.052528,    0.049857,    0.048532,    0.048104,\n",
       "           0.047676,    0.046255,    0.046152,    0.046049,    0.045946,    0.045843,     0.04574,    0.045637,    0.045534,    0.045431,    0.045328,    0.045225,    0.045122,    0.045019,    0.043764,     0.04333,    0.042899,    0.042473,    0.042104,    0.041734,    0.041365,    0.040955,    0.040523,\n",
       "           0.040092,    0.039346,    0.038024,    0.037155,    0.036784,    0.036413,    0.035862,    0.034994,    0.033736,    0.032833,     0.03231,    0.032197,    0.032083,     0.03197,    0.031856,    0.031743,    0.031629,    0.031515,    0.031402,    0.031288,    0.031174,    0.030962,    0.030439,\n",
       "           0.029916,    0.028763,    0.028225,    0.027851,    0.027476,    0.027135,    0.026843,    0.026552,     0.02626,    0.025971,    0.025846,    0.025721,    0.025596,    0.025471,    0.025346,     0.02522,    0.025095,     0.02497,    0.024845,    0.024719,    0.024487,    0.024224,     0.02396,\n",
       "           0.023697,    0.023434,    0.023144,    0.022851,    0.022558,    0.022265,    0.021953,    0.021623,    0.021293,    0.020963,    0.020604,    0.020227,    0.019849,    0.019374,    0.018492,    0.015993,    0.014311,    0.014089,    0.013868,    0.013646,    0.013424,    0.013202,    0.012999,\n",
       "           0.012821,    0.012644,    0.012466,    0.012288,    0.012111,    0.011933,    0.011741,    0.011407,    0.011074,     0.01074,    0.010437,    0.010259,    0.010081,   0.0099029,   0.0097248,   0.0095467,   0.0093686,   0.0091904,   0.0090306,   0.0088733,    0.008716,   0.0085587,   0.0084014,\n",
       "           0.008244,   0.0080867,   0.0079293,   0.0074732,   0.0068037,   0.0057098,   0.0051789,   0.0050715,   0.0049642,   0.0048568,   0.0047494,    0.004642,   0.0045346,   0.0044272,   0.0043198,   0.0042123,   0.0041049,   0.0039974,   0.0038155,   0.0035467,   0.0032779,    0.003009,     0.00274,\n",
       "          0.0025916,    0.002529,   0.0024664,   0.0024039,   0.0023413,   0.0022787,   0.0022161,   0.0021535,   0.0020909,   0.0020283,   0.0019657,   0.0019031,   0.0018405,   0.0017779,   0.0017152,   0.0016526,     0.00159,   0.0015274,   0.0014647,   0.0014021,   0.0013394,           0,           0,\n",
       "                  0,           0,           0,           0,           0,           0,           0,           0,           0,           0,           0,           0,           0,           0,           0,           0,           0,           0,           0,           0,           0,           0,           0,\n",
       "                  0,           0,           0,           0,           0,           0,           0,           0,           0,           0,           0]]), 'Confidence', 'F1'], [array([          0,    0.001001,    0.002002,    0.003003,    0.004004,    0.005005,    0.006006,    0.007007,    0.008008,    0.009009,     0.01001,    0.011011,    0.012012,    0.013013,    0.014014,    0.015015,    0.016016,    0.017017,    0.018018,    0.019019,     0.02002,    0.021021,    0.022022,    0.023023,\n",
       "          0.024024,    0.025025,    0.026026,    0.027027,    0.028028,    0.029029,     0.03003,    0.031031,    0.032032,    0.033033,    0.034034,    0.035035,    0.036036,    0.037037,    0.038038,    0.039039,     0.04004,    0.041041,    0.042042,    0.043043,    0.044044,    0.045045,    0.046046,    0.047047,\n",
       "          0.048048,    0.049049,     0.05005,    0.051051,    0.052052,    0.053053,    0.054054,    0.055055,    0.056056,    0.057057,    0.058058,    0.059059,     0.06006,    0.061061,    0.062062,    0.063063,    0.064064,    0.065065,    0.066066,    0.067067,    0.068068,    0.069069,     0.07007,    0.071071,\n",
       "          0.072072,    0.073073,    0.074074,    0.075075,    0.076076,    0.077077,    0.078078,    0.079079,     0.08008,    0.081081,    0.082082,    0.083083,    0.084084,    0.085085,    0.086086,    0.087087,    0.088088,    0.089089,     0.09009,    0.091091,    0.092092,    0.093093,    0.094094,    0.095095,\n",
       "          0.096096,    0.097097,    0.098098,    0.099099,      0.1001,      0.1011,      0.1021,      0.1031,      0.1041,     0.10511,     0.10611,     0.10711,     0.10811,     0.10911,     0.11011,     0.11111,     0.11211,     0.11311,     0.11411,     0.11512,     0.11612,     0.11712,     0.11812,     0.11912,\n",
       "           0.12012,     0.12112,     0.12212,     0.12312,     0.12412,     0.12513,     0.12613,     0.12713,     0.12813,     0.12913,     0.13013,     0.13113,     0.13213,     0.13313,     0.13413,     0.13514,     0.13614,     0.13714,     0.13814,     0.13914,     0.14014,     0.14114,     0.14214,     0.14314,\n",
       "           0.14414,     0.14515,     0.14615,     0.14715,     0.14815,     0.14915,     0.15015,     0.15115,     0.15215,     0.15315,     0.15415,     0.15516,     0.15616,     0.15716,     0.15816,     0.15916,     0.16016,     0.16116,     0.16216,     0.16316,     0.16416,     0.16517,     0.16617,     0.16717,\n",
       "           0.16817,     0.16917,     0.17017,     0.17117,     0.17217,     0.17317,     0.17417,     0.17518,     0.17618,     0.17718,     0.17818,     0.17918,     0.18018,     0.18118,     0.18218,     0.18318,     0.18418,     0.18519,     0.18619,     0.18719,     0.18819,     0.18919,     0.19019,     0.19119,\n",
       "           0.19219,     0.19319,     0.19419,      0.1952,      0.1962,      0.1972,      0.1982,      0.1992,      0.2002,      0.2012,      0.2022,      0.2032,      0.2042,     0.20521,     0.20621,     0.20721,     0.20821,     0.20921,     0.21021,     0.21121,     0.21221,     0.21321,     0.21421,     0.21522,\n",
       "           0.21622,     0.21722,     0.21822,     0.21922,     0.22022,     0.22122,     0.22222,     0.22322,     0.22422,     0.22523,     0.22623,     0.22723,     0.22823,     0.22923,     0.23023,     0.23123,     0.23223,     0.23323,     0.23423,     0.23524,     0.23624,     0.23724,     0.23824,     0.23924,\n",
       "           0.24024,     0.24124,     0.24224,     0.24324,     0.24424,     0.24525,     0.24625,     0.24725,     0.24825,     0.24925,     0.25025,     0.25125,     0.25225,     0.25325,     0.25425,     0.25526,     0.25626,     0.25726,     0.25826,     0.25926,     0.26026,     0.26126,     0.26226,     0.26326,\n",
       "           0.26426,     0.26527,     0.26627,     0.26727,     0.26827,     0.26927,     0.27027,     0.27127,     0.27227,     0.27327,     0.27427,     0.27528,     0.27628,     0.27728,     0.27828,     0.27928,     0.28028,     0.28128,     0.28228,     0.28328,     0.28428,     0.28529,     0.28629,     0.28729,\n",
       "           0.28829,     0.28929,     0.29029,     0.29129,     0.29229,     0.29329,     0.29429,      0.2953,      0.2963,      0.2973,      0.2983,      0.2993,      0.3003,      0.3013,      0.3023,      0.3033,      0.3043,     0.30531,     0.30631,     0.30731,     0.30831,     0.30931,     0.31031,     0.31131,\n",
       "           0.31231,     0.31331,     0.31431,     0.31532,     0.31632,     0.31732,     0.31832,     0.31932,     0.32032,     0.32132,     0.32232,     0.32332,     0.32432,     0.32533,     0.32633,     0.32733,     0.32833,     0.32933,     0.33033,     0.33133,     0.33233,     0.33333,     0.33433,     0.33534,\n",
       "           0.33634,     0.33734,     0.33834,     0.33934,     0.34034,     0.34134,     0.34234,     0.34334,     0.34434,     0.34535,     0.34635,     0.34735,     0.34835,     0.34935,     0.35035,     0.35135,     0.35235,     0.35335,     0.35435,     0.35536,     0.35636,     0.35736,     0.35836,     0.35936,\n",
       "           0.36036,     0.36136,     0.36236,     0.36336,     0.36436,     0.36537,     0.36637,     0.36737,     0.36837,     0.36937,     0.37037,     0.37137,     0.37237,     0.37337,     0.37437,     0.37538,     0.37638,     0.37738,     0.37838,     0.37938,     0.38038,     0.38138,     0.38238,     0.38338,\n",
       "           0.38438,     0.38539,     0.38639,     0.38739,     0.38839,     0.38939,     0.39039,     0.39139,     0.39239,     0.39339,     0.39439,      0.3954,      0.3964,      0.3974,      0.3984,      0.3994,      0.4004,      0.4014,      0.4024,      0.4034,      0.4044,     0.40541,     0.40641,     0.40741,\n",
       "           0.40841,     0.40941,     0.41041,     0.41141,     0.41241,     0.41341,     0.41441,     0.41542,     0.41642,     0.41742,     0.41842,     0.41942,     0.42042,     0.42142,     0.42242,     0.42342,     0.42442,     0.42543,     0.42643,     0.42743,     0.42843,     0.42943,     0.43043,     0.43143,\n",
       "           0.43243,     0.43343,     0.43443,     0.43544,     0.43644,     0.43744,     0.43844,     0.43944,     0.44044,     0.44144,     0.44244,     0.44344,     0.44444,     0.44545,     0.44645,     0.44745,     0.44845,     0.44945,     0.45045,     0.45145,     0.45245,     0.45345,     0.45445,     0.45546,\n",
       "           0.45646,     0.45746,     0.45846,     0.45946,     0.46046,     0.46146,     0.46246,     0.46346,     0.46446,     0.46547,     0.46647,     0.46747,     0.46847,     0.46947,     0.47047,     0.47147,     0.47247,     0.47347,     0.47447,     0.47548,     0.47648,     0.47748,     0.47848,     0.47948,\n",
       "           0.48048,     0.48148,     0.48248,     0.48348,     0.48448,     0.48549,     0.48649,     0.48749,     0.48849,     0.48949,     0.49049,     0.49149,     0.49249,     0.49349,     0.49449,      0.4955,      0.4965,      0.4975,      0.4985,      0.4995,      0.5005,      0.5015,      0.5025,      0.5035,\n",
       "            0.5045,     0.50551,     0.50651,     0.50751,     0.50851,     0.50951,     0.51051,     0.51151,     0.51251,     0.51351,     0.51451,     0.51552,     0.51652,     0.51752,     0.51852,     0.51952,     0.52052,     0.52152,     0.52252,     0.52352,     0.52452,     0.52553,     0.52653,     0.52753,\n",
       "           0.52853,     0.52953,     0.53053,     0.53153,     0.53253,     0.53353,     0.53453,     0.53554,     0.53654,     0.53754,     0.53854,     0.53954,     0.54054,     0.54154,     0.54254,     0.54354,     0.54454,     0.54555,     0.54655,     0.54755,     0.54855,     0.54955,     0.55055,     0.55155,\n",
       "           0.55255,     0.55355,     0.55455,     0.55556,     0.55656,     0.55756,     0.55856,     0.55956,     0.56056,     0.56156,     0.56256,     0.56356,     0.56456,     0.56557,     0.56657,     0.56757,     0.56857,     0.56957,     0.57057,     0.57157,     0.57257,     0.57357,     0.57457,     0.57558,\n",
       "           0.57658,     0.57758,     0.57858,     0.57958,     0.58058,     0.58158,     0.58258,     0.58358,     0.58458,     0.58559,     0.58659,     0.58759,     0.58859,     0.58959,     0.59059,     0.59159,     0.59259,     0.59359,     0.59459,      0.5956,      0.5966,      0.5976,      0.5986,      0.5996,\n",
       "            0.6006,      0.6016,      0.6026,      0.6036,      0.6046,     0.60561,     0.60661,     0.60761,     0.60861,     0.60961,     0.61061,     0.61161,     0.61261,     0.61361,     0.61461,     0.61562,     0.61662,     0.61762,     0.61862,     0.61962,     0.62062,     0.62162,     0.62262,     0.62362,\n",
       "           0.62462,     0.62563,     0.62663,     0.62763,     0.62863,     0.62963,     0.63063,     0.63163,     0.63263,     0.63363,     0.63463,     0.63564,     0.63664,     0.63764,     0.63864,     0.63964,     0.64064,     0.64164,     0.64264,     0.64364,     0.64464,     0.64565,     0.64665,     0.64765,\n",
       "           0.64865,     0.64965,     0.65065,     0.65165,     0.65265,     0.65365,     0.65465,     0.65566,     0.65666,     0.65766,     0.65866,     0.65966,     0.66066,     0.66166,     0.66266,     0.66366,     0.66466,     0.66567,     0.66667,     0.66767,     0.66867,     0.66967,     0.67067,     0.67167,\n",
       "           0.67267,     0.67367,     0.67467,     0.67568,     0.67668,     0.67768,     0.67868,     0.67968,     0.68068,     0.68168,     0.68268,     0.68368,     0.68468,     0.68569,     0.68669,     0.68769,     0.68869,     0.68969,     0.69069,     0.69169,     0.69269,     0.69369,     0.69469,      0.6957,\n",
       "            0.6967,      0.6977,      0.6987,      0.6997,      0.7007,      0.7017,      0.7027,      0.7037,      0.7047,     0.70571,     0.70671,     0.70771,     0.70871,     0.70971,     0.71071,     0.71171,     0.71271,     0.71371,     0.71471,     0.71572,     0.71672,     0.71772,     0.71872,     0.71972,\n",
       "           0.72072,     0.72172,     0.72272,     0.72372,     0.72472,     0.72573,     0.72673,     0.72773,     0.72873,     0.72973,     0.73073,     0.73173,     0.73273,     0.73373,     0.73473,     0.73574,     0.73674,     0.73774,     0.73874,     0.73974,     0.74074,     0.74174,     0.74274,     0.74374,\n",
       "           0.74474,     0.74575,     0.74675,     0.74775,     0.74875,     0.74975,     0.75075,     0.75175,     0.75275,     0.75375,     0.75475,     0.75576,     0.75676,     0.75776,     0.75876,     0.75976,     0.76076,     0.76176,     0.76276,     0.76376,     0.76476,     0.76577,     0.76677,     0.76777,\n",
       "           0.76877,     0.76977,     0.77077,     0.77177,     0.77277,     0.77377,     0.77477,     0.77578,     0.77678,     0.77778,     0.77878,     0.77978,     0.78078,     0.78178,     0.78278,     0.78378,     0.78478,     0.78579,     0.78679,     0.78779,     0.78879,     0.78979,     0.79079,     0.79179,\n",
       "           0.79279,     0.79379,     0.79479,      0.7958,      0.7968,      0.7978,      0.7988,      0.7998,      0.8008,      0.8018,      0.8028,      0.8038,      0.8048,     0.80581,     0.80681,     0.80781,     0.80881,     0.80981,     0.81081,     0.81181,     0.81281,     0.81381,     0.81481,     0.81582,\n",
       "           0.81682,     0.81782,     0.81882,     0.81982,     0.82082,     0.82182,     0.82282,     0.82382,     0.82482,     0.82583,     0.82683,     0.82783,     0.82883,     0.82983,     0.83083,     0.83183,     0.83283,     0.83383,     0.83483,     0.83584,     0.83684,     0.83784,     0.83884,     0.83984,\n",
       "           0.84084,     0.84184,     0.84284,     0.84384,     0.84484,     0.84585,     0.84685,     0.84785,     0.84885,     0.84985,     0.85085,     0.85185,     0.85285,     0.85385,     0.85485,     0.85586,     0.85686,     0.85786,     0.85886,     0.85986,     0.86086,     0.86186,     0.86286,     0.86386,\n",
       "           0.86486,     0.86587,     0.86687,     0.86787,     0.86887,     0.86987,     0.87087,     0.87187,     0.87287,     0.87387,     0.87487,     0.87588,     0.87688,     0.87788,     0.87888,     0.87988,     0.88088,     0.88188,     0.88288,     0.88388,     0.88488,     0.88589,     0.88689,     0.88789,\n",
       "           0.88889,     0.88989,     0.89089,     0.89189,     0.89289,     0.89389,     0.89489,      0.8959,      0.8969,      0.8979,      0.8989,      0.8999,      0.9009,      0.9019,      0.9029,      0.9039,      0.9049,     0.90591,     0.90691,     0.90791,     0.90891,     0.90991,     0.91091,     0.91191,\n",
       "           0.91291,     0.91391,     0.91491,     0.91592,     0.91692,     0.91792,     0.91892,     0.91992,     0.92092,     0.92192,     0.92292,     0.92392,     0.92492,     0.92593,     0.92693,     0.92793,     0.92893,     0.92993,     0.93093,     0.93193,     0.93293,     0.93393,     0.93493,     0.93594,\n",
       "           0.93694,     0.93794,     0.93894,     0.93994,     0.94094,     0.94194,     0.94294,     0.94394,     0.94494,     0.94595,     0.94695,     0.94795,     0.94895,     0.94995,     0.95095,     0.95195,     0.95295,     0.95395,     0.95495,     0.95596,     0.95696,     0.95796,     0.95896,     0.95996,\n",
       "           0.96096,     0.96196,     0.96296,     0.96396,     0.96496,     0.96597,     0.96697,     0.96797,     0.96897,     0.96997,     0.97097,     0.97197,     0.97297,     0.97397,     0.97497,     0.97598,     0.97698,     0.97798,     0.97898,     0.97998,     0.98098,     0.98198,     0.98298,     0.98398,\n",
       "           0.98498,     0.98599,     0.98699,     0.98799,     0.98899,     0.98999,     0.99099,     0.99199,     0.99299,     0.99399,     0.99499,       0.996,       0.997,       0.998,       0.999,           1]), array([[   0.010174,    0.010174,    0.024925,     0.04535,    0.068162,    0.088943,     0.11098,     0.13013,      0.1454,     0.15752,     0.16765,     0.18048,     0.19119,     0.20174,     0.20982,     0.22057,     0.22813,     0.23774,      0.2436,     0.25126,     0.25939,     0.26473,      0.2712,\n",
       "            0.27607,       0.283,     0.28882,     0.29183,     0.29585,     0.30212,     0.30901,      0.3119,     0.31718,     0.32066,     0.32795,     0.33181,     0.33622,     0.33978,     0.34374,     0.34586,     0.34912,     0.35277,     0.35382,     0.35655,     0.36161,     0.36653,     0.37243,\n",
       "            0.37664,     0.37943,     0.38606,     0.39294,     0.39851,     0.39804,     0.39951,     0.39937,     0.40753,     0.40918,     0.40962,     0.41053,     0.41283,     0.41483,     0.41859,       0.424,     0.42839,     0.43544,     0.43681,     0.43812,     0.44328,     0.44443,      0.4453,\n",
       "            0.44734,     0.44893,     0.45016,     0.45054,     0.45593,     0.45803,     0.46141,     0.46286,      0.4637,     0.46499,     0.46637,      0.4683,     0.47247,     0.47528,      0.4781,     0.48043,     0.48582,     0.48829,     0.48928,     0.49011,     0.49451,     0.50021,     0.50132,\n",
       "            0.50671,     0.51035,      0.5129,     0.51663,      0.5176,     0.52077,     0.52162,     0.52116,     0.52145,     0.52258,     0.52371,     0.52627,     0.52698,     0.52769,     0.52904,     0.53083,     0.53394,     0.53767,     0.54095,     0.54427,     0.54343,     0.54393,     0.54503,\n",
       "            0.55203,      0.5534,      0.5539,      0.5544,     0.55489,      0.5568,      0.5642,     0.56632,     0.56724,     0.57092,     0.57415,     0.57479,     0.57543,     0.57607,      0.5771,     0.57839,     0.57708,     0.57876,     0.58095,     0.58342,     0.58538,     0.58881,     0.59062,\n",
       "            0.59311,     0.59377,     0.59442,     0.59508,     0.59861,     0.60005,     0.60559,     0.60859,     0.60964,     0.61068,     0.61258,      0.6147,     0.61702,     0.62006,     0.62239,     0.62435,     0.62878,     0.64017,     0.63867,     0.64297,     0.64512,     0.64728,     0.64912,\n",
       "            0.65038,     0.65154,     0.65067,      0.6501,     0.65057,     0.65104,     0.65151,     0.65198,     0.65244,     0.65291,     0.65494,     0.66154,     0.66552,     0.66965,     0.67361,     0.67877,     0.68101,     0.68213,     0.68317,     0.68422,     0.68546,     0.68676,     0.68891,\n",
       "            0.69215,     0.69379,     0.69735,     0.69597,     0.69514,     0.69549,     0.69607,     0.69666,     0.69724,     0.69783,     0.69841,     0.69929,     0.70023,     0.70116,     0.70212,     0.70339,     0.70466,     0.70674,     0.71015,     0.71244,     0.71356,     0.71445,     0.71533,\n",
       "            0.71622,     0.71977,     0.71915,      0.7185,     0.71783,     0.71819,     0.72171,      0.7232,     0.72469,     0.72472,     0.72456,      0.7244,     0.72424,     0.72408,     0.72391,     0.72375,     0.72359,     0.72343,     0.72409,     0.72488,     0.72567,     0.72646,     0.72726,\n",
       "            0.73119,      0.7326,     0.73401,     0.73623,     0.73981,     0.74125,     0.74269,     0.74414,     0.74559,     0.74705,     0.74636,     0.74879,     0.75401,     0.75359,     0.75317,     0.75355,     0.75767,      0.7592,     0.76074,     0.76085,     0.76228,     0.76371,     0.76601,\n",
       "            0.76903,     0.77208,     0.77298,     0.77252,     0.77207,     0.77234,     0.77294,     0.77354,     0.77415,     0.77475,     0.77535,     0.77595,     0.77652,     0.77692,     0.77732,     0.77772,     0.77813,     0.77853,     0.77893,     0.77933,     0.77973,     0.78013,     0.78053,\n",
       "            0.78093,     0.78139,     0.78188,     0.78237,     0.78286,     0.78335,     0.78383,     0.78432,     0.78481,      0.7853,     0.78614,     0.78889,     0.79129,     0.79324,     0.79517,     0.79485,     0.79816,     0.79837,     0.79786,     0.79727,     0.79654,     0.79595,     0.79543,\n",
       "            0.79657,     0.80255,     0.80416,     0.80477,     0.80601,     0.80724,     0.80847,     0.80811,     0.81244,     0.81263,     0.81234,     0.81204,     0.81175,      0.8115,     0.81126,     0.81102,     0.81078,     0.81054,      0.8115,     0.81306,     0.81462,     0.82116,     0.82105,\n",
       "            0.82093,     0.82081,      0.8207,     0.82058,     0.82046,     0.82035,     0.82023,     0.82012,     0.81882,     0.82206,      0.8231,       0.823,      0.8229,      0.8228,      0.8227,      0.8226,      0.8225,      0.8224,      0.8223,     0.82221,     0.82211,     0.82201,      0.8219,\n",
       "             0.8217,     0.82149,     0.82129,     0.82109,     0.82089,     0.82069,     0.82057,     0.82046,     0.82034,     0.82022,     0.82011,     0.81999,     0.81988,     0.81976,     0.81964,     0.81953,     0.81909,      0.8181,     0.81782,     0.81755,     0.81727,     0.81699,     0.81834,\n",
       "             0.8205,     0.82266,     0.82196,     0.82796,     0.83019,     0.83243,      0.8413,     0.84446,     0.84709,     0.84942,     0.85176,     0.85146,     0.85104,     0.85059,     0.85001,     0.84943,     0.84885,     0.84839,     0.84814,     0.84789,     0.84764,     0.84739,     0.84714,\n",
       "            0.84689,     0.84663,     0.84638,     0.84642,     0.84886,     0.85131,     0.85294,     0.85349,     0.85404,     0.85458,     0.85513,     0.85568,     0.85622,     0.85677,     0.85732,     0.85786,     0.85841,     0.85895,     0.85929,     0.85891,     0.85853,     0.85904,     0.86158,\n",
       "            0.86411,     0.86497,     0.86478,      0.8646,     0.86441,     0.86423,     0.86404,     0.86392,     0.86382,     0.86371,     0.86361,      0.8635,      0.8634,     0.86329,     0.86319,     0.86308,     0.86298,     0.86491,      0.8702,     0.87115,     0.87209,     0.87303,     0.87398,\n",
       "            0.87492,     0.87586,     0.87681,     0.87628,      0.8759,     0.87572,     0.87554,     0.87537,     0.87519,     0.87502,     0.87598,     0.87706,     0.87814,     0.87921,     0.88029,     0.88137,     0.88234,     0.88223,     0.88211,     0.88199,     0.88188,     0.88176,     0.88164,\n",
       "            0.88153,     0.88141,     0.88079,     0.88019,     0.87993,     0.87966,      0.8794,     0.87957,     0.87996,     0.88036,     0.88075,     0.88114,     0.88153,     0.88192,     0.88232,     0.88271,      0.8831,     0.88349,     0.88388,     0.88428,     0.88467,     0.88506,     0.88545,\n",
       "            0.88584,     0.88623,     0.88663,     0.88694,     0.88685,     0.88676,     0.88666,     0.88657,     0.88648,     0.88639,      0.8863,      0.8862,     0.88611,     0.88602,     0.88552,      0.8849,     0.88476,     0.88463,      0.8845,     0.88437,     0.88424,     0.88411,     0.88398,\n",
       "             0.8837,     0.88334,     0.88298,      0.8821,      0.8825,     0.88343,     0.88435,     0.88527,     0.88619,     0.88711,     0.88803,     0.88895,     0.88987,     0.88957,     0.88922,     0.88889,      0.8888,     0.88871,     0.88862,     0.88853,     0.88844,     0.88835,     0.88826,\n",
       "            0.88818,     0.88809,       0.888,     0.88791,     0.88674,     0.88658,     0.88642,     0.88627,     0.88611,     0.88595,     0.88579,     0.88543,     0.88487,     0.88451,     0.88432,     0.88413,     0.88394,     0.88374,     0.88355,     0.88556,     0.88852,     0.89147,     0.89211,\n",
       "            0.89204,     0.89197,     0.89191,     0.89184,     0.89177,     0.89171,     0.89164,     0.89158,     0.89151,     0.89144,     0.89138,     0.89131,     0.89124,     0.89118,     0.89111,     0.89034,      0.8896,     0.88903,     0.88877,      0.8886,     0.88843,     0.88827,      0.8881,\n",
       "            0.88793,     0.88777,     0.88748,     0.88719,     0.88689,     0.88673,      0.8958,     0.89506,     0.89408,     0.89327,     0.89268,     0.89208,     0.89149,     0.89088,     0.89027,     0.89263,     0.89601,     0.89939,     0.90057,     0.90126,     0.90195,     0.90264,     0.90333,\n",
       "            0.90402,     0.90471,      0.9054,     0.90609,     0.90679,     0.90748,     0.90817,     0.90886,     0.90955,     0.91051,     0.91263,     0.91475,     0.91687,     0.91899,     0.92036,     0.92005,     0.91973,     0.91939,     0.91901,     0.91863,      0.9167,     0.91567,     0.91556,\n",
       "            0.91546,     0.91536,     0.91526,     0.91516,     0.91506,     0.91496,     0.91486,     0.91476,     0.91466,      0.9144,     0.91409,     0.91379,     0.91354,     0.91342,     0.91331,     0.91319,     0.91308,     0.91296,     0.91284,     0.91273,     0.91261,     0.91249,     0.91233,\n",
       "            0.91217,       0.912,     0.91184,     0.91168,     0.91152,     0.91019,     0.90993,     0.90966,      0.9094,     0.90913,     0.90805,      0.9068,     0.91789,     0.91822,     0.91777,     0.91769,     0.91761,     0.91753,     0.91745,     0.91737,     0.91729,     0.91721,     0.91713,\n",
       "            0.91705,     0.91696,     0.91688,      0.9168,     0.91672,     0.91662,     0.91647,     0.91632,     0.91617,     0.91602,     0.91587,     0.91572,     0.91557,     0.92856,     0.92803,     0.92774,     0.93085,     0.93395,     0.93706,     0.94017,     0.95511,     0.95493,     0.95476,\n",
       "            0.95458,     0.95445,     0.95433,     0.95421,     0.95409,     0.95398,     0.95386,     0.95357,     0.95328,     0.95302,      0.9528,     0.95258,     0.95161,      0.9515,      0.9514,      0.9513,      0.9512,      0.9511,       0.951,     0.95089,     0.95071,     0.95029,     0.96603,\n",
       "            0.96768,     0.96934,     0.97099,     0.97264,      0.9743,     0.97595,     0.97761,     0.97926,     0.98091,     0.98245,     0.98244,     0.98242,      0.9824,     0.98238,     0.98236,     0.98234,     0.98232,      0.9823,     0.98228,     0.98226,     0.98224,     0.98222,      0.9822,\n",
       "            0.98218,     0.98216,     0.98214,     0.98178,     0.98172,     0.98165,     0.98158,     0.98151,     0.98144,     0.98137,     0.98129,     0.98122,     0.98115,     0.98104,     0.98092,     0.98079,     0.98046,     0.98023,     0.98003,     0.97992,     0.97983,     0.97973,     0.97964,\n",
       "            0.97958,     0.97955,     0.97952,     0.97949,     0.97947,     0.97944,     0.97941,     0.97938,     0.97935,     0.97933,      0.9793,     0.97927,     0.97924,     0.97921,     0.97918,      0.9791,     0.97892,     0.97874,     0.97867,     0.97861,     0.97855,     0.97849,     0.97843,\n",
       "            0.97837,     0.97831,     0.97823,     0.97798,     0.97772,     0.97738,     0.97689,     0.97633,      0.9776,     0.97948,     0.98135,     0.98323,     0.98511,     0.98699,     0.98886,     0.99074,     0.99262,      0.9945,     0.99637,     0.99825,           1,           1,           1,\n",
       "                  1,           1,           1,           1,           1,           1,           1,           1,           1,           1,           1,           1,           1,           1,           1,           1,           1,           1,           1,           1,           1,           1,           1,\n",
       "                  1,           1,           1,           1,           1,           1,           1,           1,           1,           1,           1,           1,           1,           1,           1,           1,           1,           1,           1,           1,           1,           1,           1,\n",
       "                  1,           1,           1,           1,           1,           1,           1,           1,           1,           1,           1,           1,           1,           1,           1,           1,           1,           1,           1,           1,           1,           1,           1,\n",
       "                  1,           1,           1,           1,           1,           1,           1,           1,           1,           1,           1,           1,           1,           1,           1,           1,           1,           1,           1,           1,           1,           1,           1,\n",
       "                  1,           1,           1,           1,           1,           1,           1,           1,           1,           1,           1,           1,           1,           1,           1,           1,           1,           1,           1,           1,           1,           1,           1,\n",
       "                  1,           1,           1,           1,           1,           1,           1,           1,           1,           1,           1,           1,           1,           1,           1,           1,           1,           1,           1,           1,           1,           1,           1,\n",
       "                  1,           1,           1,           1,           1,           1,           1,           1,           1,           1,           1,           1,           1,           1,           1,           1,           1,           1,           1,           1,           1,           1,           1,\n",
       "                  1,           1,           1,           1,           1,           1,           1,           1,           1,           1,           1,           1,           1,           1,           1,           1,           1,           1,           1,           1,           1,           1,           1,\n",
       "                  1,           1,           1,           1,           1,           1,           1,           1,           1,           1,           1]]), 'Confidence', 'Precision'], [array([          0,    0.001001,    0.002002,    0.003003,    0.004004,    0.005005,    0.006006,    0.007007,    0.008008,    0.009009,     0.01001,    0.011011,    0.012012,    0.013013,    0.014014,    0.015015,    0.016016,    0.017017,    0.018018,    0.019019,     0.02002,    0.021021,    0.022022,    0.023023,\n",
       "          0.024024,    0.025025,    0.026026,    0.027027,    0.028028,    0.029029,     0.03003,    0.031031,    0.032032,    0.033033,    0.034034,    0.035035,    0.036036,    0.037037,    0.038038,    0.039039,     0.04004,    0.041041,    0.042042,    0.043043,    0.044044,    0.045045,    0.046046,    0.047047,\n",
       "          0.048048,    0.049049,     0.05005,    0.051051,    0.052052,    0.053053,    0.054054,    0.055055,    0.056056,    0.057057,    0.058058,    0.059059,     0.06006,    0.061061,    0.062062,    0.063063,    0.064064,    0.065065,    0.066066,    0.067067,    0.068068,    0.069069,     0.07007,    0.071071,\n",
       "          0.072072,    0.073073,    0.074074,    0.075075,    0.076076,    0.077077,    0.078078,    0.079079,     0.08008,    0.081081,    0.082082,    0.083083,    0.084084,    0.085085,    0.086086,    0.087087,    0.088088,    0.089089,     0.09009,    0.091091,    0.092092,    0.093093,    0.094094,    0.095095,\n",
       "          0.096096,    0.097097,    0.098098,    0.099099,      0.1001,      0.1011,      0.1021,      0.1031,      0.1041,     0.10511,     0.10611,     0.10711,     0.10811,     0.10911,     0.11011,     0.11111,     0.11211,     0.11311,     0.11411,     0.11512,     0.11612,     0.11712,     0.11812,     0.11912,\n",
       "           0.12012,     0.12112,     0.12212,     0.12312,     0.12412,     0.12513,     0.12613,     0.12713,     0.12813,     0.12913,     0.13013,     0.13113,     0.13213,     0.13313,     0.13413,     0.13514,     0.13614,     0.13714,     0.13814,     0.13914,     0.14014,     0.14114,     0.14214,     0.14314,\n",
       "           0.14414,     0.14515,     0.14615,     0.14715,     0.14815,     0.14915,     0.15015,     0.15115,     0.15215,     0.15315,     0.15415,     0.15516,     0.15616,     0.15716,     0.15816,     0.15916,     0.16016,     0.16116,     0.16216,     0.16316,     0.16416,     0.16517,     0.16617,     0.16717,\n",
       "           0.16817,     0.16917,     0.17017,     0.17117,     0.17217,     0.17317,     0.17417,     0.17518,     0.17618,     0.17718,     0.17818,     0.17918,     0.18018,     0.18118,     0.18218,     0.18318,     0.18418,     0.18519,     0.18619,     0.18719,     0.18819,     0.18919,     0.19019,     0.19119,\n",
       "           0.19219,     0.19319,     0.19419,      0.1952,      0.1962,      0.1972,      0.1982,      0.1992,      0.2002,      0.2012,      0.2022,      0.2032,      0.2042,     0.20521,     0.20621,     0.20721,     0.20821,     0.20921,     0.21021,     0.21121,     0.21221,     0.21321,     0.21421,     0.21522,\n",
       "           0.21622,     0.21722,     0.21822,     0.21922,     0.22022,     0.22122,     0.22222,     0.22322,     0.22422,     0.22523,     0.22623,     0.22723,     0.22823,     0.22923,     0.23023,     0.23123,     0.23223,     0.23323,     0.23423,     0.23524,     0.23624,     0.23724,     0.23824,     0.23924,\n",
       "           0.24024,     0.24124,     0.24224,     0.24324,     0.24424,     0.24525,     0.24625,     0.24725,     0.24825,     0.24925,     0.25025,     0.25125,     0.25225,     0.25325,     0.25425,     0.25526,     0.25626,     0.25726,     0.25826,     0.25926,     0.26026,     0.26126,     0.26226,     0.26326,\n",
       "           0.26426,     0.26527,     0.26627,     0.26727,     0.26827,     0.26927,     0.27027,     0.27127,     0.27227,     0.27327,     0.27427,     0.27528,     0.27628,     0.27728,     0.27828,     0.27928,     0.28028,     0.28128,     0.28228,     0.28328,     0.28428,     0.28529,     0.28629,     0.28729,\n",
       "           0.28829,     0.28929,     0.29029,     0.29129,     0.29229,     0.29329,     0.29429,      0.2953,      0.2963,      0.2973,      0.2983,      0.2993,      0.3003,      0.3013,      0.3023,      0.3033,      0.3043,     0.30531,     0.30631,     0.30731,     0.30831,     0.30931,     0.31031,     0.31131,\n",
       "           0.31231,     0.31331,     0.31431,     0.31532,     0.31632,     0.31732,     0.31832,     0.31932,     0.32032,     0.32132,     0.32232,     0.32332,     0.32432,     0.32533,     0.32633,     0.32733,     0.32833,     0.32933,     0.33033,     0.33133,     0.33233,     0.33333,     0.33433,     0.33534,\n",
       "           0.33634,     0.33734,     0.33834,     0.33934,     0.34034,     0.34134,     0.34234,     0.34334,     0.34434,     0.34535,     0.34635,     0.34735,     0.34835,     0.34935,     0.35035,     0.35135,     0.35235,     0.35335,     0.35435,     0.35536,     0.35636,     0.35736,     0.35836,     0.35936,\n",
       "           0.36036,     0.36136,     0.36236,     0.36336,     0.36436,     0.36537,     0.36637,     0.36737,     0.36837,     0.36937,     0.37037,     0.37137,     0.37237,     0.37337,     0.37437,     0.37538,     0.37638,     0.37738,     0.37838,     0.37938,     0.38038,     0.38138,     0.38238,     0.38338,\n",
       "           0.38438,     0.38539,     0.38639,     0.38739,     0.38839,     0.38939,     0.39039,     0.39139,     0.39239,     0.39339,     0.39439,      0.3954,      0.3964,      0.3974,      0.3984,      0.3994,      0.4004,      0.4014,      0.4024,      0.4034,      0.4044,     0.40541,     0.40641,     0.40741,\n",
       "           0.40841,     0.40941,     0.41041,     0.41141,     0.41241,     0.41341,     0.41441,     0.41542,     0.41642,     0.41742,     0.41842,     0.41942,     0.42042,     0.42142,     0.42242,     0.42342,     0.42442,     0.42543,     0.42643,     0.42743,     0.42843,     0.42943,     0.43043,     0.43143,\n",
       "           0.43243,     0.43343,     0.43443,     0.43544,     0.43644,     0.43744,     0.43844,     0.43944,     0.44044,     0.44144,     0.44244,     0.44344,     0.44444,     0.44545,     0.44645,     0.44745,     0.44845,     0.44945,     0.45045,     0.45145,     0.45245,     0.45345,     0.45445,     0.45546,\n",
       "           0.45646,     0.45746,     0.45846,     0.45946,     0.46046,     0.46146,     0.46246,     0.46346,     0.46446,     0.46547,     0.46647,     0.46747,     0.46847,     0.46947,     0.47047,     0.47147,     0.47247,     0.47347,     0.47447,     0.47548,     0.47648,     0.47748,     0.47848,     0.47948,\n",
       "           0.48048,     0.48148,     0.48248,     0.48348,     0.48448,     0.48549,     0.48649,     0.48749,     0.48849,     0.48949,     0.49049,     0.49149,     0.49249,     0.49349,     0.49449,      0.4955,      0.4965,      0.4975,      0.4985,      0.4995,      0.5005,      0.5015,      0.5025,      0.5035,\n",
       "            0.5045,     0.50551,     0.50651,     0.50751,     0.50851,     0.50951,     0.51051,     0.51151,     0.51251,     0.51351,     0.51451,     0.51552,     0.51652,     0.51752,     0.51852,     0.51952,     0.52052,     0.52152,     0.52252,     0.52352,     0.52452,     0.52553,     0.52653,     0.52753,\n",
       "           0.52853,     0.52953,     0.53053,     0.53153,     0.53253,     0.53353,     0.53453,     0.53554,     0.53654,     0.53754,     0.53854,     0.53954,     0.54054,     0.54154,     0.54254,     0.54354,     0.54454,     0.54555,     0.54655,     0.54755,     0.54855,     0.54955,     0.55055,     0.55155,\n",
       "           0.55255,     0.55355,     0.55455,     0.55556,     0.55656,     0.55756,     0.55856,     0.55956,     0.56056,     0.56156,     0.56256,     0.56356,     0.56456,     0.56557,     0.56657,     0.56757,     0.56857,     0.56957,     0.57057,     0.57157,     0.57257,     0.57357,     0.57457,     0.57558,\n",
       "           0.57658,     0.57758,     0.57858,     0.57958,     0.58058,     0.58158,     0.58258,     0.58358,     0.58458,     0.58559,     0.58659,     0.58759,     0.58859,     0.58959,     0.59059,     0.59159,     0.59259,     0.59359,     0.59459,      0.5956,      0.5966,      0.5976,      0.5986,      0.5996,\n",
       "            0.6006,      0.6016,      0.6026,      0.6036,      0.6046,     0.60561,     0.60661,     0.60761,     0.60861,     0.60961,     0.61061,     0.61161,     0.61261,     0.61361,     0.61461,     0.61562,     0.61662,     0.61762,     0.61862,     0.61962,     0.62062,     0.62162,     0.62262,     0.62362,\n",
       "           0.62462,     0.62563,     0.62663,     0.62763,     0.62863,     0.62963,     0.63063,     0.63163,     0.63263,     0.63363,     0.63463,     0.63564,     0.63664,     0.63764,     0.63864,     0.63964,     0.64064,     0.64164,     0.64264,     0.64364,     0.64464,     0.64565,     0.64665,     0.64765,\n",
       "           0.64865,     0.64965,     0.65065,     0.65165,     0.65265,     0.65365,     0.65465,     0.65566,     0.65666,     0.65766,     0.65866,     0.65966,     0.66066,     0.66166,     0.66266,     0.66366,     0.66466,     0.66567,     0.66667,     0.66767,     0.66867,     0.66967,     0.67067,     0.67167,\n",
       "           0.67267,     0.67367,     0.67467,     0.67568,     0.67668,     0.67768,     0.67868,     0.67968,     0.68068,     0.68168,     0.68268,     0.68368,     0.68468,     0.68569,     0.68669,     0.68769,     0.68869,     0.68969,     0.69069,     0.69169,     0.69269,     0.69369,     0.69469,      0.6957,\n",
       "            0.6967,      0.6977,      0.6987,      0.6997,      0.7007,      0.7017,      0.7027,      0.7037,      0.7047,     0.70571,     0.70671,     0.70771,     0.70871,     0.70971,     0.71071,     0.71171,     0.71271,     0.71371,     0.71471,     0.71572,     0.71672,     0.71772,     0.71872,     0.71972,\n",
       "           0.72072,     0.72172,     0.72272,     0.72372,     0.72472,     0.72573,     0.72673,     0.72773,     0.72873,     0.72973,     0.73073,     0.73173,     0.73273,     0.73373,     0.73473,     0.73574,     0.73674,     0.73774,     0.73874,     0.73974,     0.74074,     0.74174,     0.74274,     0.74374,\n",
       "           0.74474,     0.74575,     0.74675,     0.74775,     0.74875,     0.74975,     0.75075,     0.75175,     0.75275,     0.75375,     0.75475,     0.75576,     0.75676,     0.75776,     0.75876,     0.75976,     0.76076,     0.76176,     0.76276,     0.76376,     0.76476,     0.76577,     0.76677,     0.76777,\n",
       "           0.76877,     0.76977,     0.77077,     0.77177,     0.77277,     0.77377,     0.77477,     0.77578,     0.77678,     0.77778,     0.77878,     0.77978,     0.78078,     0.78178,     0.78278,     0.78378,     0.78478,     0.78579,     0.78679,     0.78779,     0.78879,     0.78979,     0.79079,     0.79179,\n",
       "           0.79279,     0.79379,     0.79479,      0.7958,      0.7968,      0.7978,      0.7988,      0.7998,      0.8008,      0.8018,      0.8028,      0.8038,      0.8048,     0.80581,     0.80681,     0.80781,     0.80881,     0.80981,     0.81081,     0.81181,     0.81281,     0.81381,     0.81481,     0.81582,\n",
       "           0.81682,     0.81782,     0.81882,     0.81982,     0.82082,     0.82182,     0.82282,     0.82382,     0.82482,     0.82583,     0.82683,     0.82783,     0.82883,     0.82983,     0.83083,     0.83183,     0.83283,     0.83383,     0.83483,     0.83584,     0.83684,     0.83784,     0.83884,     0.83984,\n",
       "           0.84084,     0.84184,     0.84284,     0.84384,     0.84484,     0.84585,     0.84685,     0.84785,     0.84885,     0.84985,     0.85085,     0.85185,     0.85285,     0.85385,     0.85485,     0.85586,     0.85686,     0.85786,     0.85886,     0.85986,     0.86086,     0.86186,     0.86286,     0.86386,\n",
       "           0.86486,     0.86587,     0.86687,     0.86787,     0.86887,     0.86987,     0.87087,     0.87187,     0.87287,     0.87387,     0.87487,     0.87588,     0.87688,     0.87788,     0.87888,     0.87988,     0.88088,     0.88188,     0.88288,     0.88388,     0.88488,     0.88589,     0.88689,     0.88789,\n",
       "           0.88889,     0.88989,     0.89089,     0.89189,     0.89289,     0.89389,     0.89489,      0.8959,      0.8969,      0.8979,      0.8989,      0.8999,      0.9009,      0.9019,      0.9029,      0.9039,      0.9049,     0.90591,     0.90691,     0.90791,     0.90891,     0.90991,     0.91091,     0.91191,\n",
       "           0.91291,     0.91391,     0.91491,     0.91592,     0.91692,     0.91792,     0.91892,     0.91992,     0.92092,     0.92192,     0.92292,     0.92392,     0.92492,     0.92593,     0.92693,     0.92793,     0.92893,     0.92993,     0.93093,     0.93193,     0.93293,     0.93393,     0.93493,     0.93594,\n",
       "           0.93694,     0.93794,     0.93894,     0.93994,     0.94094,     0.94194,     0.94294,     0.94394,     0.94494,     0.94595,     0.94695,     0.94795,     0.94895,     0.94995,     0.95095,     0.95195,     0.95295,     0.95395,     0.95495,     0.95596,     0.95696,     0.95796,     0.95896,     0.95996,\n",
       "           0.96096,     0.96196,     0.96296,     0.96396,     0.96496,     0.96597,     0.96697,     0.96797,     0.96897,     0.96997,     0.97097,     0.97197,     0.97297,     0.97397,     0.97497,     0.97598,     0.97698,     0.97798,     0.97898,     0.97998,     0.98098,     0.98198,     0.98298,     0.98398,\n",
       "           0.98498,     0.98599,     0.98699,     0.98799,     0.98899,     0.98999,     0.99099,     0.99199,     0.99299,     0.99399,     0.99499,       0.996,       0.997,       0.998,       0.999,           1]), array([[    0.12697,     0.12697,     0.12039,     0.11842,     0.11776,     0.11579,     0.11513,     0.11447,     0.11382,     0.11382,      0.1125,      0.1125,     0.11118,     0.11118,     0.11118,     0.11053,     0.10987,     0.10987,     0.10987,     0.10987,     0.10968,     0.10855,     0.10789,\n",
       "            0.10789,     0.10789,     0.10789,     0.10724,     0.10658,     0.10658,     0.10658,     0.10658,     0.10658,     0.10592,     0.10592,     0.10592,     0.10592,     0.10592,     0.10592,     0.10592,     0.10592,     0.10592,     0.10526,     0.10461,     0.10461,     0.10461,     0.10461,\n",
       "            0.10461,     0.10461,     0.10461,     0.10461,     0.10461,     0.10397,     0.10395,     0.10329,     0.10329,     0.10329,     0.10329,     0.10329,     0.10329,     0.10329,     0.10329,     0.10329,     0.10329,     0.10263,     0.10263,     0.10263,     0.10263,     0.10263,     0.10263,\n",
       "            0.10263,     0.10263,     0.10234,     0.10197,     0.10197,     0.10197,     0.10197,     0.10197,     0.10197,     0.10197,     0.10197,     0.10197,     0.10132,     0.10132,     0.10132,     0.10132,     0.10132,     0.10132,     0.10132,     0.10132,     0.10132,     0.10132,     0.10132,\n",
       "            0.10132,     0.10132,     0.10132,     0.10132,     0.10066,     0.10066,     0.10066,     0.10025,         0.1,         0.1,         0.1,         0.1,         0.1,         0.1,         0.1,         0.1,         0.1,         0.1,         0.1,    0.099785,    0.099448,    0.099342,    0.099342,\n",
       "           0.099342,    0.099342,    0.099342,    0.099342,    0.099342,    0.099342,    0.099342,    0.099342,    0.099342,    0.099342,    0.099342,    0.099342,    0.099342,    0.099342,    0.099342,    0.099342,    0.098748,    0.098684,    0.098506,    0.098026,    0.097368,    0.097368,    0.096711,\n",
       "           0.096711,    0.096711,    0.096711,    0.096711,    0.096053,    0.096053,    0.096053,    0.096053,    0.096053,    0.096053,    0.096053,    0.096053,    0.096053,    0.096053,    0.096053,    0.096053,    0.096053,    0.095977,    0.095357,    0.094737,    0.094737,    0.094737,    0.094737,\n",
       "           0.094737,    0.094718,    0.094358,    0.094079,    0.094079,    0.094079,    0.094079,    0.094079,    0.094079,    0.094079,    0.093653,    0.093421,    0.092943,    0.092763,    0.092763,    0.092763,    0.092763,    0.092763,    0.092763,    0.092763,    0.092763,    0.092763,    0.092763,\n",
       "           0.092763,    0.092763,    0.092469,    0.091867,    0.091507,    0.091447,    0.091447,    0.091447,    0.091447,    0.091447,    0.091447,    0.091447,    0.091447,    0.091447,    0.091447,    0.091447,    0.091447,    0.091447,    0.091447,    0.091447,    0.091447,    0.091447,    0.091447,\n",
       "           0.091447,    0.091252,    0.090968,    0.090678,    0.090379,    0.090132,    0.090132,    0.090132,    0.090132,    0.090067,    0.089994,    0.089921,    0.089848,    0.089776,    0.089703,     0.08963,    0.089557,    0.089484,    0.089474,    0.089474,    0.089474,    0.089474,    0.089474,\n",
       "           0.089474,    0.089474,    0.089474,    0.089474,    0.089474,    0.089474,    0.089474,    0.089474,    0.089474,    0.089474,    0.089052,    0.088816,    0.088732,    0.088532,    0.088332,    0.088158,    0.088158,    0.088158,    0.088158,      0.0875,      0.0875,      0.0875,      0.0875,\n",
       "             0.0875,      0.0875,    0.087362,    0.087137,    0.086912,    0.086842,    0.086842,    0.086842,    0.086842,    0.086842,    0.086842,    0.086842,    0.086842,    0.086842,    0.086842,    0.086842,    0.086842,    0.086842,    0.086842,    0.086842,    0.086842,    0.086842,    0.086842,\n",
       "           0.086842,    0.086842,    0.086842,    0.086842,    0.086842,    0.086842,    0.086842,    0.086842,    0.086842,    0.086842,    0.086842,    0.086842,    0.086842,    0.086842,    0.086836,    0.086184,    0.086184,    0.085965,    0.085695,    0.085383,    0.084997,    0.084689,    0.084419,\n",
       "           0.084211,    0.084211,    0.083743,    0.083553,    0.083553,    0.083553,    0.083553,     0.08312,    0.082895,    0.082746,    0.082588,    0.082429,     0.08227,    0.082136,    0.082007,    0.081879,     0.08175,    0.081622,    0.081579,    0.081579,    0.081579,    0.081563,    0.081499,\n",
       "           0.081434,     0.08137,    0.081306,    0.081242,    0.081177,    0.081113,    0.081049,    0.080985,    0.080263,    0.080263,    0.079589,    0.079535,    0.079481,    0.079427,    0.079373,    0.079319,    0.079265,    0.079211,    0.079157,    0.079103,     0.07905,    0.078996,    0.078936,\n",
       "           0.078828,     0.07872,    0.078612,    0.078504,    0.078396,    0.078289,    0.078228,    0.078166,    0.078105,    0.078044,    0.077982,    0.077921,     0.07786,    0.077799,    0.077737,    0.077676,    0.077445,    0.076931,    0.076789,    0.076647,    0.076505,    0.076363,    0.076316,\n",
       "           0.076316,    0.076316,    0.075936,    0.075658,    0.075658,    0.075658,    0.075658,    0.075658,    0.075658,    0.075658,    0.075658,    0.075422,    0.075177,    0.074906,    0.074569,    0.074232,    0.073895,    0.073631,    0.073489,    0.073347,    0.073205,    0.073063,    0.072921,\n",
       "           0.072779,    0.072637,    0.072495,    0.072368,    0.072368,    0.072368,    0.072368,    0.072368,    0.072368,    0.072368,    0.072368,    0.072368,    0.072368,    0.072368,    0.072368,    0.072368,    0.072368,    0.072368,    0.072317,    0.072092,    0.071867,    0.071711,    0.071711,\n",
       "           0.071711,    0.071641,    0.071528,    0.071416,    0.071304,    0.071191,    0.071079,    0.071005,    0.070942,    0.070879,    0.070816,    0.070754,    0.070691,    0.070628,    0.070565,    0.070503,     0.07044,    0.070395,    0.070395,    0.070395,    0.070395,    0.070395,    0.070395,\n",
       "           0.070395,    0.070395,    0.070395,    0.069894,    0.069651,    0.069538,    0.069426,    0.069313,    0.069201,    0.069089,    0.069079,    0.069079,    0.069079,    0.069079,    0.069079,    0.069079,    0.069072,    0.068995,    0.068918,    0.068841,    0.068764,    0.068687,     0.06861,\n",
       "           0.068533,    0.068456,    0.068052,    0.067667,    0.067498,     0.06733,    0.067161,    0.067105,    0.067105,    0.067105,    0.067105,    0.067105,    0.067105,    0.067105,    0.067105,    0.067105,    0.067105,    0.067105,    0.067105,    0.067105,    0.067105,    0.067105,    0.067105,\n",
       "           0.067105,    0.067105,    0.067105,    0.067096,    0.067034,    0.066973,    0.066912,     0.06685,    0.066789,    0.066728,    0.066666,    0.066605,    0.066544,    0.066483,     0.06616,    0.065751,    0.065667,    0.065583,    0.065499,    0.065414,     0.06533,    0.065246,    0.065161,\n",
       "           0.064986,    0.064761,    0.064537,    0.063988,    0.063816,    0.063816,    0.063816,    0.063816,    0.063816,    0.063816,    0.063816,    0.063816,    0.063816,    0.063599,    0.063374,    0.063156,      0.0631,    0.063043,    0.062987,    0.062931,    0.062875,    0.062819,    0.062762,\n",
       "           0.062706,     0.06265,    0.062594,    0.062538,     0.06181,    0.061714,    0.061618,    0.061521,    0.061425,    0.061329,    0.061232,    0.061015,    0.060678,    0.060465,    0.060352,     0.06024,    0.060127,    0.060015,    0.059903,    0.059868,    0.059868,    0.059868,    0.059837,\n",
       "           0.059796,    0.059755,    0.059714,    0.059673,    0.059633,    0.059592,    0.059551,     0.05951,    0.059469,    0.059428,    0.059387,    0.059347,    0.059306,    0.059265,    0.059224,    0.058757,    0.058318,    0.057981,    0.057823,    0.057727,     0.05763,    0.057534,    0.057438,\n",
       "           0.057341,    0.057245,    0.057082,    0.056914,    0.056745,    0.056579,    0.056562,    0.056112,    0.055533,    0.055061,    0.054724,    0.054387,    0.054049,    0.053712,    0.053375,    0.053289,    0.053289,    0.053289,    0.053289,    0.053289,    0.053289,    0.053289,    0.053289,\n",
       "           0.053289,    0.053289,    0.053289,    0.053289,    0.053289,    0.053289,    0.053289,    0.053289,    0.053289,    0.053289,    0.053289,    0.053289,    0.053289,    0.053289,     0.05322,    0.052996,    0.052771,    0.052529,    0.052259,    0.051989,    0.050681,    0.050006,    0.049936,\n",
       "           0.049872,    0.049808,    0.049744,    0.049679,    0.049615,    0.049551,    0.049487,    0.049423,    0.049358,    0.049198,    0.049005,    0.048813,    0.048661,     0.04859,    0.048519,    0.048448,    0.048377,    0.048306,    0.048235,    0.048164,    0.048093,     0.04802,    0.047924,\n",
       "           0.047827,    0.047731,    0.047635,    0.047538,    0.047442,    0.046675,    0.046525,    0.046376,    0.046226,    0.046076,    0.045483,    0.044808,    0.044737,    0.044324,    0.044058,    0.044011,    0.043965,    0.043918,    0.043872,    0.043825,    0.043779,    0.043732,    0.043686,\n",
       "           0.043639,    0.043593,    0.043546,      0.0435,    0.043453,    0.043395,    0.043311,    0.043226,    0.043142,    0.043058,    0.042974,    0.042889,    0.042805,    0.042758,     0.04242,    0.042105,    0.042105,    0.042105,    0.042105,    0.042105,    0.041991,    0.041823,    0.041654,\n",
       "           0.041486,     0.04136,    0.041248,    0.041136,    0.041023,    0.040911,    0.040799,    0.040541,    0.040272,    0.040039,    0.039846,    0.039654,     0.03881,    0.038726,    0.038642,    0.038557,    0.038473,    0.038389,    0.038304,     0.03822,     0.03807,    0.037733,    0.036842,\n",
       "           0.036842,    0.036842,    0.036842,    0.036842,    0.036842,    0.036842,    0.036842,    0.036842,    0.036842,    0.036839,    0.036799,    0.036758,    0.036717,    0.036676,    0.036635,    0.036594,    0.036553,    0.036512,    0.036472,    0.036431,     0.03639,    0.036349,    0.036308,\n",
       "           0.036267,    0.036226,    0.036185,    0.035461,    0.035327,    0.035192,    0.035057,    0.034922,    0.034787,    0.034652,    0.034517,    0.034382,    0.034248,    0.034047,    0.033823,    0.033598,    0.033014,    0.032617,     0.03228,    0.032106,    0.031956,    0.031806,    0.031657,\n",
       "           0.031558,    0.031514,    0.031471,    0.031427,    0.031384,     0.03134,    0.031297,    0.031253,     0.03121,    0.031166,    0.031123,    0.031079,    0.031036,    0.030992,    0.030949,    0.030824,    0.030554,    0.030284,    0.030185,    0.030101,    0.030017,    0.029933,    0.029848,\n",
       "           0.029764,     0.02968,    0.029566,    0.029229,    0.028873,    0.028423,    0.027816,    0.027142,    0.026974,    0.026974,    0.026974,    0.026974,    0.026974,    0.026974,    0.026974,    0.026974,    0.026974,    0.026974,    0.026974,    0.026974,    0.025566,    0.024869,    0.024645,\n",
       "            0.02442,    0.023675,    0.023621,    0.023567,    0.023513,    0.023459,    0.023406,    0.023352,    0.023298,    0.023244,     0.02319,    0.023136,    0.023082,    0.023028,    0.022371,    0.022145,     0.02192,    0.021697,    0.021505,    0.021312,    0.021119,    0.020906,    0.020681,\n",
       "           0.020456,    0.020068,    0.019381,    0.018929,    0.018737,    0.018544,    0.018258,    0.017809,    0.017157,     0.01669,     0.01642,    0.016362,    0.016303,    0.016245,    0.016186,    0.016127,    0.016069,     0.01601,    0.015951,    0.015893,    0.015834,    0.015725,    0.015455,\n",
       "           0.015185,    0.014591,    0.014315,    0.014122,    0.013929,    0.013754,    0.013604,    0.013454,    0.013305,    0.013157,    0.013092,    0.013028,    0.012964,      0.0129,    0.012835,    0.012771,    0.012707,    0.012643,    0.012579,    0.012514,    0.012395,     0.01226,    0.012125,\n",
       "           0.011991,    0.011856,    0.011707,    0.011557,    0.011408,    0.011258,    0.011098,     0.01093,    0.010761,    0.010593,    0.010409,    0.010217,    0.010024,   0.0097819,   0.0093324,    0.008061,    0.007207,   0.0070946,   0.0069822,   0.0068698,   0.0067574,    0.006645,   0.0065419,\n",
       "           0.006452,   0.0063621,   0.0062721,   0.0061822,   0.0060923,   0.0060024,    0.005905,   0.0057364,   0.0055678,   0.0053992,   0.0052458,   0.0051559,    0.005066,   0.0049761,   0.0048862,   0.0047962,   0.0047063,   0.0046164,   0.0045358,   0.0044564,   0.0043771,   0.0042978,   0.0042184,\n",
       "          0.0041391,   0.0040597,   0.0039804,   0.0037506,   0.0034134,   0.0028631,   0.0025961,   0.0025422,   0.0024883,   0.0024343,   0.0023804,   0.0023264,   0.0022725,   0.0022185,   0.0021646,   0.0021106,   0.0020567,   0.0020027,   0.0019114,   0.0017765,   0.0016416,   0.0015068,   0.0013719,\n",
       "          0.0012975,   0.0012661,   0.0012347,   0.0012034,    0.001172,   0.0011406,   0.0011093,   0.0010779,   0.0010465,   0.0010152,  0.00098382,  0.00095245,  0.00092109,  0.00088972,  0.00085836,  0.00082699,  0.00079562,  0.00076426,  0.00073289,  0.00070153,  0.00067016,           0,           0,\n",
       "                  0,           0,           0,           0,           0,           0,           0,           0,           0,           0,           0,           0,           0,           0,           0,           0,           0,           0,           0,           0,           0,           0,           0,\n",
       "                  0,           0,           0,           0,           0,           0,           0,           0,           0,           0,           0]]), 'Confidence', 'Recall'], [array([          0,    0.001001,    0.002002,    0.003003,    0.004004,    0.005005,    0.006006,    0.007007,    0.008008,    0.009009,     0.01001,    0.011011,    0.012012,    0.013013,    0.014014,    0.015015,    0.016016,    0.017017,    0.018018,    0.019019,     0.02002,    0.021021,    0.022022,    0.023023,\n",
       "          0.024024,    0.025025,    0.026026,    0.027027,    0.028028,    0.029029,     0.03003,    0.031031,    0.032032,    0.033033,    0.034034,    0.035035,    0.036036,    0.037037,    0.038038,    0.039039,     0.04004,    0.041041,    0.042042,    0.043043,    0.044044,    0.045045,    0.046046,    0.047047,\n",
       "          0.048048,    0.049049,     0.05005,    0.051051,    0.052052,    0.053053,    0.054054,    0.055055,    0.056056,    0.057057,    0.058058,    0.059059,     0.06006,    0.061061,    0.062062,    0.063063,    0.064064,    0.065065,    0.066066,    0.067067,    0.068068,    0.069069,     0.07007,    0.071071,\n",
       "          0.072072,    0.073073,    0.074074,    0.075075,    0.076076,    0.077077,    0.078078,    0.079079,     0.08008,    0.081081,    0.082082,    0.083083,    0.084084,    0.085085,    0.086086,    0.087087,    0.088088,    0.089089,     0.09009,    0.091091,    0.092092,    0.093093,    0.094094,    0.095095,\n",
       "          0.096096,    0.097097,    0.098098,    0.099099,      0.1001,      0.1011,      0.1021,      0.1031,      0.1041,     0.10511,     0.10611,     0.10711,     0.10811,     0.10911,     0.11011,     0.11111,     0.11211,     0.11311,     0.11411,     0.11512,     0.11612,     0.11712,     0.11812,     0.11912,\n",
       "           0.12012,     0.12112,     0.12212,     0.12312,     0.12412,     0.12513,     0.12613,     0.12713,     0.12813,     0.12913,     0.13013,     0.13113,     0.13213,     0.13313,     0.13413,     0.13514,     0.13614,     0.13714,     0.13814,     0.13914,     0.14014,     0.14114,     0.14214,     0.14314,\n",
       "           0.14414,     0.14515,     0.14615,     0.14715,     0.14815,     0.14915,     0.15015,     0.15115,     0.15215,     0.15315,     0.15415,     0.15516,     0.15616,     0.15716,     0.15816,     0.15916,     0.16016,     0.16116,     0.16216,     0.16316,     0.16416,     0.16517,     0.16617,     0.16717,\n",
       "           0.16817,     0.16917,     0.17017,     0.17117,     0.17217,     0.17317,     0.17417,     0.17518,     0.17618,     0.17718,     0.17818,     0.17918,     0.18018,     0.18118,     0.18218,     0.18318,     0.18418,     0.18519,     0.18619,     0.18719,     0.18819,     0.18919,     0.19019,     0.19119,\n",
       "           0.19219,     0.19319,     0.19419,      0.1952,      0.1962,      0.1972,      0.1982,      0.1992,      0.2002,      0.2012,      0.2022,      0.2032,      0.2042,     0.20521,     0.20621,     0.20721,     0.20821,     0.20921,     0.21021,     0.21121,     0.21221,     0.21321,     0.21421,     0.21522,\n",
       "           0.21622,     0.21722,     0.21822,     0.21922,     0.22022,     0.22122,     0.22222,     0.22322,     0.22422,     0.22523,     0.22623,     0.22723,     0.22823,     0.22923,     0.23023,     0.23123,     0.23223,     0.23323,     0.23423,     0.23524,     0.23624,     0.23724,     0.23824,     0.23924,\n",
       "           0.24024,     0.24124,     0.24224,     0.24324,     0.24424,     0.24525,     0.24625,     0.24725,     0.24825,     0.24925,     0.25025,     0.25125,     0.25225,     0.25325,     0.25425,     0.25526,     0.25626,     0.25726,     0.25826,     0.25926,     0.26026,     0.26126,     0.26226,     0.26326,\n",
       "           0.26426,     0.26527,     0.26627,     0.26727,     0.26827,     0.26927,     0.27027,     0.27127,     0.27227,     0.27327,     0.27427,     0.27528,     0.27628,     0.27728,     0.27828,     0.27928,     0.28028,     0.28128,     0.28228,     0.28328,     0.28428,     0.28529,     0.28629,     0.28729,\n",
       "           0.28829,     0.28929,     0.29029,     0.29129,     0.29229,     0.29329,     0.29429,      0.2953,      0.2963,      0.2973,      0.2983,      0.2993,      0.3003,      0.3013,      0.3023,      0.3033,      0.3043,     0.30531,     0.30631,     0.30731,     0.30831,     0.30931,     0.31031,     0.31131,\n",
       "           0.31231,     0.31331,     0.31431,     0.31532,     0.31632,     0.31732,     0.31832,     0.31932,     0.32032,     0.32132,     0.32232,     0.32332,     0.32432,     0.32533,     0.32633,     0.32733,     0.32833,     0.32933,     0.33033,     0.33133,     0.33233,     0.33333,     0.33433,     0.33534,\n",
       "           0.33634,     0.33734,     0.33834,     0.33934,     0.34034,     0.34134,     0.34234,     0.34334,     0.34434,     0.34535,     0.34635,     0.34735,     0.34835,     0.34935,     0.35035,     0.35135,     0.35235,     0.35335,     0.35435,     0.35536,     0.35636,     0.35736,     0.35836,     0.35936,\n",
       "           0.36036,     0.36136,     0.36236,     0.36336,     0.36436,     0.36537,     0.36637,     0.36737,     0.36837,     0.36937,     0.37037,     0.37137,     0.37237,     0.37337,     0.37437,     0.37538,     0.37638,     0.37738,     0.37838,     0.37938,     0.38038,     0.38138,     0.38238,     0.38338,\n",
       "           0.38438,     0.38539,     0.38639,     0.38739,     0.38839,     0.38939,     0.39039,     0.39139,     0.39239,     0.39339,     0.39439,      0.3954,      0.3964,      0.3974,      0.3984,      0.3994,      0.4004,      0.4014,      0.4024,      0.4034,      0.4044,     0.40541,     0.40641,     0.40741,\n",
       "           0.40841,     0.40941,     0.41041,     0.41141,     0.41241,     0.41341,     0.41441,     0.41542,     0.41642,     0.41742,     0.41842,     0.41942,     0.42042,     0.42142,     0.42242,     0.42342,     0.42442,     0.42543,     0.42643,     0.42743,     0.42843,     0.42943,     0.43043,     0.43143,\n",
       "           0.43243,     0.43343,     0.43443,     0.43544,     0.43644,     0.43744,     0.43844,     0.43944,     0.44044,     0.44144,     0.44244,     0.44344,     0.44444,     0.44545,     0.44645,     0.44745,     0.44845,     0.44945,     0.45045,     0.45145,     0.45245,     0.45345,     0.45445,     0.45546,\n",
       "           0.45646,     0.45746,     0.45846,     0.45946,     0.46046,     0.46146,     0.46246,     0.46346,     0.46446,     0.46547,     0.46647,     0.46747,     0.46847,     0.46947,     0.47047,     0.47147,     0.47247,     0.47347,     0.47447,     0.47548,     0.47648,     0.47748,     0.47848,     0.47948,\n",
       "           0.48048,     0.48148,     0.48248,     0.48348,     0.48448,     0.48549,     0.48649,     0.48749,     0.48849,     0.48949,     0.49049,     0.49149,     0.49249,     0.49349,     0.49449,      0.4955,      0.4965,      0.4975,      0.4985,      0.4995,      0.5005,      0.5015,      0.5025,      0.5035,\n",
       "            0.5045,     0.50551,     0.50651,     0.50751,     0.50851,     0.50951,     0.51051,     0.51151,     0.51251,     0.51351,     0.51451,     0.51552,     0.51652,     0.51752,     0.51852,     0.51952,     0.52052,     0.52152,     0.52252,     0.52352,     0.52452,     0.52553,     0.52653,     0.52753,\n",
       "           0.52853,     0.52953,     0.53053,     0.53153,     0.53253,     0.53353,     0.53453,     0.53554,     0.53654,     0.53754,     0.53854,     0.53954,     0.54054,     0.54154,     0.54254,     0.54354,     0.54454,     0.54555,     0.54655,     0.54755,     0.54855,     0.54955,     0.55055,     0.55155,\n",
       "           0.55255,     0.55355,     0.55455,     0.55556,     0.55656,     0.55756,     0.55856,     0.55956,     0.56056,     0.56156,     0.56256,     0.56356,     0.56456,     0.56557,     0.56657,     0.56757,     0.56857,     0.56957,     0.57057,     0.57157,     0.57257,     0.57357,     0.57457,     0.57558,\n",
       "           0.57658,     0.57758,     0.57858,     0.57958,     0.58058,     0.58158,     0.58258,     0.58358,     0.58458,     0.58559,     0.58659,     0.58759,     0.58859,     0.58959,     0.59059,     0.59159,     0.59259,     0.59359,     0.59459,      0.5956,      0.5966,      0.5976,      0.5986,      0.5996,\n",
       "            0.6006,      0.6016,      0.6026,      0.6036,      0.6046,     0.60561,     0.60661,     0.60761,     0.60861,     0.60961,     0.61061,     0.61161,     0.61261,     0.61361,     0.61461,     0.61562,     0.61662,     0.61762,     0.61862,     0.61962,     0.62062,     0.62162,     0.62262,     0.62362,\n",
       "           0.62462,     0.62563,     0.62663,     0.62763,     0.62863,     0.62963,     0.63063,     0.63163,     0.63263,     0.63363,     0.63463,     0.63564,     0.63664,     0.63764,     0.63864,     0.63964,     0.64064,     0.64164,     0.64264,     0.64364,     0.64464,     0.64565,     0.64665,     0.64765,\n",
       "           0.64865,     0.64965,     0.65065,     0.65165,     0.65265,     0.65365,     0.65465,     0.65566,     0.65666,     0.65766,     0.65866,     0.65966,     0.66066,     0.66166,     0.66266,     0.66366,     0.66466,     0.66567,     0.66667,     0.66767,     0.66867,     0.66967,     0.67067,     0.67167,\n",
       "           0.67267,     0.67367,     0.67467,     0.67568,     0.67668,     0.67768,     0.67868,     0.67968,     0.68068,     0.68168,     0.68268,     0.68368,     0.68468,     0.68569,     0.68669,     0.68769,     0.68869,     0.68969,     0.69069,     0.69169,     0.69269,     0.69369,     0.69469,      0.6957,\n",
       "            0.6967,      0.6977,      0.6987,      0.6997,      0.7007,      0.7017,      0.7027,      0.7037,      0.7047,     0.70571,     0.70671,     0.70771,     0.70871,     0.70971,     0.71071,     0.71171,     0.71271,     0.71371,     0.71471,     0.71572,     0.71672,     0.71772,     0.71872,     0.71972,\n",
       "           0.72072,     0.72172,     0.72272,     0.72372,     0.72472,     0.72573,     0.72673,     0.72773,     0.72873,     0.72973,     0.73073,     0.73173,     0.73273,     0.73373,     0.73473,     0.73574,     0.73674,     0.73774,     0.73874,     0.73974,     0.74074,     0.74174,     0.74274,     0.74374,\n",
       "           0.74474,     0.74575,     0.74675,     0.74775,     0.74875,     0.74975,     0.75075,     0.75175,     0.75275,     0.75375,     0.75475,     0.75576,     0.75676,     0.75776,     0.75876,     0.75976,     0.76076,     0.76176,     0.76276,     0.76376,     0.76476,     0.76577,     0.76677,     0.76777,\n",
       "           0.76877,     0.76977,     0.77077,     0.77177,     0.77277,     0.77377,     0.77477,     0.77578,     0.77678,     0.77778,     0.77878,     0.77978,     0.78078,     0.78178,     0.78278,     0.78378,     0.78478,     0.78579,     0.78679,     0.78779,     0.78879,     0.78979,     0.79079,     0.79179,\n",
       "           0.79279,     0.79379,     0.79479,      0.7958,      0.7968,      0.7978,      0.7988,      0.7998,      0.8008,      0.8018,      0.8028,      0.8038,      0.8048,     0.80581,     0.80681,     0.80781,     0.80881,     0.80981,     0.81081,     0.81181,     0.81281,     0.81381,     0.81481,     0.81582,\n",
       "           0.81682,     0.81782,     0.81882,     0.81982,     0.82082,     0.82182,     0.82282,     0.82382,     0.82482,     0.82583,     0.82683,     0.82783,     0.82883,     0.82983,     0.83083,     0.83183,     0.83283,     0.83383,     0.83483,     0.83584,     0.83684,     0.83784,     0.83884,     0.83984,\n",
       "           0.84084,     0.84184,     0.84284,     0.84384,     0.84484,     0.84585,     0.84685,     0.84785,     0.84885,     0.84985,     0.85085,     0.85185,     0.85285,     0.85385,     0.85485,     0.85586,     0.85686,     0.85786,     0.85886,     0.85986,     0.86086,     0.86186,     0.86286,     0.86386,\n",
       "           0.86486,     0.86587,     0.86687,     0.86787,     0.86887,     0.86987,     0.87087,     0.87187,     0.87287,     0.87387,     0.87487,     0.87588,     0.87688,     0.87788,     0.87888,     0.87988,     0.88088,     0.88188,     0.88288,     0.88388,     0.88488,     0.88589,     0.88689,     0.88789,\n",
       "           0.88889,     0.88989,     0.89089,     0.89189,     0.89289,     0.89389,     0.89489,      0.8959,      0.8969,      0.8979,      0.8989,      0.8999,      0.9009,      0.9019,      0.9029,      0.9039,      0.9049,     0.90591,     0.90691,     0.90791,     0.90891,     0.90991,     0.91091,     0.91191,\n",
       "           0.91291,     0.91391,     0.91491,     0.91592,     0.91692,     0.91792,     0.91892,     0.91992,     0.92092,     0.92192,     0.92292,     0.92392,     0.92492,     0.92593,     0.92693,     0.92793,     0.92893,     0.92993,     0.93093,     0.93193,     0.93293,     0.93393,     0.93493,     0.93594,\n",
       "           0.93694,     0.93794,     0.93894,     0.93994,     0.94094,     0.94194,     0.94294,     0.94394,     0.94494,     0.94595,     0.94695,     0.94795,     0.94895,     0.94995,     0.95095,     0.95195,     0.95295,     0.95395,     0.95495,     0.95596,     0.95696,     0.95796,     0.95896,     0.95996,\n",
       "           0.96096,     0.96196,     0.96296,     0.96396,     0.96496,     0.96597,     0.96697,     0.96797,     0.96897,     0.96997,     0.97097,     0.97197,     0.97297,     0.97397,     0.97497,     0.97598,     0.97698,     0.97798,     0.97898,     0.97998,     0.98098,     0.98198,     0.98298,     0.98398,\n",
       "           0.98498,     0.98599,     0.98699,     0.98799,     0.98899,     0.98999,     0.99099,     0.99199,     0.99299,     0.99399,     0.99499,       0.996,       0.997,       0.998,       0.999,           1]), array([[          1,           1,           1,           1,           1,           1,           1,           1,           1,           1,           1,           1,           1,           1,           1,           1,           1,           1,           1,           1,           1,           1,           1,\n",
       "                  1,           1,           1,           1,     0.98246,     0.98246,     0.98246,     0.98246,     0.98246,     0.98246,     0.98246,     0.98246,     0.98246,     0.98246,      0.9661,     0.95522,     0.95522,     0.95522,     0.95522,     0.95522,     0.92045,     0.92045,     0.92045,\n",
       "            0.92045,     0.92045,     0.92045,     0.92045,     0.92045,     0.92045,     0.92045,     0.92045,     0.89583,     0.89583,     0.89583,     0.89216,     0.89216,     0.89216,     0.88991,     0.88991,     0.88991,     0.88991,     0.88393,     0.88393,     0.87826,     0.87288,     0.86066,\n",
       "            0.86066,     0.84921,     0.83704,     0.83704,     0.83704,     0.83704,     0.81081,     0.81081,     0.81081,     0.81081,     0.80795,     0.80795,         0.8,     0.79618,     0.78659,     0.78659,     0.78313,     0.76163,     0.74302,     0.73626,     0.70984,     0.70984,     0.69802,\n",
       "            0.69802,     0.66667,     0.63596,     0.63596,       0.588,     0.58268,     0.57471,     0.54122,     0.51342,     0.49518,     0.45087,     0.40051,      0.3995,     0.35714,     0.32079,     0.29211,     0.25661,     0.25266,     0.19091,      0.1851,     0.16117,      0.1395,    0.090957,\n",
       "               0.07,   0.0092744,   0.0092639,   0.0092534,   0.0092429,   0.0092324,   0.0092219,   0.0092114,   0.0092009,   0.0091904,   0.0091799,   0.0091693,   0.0091588,   0.0091483,   0.0091378,   0.0091273,   0.0091168,   0.0091063,   0.0090958,   0.0090853,   0.0090748,   0.0090643,   0.0090538,\n",
       "          0.0090433,   0.0090328,   0.0090223,   0.0090118,   0.0090013,   0.0089908,   0.0089803,   0.0089698,   0.0089593,   0.0089488,   0.0089383,   0.0089278,   0.0089173,   0.0089068,   0.0088963,   0.0088858,   0.0088753,   0.0088648,   0.0088542,   0.0088437,   0.0088332,   0.0088227,   0.0088122,\n",
       "          0.0088017,   0.0087912,   0.0087807,   0.0087702,   0.0087597,   0.0087492,   0.0087387,   0.0087282,   0.0087177,   0.0087072,   0.0086967,   0.0086862,   0.0086757,   0.0086652,   0.0086547,   0.0086442,   0.0086337,   0.0086232,   0.0086127,   0.0086022,   0.0085917,   0.0085812,   0.0085707,\n",
       "          0.0085602,   0.0085497,   0.0085392,   0.0085286,   0.0085181,   0.0085076,   0.0084971,   0.0084866,   0.0084761,   0.0084656,   0.0084551,   0.0084446,   0.0084341,   0.0084236,   0.0084131,   0.0084026,   0.0083921,   0.0083816,   0.0083711,   0.0083606,   0.0083501,   0.0083396,   0.0083291,\n",
       "          0.0083186,   0.0083081,   0.0082976,   0.0082871,   0.0082766,   0.0082661,   0.0082556,   0.0082451,   0.0082346,   0.0082241,   0.0082136,    0.008203,   0.0081925,    0.008182,   0.0081715,    0.008161,   0.0081505,     0.00814,   0.0081295,    0.008119,   0.0081085,    0.008098,   0.0080875,\n",
       "           0.008077,   0.0080665,    0.008056,   0.0080455,    0.008035,   0.0080245,    0.008014,   0.0080035,    0.007993,   0.0079825,    0.007972,   0.0079615,    0.007951,   0.0079405,     0.00793,   0.0079195,    0.007909,   0.0078985,   0.0078879,   0.0078774,   0.0078669,   0.0078564,   0.0078459,\n",
       "          0.0078354,   0.0078249,   0.0078144,   0.0078039,   0.0077934,   0.0077829,   0.0077724,   0.0077619,   0.0077514,   0.0077409,   0.0077304,   0.0077199,   0.0077094,   0.0076989,   0.0076884,   0.0076779,   0.0076674,   0.0076569,   0.0076464,   0.0076359,   0.0076254,   0.0076149,   0.0076044,\n",
       "          0.0075939,   0.0075834,   0.0075729,   0.0075623,   0.0075518,   0.0075413,   0.0075308,   0.0075203,   0.0075098,   0.0074993,   0.0074888,   0.0074783,   0.0074678,   0.0074573,   0.0074468,   0.0074363,   0.0074258,   0.0074153,   0.0074048,   0.0073943,   0.0073838,   0.0073733,   0.0073628,\n",
       "          0.0073523,   0.0073418,   0.0073313,   0.0073208,   0.0073103,   0.0072998,   0.0072893,   0.0072788,   0.0072683,   0.0072578,   0.0072473,   0.0072367,   0.0072262,   0.0072157,   0.0072052,   0.0071947,   0.0071842,   0.0071737,   0.0071632,   0.0071527,   0.0071422,   0.0071317,   0.0071212,\n",
       "          0.0071107,   0.0071002,   0.0070897,   0.0070792,   0.0070687,   0.0070582,   0.0070477,   0.0070372,   0.0070267,   0.0070162,   0.0070057,   0.0069952,   0.0069847,   0.0069742,   0.0069637,   0.0069532,   0.0069427,   0.0069322,   0.0069216,   0.0069111,   0.0069006,   0.0068901,   0.0068796,\n",
       "          0.0068691,   0.0068586,   0.0068481,   0.0068376,   0.0068271,   0.0068166,   0.0068061,   0.0067956,   0.0067851,   0.0067746,   0.0067641,   0.0067536,   0.0067431,   0.0067326,   0.0067221,   0.0067116,   0.0067011,   0.0066906,   0.0066801,   0.0066696,   0.0066591,   0.0066486,   0.0066381,\n",
       "          0.0066276,   0.0066171,   0.0066066,    0.006596,   0.0065855,    0.006575,   0.0065645,    0.006554,   0.0065435,    0.006533,   0.0065225,    0.006512,   0.0065015,    0.006491,   0.0064805,     0.00647,   0.0064595,    0.006449,   0.0064385,    0.006428,   0.0064175,    0.006407,   0.0063965,\n",
       "           0.006386,   0.0063755,    0.006365,   0.0063545,    0.006344,   0.0063335,    0.006323,   0.0063125,    0.006302,   0.0062915,    0.006281,   0.0062704,   0.0062599,   0.0062494,   0.0062389,   0.0062284,   0.0062179,   0.0062074,   0.0061969,   0.0061864,   0.0061759,   0.0061654,   0.0061549,\n",
       "          0.0061444,   0.0061339,   0.0061234,   0.0061129,   0.0061024,   0.0060919,   0.0060814,   0.0060709,   0.0060604,   0.0060499,   0.0060394,   0.0060289,   0.0060184,   0.0060079,   0.0059974,   0.0059869,   0.0059764,   0.0059659,   0.0059553,   0.0059448,   0.0059343,   0.0059238,   0.0059133,\n",
       "          0.0059028,   0.0058923,   0.0058818,   0.0058713,   0.0058608,   0.0058503,   0.0058398,   0.0058293,   0.0058188,   0.0058083,   0.0057978,   0.0057873,   0.0057768,   0.0057663,   0.0057558,   0.0057453,   0.0057348,   0.0057243,   0.0057138,   0.0057033,   0.0056928,   0.0056823,   0.0056718,\n",
       "          0.0056613,   0.0056508,   0.0056403,   0.0056297,   0.0056192,   0.0056087,   0.0055982,   0.0055877,   0.0055772,   0.0055667,   0.0055562,   0.0055457,   0.0055352,   0.0055247,   0.0055142,   0.0055037,   0.0054932,   0.0054827,   0.0054722,   0.0054617,   0.0054512,   0.0054407,   0.0054302,\n",
       "          0.0054197,   0.0054092,   0.0053987,   0.0053882,   0.0053777,   0.0053672,   0.0053567,   0.0053462,   0.0053357,   0.0053252,   0.0053147,   0.0053041,   0.0052936,   0.0052831,   0.0052726,   0.0052621,   0.0052516,   0.0052411,   0.0052306,   0.0052201,   0.0052096,   0.0051991,   0.0051886,\n",
       "          0.0051781,   0.0051676,   0.0051571,   0.0051466,   0.0051361,   0.0051256,   0.0051151,   0.0051046,   0.0050941,   0.0050836,   0.0050731,   0.0050626,   0.0050521,   0.0050416,   0.0050311,   0.0050206,   0.0050101,   0.0049996,    0.004989,   0.0049785,    0.004968,   0.0049575,    0.004947,\n",
       "          0.0049365,    0.004926,   0.0049155,    0.004905,   0.0048945,    0.004884,   0.0048735,    0.004863,   0.0048525,    0.004842,   0.0048315,    0.004821,   0.0048105,      0.0048,   0.0047895,    0.004779,   0.0047685,    0.004758,   0.0047475,    0.004737,   0.0047265,    0.004716,   0.0047055,\n",
       "           0.004695,   0.0046845,    0.004674,   0.0046634,   0.0046529,   0.0046424,   0.0046319,   0.0046214,   0.0046109,   0.0046004,   0.0045899,   0.0045794,   0.0045689,   0.0045584,   0.0045479,   0.0045374,   0.0045269,   0.0045164,   0.0045059,   0.0044954,   0.0044849,   0.0044744,   0.0044639,\n",
       "          0.0044534,   0.0044429,   0.0044324,   0.0044219,   0.0044114,   0.0044009,   0.0043904,   0.0043799,   0.0043694,   0.0043589,   0.0043484,   0.0043378,   0.0043273,   0.0043168,   0.0043063,   0.0042958,   0.0042853,   0.0042748,   0.0042643,   0.0042538,   0.0042433,   0.0042328,   0.0042223,\n",
       "          0.0042118,   0.0042013,   0.0041908,   0.0041803,   0.0041698,   0.0041593,   0.0041488,   0.0041383,   0.0041278,   0.0041173,   0.0041068,   0.0040963,   0.0040858,   0.0040753,   0.0040648,   0.0040543,   0.0040438,   0.0040333,   0.0040227,   0.0040122,   0.0040017,   0.0039912,   0.0039807,\n",
       "          0.0039702,   0.0039597,   0.0039492,   0.0039387,   0.0039282,   0.0039177,   0.0039072,   0.0038967,   0.0038862,   0.0038757,   0.0038652,   0.0038547,   0.0038442,   0.0038337,   0.0038232,   0.0038127,   0.0038022,   0.0037917,   0.0037812,   0.0037707,   0.0037602,   0.0037497,   0.0037392,\n",
       "          0.0037287,   0.0037182,   0.0037077,   0.0036971,   0.0036866,   0.0036761,   0.0036656,   0.0036551,   0.0036446,   0.0036341,   0.0036236,   0.0036131,   0.0036026,   0.0035921,   0.0035816,   0.0035711,   0.0035606,   0.0035501,   0.0035396,   0.0035291,   0.0035186,   0.0035081,   0.0034976,\n",
       "          0.0034871,   0.0034766,   0.0034661,   0.0034556,   0.0034451,   0.0034346,   0.0034241,   0.0034136,   0.0034031,   0.0033926,   0.0033821,   0.0033715,    0.003361,   0.0033505,     0.00334,   0.0033295,    0.003319,   0.0033085,    0.003298,   0.0032875,    0.003277,   0.0032665,    0.003256,\n",
       "          0.0032455,    0.003235,   0.0032245,    0.003214,   0.0032035,    0.003193,   0.0031825,    0.003172,   0.0031615,    0.003151,   0.0031405,     0.00313,   0.0031195,    0.003109,   0.0030985,    0.003088,   0.0030775,    0.003067,   0.0030564,   0.0030459,   0.0030354,   0.0030249,   0.0030144,\n",
       "          0.0030039,   0.0029934,   0.0029829,   0.0029724,   0.0029619,   0.0029514,   0.0029409,   0.0029304,   0.0029199,   0.0029094,   0.0028989,   0.0028884,   0.0028779,   0.0028674,   0.0028569,   0.0028464,   0.0028359,   0.0028254,   0.0028149,   0.0028044,   0.0027939,   0.0027834,   0.0027729,\n",
       "          0.0027624,   0.0027519,   0.0027414,   0.0027308,   0.0027203,   0.0027098,   0.0026993,   0.0026888,   0.0026783,   0.0026678,   0.0026573,   0.0026468,   0.0026363,   0.0026258,   0.0026153,   0.0026048,   0.0025943,   0.0025838,   0.0025733,   0.0025628,   0.0025523,   0.0025418,   0.0025313,\n",
       "          0.0025208,   0.0025103,   0.0024998,   0.0024893,   0.0024788,   0.0024683,   0.0024578,   0.0024473,   0.0024368,   0.0024263,   0.0024158,   0.0024052,   0.0023947,   0.0023842,   0.0023737,   0.0023632,   0.0023527,   0.0023422,   0.0023317,   0.0023212,   0.0023107,   0.0023002,   0.0022897,\n",
       "          0.0022792,   0.0022687,   0.0022582,   0.0022477,   0.0022372,   0.0022267,   0.0022162,   0.0022057,   0.0021952,   0.0021847,   0.0021742,   0.0021637,   0.0021532,   0.0021427,   0.0021322,   0.0021217,   0.0021112,   0.0021007,   0.0020901,   0.0020796,   0.0020691,   0.0020586,   0.0020481,\n",
       "          0.0020376,   0.0020271,   0.0020166,   0.0020061,   0.0019956,   0.0019851,   0.0019746,   0.0019641,   0.0019536,   0.0019431,   0.0019326,   0.0019221,   0.0019116,   0.0019011,   0.0018906,   0.0018801,   0.0018696,   0.0018591,   0.0018486,   0.0018381,   0.0018276,   0.0018171,   0.0018066,\n",
       "          0.0017961,   0.0017856,   0.0017751,   0.0017645,    0.001754,   0.0017435,    0.001733,   0.0017225,    0.001712,   0.0017015,    0.001691,   0.0016805,     0.00167,   0.0016595,    0.001649,   0.0016385,    0.001628,   0.0016175,    0.001607,   0.0015965,    0.001586,   0.0015755,    0.001565,\n",
       "          0.0015545,    0.001544,   0.0015335,    0.001523,   0.0015125,    0.001502,   0.0014915,    0.001481,   0.0014705,     0.00146,   0.0014495,   0.0014389,   0.0014284,   0.0014179,   0.0014074,   0.0013969,   0.0013864,   0.0013759,   0.0013654,   0.0013549,   0.0013444,   0.0013339,   0.0013234,\n",
       "          0.0013129,   0.0013024,   0.0012919,   0.0012814,   0.0012709,   0.0012604,   0.0012499,   0.0012394,   0.0012289,   0.0012184,   0.0012079,   0.0011974,   0.0011869,   0.0011764,   0.0011659,   0.0011554,   0.0011449,   0.0011344,   0.0011238,   0.0011133,   0.0011028,   0.0010923,   0.0010818,\n",
       "          0.0010713,   0.0010608,   0.0010503,   0.0010398,   0.0010293,   0.0010188,   0.0010083,  0.00099781,  0.00098731,   0.0009768,   0.0009663,   0.0009558,  0.00094529,  0.00093479,  0.00092429,  0.00091378,  0.00090328,  0.00089278,  0.00088227,  0.00087177,  0.00086127,  0.00085076,  0.00084026,\n",
       "         0.00082976,  0.00081925,  0.00080875,  0.00079825,  0.00078774,  0.00077724,  0.00076674,  0.00075623,  0.00074573,  0.00073523,  0.00072473,  0.00071422,  0.00070372,  0.00069322,  0.00068271,  0.00067221,  0.00066171,   0.0006512,   0.0006407,   0.0006302,  0.00061969,  0.00060919,  0.00059869,\n",
       "         0.00058818,  0.00057768,  0.00056718,  0.00055667,  0.00054617,  0.00053567,  0.00052516,  0.00051466,  0.00050416,  0.00049365,  0.00048315,  0.00047265,  0.00046214,  0.00045164,  0.00044114,  0.00043063,  0.00042013,  0.00040963,  0.00039912,  0.00038862,  0.00037812,  0.00036761,  0.00035711,\n",
       "         0.00034661,   0.0003361,   0.0003256,   0.0003151,  0.00030459,  0.00029409,  0.00028359,  0.00027308,  0.00026258,  0.00025208,  0.00024158,  0.00023107,  0.00022057,  0.00021007,  0.00019956,  0.00018906,  0.00017856,  0.00016805,  0.00015755,  0.00014705,  0.00013654,  0.00012604,  0.00011554,\n",
       "         0.00010503,  9.4529e-05,  8.4026e-05,  7.3523e-05,   6.302e-05,  5.2516e-05,  4.2013e-05,   3.151e-05,  2.1007e-05,  1.0503e-05,           0]]), 'Recall', 'Precision'], [array([          0,    0.001001,    0.002002,    0.003003,    0.004004,    0.005005,    0.006006,    0.007007,    0.008008,    0.009009,     0.01001,    0.011011,    0.012012,    0.013013,    0.014014,    0.015015,    0.016016,    0.017017,    0.018018,    0.019019,     0.02002,    0.021021,    0.022022,    0.023023,\n",
       "          0.024024,    0.025025,    0.026026,    0.027027,    0.028028,    0.029029,     0.03003,    0.031031,    0.032032,    0.033033,    0.034034,    0.035035,    0.036036,    0.037037,    0.038038,    0.039039,     0.04004,    0.041041,    0.042042,    0.043043,    0.044044,    0.045045,    0.046046,    0.047047,\n",
       "          0.048048,    0.049049,     0.05005,    0.051051,    0.052052,    0.053053,    0.054054,    0.055055,    0.056056,    0.057057,    0.058058,    0.059059,     0.06006,    0.061061,    0.062062,    0.063063,    0.064064,    0.065065,    0.066066,    0.067067,    0.068068,    0.069069,     0.07007,    0.071071,\n",
       "          0.072072,    0.073073,    0.074074,    0.075075,    0.076076,    0.077077,    0.078078,    0.079079,     0.08008,    0.081081,    0.082082,    0.083083,    0.084084,    0.085085,    0.086086,    0.087087,    0.088088,    0.089089,     0.09009,    0.091091,    0.092092,    0.093093,    0.094094,    0.095095,\n",
       "          0.096096,    0.097097,    0.098098,    0.099099,      0.1001,      0.1011,      0.1021,      0.1031,      0.1041,     0.10511,     0.10611,     0.10711,     0.10811,     0.10911,     0.11011,     0.11111,     0.11211,     0.11311,     0.11411,     0.11512,     0.11612,     0.11712,     0.11812,     0.11912,\n",
       "           0.12012,     0.12112,     0.12212,     0.12312,     0.12412,     0.12513,     0.12613,     0.12713,     0.12813,     0.12913,     0.13013,     0.13113,     0.13213,     0.13313,     0.13413,     0.13514,     0.13614,     0.13714,     0.13814,     0.13914,     0.14014,     0.14114,     0.14214,     0.14314,\n",
       "           0.14414,     0.14515,     0.14615,     0.14715,     0.14815,     0.14915,     0.15015,     0.15115,     0.15215,     0.15315,     0.15415,     0.15516,     0.15616,     0.15716,     0.15816,     0.15916,     0.16016,     0.16116,     0.16216,     0.16316,     0.16416,     0.16517,     0.16617,     0.16717,\n",
       "           0.16817,     0.16917,     0.17017,     0.17117,     0.17217,     0.17317,     0.17417,     0.17518,     0.17618,     0.17718,     0.17818,     0.17918,     0.18018,     0.18118,     0.18218,     0.18318,     0.18418,     0.18519,     0.18619,     0.18719,     0.18819,     0.18919,     0.19019,     0.19119,\n",
       "           0.19219,     0.19319,     0.19419,      0.1952,      0.1962,      0.1972,      0.1982,      0.1992,      0.2002,      0.2012,      0.2022,      0.2032,      0.2042,     0.20521,     0.20621,     0.20721,     0.20821,     0.20921,     0.21021,     0.21121,     0.21221,     0.21321,     0.21421,     0.21522,\n",
       "           0.21622,     0.21722,     0.21822,     0.21922,     0.22022,     0.22122,     0.22222,     0.22322,     0.22422,     0.22523,     0.22623,     0.22723,     0.22823,     0.22923,     0.23023,     0.23123,     0.23223,     0.23323,     0.23423,     0.23524,     0.23624,     0.23724,     0.23824,     0.23924,\n",
       "           0.24024,     0.24124,     0.24224,     0.24324,     0.24424,     0.24525,     0.24625,     0.24725,     0.24825,     0.24925,     0.25025,     0.25125,     0.25225,     0.25325,     0.25425,     0.25526,     0.25626,     0.25726,     0.25826,     0.25926,     0.26026,     0.26126,     0.26226,     0.26326,\n",
       "           0.26426,     0.26527,     0.26627,     0.26727,     0.26827,     0.26927,     0.27027,     0.27127,     0.27227,     0.27327,     0.27427,     0.27528,     0.27628,     0.27728,     0.27828,     0.27928,     0.28028,     0.28128,     0.28228,     0.28328,     0.28428,     0.28529,     0.28629,     0.28729,\n",
       "           0.28829,     0.28929,     0.29029,     0.29129,     0.29229,     0.29329,     0.29429,      0.2953,      0.2963,      0.2973,      0.2983,      0.2993,      0.3003,      0.3013,      0.3023,      0.3033,      0.3043,     0.30531,     0.30631,     0.30731,     0.30831,     0.30931,     0.31031,     0.31131,\n",
       "           0.31231,     0.31331,     0.31431,     0.31532,     0.31632,     0.31732,     0.31832,     0.31932,     0.32032,     0.32132,     0.32232,     0.32332,     0.32432,     0.32533,     0.32633,     0.32733,     0.32833,     0.32933,     0.33033,     0.33133,     0.33233,     0.33333,     0.33433,     0.33534,\n",
       "           0.33634,     0.33734,     0.33834,     0.33934,     0.34034,     0.34134,     0.34234,     0.34334,     0.34434,     0.34535,     0.34635,     0.34735,     0.34835,     0.34935,     0.35035,     0.35135,     0.35235,     0.35335,     0.35435,     0.35536,     0.35636,     0.35736,     0.35836,     0.35936,\n",
       "           0.36036,     0.36136,     0.36236,     0.36336,     0.36436,     0.36537,     0.36637,     0.36737,     0.36837,     0.36937,     0.37037,     0.37137,     0.37237,     0.37337,     0.37437,     0.37538,     0.37638,     0.37738,     0.37838,     0.37938,     0.38038,     0.38138,     0.38238,     0.38338,\n",
       "           0.38438,     0.38539,     0.38639,     0.38739,     0.38839,     0.38939,     0.39039,     0.39139,     0.39239,     0.39339,     0.39439,      0.3954,      0.3964,      0.3974,      0.3984,      0.3994,      0.4004,      0.4014,      0.4024,      0.4034,      0.4044,     0.40541,     0.40641,     0.40741,\n",
       "           0.40841,     0.40941,     0.41041,     0.41141,     0.41241,     0.41341,     0.41441,     0.41542,     0.41642,     0.41742,     0.41842,     0.41942,     0.42042,     0.42142,     0.42242,     0.42342,     0.42442,     0.42543,     0.42643,     0.42743,     0.42843,     0.42943,     0.43043,     0.43143,\n",
       "           0.43243,     0.43343,     0.43443,     0.43544,     0.43644,     0.43744,     0.43844,     0.43944,     0.44044,     0.44144,     0.44244,     0.44344,     0.44444,     0.44545,     0.44645,     0.44745,     0.44845,     0.44945,     0.45045,     0.45145,     0.45245,     0.45345,     0.45445,     0.45546,\n",
       "           0.45646,     0.45746,     0.45846,     0.45946,     0.46046,     0.46146,     0.46246,     0.46346,     0.46446,     0.46547,     0.46647,     0.46747,     0.46847,     0.46947,     0.47047,     0.47147,     0.47247,     0.47347,     0.47447,     0.47548,     0.47648,     0.47748,     0.47848,     0.47948,\n",
       "           0.48048,     0.48148,     0.48248,     0.48348,     0.48448,     0.48549,     0.48649,     0.48749,     0.48849,     0.48949,     0.49049,     0.49149,     0.49249,     0.49349,     0.49449,      0.4955,      0.4965,      0.4975,      0.4985,      0.4995,      0.5005,      0.5015,      0.5025,      0.5035,\n",
       "            0.5045,     0.50551,     0.50651,     0.50751,     0.50851,     0.50951,     0.51051,     0.51151,     0.51251,     0.51351,     0.51451,     0.51552,     0.51652,     0.51752,     0.51852,     0.51952,     0.52052,     0.52152,     0.52252,     0.52352,     0.52452,     0.52553,     0.52653,     0.52753,\n",
       "           0.52853,     0.52953,     0.53053,     0.53153,     0.53253,     0.53353,     0.53453,     0.53554,     0.53654,     0.53754,     0.53854,     0.53954,     0.54054,     0.54154,     0.54254,     0.54354,     0.54454,     0.54555,     0.54655,     0.54755,     0.54855,     0.54955,     0.55055,     0.55155,\n",
       "           0.55255,     0.55355,     0.55455,     0.55556,     0.55656,     0.55756,     0.55856,     0.55956,     0.56056,     0.56156,     0.56256,     0.56356,     0.56456,     0.56557,     0.56657,     0.56757,     0.56857,     0.56957,     0.57057,     0.57157,     0.57257,     0.57357,     0.57457,     0.57558,\n",
       "           0.57658,     0.57758,     0.57858,     0.57958,     0.58058,     0.58158,     0.58258,     0.58358,     0.58458,     0.58559,     0.58659,     0.58759,     0.58859,     0.58959,     0.59059,     0.59159,     0.59259,     0.59359,     0.59459,      0.5956,      0.5966,      0.5976,      0.5986,      0.5996,\n",
       "            0.6006,      0.6016,      0.6026,      0.6036,      0.6046,     0.60561,     0.60661,     0.60761,     0.60861,     0.60961,     0.61061,     0.61161,     0.61261,     0.61361,     0.61461,     0.61562,     0.61662,     0.61762,     0.61862,     0.61962,     0.62062,     0.62162,     0.62262,     0.62362,\n",
       "           0.62462,     0.62563,     0.62663,     0.62763,     0.62863,     0.62963,     0.63063,     0.63163,     0.63263,     0.63363,     0.63463,     0.63564,     0.63664,     0.63764,     0.63864,     0.63964,     0.64064,     0.64164,     0.64264,     0.64364,     0.64464,     0.64565,     0.64665,     0.64765,\n",
       "           0.64865,     0.64965,     0.65065,     0.65165,     0.65265,     0.65365,     0.65465,     0.65566,     0.65666,     0.65766,     0.65866,     0.65966,     0.66066,     0.66166,     0.66266,     0.66366,     0.66466,     0.66567,     0.66667,     0.66767,     0.66867,     0.66967,     0.67067,     0.67167,\n",
       "           0.67267,     0.67367,     0.67467,     0.67568,     0.67668,     0.67768,     0.67868,     0.67968,     0.68068,     0.68168,     0.68268,     0.68368,     0.68468,     0.68569,     0.68669,     0.68769,     0.68869,     0.68969,     0.69069,     0.69169,     0.69269,     0.69369,     0.69469,      0.6957,\n",
       "            0.6967,      0.6977,      0.6987,      0.6997,      0.7007,      0.7017,      0.7027,      0.7037,      0.7047,     0.70571,     0.70671,     0.70771,     0.70871,     0.70971,     0.71071,     0.71171,     0.71271,     0.71371,     0.71471,     0.71572,     0.71672,     0.71772,     0.71872,     0.71972,\n",
       "           0.72072,     0.72172,     0.72272,     0.72372,     0.72472,     0.72573,     0.72673,     0.72773,     0.72873,     0.72973,     0.73073,     0.73173,     0.73273,     0.73373,     0.73473,     0.73574,     0.73674,     0.73774,     0.73874,     0.73974,     0.74074,     0.74174,     0.74274,     0.74374,\n",
       "           0.74474,     0.74575,     0.74675,     0.74775,     0.74875,     0.74975,     0.75075,     0.75175,     0.75275,     0.75375,     0.75475,     0.75576,     0.75676,     0.75776,     0.75876,     0.75976,     0.76076,     0.76176,     0.76276,     0.76376,     0.76476,     0.76577,     0.76677,     0.76777,\n",
       "           0.76877,     0.76977,     0.77077,     0.77177,     0.77277,     0.77377,     0.77477,     0.77578,     0.77678,     0.77778,     0.77878,     0.77978,     0.78078,     0.78178,     0.78278,     0.78378,     0.78478,     0.78579,     0.78679,     0.78779,     0.78879,     0.78979,     0.79079,     0.79179,\n",
       "           0.79279,     0.79379,     0.79479,      0.7958,      0.7968,      0.7978,      0.7988,      0.7998,      0.8008,      0.8018,      0.8028,      0.8038,      0.8048,     0.80581,     0.80681,     0.80781,     0.80881,     0.80981,     0.81081,     0.81181,     0.81281,     0.81381,     0.81481,     0.81582,\n",
       "           0.81682,     0.81782,     0.81882,     0.81982,     0.82082,     0.82182,     0.82282,     0.82382,     0.82482,     0.82583,     0.82683,     0.82783,     0.82883,     0.82983,     0.83083,     0.83183,     0.83283,     0.83383,     0.83483,     0.83584,     0.83684,     0.83784,     0.83884,     0.83984,\n",
       "           0.84084,     0.84184,     0.84284,     0.84384,     0.84484,     0.84585,     0.84685,     0.84785,     0.84885,     0.84985,     0.85085,     0.85185,     0.85285,     0.85385,     0.85485,     0.85586,     0.85686,     0.85786,     0.85886,     0.85986,     0.86086,     0.86186,     0.86286,     0.86386,\n",
       "           0.86486,     0.86587,     0.86687,     0.86787,     0.86887,     0.86987,     0.87087,     0.87187,     0.87287,     0.87387,     0.87487,     0.87588,     0.87688,     0.87788,     0.87888,     0.87988,     0.88088,     0.88188,     0.88288,     0.88388,     0.88488,     0.88589,     0.88689,     0.88789,\n",
       "           0.88889,     0.88989,     0.89089,     0.89189,     0.89289,     0.89389,     0.89489,      0.8959,      0.8969,      0.8979,      0.8989,      0.8999,      0.9009,      0.9019,      0.9029,      0.9039,      0.9049,     0.90591,     0.90691,     0.90791,     0.90891,     0.90991,     0.91091,     0.91191,\n",
       "           0.91291,     0.91391,     0.91491,     0.91592,     0.91692,     0.91792,     0.91892,     0.91992,     0.92092,     0.92192,     0.92292,     0.92392,     0.92492,     0.92593,     0.92693,     0.92793,     0.92893,     0.92993,     0.93093,     0.93193,     0.93293,     0.93393,     0.93493,     0.93594,\n",
       "           0.93694,     0.93794,     0.93894,     0.93994,     0.94094,     0.94194,     0.94294,     0.94394,     0.94494,     0.94595,     0.94695,     0.94795,     0.94895,     0.94995,     0.95095,     0.95195,     0.95295,     0.95395,     0.95495,     0.95596,     0.95696,     0.95796,     0.95896,     0.95996,\n",
       "           0.96096,     0.96196,     0.96296,     0.96396,     0.96496,     0.96597,     0.96697,     0.96797,     0.96897,     0.96997,     0.97097,     0.97197,     0.97297,     0.97397,     0.97497,     0.97598,     0.97698,     0.97798,     0.97898,     0.97998,     0.98098,     0.98198,     0.98298,     0.98398,\n",
       "           0.98498,     0.98599,     0.98699,     0.98799,     0.98899,     0.98999,     0.99099,     0.99199,     0.99299,     0.99399,     0.99499,       0.996,       0.997,       0.998,       0.999,           1]), array([[   0.017179,    0.017179,    0.039494,    0.063763,    0.084417,    0.099463,     0.11172,      0.1211,     0.12621,     0.13062,     0.13386,     0.13779,     0.13977,     0.14166,     0.14363,     0.14551,     0.14742,     0.14939,     0.15053,     0.15197,     0.15232,     0.15304,     0.15343,\n",
       "            0.15421,     0.15527,     0.15614,     0.15684,     0.15671,     0.15757,     0.15849,     0.15887,     0.15955,     0.15924,     0.16013,     0.16058,     0.16109,      0.1615,     0.16194,     0.16218,     0.16253,     0.16292,     0.16225,     0.16175,     0.16227,     0.16276,     0.16333,\n",
       "            0.16374,       0.164,     0.16461,     0.16523,     0.16571,     0.16488,     0.16497,     0.16413,     0.16376,     0.16389,     0.16393,       0.164,     0.16418,     0.16434,     0.16464,     0.16505,     0.16539,     0.16611,     0.16621,     0.16631,     0.16667,     0.16675,     0.16682,\n",
       "            0.16696,     0.16707,     0.16677,     0.16631,     0.16667,     0.16681,     0.16703,     0.16713,     0.16718,     0.16727,     0.16735,     0.16748,     0.16685,     0.16703,      0.1672,     0.16734,     0.16767,     0.16781,     0.16787,     0.16792,     0.16818,     0.16741,     0.16747,\n",
       "            0.16777,     0.16797,     0.16811,     0.16831,     0.16744,      0.1676,     0.16765,     0.16704,     0.16671,     0.16677,     0.16683,     0.16696,       0.167,     0.16703,      0.1671,     0.16719,     0.16734,     0.16753,     0.16769,     0.16754,     0.16702,     0.16689,     0.16694,\n",
       "            0.16727,     0.16733,     0.16735,     0.16738,      0.1674,     0.16749,     0.16782,     0.16791,     0.16795,     0.16812,     0.16826,     0.16828,     0.16831,     0.16834,     0.16838,     0.16844,     0.16752,     0.16749,     0.16732,     0.16672,     0.16584,     0.16597,     0.16508,\n",
       "            0.16517,      0.1652,     0.16522,     0.16525,     0.16441,     0.16446,     0.16467,     0.16478,     0.16482,     0.16486,     0.16493,     0.16501,     0.16509,      0.1652,     0.16528,     0.16535,     0.16551,     0.16578,     0.16479,     0.16399,     0.16406,     0.16413,     0.16419,\n",
       "            0.16423,     0.16428,     0.16433,     0.16437,     0.16439,      0.1644,     0.16442,     0.16443,     0.16445,     0.16446,     0.16387,     0.16372,     0.16311,     0.16295,     0.16307,     0.16322,     0.16328,     0.16332,     0.16335,     0.16338,     0.16341,     0.16345,     0.16351,\n",
       "             0.1636,     0.16365,     0.16329,     0.16231,     0.16172,     0.16148,      0.1613,     0.16112,     0.16094,     0.16076,     0.16058,     0.16058,      0.1606,     0.16063,     0.16065,     0.16069,     0.16072,     0.16078,     0.16086,     0.16092,     0.16072,     0.16046,      0.1602,\n",
       "            0.15994,     0.15963,     0.15917,      0.1587,     0.15821,     0.15782,     0.15791,     0.15795,     0.15798,     0.15788,     0.15776,     0.15764,     0.15752,      0.1574,     0.15728,     0.15716,     0.15705,     0.15693,     0.15692,     0.15694,     0.15696,     0.15698,       0.157,\n",
       "            0.15709,     0.15713,     0.15716,     0.15721,     0.15729,     0.15733,     0.15736,     0.15739,     0.15742,     0.15746,     0.15677,     0.15644,     0.15642,     0.15609,     0.15576,     0.15549,     0.15558,     0.15561,     0.15565,     0.15459,     0.15462,     0.15465,      0.1547,\n",
       "            0.15476,     0.15482,     0.15462,     0.15424,     0.15387,     0.15376,     0.15378,     0.15379,      0.1538,     0.15381,     0.15382,     0.15384,     0.15385,     0.15386,     0.15386,     0.15387,     0.15388,     0.15389,     0.15389,      0.1539,     0.15391,     0.15392,     0.15393,\n",
       "            0.15393,     0.15394,     0.15395,     0.15396,     0.15397,     0.15398,     0.15399,       0.154,     0.15401,     0.15402,     0.15404,     0.15409,     0.15414,     0.15417,      0.1542,     0.15313,      0.1532,     0.15284,     0.15239,     0.15187,     0.15123,     0.15071,     0.15026,\n",
       "            0.14994,     0.15005,     0.14931,       0.149,     0.14903,     0.14905,     0.14907,     0.14835,     0.14805,     0.14781,     0.14754,     0.14728,     0.14701,     0.14678,     0.14657,     0.14635,     0.14613,     0.14592,     0.14586,     0.14589,     0.14591,     0.14599,     0.14588,\n",
       "            0.14578,     0.14567,     0.14556,     0.14545,     0.14534,     0.14523,     0.14513,     0.14502,      0.1438,     0.14385,     0.14274,     0.14265,     0.14256,     0.14247,     0.14238,     0.14229,      0.1422,      0.1421,     0.14201,     0.14192,     0.14183,     0.14174,     0.14164,\n",
       "            0.14145,     0.14127,     0.14109,     0.14091,     0.14072,     0.14054,     0.14044,     0.14033,     0.14023,     0.14012,     0.14002,     0.13992,     0.13981,     0.13971,      0.1396,      0.1395,     0.13911,     0.13823,     0.13799,     0.13775,     0.13751,     0.13726,      0.1372,\n",
       "            0.13724,     0.13727,     0.13662,     0.13624,     0.13627,      0.1363,     0.13642,     0.13646,     0.13649,     0.13652,     0.13655,     0.13615,     0.13573,     0.13527,     0.13469,     0.13411,     0.13353,     0.13308,     0.13284,     0.13259,     0.13235,      0.1321,     0.13186,\n",
       "            0.13162,     0.13137,     0.13113,     0.13091,     0.13094,     0.13097,     0.13099,       0.131,       0.131,     0.13101,     0.13102,     0.13102,     0.13103,     0.13104,     0.13104,     0.13105,     0.13106,     0.13106,     0.13098,     0.13059,      0.1302,     0.12994,     0.12997,\n",
       "               0.13,     0.12989,      0.1297,      0.1295,     0.12931,     0.12912,     0.12892,     0.12879,     0.12868,     0.12858,     0.12847,     0.12836,     0.12825,     0.12814,     0.12803,     0.12792,     0.12782,     0.12776,     0.12782,     0.12783,     0.12784,     0.12785,     0.12786,\n",
       "            0.12787,     0.12788,     0.12789,     0.12702,      0.1266,     0.12641,     0.12621,     0.12602,     0.12582,     0.12563,     0.12562,     0.12563,     0.12564,     0.12565,     0.12567,     0.12568,     0.12569,      0.1257,     0.12571,     0.12571,     0.12572,     0.12573,     0.12574,\n",
       "            0.12575,     0.12576,     0.12512,     0.12445,     0.12416,     0.12386,     0.12357,     0.12347,     0.12348,     0.12348,     0.12349,     0.12349,     0.12349,      0.1235,      0.1235,     0.12351,     0.12351,     0.12351,     0.12352,     0.12352,     0.12352,     0.12353,     0.12353,\n",
       "            0.12354,     0.12354,     0.12354,     0.12353,     0.12342,     0.12332,     0.12321,      0.1231,       0.123,     0.12289,     0.12278,     0.12267,     0.12257,     0.12246,      0.1219,     0.12125,     0.12126,     0.12127,     0.12128,     0.12129,      0.1213,     0.12131,     0.12132,\n",
       "            0.12107,     0.12068,     0.12028,     0.11932,     0.11902,     0.11903,     0.11904,     0.11905,     0.11906,     0.11907,     0.11907,     0.11908,     0.11909,     0.11871,     0.11832,     0.11793,     0.11783,     0.11773,     0.11764,     0.11754,     0.11744,     0.11734,     0.11724,\n",
       "            0.11714,     0.11704,     0.11694,     0.11685,     0.11557,      0.1154,     0.11523,     0.11506,     0.11489,     0.11472,     0.11455,     0.11416,     0.11357,     0.11319,     0.11299,     0.11279,      0.1126,      0.1124,      0.1122,     0.11215,     0.11218,      0.1122,     0.11215,\n",
       "            0.11208,     0.11201,     0.11193,     0.11186,     0.11179,     0.11172,     0.11165,     0.11157,      0.1115,     0.11143,     0.11136,     0.11128,     0.11121,     0.11114,     0.11107,     0.11024,     0.10946,     0.10886,     0.10858,     0.10841,     0.10824,     0.10807,      0.1079,\n",
       "            0.10773,     0.10755,     0.10727,     0.10697,     0.10667,     0.10637,      0.1064,      0.1056,     0.10457,     0.10373,     0.10313,     0.10252,     0.10192,     0.10132,     0.10071,     0.10057,      0.1006,     0.10062,     0.10062,     0.10063,     0.10063,     0.10064,     0.10064,\n",
       "            0.10065,     0.10065,     0.10065,     0.10066,     0.10066,     0.10067,     0.10067,     0.10068,     0.10068,     0.10069,      0.1007,     0.10071,     0.10072,     0.10074,     0.10062,     0.10022,    0.099815,     0.09938,    0.098895,    0.098409,    0.096051,    0.094834,    0.094707,\n",
       "           0.094591,    0.094475,    0.094359,    0.094243,    0.094127,    0.094011,    0.093895,    0.093778,    0.093662,    0.093373,    0.093024,    0.092675,    0.092399,    0.092271,    0.092142,    0.092014,    0.091885,    0.091756,    0.091628,    0.091499,     0.09137,    0.091239,    0.091064,\n",
       "           0.090889,    0.090715,     0.09054,    0.090365,     0.09019,    0.088797,    0.088524,    0.088252,    0.087979,    0.087707,    0.086626,    0.085397,    0.085316,    0.084566,    0.084079,    0.083994,    0.083909,    0.083824,    0.083739,    0.083654,    0.083569,    0.083484,    0.083399,\n",
       "           0.083314,    0.083229,    0.083144,    0.083058,    0.082973,    0.082867,    0.082713,    0.082558,    0.082404,    0.082249,    0.082095,    0.081941,    0.081786,    0.081751,    0.081132,    0.080555,    0.080566,    0.080578,    0.080589,    0.080601,    0.080446,    0.080136,    0.079826,\n",
       "           0.079516,    0.079285,    0.079078,    0.078871,    0.078664,    0.078457,     0.07825,    0.077776,    0.077279,    0.076849,    0.076494,    0.076138,    0.074579,    0.074423,    0.074267,    0.074111,    0.073955,    0.073799,    0.073643,    0.073487,    0.073208,    0.072583,    0.070977,\n",
       "           0.070982,    0.070986,    0.070991,    0.070995,    0.070999,    0.071004,    0.071008,    0.071013,    0.071017,    0.071016,     0.07094,    0.070864,    0.070788,    0.070712,    0.070636,     0.07056,    0.070484,    0.070408,    0.070332,    0.070256,     0.07018,    0.070104,    0.070028,\n",
       "           0.069951,    0.069875,    0.069799,     0.06845,    0.068199,    0.067947,    0.067696,    0.067444,    0.067192,    0.066941,    0.066689,    0.066437,    0.066185,    0.065811,    0.065391,     0.06497,    0.063877,    0.063134,    0.062501,    0.062175,    0.061894,    0.061613,    0.061331,\n",
       "           0.061146,    0.061064,    0.060983,    0.060901,    0.060819,    0.060737,    0.060656,    0.060574,    0.060492,     0.06041,    0.060329,    0.060247,    0.060165,    0.060083,    0.060001,    0.059766,    0.059259,    0.058751,    0.058565,    0.058406,    0.058247,    0.058088,    0.057929,\n",
       "           0.057771,    0.057612,    0.057397,    0.056761,     0.05609,     0.05524,    0.054092,    0.052815,    0.052499,    0.052502,    0.052504,    0.052507,     0.05251,    0.052512,    0.052515,    0.052518,     0.05252,    0.052523,    0.052525,    0.052528,    0.049857,    0.048532,    0.048104,\n",
       "           0.047676,    0.046255,    0.046152,    0.046049,    0.045946,    0.045843,     0.04574,    0.045637,    0.045534,    0.045431,    0.045328,    0.045225,    0.045122,    0.045019,    0.043764,     0.04333,    0.042899,    0.042473,    0.042104,    0.041734,    0.041365,    0.040955,    0.040523,\n",
       "           0.040092,    0.039346,    0.038024,    0.037155,    0.036784,    0.036413,    0.035862,    0.034994,    0.033736,    0.032833,     0.03231,    0.032197,    0.032083,     0.03197,    0.031856,    0.031743,    0.031629,    0.031515,    0.031402,    0.031288,    0.031174,    0.030962,    0.030439,\n",
       "           0.029916,    0.028763,    0.028225,    0.027851,    0.027476,    0.027135,    0.026843,    0.026552,     0.02626,    0.025971,    0.025846,    0.025721,    0.025596,    0.025471,    0.025346,     0.02522,    0.025095,     0.02497,    0.024845,    0.024719,    0.024487,    0.024224,     0.02396,\n",
       "           0.023697,    0.023434,    0.023144,    0.022851,    0.022558,    0.022265,    0.021953,    0.021623,    0.021293,    0.020963,    0.020604,    0.020227,    0.019849,    0.019374,    0.018492,    0.015993,    0.014311,    0.014089,    0.013868,    0.013646,    0.013424,    0.013202,    0.012999,\n",
       "           0.012821,    0.012644,    0.012466,    0.012288,    0.012111,    0.011933,    0.011741,    0.011407,    0.011074,     0.01074,    0.010437,    0.010259,    0.010081,   0.0099029,   0.0097248,   0.0095467,   0.0093686,   0.0091904,   0.0090306,   0.0088733,    0.008716,   0.0085587,   0.0084014,\n",
       "           0.008244,   0.0080867,   0.0079293,   0.0074732,   0.0068037,   0.0057098,   0.0051789,   0.0050715,   0.0049642,   0.0048568,   0.0047494,    0.004642,   0.0045346,   0.0044272,   0.0043198,   0.0042123,   0.0041049,   0.0039974,   0.0038155,   0.0035467,   0.0032779,    0.003009,     0.00274,\n",
       "          0.0025916,    0.002529,   0.0024664,   0.0024039,   0.0023413,   0.0022787,   0.0022161,   0.0021535,   0.0020909,   0.0020283,   0.0019657,   0.0019031,   0.0018405,   0.0017779,   0.0017152,   0.0016526,     0.00159,   0.0015274,   0.0014647,   0.0014021,   0.0013394,           0,           0,\n",
       "                  0,           0,           0,           0,           0,           0,           0,           0,           0,           0,           0,           0,           0,           0,           0,           0,           0,           0,           0,           0,           0,           0,           0,\n",
       "                  0,           0,           0,           0,           0,           0,           0,           0,           0,           0,           0]]), 'Confidence', 'F1'], [array([          0,    0.001001,    0.002002,    0.003003,    0.004004,    0.005005,    0.006006,    0.007007,    0.008008,    0.009009,     0.01001,    0.011011,    0.012012,    0.013013,    0.014014,    0.015015,    0.016016,    0.017017,    0.018018,    0.019019,     0.02002,    0.021021,    0.022022,    0.023023,\n",
       "          0.024024,    0.025025,    0.026026,    0.027027,    0.028028,    0.029029,     0.03003,    0.031031,    0.032032,    0.033033,    0.034034,    0.035035,    0.036036,    0.037037,    0.038038,    0.039039,     0.04004,    0.041041,    0.042042,    0.043043,    0.044044,    0.045045,    0.046046,    0.047047,\n",
       "          0.048048,    0.049049,     0.05005,    0.051051,    0.052052,    0.053053,    0.054054,    0.055055,    0.056056,    0.057057,    0.058058,    0.059059,     0.06006,    0.061061,    0.062062,    0.063063,    0.064064,    0.065065,    0.066066,    0.067067,    0.068068,    0.069069,     0.07007,    0.071071,\n",
       "          0.072072,    0.073073,    0.074074,    0.075075,    0.076076,    0.077077,    0.078078,    0.079079,     0.08008,    0.081081,    0.082082,    0.083083,    0.084084,    0.085085,    0.086086,    0.087087,    0.088088,    0.089089,     0.09009,    0.091091,    0.092092,    0.093093,    0.094094,    0.095095,\n",
       "          0.096096,    0.097097,    0.098098,    0.099099,      0.1001,      0.1011,      0.1021,      0.1031,      0.1041,     0.10511,     0.10611,     0.10711,     0.10811,     0.10911,     0.11011,     0.11111,     0.11211,     0.11311,     0.11411,     0.11512,     0.11612,     0.11712,     0.11812,     0.11912,\n",
       "           0.12012,     0.12112,     0.12212,     0.12312,     0.12412,     0.12513,     0.12613,     0.12713,     0.12813,     0.12913,     0.13013,     0.13113,     0.13213,     0.13313,     0.13413,     0.13514,     0.13614,     0.13714,     0.13814,     0.13914,     0.14014,     0.14114,     0.14214,     0.14314,\n",
       "           0.14414,     0.14515,     0.14615,     0.14715,     0.14815,     0.14915,     0.15015,     0.15115,     0.15215,     0.15315,     0.15415,     0.15516,     0.15616,     0.15716,     0.15816,     0.15916,     0.16016,     0.16116,     0.16216,     0.16316,     0.16416,     0.16517,     0.16617,     0.16717,\n",
       "           0.16817,     0.16917,     0.17017,     0.17117,     0.17217,     0.17317,     0.17417,     0.17518,     0.17618,     0.17718,     0.17818,     0.17918,     0.18018,     0.18118,     0.18218,     0.18318,     0.18418,     0.18519,     0.18619,     0.18719,     0.18819,     0.18919,     0.19019,     0.19119,\n",
       "           0.19219,     0.19319,     0.19419,      0.1952,      0.1962,      0.1972,      0.1982,      0.1992,      0.2002,      0.2012,      0.2022,      0.2032,      0.2042,     0.20521,     0.20621,     0.20721,     0.20821,     0.20921,     0.21021,     0.21121,     0.21221,     0.21321,     0.21421,     0.21522,\n",
       "           0.21622,     0.21722,     0.21822,     0.21922,     0.22022,     0.22122,     0.22222,     0.22322,     0.22422,     0.22523,     0.22623,     0.22723,     0.22823,     0.22923,     0.23023,     0.23123,     0.23223,     0.23323,     0.23423,     0.23524,     0.23624,     0.23724,     0.23824,     0.23924,\n",
       "           0.24024,     0.24124,     0.24224,     0.24324,     0.24424,     0.24525,     0.24625,     0.24725,     0.24825,     0.24925,     0.25025,     0.25125,     0.25225,     0.25325,     0.25425,     0.25526,     0.25626,     0.25726,     0.25826,     0.25926,     0.26026,     0.26126,     0.26226,     0.26326,\n",
       "           0.26426,     0.26527,     0.26627,     0.26727,     0.26827,     0.26927,     0.27027,     0.27127,     0.27227,     0.27327,     0.27427,     0.27528,     0.27628,     0.27728,     0.27828,     0.27928,     0.28028,     0.28128,     0.28228,     0.28328,     0.28428,     0.28529,     0.28629,     0.28729,\n",
       "           0.28829,     0.28929,     0.29029,     0.29129,     0.29229,     0.29329,     0.29429,      0.2953,      0.2963,      0.2973,      0.2983,      0.2993,      0.3003,      0.3013,      0.3023,      0.3033,      0.3043,     0.30531,     0.30631,     0.30731,     0.30831,     0.30931,     0.31031,     0.31131,\n",
       "           0.31231,     0.31331,     0.31431,     0.31532,     0.31632,     0.31732,     0.31832,     0.31932,     0.32032,     0.32132,     0.32232,     0.32332,     0.32432,     0.32533,     0.32633,     0.32733,     0.32833,     0.32933,     0.33033,     0.33133,     0.33233,     0.33333,     0.33433,     0.33534,\n",
       "           0.33634,     0.33734,     0.33834,     0.33934,     0.34034,     0.34134,     0.34234,     0.34334,     0.34434,     0.34535,     0.34635,     0.34735,     0.34835,     0.34935,     0.35035,     0.35135,     0.35235,     0.35335,     0.35435,     0.35536,     0.35636,     0.35736,     0.35836,     0.35936,\n",
       "           0.36036,     0.36136,     0.36236,     0.36336,     0.36436,     0.36537,     0.36637,     0.36737,     0.36837,     0.36937,     0.37037,     0.37137,     0.37237,     0.37337,     0.37437,     0.37538,     0.37638,     0.37738,     0.37838,     0.37938,     0.38038,     0.38138,     0.38238,     0.38338,\n",
       "           0.38438,     0.38539,     0.38639,     0.38739,     0.38839,     0.38939,     0.39039,     0.39139,     0.39239,     0.39339,     0.39439,      0.3954,      0.3964,      0.3974,      0.3984,      0.3994,      0.4004,      0.4014,      0.4024,      0.4034,      0.4044,     0.40541,     0.40641,     0.40741,\n",
       "           0.40841,     0.40941,     0.41041,     0.41141,     0.41241,     0.41341,     0.41441,     0.41542,     0.41642,     0.41742,     0.41842,     0.41942,     0.42042,     0.42142,     0.42242,     0.42342,     0.42442,     0.42543,     0.42643,     0.42743,     0.42843,     0.42943,     0.43043,     0.43143,\n",
       "           0.43243,     0.43343,     0.43443,     0.43544,     0.43644,     0.43744,     0.43844,     0.43944,     0.44044,     0.44144,     0.44244,     0.44344,     0.44444,     0.44545,     0.44645,     0.44745,     0.44845,     0.44945,     0.45045,     0.45145,     0.45245,     0.45345,     0.45445,     0.45546,\n",
       "           0.45646,     0.45746,     0.45846,     0.45946,     0.46046,     0.46146,     0.46246,     0.46346,     0.46446,     0.46547,     0.46647,     0.46747,     0.46847,     0.46947,     0.47047,     0.47147,     0.47247,     0.47347,     0.47447,     0.47548,     0.47648,     0.47748,     0.47848,     0.47948,\n",
       "           0.48048,     0.48148,     0.48248,     0.48348,     0.48448,     0.48549,     0.48649,     0.48749,     0.48849,     0.48949,     0.49049,     0.49149,     0.49249,     0.49349,     0.49449,      0.4955,      0.4965,      0.4975,      0.4985,      0.4995,      0.5005,      0.5015,      0.5025,      0.5035,\n",
       "            0.5045,     0.50551,     0.50651,     0.50751,     0.50851,     0.50951,     0.51051,     0.51151,     0.51251,     0.51351,     0.51451,     0.51552,     0.51652,     0.51752,     0.51852,     0.51952,     0.52052,     0.52152,     0.52252,     0.52352,     0.52452,     0.52553,     0.52653,     0.52753,\n",
       "           0.52853,     0.52953,     0.53053,     0.53153,     0.53253,     0.53353,     0.53453,     0.53554,     0.53654,     0.53754,     0.53854,     0.53954,     0.54054,     0.54154,     0.54254,     0.54354,     0.54454,     0.54555,     0.54655,     0.54755,     0.54855,     0.54955,     0.55055,     0.55155,\n",
       "           0.55255,     0.55355,     0.55455,     0.55556,     0.55656,     0.55756,     0.55856,     0.55956,     0.56056,     0.56156,     0.56256,     0.56356,     0.56456,     0.56557,     0.56657,     0.56757,     0.56857,     0.56957,     0.57057,     0.57157,     0.57257,     0.57357,     0.57457,     0.57558,\n",
       "           0.57658,     0.57758,     0.57858,     0.57958,     0.58058,     0.58158,     0.58258,     0.58358,     0.58458,     0.58559,     0.58659,     0.58759,     0.58859,     0.58959,     0.59059,     0.59159,     0.59259,     0.59359,     0.59459,      0.5956,      0.5966,      0.5976,      0.5986,      0.5996,\n",
       "            0.6006,      0.6016,      0.6026,      0.6036,      0.6046,     0.60561,     0.60661,     0.60761,     0.60861,     0.60961,     0.61061,     0.61161,     0.61261,     0.61361,     0.61461,     0.61562,     0.61662,     0.61762,     0.61862,     0.61962,     0.62062,     0.62162,     0.62262,     0.62362,\n",
       "           0.62462,     0.62563,     0.62663,     0.62763,     0.62863,     0.62963,     0.63063,     0.63163,     0.63263,     0.63363,     0.63463,     0.63564,     0.63664,     0.63764,     0.63864,     0.63964,     0.64064,     0.64164,     0.64264,     0.64364,     0.64464,     0.64565,     0.64665,     0.64765,\n",
       "           0.64865,     0.64965,     0.65065,     0.65165,     0.65265,     0.65365,     0.65465,     0.65566,     0.65666,     0.65766,     0.65866,     0.65966,     0.66066,     0.66166,     0.66266,     0.66366,     0.66466,     0.66567,     0.66667,     0.66767,     0.66867,     0.66967,     0.67067,     0.67167,\n",
       "           0.67267,     0.67367,     0.67467,     0.67568,     0.67668,     0.67768,     0.67868,     0.67968,     0.68068,     0.68168,     0.68268,     0.68368,     0.68468,     0.68569,     0.68669,     0.68769,     0.68869,     0.68969,     0.69069,     0.69169,     0.69269,     0.69369,     0.69469,      0.6957,\n",
       "            0.6967,      0.6977,      0.6987,      0.6997,      0.7007,      0.7017,      0.7027,      0.7037,      0.7047,     0.70571,     0.70671,     0.70771,     0.70871,     0.70971,     0.71071,     0.71171,     0.71271,     0.71371,     0.71471,     0.71572,     0.71672,     0.71772,     0.71872,     0.71972,\n",
       "           0.72072,     0.72172,     0.72272,     0.72372,     0.72472,     0.72573,     0.72673,     0.72773,     0.72873,     0.72973,     0.73073,     0.73173,     0.73273,     0.73373,     0.73473,     0.73574,     0.73674,     0.73774,     0.73874,     0.73974,     0.74074,     0.74174,     0.74274,     0.74374,\n",
       "           0.74474,     0.74575,     0.74675,     0.74775,     0.74875,     0.74975,     0.75075,     0.75175,     0.75275,     0.75375,     0.75475,     0.75576,     0.75676,     0.75776,     0.75876,     0.75976,     0.76076,     0.76176,     0.76276,     0.76376,     0.76476,     0.76577,     0.76677,     0.76777,\n",
       "           0.76877,     0.76977,     0.77077,     0.77177,     0.77277,     0.77377,     0.77477,     0.77578,     0.77678,     0.77778,     0.77878,     0.77978,     0.78078,     0.78178,     0.78278,     0.78378,     0.78478,     0.78579,     0.78679,     0.78779,     0.78879,     0.78979,     0.79079,     0.79179,\n",
       "           0.79279,     0.79379,     0.79479,      0.7958,      0.7968,      0.7978,      0.7988,      0.7998,      0.8008,      0.8018,      0.8028,      0.8038,      0.8048,     0.80581,     0.80681,     0.80781,     0.80881,     0.80981,     0.81081,     0.81181,     0.81281,     0.81381,     0.81481,     0.81582,\n",
       "           0.81682,     0.81782,     0.81882,     0.81982,     0.82082,     0.82182,     0.82282,     0.82382,     0.82482,     0.82583,     0.82683,     0.82783,     0.82883,     0.82983,     0.83083,     0.83183,     0.83283,     0.83383,     0.83483,     0.83584,     0.83684,     0.83784,     0.83884,     0.83984,\n",
       "           0.84084,     0.84184,     0.84284,     0.84384,     0.84484,     0.84585,     0.84685,     0.84785,     0.84885,     0.84985,     0.85085,     0.85185,     0.85285,     0.85385,     0.85485,     0.85586,     0.85686,     0.85786,     0.85886,     0.85986,     0.86086,     0.86186,     0.86286,     0.86386,\n",
       "           0.86486,     0.86587,     0.86687,     0.86787,     0.86887,     0.86987,     0.87087,     0.87187,     0.87287,     0.87387,     0.87487,     0.87588,     0.87688,     0.87788,     0.87888,     0.87988,     0.88088,     0.88188,     0.88288,     0.88388,     0.88488,     0.88589,     0.88689,     0.88789,\n",
       "           0.88889,     0.88989,     0.89089,     0.89189,     0.89289,     0.89389,     0.89489,      0.8959,      0.8969,      0.8979,      0.8989,      0.8999,      0.9009,      0.9019,      0.9029,      0.9039,      0.9049,     0.90591,     0.90691,     0.90791,     0.90891,     0.90991,     0.91091,     0.91191,\n",
       "           0.91291,     0.91391,     0.91491,     0.91592,     0.91692,     0.91792,     0.91892,     0.91992,     0.92092,     0.92192,     0.92292,     0.92392,     0.92492,     0.92593,     0.92693,     0.92793,     0.92893,     0.92993,     0.93093,     0.93193,     0.93293,     0.93393,     0.93493,     0.93594,\n",
       "           0.93694,     0.93794,     0.93894,     0.93994,     0.94094,     0.94194,     0.94294,     0.94394,     0.94494,     0.94595,     0.94695,     0.94795,     0.94895,     0.94995,     0.95095,     0.95195,     0.95295,     0.95395,     0.95495,     0.95596,     0.95696,     0.95796,     0.95896,     0.95996,\n",
       "           0.96096,     0.96196,     0.96296,     0.96396,     0.96496,     0.96597,     0.96697,     0.96797,     0.96897,     0.96997,     0.97097,     0.97197,     0.97297,     0.97397,     0.97497,     0.97598,     0.97698,     0.97798,     0.97898,     0.97998,     0.98098,     0.98198,     0.98298,     0.98398,\n",
       "           0.98498,     0.98599,     0.98699,     0.98799,     0.98899,     0.98999,     0.99099,     0.99199,     0.99299,     0.99399,     0.99499,       0.996,       0.997,       0.998,       0.999,           1]), array([[  0.0092778,   0.0092778,    0.023835,    0.044091,    0.066639,    0.087932,     0.10971,     0.12938,     0.14372,      0.1557,     0.16667,     0.17943,     0.19006,     0.19935,     0.20734,     0.21795,     0.22676,     0.23632,     0.24214,     0.24975,     0.25627,     0.26313,     0.26955,\n",
       "            0.27439,     0.28127,     0.28706,     0.29183,     0.29585,     0.30212,     0.30901,      0.3119,     0.31718,     0.32066,     0.32795,     0.33181,     0.33622,     0.33978,     0.34374,     0.34586,     0.34912,     0.35277,     0.35382,     0.35655,     0.36161,     0.36653,     0.37243,\n",
       "            0.37664,     0.37943,     0.38606,     0.39294,     0.39851,     0.39804,     0.39951,     0.39937,     0.40493,     0.40658,     0.40701,     0.40792,      0.4102,     0.41219,     0.41592,     0.42129,     0.42566,     0.43544,     0.43681,     0.43812,     0.44328,     0.44443,      0.4453,\n",
       "            0.44734,     0.44893,     0.45016,     0.45054,     0.45593,     0.45803,     0.46141,     0.46286,      0.4637,     0.46499,     0.46637,      0.4683,     0.47247,     0.47528,      0.4781,     0.48043,     0.48582,     0.48829,     0.48928,     0.49011,     0.49451,     0.49696,     0.49806,\n",
       "            0.50342,     0.50704,     0.50957,     0.51327,     0.51421,     0.51736,     0.51821,     0.51774,     0.51801,     0.51914,     0.52027,      0.5228,     0.52351,     0.52422,     0.52556,     0.52734,     0.53042,     0.53413,     0.53739,     0.54068,     0.53983,     0.54032,     0.54143,\n",
       "            0.54838,     0.54974,     0.55023,     0.55072,     0.55122,     0.55311,     0.56046,     0.56257,     0.56348,     0.56714,     0.57034,     0.57098,     0.57162,     0.57226,     0.57328,     0.57456,     0.57324,      0.5749,     0.57707,     0.57951,     0.58142,     0.58483,      0.5866,\n",
       "            0.58908,     0.58973,     0.59038,     0.59103,     0.59451,     0.59594,     0.60145,     0.60442,     0.60546,      0.6065,     0.60838,     0.61049,      0.6128,     0.61581,     0.61812,     0.62008,     0.62448,     0.63578,     0.63427,     0.63851,     0.64064,     0.64279,     0.64461,\n",
       "            0.64587,     0.64714,     0.64875,      0.6501,     0.65057,     0.65104,     0.65151,     0.65198,     0.65244,     0.65291,     0.65494,     0.66154,     0.66552,     0.66965,     0.67361,     0.67877,     0.68101,     0.68213,     0.68317,     0.68422,     0.68546,     0.68676,     0.68891,\n",
       "            0.69215,     0.69379,     0.69735,     0.69597,     0.69514,     0.69479,     0.69453,     0.69427,     0.69402,     0.69376,      0.6935,     0.69426,     0.69519,     0.69612,     0.69707,     0.69833,     0.69959,     0.70165,     0.70504,     0.70731,     0.70739,     0.70703,     0.70666,\n",
       "             0.7063,      0.7094,     0.70874,     0.70808,     0.70738,      0.7077,     0.71118,     0.71265,     0.71411,     0.71414,     0.71397,      0.7138,     0.71363,     0.71346,     0.71329,     0.71313,     0.71296,     0.71279,     0.71344,     0.71422,       0.715,     0.71578,     0.71656,\n",
       "            0.72044,     0.72183,     0.72321,      0.7254,     0.72893,     0.73035,     0.73176,     0.73319,     0.73463,     0.73606,     0.73533,      0.7377,     0.74283,     0.74239,     0.74196,     0.74231,     0.74636,     0.74787,     0.74938,     0.74941,     0.75082,     0.75223,     0.75449,\n",
       "            0.75746,     0.76047,     0.76133,     0.76086,     0.76038,     0.76064,     0.76123,     0.76182,     0.76242,     0.76301,      0.7636,     0.76419,     0.76476,     0.76515,     0.76555,     0.76594,     0.76634,     0.76673,     0.76712,     0.76752,     0.76791,     0.76831,      0.7687,\n",
       "             0.7691,     0.76955,     0.77003,     0.77051,       0.771,     0.77148,     0.77196,     0.77244,     0.77292,      0.7734,     0.77423,     0.77694,      0.7793,     0.78122,     0.78312,     0.78272,     0.78597,     0.78615,     0.78561,     0.78499,     0.78421,     0.78358,     0.78303,\n",
       "            0.78412,     0.79001,     0.79152,      0.7921,     0.79331,     0.79453,     0.79574,     0.79532,     0.79954,     0.79971,     0.79939,     0.79908,     0.79877,      0.7985,     0.79824,     0.79799,     0.79773,     0.79747,     0.79841,     0.79995,     0.80148,     0.80792,     0.80779,\n",
       "            0.80767,     0.80754,     0.80742,     0.80729,     0.80717,     0.80704,     0.80692,     0.80679,     0.80539,     0.80858,     0.80949,     0.80938,     0.80928,     0.80917,     0.80906,     0.80896,     0.80885,     0.80874,     0.80864,     0.80853,     0.80842,     0.80831,      0.8082,\n",
       "            0.80798,     0.80776,     0.80755,     0.80733,     0.80711,      0.8069,     0.80677,     0.80665,     0.80652,      0.8064,     0.80627,     0.80615,     0.80602,      0.8059,     0.80577,     0.80565,     0.80517,     0.80411,     0.80381,     0.80351,     0.80321,     0.80292,     0.80423,\n",
       "            0.80636,     0.80848,     0.80772,     0.81356,     0.81575,     0.81795,     0.82667,     0.82977,     0.83236,     0.83465,     0.83695,      0.8366,     0.83615,     0.83565,     0.83501,     0.83438,     0.83373,     0.83323,     0.83296,     0.83268,     0.83241,     0.83213,     0.83185,\n",
       "            0.83158,      0.8313,     0.83102,     0.83103,     0.83343,     0.83583,     0.83744,     0.83797,     0.83851,     0.83905,     0.83958,     0.84012,     0.84065,     0.84119,     0.84173,     0.84226,      0.8428,     0.84334,     0.84365,     0.84323,     0.84281,     0.84327,     0.84577,\n",
       "            0.84826,     0.84908,     0.84887,     0.84867,     0.84846,     0.84825,     0.84805,     0.84791,     0.84779,     0.84768,     0.84756,     0.84744,     0.84733,     0.84721,     0.84709,     0.84698,     0.84686,     0.84874,     0.85394,     0.85486,     0.85579,     0.85672,     0.85764,\n",
       "            0.85857,     0.85949,     0.86042,     0.85978,     0.85935,     0.85915,     0.85895,     0.85875,     0.85855,     0.85835,      0.8593,     0.86035,     0.86141,     0.86247,     0.86352,     0.86458,     0.86562,     0.86648,     0.86734,      0.8682,     0.86906,     0.86991,     0.87077,\n",
       "            0.87163,     0.87249,     0.87227,     0.87163,     0.87135,     0.87107,     0.87078,     0.87095,     0.87134,     0.87173,     0.87211,      0.8725,     0.87289,     0.87328,     0.87367,     0.87405,     0.87444,     0.87483,     0.87522,     0.87561,     0.87599,     0.87638,     0.87677,\n",
       "            0.87716,     0.87755,     0.87793,     0.87825,     0.87815,     0.87805,     0.87795,     0.87785,     0.87775,     0.87765,     0.87755,     0.87745,     0.87735,     0.87725,     0.87672,     0.87656,     0.87756,     0.87856,     0.87957,     0.88057,     0.88157,     0.88257,     0.88357,\n",
       "             0.8837,     0.88334,     0.88298,      0.8821,      0.8825,     0.88343,     0.88435,     0.88527,     0.88619,     0.88711,     0.88803,     0.88895,     0.88987,     0.88957,     0.88922,     0.88889,      0.8888,     0.88871,     0.88862,     0.88853,     0.88844,     0.88835,     0.88826,\n",
       "            0.88818,     0.88809,       0.888,     0.88791,     0.88674,     0.88658,     0.88642,     0.88627,     0.88611,     0.88595,     0.88579,     0.88543,     0.88487,     0.88451,     0.88432,     0.88413,     0.88394,     0.88374,     0.88355,     0.88556,     0.88852,     0.89147,     0.89211,\n",
       "            0.89204,     0.89197,     0.89191,     0.89184,     0.89177,     0.89171,     0.89164,     0.89158,     0.89151,     0.89144,     0.89138,     0.89131,     0.89124,     0.89118,     0.89111,     0.89034,      0.8896,     0.88903,     0.88877,      0.8886,     0.88843,     0.88827,      0.8881,\n",
       "            0.88793,     0.88777,     0.88748,     0.88719,     0.88689,     0.88673,      0.8958,     0.89506,     0.89408,     0.89327,     0.89268,     0.89208,     0.89149,     0.89088,     0.89027,     0.89263,     0.89601,     0.89939,     0.90057,     0.90126,     0.90195,     0.90264,     0.90333,\n",
       "            0.90402,     0.90471,      0.9054,     0.90609,     0.90679,     0.90748,     0.90817,     0.90886,     0.90955,     0.91051,     0.91263,     0.91475,     0.91687,     0.91899,     0.92036,     0.92005,     0.91973,     0.91939,     0.91901,     0.91863,      0.9167,     0.91567,     0.91556,\n",
       "            0.91546,     0.91536,     0.91526,     0.91516,     0.91506,     0.91496,     0.91486,     0.91476,     0.91466,      0.9144,     0.91409,     0.91379,     0.91354,     0.91342,     0.91331,     0.91319,     0.91308,     0.91296,     0.91284,     0.91273,     0.91261,     0.91249,     0.91233,\n",
       "            0.91217,       0.912,     0.91184,     0.91168,     0.91152,     0.91019,     0.90993,     0.90966,      0.9094,     0.90913,     0.90805,      0.9068,     0.91789,     0.91822,     0.91777,     0.91769,     0.91761,     0.91753,     0.91745,     0.91737,     0.91729,     0.91721,     0.91713,\n",
       "            0.91705,     0.91696,     0.91688,      0.9168,     0.91672,     0.91662,     0.91647,     0.91632,     0.91617,     0.91602,     0.91587,     0.91572,     0.91557,     0.92856,     0.92803,     0.92774,     0.93085,     0.93395,     0.93706,     0.94017,     0.95511,     0.95493,     0.95476,\n",
       "            0.95458,     0.95445,     0.95433,     0.95421,     0.95409,     0.95398,     0.95386,     0.95357,     0.95328,     0.95302,      0.9528,     0.95258,     0.95161,      0.9515,      0.9514,      0.9513,      0.9512,      0.9511,       0.951,     0.95089,     0.95071,     0.95029,     0.96603,\n",
       "            0.96768,     0.96934,     0.97099,     0.97264,      0.9743,     0.97595,     0.97761,     0.97926,     0.98091,     0.98245,     0.98244,     0.98242,      0.9824,     0.98238,     0.98236,     0.98234,     0.98232,      0.9823,     0.98228,     0.98226,     0.98224,     0.98222,      0.9822,\n",
       "            0.98218,     0.98216,     0.98214,     0.98178,     0.98172,     0.98165,     0.98158,     0.98151,     0.98144,     0.98137,     0.98129,     0.98122,     0.98115,     0.98104,     0.98092,     0.98079,     0.98046,     0.98023,     0.98003,     0.97992,     0.97983,     0.97973,     0.97964,\n",
       "            0.97958,     0.97955,     0.97952,     0.97949,     0.97947,     0.97944,     0.97941,     0.97938,     0.97935,     0.97933,      0.9793,     0.97927,     0.97924,     0.97921,     0.97918,      0.9791,     0.97892,     0.97874,     0.97867,     0.97861,     0.97855,     0.97849,     0.97843,\n",
       "            0.97837,     0.97831,     0.97823,     0.97798,     0.97772,     0.97738,     0.97689,     0.97633,      0.9776,     0.97948,     0.98135,     0.98323,     0.98511,     0.98699,     0.98886,     0.99074,     0.99262,      0.9945,     0.99637,     0.99825,           1,           1,           1,\n",
       "                  1,           1,           1,           1,           1,           1,           1,           1,           1,           1,           1,           1,           1,           1,           1,           1,           1,           1,           1,           1,           1,           1,           1,\n",
       "                  1,           1,           1,           1,           1,           1,           1,           1,           1,           1,           1,           1,           1,           1,           1,           1,           1,           1,           1,           1,           1,           1,           1,\n",
       "                  1,           1,           1,           1,           1,           1,           1,           1,           1,           1,           1,           1,           1,           1,           1,           1,           1,           1,           1,           1,           1,           1,           1,\n",
       "                  1,           1,           1,           1,           1,           1,           1,           1,           1,           1,           1,           1,           1,           1,           1,           1,           1,           1,           1,           1,           1,           1,           1,\n",
       "                  1,           1,           1,           1,           1,           1,           1,           1,           1,           1,           1,           1,           1,           1,           1,           1,           1,           1,           1,           1,           1,           1,           1,\n",
       "                  1,           1,           1,           1,           1,           1,           1,           1,           1,           1,           1,           1,           1,           1,           1,           1,           1,           1,           1,           1,           1,           1,           1,\n",
       "                  1,           1,           1,           1,           1,           1,           1,           1,           1,           1,           1,           1,           1,           1,           1,           1,           1,           1,           1,           1,           1,           1,           1,\n",
       "                  1,           1,           1,           1,           1,           1,           1,           1,           1,           1,           1,           1,           1,           1,           1,           1,           1,           1,           1,           1,           1,           1,           1,\n",
       "                  1,           1,           1,           1,           1,           1,           1,           1,           1,           1,           1]]), 'Confidence', 'Precision'], [array([          0,    0.001001,    0.002002,    0.003003,    0.004004,    0.005005,    0.006006,    0.007007,    0.008008,    0.009009,     0.01001,    0.011011,    0.012012,    0.013013,    0.014014,    0.015015,    0.016016,    0.017017,    0.018018,    0.019019,     0.02002,    0.021021,    0.022022,    0.023023,\n",
       "          0.024024,    0.025025,    0.026026,    0.027027,    0.028028,    0.029029,     0.03003,    0.031031,    0.032032,    0.033033,    0.034034,    0.035035,    0.036036,    0.037037,    0.038038,    0.039039,     0.04004,    0.041041,    0.042042,    0.043043,    0.044044,    0.045045,    0.046046,    0.047047,\n",
       "          0.048048,    0.049049,     0.05005,    0.051051,    0.052052,    0.053053,    0.054054,    0.055055,    0.056056,    0.057057,    0.058058,    0.059059,     0.06006,    0.061061,    0.062062,    0.063063,    0.064064,    0.065065,    0.066066,    0.067067,    0.068068,    0.069069,     0.07007,    0.071071,\n",
       "          0.072072,    0.073073,    0.074074,    0.075075,    0.076076,    0.077077,    0.078078,    0.079079,     0.08008,    0.081081,    0.082082,    0.083083,    0.084084,    0.085085,    0.086086,    0.087087,    0.088088,    0.089089,     0.09009,    0.091091,    0.092092,    0.093093,    0.094094,    0.095095,\n",
       "          0.096096,    0.097097,    0.098098,    0.099099,      0.1001,      0.1011,      0.1021,      0.1031,      0.1041,     0.10511,     0.10611,     0.10711,     0.10811,     0.10911,     0.11011,     0.11111,     0.11211,     0.11311,     0.11411,     0.11512,     0.11612,     0.11712,     0.11812,     0.11912,\n",
       "           0.12012,     0.12112,     0.12212,     0.12312,     0.12412,     0.12513,     0.12613,     0.12713,     0.12813,     0.12913,     0.13013,     0.13113,     0.13213,     0.13313,     0.13413,     0.13514,     0.13614,     0.13714,     0.13814,     0.13914,     0.14014,     0.14114,     0.14214,     0.14314,\n",
       "           0.14414,     0.14515,     0.14615,     0.14715,     0.14815,     0.14915,     0.15015,     0.15115,     0.15215,     0.15315,     0.15415,     0.15516,     0.15616,     0.15716,     0.15816,     0.15916,     0.16016,     0.16116,     0.16216,     0.16316,     0.16416,     0.16517,     0.16617,     0.16717,\n",
       "           0.16817,     0.16917,     0.17017,     0.17117,     0.17217,     0.17317,     0.17417,     0.17518,     0.17618,     0.17718,     0.17818,     0.17918,     0.18018,     0.18118,     0.18218,     0.18318,     0.18418,     0.18519,     0.18619,     0.18719,     0.18819,     0.18919,     0.19019,     0.19119,\n",
       "           0.19219,     0.19319,     0.19419,      0.1952,      0.1962,      0.1972,      0.1982,      0.1992,      0.2002,      0.2012,      0.2022,      0.2032,      0.2042,     0.20521,     0.20621,     0.20721,     0.20821,     0.20921,     0.21021,     0.21121,     0.21221,     0.21321,     0.21421,     0.21522,\n",
       "           0.21622,     0.21722,     0.21822,     0.21922,     0.22022,     0.22122,     0.22222,     0.22322,     0.22422,     0.22523,     0.22623,     0.22723,     0.22823,     0.22923,     0.23023,     0.23123,     0.23223,     0.23323,     0.23423,     0.23524,     0.23624,     0.23724,     0.23824,     0.23924,\n",
       "           0.24024,     0.24124,     0.24224,     0.24324,     0.24424,     0.24525,     0.24625,     0.24725,     0.24825,     0.24925,     0.25025,     0.25125,     0.25225,     0.25325,     0.25425,     0.25526,     0.25626,     0.25726,     0.25826,     0.25926,     0.26026,     0.26126,     0.26226,     0.26326,\n",
       "           0.26426,     0.26527,     0.26627,     0.26727,     0.26827,     0.26927,     0.27027,     0.27127,     0.27227,     0.27327,     0.27427,     0.27528,     0.27628,     0.27728,     0.27828,     0.27928,     0.28028,     0.28128,     0.28228,     0.28328,     0.28428,     0.28529,     0.28629,     0.28729,\n",
       "           0.28829,     0.28929,     0.29029,     0.29129,     0.29229,     0.29329,     0.29429,      0.2953,      0.2963,      0.2973,      0.2983,      0.2993,      0.3003,      0.3013,      0.3023,      0.3033,      0.3043,     0.30531,     0.30631,     0.30731,     0.30831,     0.30931,     0.31031,     0.31131,\n",
       "           0.31231,     0.31331,     0.31431,     0.31532,     0.31632,     0.31732,     0.31832,     0.31932,     0.32032,     0.32132,     0.32232,     0.32332,     0.32432,     0.32533,     0.32633,     0.32733,     0.32833,     0.32933,     0.33033,     0.33133,     0.33233,     0.33333,     0.33433,     0.33534,\n",
       "           0.33634,     0.33734,     0.33834,     0.33934,     0.34034,     0.34134,     0.34234,     0.34334,     0.34434,     0.34535,     0.34635,     0.34735,     0.34835,     0.34935,     0.35035,     0.35135,     0.35235,     0.35335,     0.35435,     0.35536,     0.35636,     0.35736,     0.35836,     0.35936,\n",
       "           0.36036,     0.36136,     0.36236,     0.36336,     0.36436,     0.36537,     0.36637,     0.36737,     0.36837,     0.36937,     0.37037,     0.37137,     0.37237,     0.37337,     0.37437,     0.37538,     0.37638,     0.37738,     0.37838,     0.37938,     0.38038,     0.38138,     0.38238,     0.38338,\n",
       "           0.38438,     0.38539,     0.38639,     0.38739,     0.38839,     0.38939,     0.39039,     0.39139,     0.39239,     0.39339,     0.39439,      0.3954,      0.3964,      0.3974,      0.3984,      0.3994,      0.4004,      0.4014,      0.4024,      0.4034,      0.4044,     0.40541,     0.40641,     0.40741,\n",
       "           0.40841,     0.40941,     0.41041,     0.41141,     0.41241,     0.41341,     0.41441,     0.41542,     0.41642,     0.41742,     0.41842,     0.41942,     0.42042,     0.42142,     0.42242,     0.42342,     0.42442,     0.42543,     0.42643,     0.42743,     0.42843,     0.42943,     0.43043,     0.43143,\n",
       "           0.43243,     0.43343,     0.43443,     0.43544,     0.43644,     0.43744,     0.43844,     0.43944,     0.44044,     0.44144,     0.44244,     0.44344,     0.44444,     0.44545,     0.44645,     0.44745,     0.44845,     0.44945,     0.45045,     0.45145,     0.45245,     0.45345,     0.45445,     0.45546,\n",
       "           0.45646,     0.45746,     0.45846,     0.45946,     0.46046,     0.46146,     0.46246,     0.46346,     0.46446,     0.46547,     0.46647,     0.46747,     0.46847,     0.46947,     0.47047,     0.47147,     0.47247,     0.47347,     0.47447,     0.47548,     0.47648,     0.47748,     0.47848,     0.47948,\n",
       "           0.48048,     0.48148,     0.48248,     0.48348,     0.48448,     0.48549,     0.48649,     0.48749,     0.48849,     0.48949,     0.49049,     0.49149,     0.49249,     0.49349,     0.49449,      0.4955,      0.4965,      0.4975,      0.4985,      0.4995,      0.5005,      0.5015,      0.5025,      0.5035,\n",
       "            0.5045,     0.50551,     0.50651,     0.50751,     0.50851,     0.50951,     0.51051,     0.51151,     0.51251,     0.51351,     0.51451,     0.51552,     0.51652,     0.51752,     0.51852,     0.51952,     0.52052,     0.52152,     0.52252,     0.52352,     0.52452,     0.52553,     0.52653,     0.52753,\n",
       "           0.52853,     0.52953,     0.53053,     0.53153,     0.53253,     0.53353,     0.53453,     0.53554,     0.53654,     0.53754,     0.53854,     0.53954,     0.54054,     0.54154,     0.54254,     0.54354,     0.54454,     0.54555,     0.54655,     0.54755,     0.54855,     0.54955,     0.55055,     0.55155,\n",
       "           0.55255,     0.55355,     0.55455,     0.55556,     0.55656,     0.55756,     0.55856,     0.55956,     0.56056,     0.56156,     0.56256,     0.56356,     0.56456,     0.56557,     0.56657,     0.56757,     0.56857,     0.56957,     0.57057,     0.57157,     0.57257,     0.57357,     0.57457,     0.57558,\n",
       "           0.57658,     0.57758,     0.57858,     0.57958,     0.58058,     0.58158,     0.58258,     0.58358,     0.58458,     0.58559,     0.58659,     0.58759,     0.58859,     0.58959,     0.59059,     0.59159,     0.59259,     0.59359,     0.59459,      0.5956,      0.5966,      0.5976,      0.5986,      0.5996,\n",
       "            0.6006,      0.6016,      0.6026,      0.6036,      0.6046,     0.60561,     0.60661,     0.60761,     0.60861,     0.60961,     0.61061,     0.61161,     0.61261,     0.61361,     0.61461,     0.61562,     0.61662,     0.61762,     0.61862,     0.61962,     0.62062,     0.62162,     0.62262,     0.62362,\n",
       "           0.62462,     0.62563,     0.62663,     0.62763,     0.62863,     0.62963,     0.63063,     0.63163,     0.63263,     0.63363,     0.63463,     0.63564,     0.63664,     0.63764,     0.63864,     0.63964,     0.64064,     0.64164,     0.64264,     0.64364,     0.64464,     0.64565,     0.64665,     0.64765,\n",
       "           0.64865,     0.64965,     0.65065,     0.65165,     0.65265,     0.65365,     0.65465,     0.65566,     0.65666,     0.65766,     0.65866,     0.65966,     0.66066,     0.66166,     0.66266,     0.66366,     0.66466,     0.66567,     0.66667,     0.66767,     0.66867,     0.66967,     0.67067,     0.67167,\n",
       "           0.67267,     0.67367,     0.67467,     0.67568,     0.67668,     0.67768,     0.67868,     0.67968,     0.68068,     0.68168,     0.68268,     0.68368,     0.68468,     0.68569,     0.68669,     0.68769,     0.68869,     0.68969,     0.69069,     0.69169,     0.69269,     0.69369,     0.69469,      0.6957,\n",
       "            0.6967,      0.6977,      0.6987,      0.6997,      0.7007,      0.7017,      0.7027,      0.7037,      0.7047,     0.70571,     0.70671,     0.70771,     0.70871,     0.70971,     0.71071,     0.71171,     0.71271,     0.71371,     0.71471,     0.71572,     0.71672,     0.71772,     0.71872,     0.71972,\n",
       "           0.72072,     0.72172,     0.72272,     0.72372,     0.72472,     0.72573,     0.72673,     0.72773,     0.72873,     0.72973,     0.73073,     0.73173,     0.73273,     0.73373,     0.73473,     0.73574,     0.73674,     0.73774,     0.73874,     0.73974,     0.74074,     0.74174,     0.74274,     0.74374,\n",
       "           0.74474,     0.74575,     0.74675,     0.74775,     0.74875,     0.74975,     0.75075,     0.75175,     0.75275,     0.75375,     0.75475,     0.75576,     0.75676,     0.75776,     0.75876,     0.75976,     0.76076,     0.76176,     0.76276,     0.76376,     0.76476,     0.76577,     0.76677,     0.76777,\n",
       "           0.76877,     0.76977,     0.77077,     0.77177,     0.77277,     0.77377,     0.77477,     0.77578,     0.77678,     0.77778,     0.77878,     0.77978,     0.78078,     0.78178,     0.78278,     0.78378,     0.78478,     0.78579,     0.78679,     0.78779,     0.78879,     0.78979,     0.79079,     0.79179,\n",
       "           0.79279,     0.79379,     0.79479,      0.7958,      0.7968,      0.7978,      0.7988,      0.7998,      0.8008,      0.8018,      0.8028,      0.8038,      0.8048,     0.80581,     0.80681,     0.80781,     0.80881,     0.80981,     0.81081,     0.81181,     0.81281,     0.81381,     0.81481,     0.81582,\n",
       "           0.81682,     0.81782,     0.81882,     0.81982,     0.82082,     0.82182,     0.82282,     0.82382,     0.82482,     0.82583,     0.82683,     0.82783,     0.82883,     0.82983,     0.83083,     0.83183,     0.83283,     0.83383,     0.83483,     0.83584,     0.83684,     0.83784,     0.83884,     0.83984,\n",
       "           0.84084,     0.84184,     0.84284,     0.84384,     0.84484,     0.84585,     0.84685,     0.84785,     0.84885,     0.84985,     0.85085,     0.85185,     0.85285,     0.85385,     0.85485,     0.85586,     0.85686,     0.85786,     0.85886,     0.85986,     0.86086,     0.86186,     0.86286,     0.86386,\n",
       "           0.86486,     0.86587,     0.86687,     0.86787,     0.86887,     0.86987,     0.87087,     0.87187,     0.87287,     0.87387,     0.87487,     0.87588,     0.87688,     0.87788,     0.87888,     0.87988,     0.88088,     0.88188,     0.88288,     0.88388,     0.88488,     0.88589,     0.88689,     0.88789,\n",
       "           0.88889,     0.88989,     0.89089,     0.89189,     0.89289,     0.89389,     0.89489,      0.8959,      0.8969,      0.8979,      0.8989,      0.8999,      0.9009,      0.9019,      0.9029,      0.9039,      0.9049,     0.90591,     0.90691,     0.90791,     0.90891,     0.90991,     0.91091,     0.91191,\n",
       "           0.91291,     0.91391,     0.91491,     0.91592,     0.91692,     0.91792,     0.91892,     0.91992,     0.92092,     0.92192,     0.92292,     0.92392,     0.92492,     0.92593,     0.92693,     0.92793,     0.92893,     0.92993,     0.93093,     0.93193,     0.93293,     0.93393,     0.93493,     0.93594,\n",
       "           0.93694,     0.93794,     0.93894,     0.93994,     0.94094,     0.94194,     0.94294,     0.94394,     0.94494,     0.94595,     0.94695,     0.94795,     0.94895,     0.94995,     0.95095,     0.95195,     0.95295,     0.95395,     0.95495,     0.95596,     0.95696,     0.95796,     0.95896,     0.95996,\n",
       "           0.96096,     0.96196,     0.96296,     0.96396,     0.96496,     0.96597,     0.96697,     0.96797,     0.96897,     0.96997,     0.97097,     0.97197,     0.97297,     0.97397,     0.97497,     0.97598,     0.97698,     0.97798,     0.97898,     0.97998,     0.98098,     0.98198,     0.98298,     0.98398,\n",
       "           0.98498,     0.98599,     0.98699,     0.98799,     0.98899,     0.98999,     0.99099,     0.99199,     0.99299,     0.99399,     0.99499,       0.996,       0.997,       0.998,       0.999,           1]), array([[    0.11579,     0.11579,     0.11513,     0.11513,     0.11513,     0.11447,     0.11382,     0.11382,      0.1125,      0.1125,     0.11184,     0.11184,     0.11053,     0.10987,     0.10987,     0.10921,     0.10921,     0.10921,     0.10921,     0.10921,     0.10836,     0.10789,     0.10724,\n",
       "            0.10724,     0.10724,     0.10724,     0.10724,     0.10658,     0.10658,     0.10658,     0.10658,     0.10658,     0.10592,     0.10592,     0.10592,     0.10592,     0.10592,     0.10592,     0.10592,     0.10592,     0.10592,     0.10526,     0.10461,     0.10461,     0.10461,     0.10461,\n",
       "            0.10461,     0.10461,     0.10461,     0.10461,     0.10461,     0.10397,     0.10395,     0.10329,     0.10263,     0.10263,     0.10263,     0.10263,     0.10263,     0.10263,     0.10263,     0.10263,     0.10263,     0.10263,     0.10263,     0.10263,     0.10263,     0.10263,     0.10263,\n",
       "            0.10263,     0.10263,     0.10234,     0.10197,     0.10197,     0.10197,     0.10197,     0.10197,     0.10197,     0.10197,     0.10197,     0.10197,     0.10132,     0.10132,     0.10132,     0.10132,     0.10132,     0.10132,     0.10132,     0.10132,     0.10132,     0.10066,     0.10066,\n",
       "            0.10066,     0.10066,     0.10066,     0.10066,         0.1,         0.1,         0.1,    0.099588,    0.099342,    0.099342,    0.099342,    0.099342,    0.099342,    0.099342,    0.099342,    0.099342,    0.099342,    0.099342,    0.099342,    0.099127,     0.09879,    0.098684,    0.098684,\n",
       "           0.098684,    0.098684,    0.098684,    0.098684,    0.098684,    0.098684,    0.098684,    0.098684,    0.098684,    0.098684,    0.098684,    0.098684,    0.098684,    0.098684,    0.098684,    0.098684,     0.09809,    0.098026,    0.097848,    0.097368,    0.096711,    0.096711,    0.096053,\n",
       "           0.096053,    0.096053,    0.096053,    0.096053,    0.095395,    0.095395,    0.095395,    0.095395,    0.095395,    0.095395,    0.095395,    0.095395,    0.095395,    0.095395,    0.095395,    0.095395,    0.095395,    0.095319,    0.094699,    0.094079,    0.094079,    0.094079,    0.094079,\n",
       "           0.094079,    0.094079,    0.094079,    0.094079,    0.094079,    0.094079,    0.094079,    0.094079,    0.094079,    0.094079,    0.093653,    0.093421,    0.092943,    0.092763,    0.092763,    0.092763,    0.092763,    0.092763,    0.092763,    0.092763,    0.092763,    0.092763,    0.092763,\n",
       "           0.092763,    0.092763,    0.092469,    0.091867,    0.091507,    0.091356,    0.091245,    0.091135,    0.091025,    0.090915,    0.090805,    0.090789,    0.090789,    0.090789,    0.090789,    0.090789,    0.090789,    0.090789,    0.090789,    0.090789,    0.090657,    0.090498,     0.09034,\n",
       "           0.090181,    0.089936,    0.089652,    0.089362,    0.089063,    0.088816,    0.088816,    0.088816,    0.088816,    0.088751,    0.088678,    0.088606,    0.088533,     0.08846,    0.088387,    0.088314,    0.088241,    0.088168,    0.088158,    0.088158,    0.088158,    0.088158,    0.088158,\n",
       "           0.088158,    0.088158,    0.088158,    0.088158,    0.088158,    0.088158,    0.088158,    0.088158,    0.088158,    0.088158,    0.087736,      0.0875,    0.087416,    0.087216,    0.087016,    0.086842,    0.086842,    0.086842,    0.086842,    0.086184,    0.086184,    0.086184,    0.086184,\n",
       "           0.086184,    0.086184,    0.086046,    0.085821,    0.085596,    0.085526,    0.085526,    0.085526,    0.085526,    0.085526,    0.085526,    0.085526,    0.085526,    0.085526,    0.085526,    0.085526,    0.085526,    0.085526,    0.085526,    0.085526,    0.085526,    0.085526,    0.085526,\n",
       "           0.085526,    0.085526,    0.085526,    0.085526,    0.085526,    0.085526,    0.085526,    0.085526,    0.085526,    0.085526,    0.085526,    0.085526,    0.085526,    0.085526,     0.08552,    0.084868,    0.084868,    0.084649,     0.08438,    0.084067,    0.083681,    0.083373,    0.083103,\n",
       "           0.082895,    0.082895,    0.082428,    0.082237,    0.082237,    0.082237,    0.082237,    0.081804,    0.081579,    0.081431,    0.081272,    0.081113,    0.080955,     0.08082,    0.080691,    0.080563,    0.080434,    0.080306,    0.080263,    0.080263,    0.080263,    0.080247,    0.080183,\n",
       "           0.080119,    0.080054,     0.07999,    0.079926,    0.079862,    0.079797,    0.079733,    0.079669,    0.078947,    0.078947,    0.078273,    0.078219,    0.078165,    0.078111,    0.078057,    0.078004,     0.07795,    0.077896,    0.077842,    0.077788,    0.077734,     0.07768,     0.07762,\n",
       "           0.077512,    0.077404,    0.077296,    0.077189,    0.077081,    0.076973,    0.076912,    0.076851,    0.076789,    0.076728,    0.076667,    0.076605,    0.076544,    0.076483,    0.076421,     0.07636,    0.076129,    0.075615,    0.075473,    0.075331,    0.075189,    0.075047,       0.075,\n",
       "              0.075,       0.075,    0.074621,    0.074342,    0.074342,    0.074342,    0.074342,    0.074342,    0.074342,    0.074342,    0.074342,    0.074107,    0.073861,    0.073591,    0.073253,    0.072916,    0.072579,    0.072315,    0.072173,    0.072031,    0.071889,    0.071747,    0.071605,\n",
       "           0.071463,    0.071321,    0.071179,    0.071053,    0.071053,    0.071053,    0.071053,    0.071053,    0.071053,    0.071053,    0.071053,    0.071053,    0.071053,    0.071053,    0.071053,    0.071053,    0.071053,    0.071053,    0.071001,    0.070776,    0.070551,    0.070395,    0.070395,\n",
       "           0.070395,    0.070325,    0.070213,      0.0701,    0.069988,    0.069875,    0.069763,    0.069689,    0.069626,    0.069563,    0.069501,    0.069438,    0.069375,    0.069312,     0.06925,    0.069187,    0.069124,    0.069079,    0.069079,    0.069079,    0.069079,    0.069079,    0.069079,\n",
       "           0.069079,    0.069079,    0.069079,    0.068578,    0.068335,    0.068222,     0.06811,    0.067998,    0.067885,    0.067773,    0.067763,    0.067763,    0.067763,    0.067763,    0.067763,    0.067763,    0.067763,    0.067763,    0.067763,    0.067763,    0.067763,    0.067763,    0.067763,\n",
       "           0.067763,    0.067763,    0.067394,    0.067009,     0.06684,    0.066672,    0.066503,    0.066447,    0.066447,    0.066447,    0.066447,    0.066447,    0.066447,    0.066447,    0.066447,    0.066447,    0.066447,    0.066447,    0.066447,    0.066447,    0.066447,    0.066447,    0.066447,\n",
       "           0.066447,    0.066447,    0.066447,    0.066438,    0.066376,    0.066315,    0.066254,    0.066192,    0.066131,     0.06607,    0.066009,    0.065947,    0.065886,    0.065825,    0.065502,    0.065132,    0.065132,    0.065132,    0.065132,    0.065132,    0.065132,    0.065132,    0.065132,\n",
       "           0.064986,    0.064761,    0.064537,    0.063988,    0.063816,    0.063816,    0.063816,    0.063816,    0.063816,    0.063816,    0.063816,    0.063816,    0.063816,    0.063599,    0.063374,    0.063156,      0.0631,    0.063043,    0.062987,    0.062931,    0.062875,    0.062819,    0.062762,\n",
       "           0.062706,     0.06265,    0.062594,    0.062538,     0.06181,    0.061714,    0.061618,    0.061521,    0.061425,    0.061329,    0.061232,    0.061015,    0.060678,    0.060465,    0.060352,     0.06024,    0.060127,    0.060015,    0.059903,    0.059868,    0.059868,    0.059868,    0.059837,\n",
       "           0.059796,    0.059755,    0.059714,    0.059673,    0.059633,    0.059592,    0.059551,     0.05951,    0.059469,    0.059428,    0.059387,    0.059347,    0.059306,    0.059265,    0.059224,    0.058757,    0.058318,    0.057981,    0.057823,    0.057727,     0.05763,    0.057534,    0.057438,\n",
       "           0.057341,    0.057245,    0.057082,    0.056914,    0.056745,    0.056579,    0.056562,    0.056112,    0.055533,    0.055061,    0.054724,    0.054387,    0.054049,    0.053712,    0.053375,    0.053289,    0.053289,    0.053289,    0.053289,    0.053289,    0.053289,    0.053289,    0.053289,\n",
       "           0.053289,    0.053289,    0.053289,    0.053289,    0.053289,    0.053289,    0.053289,    0.053289,    0.053289,    0.053289,    0.053289,    0.053289,    0.053289,    0.053289,     0.05322,    0.052996,    0.052771,    0.052529,    0.052259,    0.051989,    0.050681,    0.050006,    0.049936,\n",
       "           0.049872,    0.049808,    0.049744,    0.049679,    0.049615,    0.049551,    0.049487,    0.049423,    0.049358,    0.049198,    0.049005,    0.048813,    0.048661,     0.04859,    0.048519,    0.048448,    0.048377,    0.048306,    0.048235,    0.048164,    0.048093,     0.04802,    0.047924,\n",
       "           0.047827,    0.047731,    0.047635,    0.047538,    0.047442,    0.046675,    0.046525,    0.046376,    0.046226,    0.046076,    0.045483,    0.044808,    0.044737,    0.044324,    0.044058,    0.044011,    0.043965,    0.043918,    0.043872,    0.043825,    0.043779,    0.043732,    0.043686,\n",
       "           0.043639,    0.043593,    0.043546,      0.0435,    0.043453,    0.043395,    0.043311,    0.043226,    0.043142,    0.043058,    0.042974,    0.042889,    0.042805,    0.042758,     0.04242,    0.042105,    0.042105,    0.042105,    0.042105,    0.042105,    0.041991,    0.041823,    0.041654,\n",
       "           0.041486,     0.04136,    0.041248,    0.041136,    0.041023,    0.040911,    0.040799,    0.040541,    0.040272,    0.040039,    0.039846,    0.039654,     0.03881,    0.038726,    0.038642,    0.038557,    0.038473,    0.038389,    0.038304,     0.03822,     0.03807,    0.037733,    0.036842,\n",
       "           0.036842,    0.036842,    0.036842,    0.036842,    0.036842,    0.036842,    0.036842,    0.036842,    0.036842,    0.036839,    0.036799,    0.036758,    0.036717,    0.036676,    0.036635,    0.036594,    0.036553,    0.036512,    0.036472,    0.036431,     0.03639,    0.036349,    0.036308,\n",
       "           0.036267,    0.036226,    0.036185,    0.035461,    0.035327,    0.035192,    0.035057,    0.034922,    0.034787,    0.034652,    0.034517,    0.034382,    0.034248,    0.034047,    0.033823,    0.033598,    0.033014,    0.032617,     0.03228,    0.032106,    0.031956,    0.031806,    0.031657,\n",
       "           0.031558,    0.031514,    0.031471,    0.031427,    0.031384,     0.03134,    0.031297,    0.031253,     0.03121,    0.031166,    0.031123,    0.031079,    0.031036,    0.030992,    0.030949,    0.030824,    0.030554,    0.030284,    0.030185,    0.030101,    0.030017,    0.029933,    0.029848,\n",
       "           0.029764,     0.02968,    0.029566,    0.029229,    0.028873,    0.028423,    0.027816,    0.027142,    0.026974,    0.026974,    0.026974,    0.026974,    0.026974,    0.026974,    0.026974,    0.026974,    0.026974,    0.026974,    0.026974,    0.026974,    0.025566,    0.024869,    0.024645,\n",
       "            0.02442,    0.023675,    0.023621,    0.023567,    0.023513,    0.023459,    0.023406,    0.023352,    0.023298,    0.023244,     0.02319,    0.023136,    0.023082,    0.023028,    0.022371,    0.022145,     0.02192,    0.021697,    0.021505,    0.021312,    0.021119,    0.020906,    0.020681,\n",
       "           0.020456,    0.020068,    0.019381,    0.018929,    0.018737,    0.018544,    0.018258,    0.017809,    0.017157,     0.01669,     0.01642,    0.016362,    0.016303,    0.016245,    0.016186,    0.016127,    0.016069,     0.01601,    0.015951,    0.015893,    0.015834,    0.015725,    0.015455,\n",
       "           0.015185,    0.014591,    0.014315,    0.014122,    0.013929,    0.013754,    0.013604,    0.013454,    0.013305,    0.013157,    0.013092,    0.013028,    0.012964,      0.0129,    0.012835,    0.012771,    0.012707,    0.012643,    0.012579,    0.012514,    0.012395,     0.01226,    0.012125,\n",
       "           0.011991,    0.011856,    0.011707,    0.011557,    0.011408,    0.011258,    0.011098,     0.01093,    0.010761,    0.010593,    0.010409,    0.010217,    0.010024,   0.0097819,   0.0093324,    0.008061,    0.007207,   0.0070946,   0.0069822,   0.0068698,   0.0067574,    0.006645,   0.0065419,\n",
       "           0.006452,   0.0063621,   0.0062721,   0.0061822,   0.0060923,   0.0060024,    0.005905,   0.0057364,   0.0055678,   0.0053992,   0.0052458,   0.0051559,    0.005066,   0.0049761,   0.0048862,   0.0047962,   0.0047063,   0.0046164,   0.0045358,   0.0044564,   0.0043771,   0.0042978,   0.0042184,\n",
       "          0.0041391,   0.0040597,   0.0039804,   0.0037506,   0.0034134,   0.0028631,   0.0025961,   0.0025422,   0.0024883,   0.0024343,   0.0023804,   0.0023264,   0.0022725,   0.0022185,   0.0021646,   0.0021106,   0.0020567,   0.0020027,   0.0019114,   0.0017765,   0.0016416,   0.0015068,   0.0013719,\n",
       "          0.0012975,   0.0012661,   0.0012347,   0.0012034,    0.001172,   0.0011406,   0.0011093,   0.0010779,   0.0010465,   0.0010152,  0.00098382,  0.00095245,  0.00092109,  0.00088972,  0.00085836,  0.00082699,  0.00079562,  0.00076426,  0.00073289,  0.00070153,  0.00067016,           0,           0,\n",
       "                  0,           0,           0,           0,           0,           0,           0,           0,           0,           0,           0,           0,           0,           0,           0,           0,           0,           0,           0,           0,           0,           0,           0,\n",
       "                  0,           0,           0,           0,           0,           0,           0,           0,           0,           0,           0]]), 'Confidence', 'Recall']]\n",
       "fitness: 0.14080182919880788\n",
       "keys: ['metrics/precision(B)', 'metrics/recall(B)', 'metrics/mAP50(B)', 'metrics/mAP50-95(B)', 'metrics/precision(M)', 'metrics/recall(M)', 'metrics/mAP50(M)', 'metrics/mAP50-95(M)']\n",
       "maps: array([    0.13464])\n",
       "names: {0: 'polyp'}\n",
       "plot: True\n",
       "results_dict: {'metrics/precision(B)': 0.5376682097730641, 'metrics/recall(B)': 0.1, 'metrics/mAP50(B)': 0.09892010965143584, 'metrics/mAP50-95(B)': 0.06873704380940328, 'metrics/precision(M)': 0.5304224111859397, 'metrics/recall(M)': 0.0993421052631579, 'metrics/mAP50(M)': 0.0973026906448518, 'metrics/mAP50-95(M)': 0.06590689971190686, 'fitness': 0.14080182919880788}\n",
       "save_dir: WindowsPath('runs/segment/train9')\n",
       "seg: ultralytics.utils.metrics.Metric object\n",
       "speed: {'preprocess': 0.563792018003242, 'inference': 2.038398454355639, 'loss': 0.0, 'postprocess': 1.1046625847040221}\n",
       "task: 'segment'"
      ]
     },
     "execution_count": 2,
     "metadata": {},
     "output_type": "execute_result"
    }
   ],
   "source": [
    "from ultralytics import YOLO\n",
    "# https://docs.ultralytics.com/usage/cfg/#train\n",
    "\n",
    "model = YOLO('yolov8n-seg.pt')  \n",
    "# model = YOLO('yolov8s-p2.yaml').load('yolov8s.pt')  \n",
    "# model.train(data='config.yaml', epochs=100, imgsz=640, seed=1, lr0=0.001, lrf=0.00005, close_mosaic=25)\n",
    "\n",
    "# model.train(data='config.yaml', epochs=30, imgsz=640, seed=1, optimizer=\"Adam\", lr0=0.001, lrf=0.00005, close_mosaic= 15)\n",
    "model.train(data='config.yaml', epochs=10, imgsz=640, seed=1, optimizer=\"Adam\", lr0=0.001, lrf=0.00005, close_mosaic=5)\n",
    "\n",
    "# model.train(data='config.yaml', epochs=20, imgsz=640, seed=1, lr0=0.0001, lrf=0.000005, close_mosaic=10)\n",
    "# model.train(data='config.yaml', epochs=20, imgsz=640, seed=1)"
   ]
  },
  {
   "cell_type": "code",
   "execution_count": 3,
   "metadata": {},
   "outputs": [
    {
     "name": "stdout",
     "output_type": "stream",
     "text": [
      "Requirement already satisfied: ultralytics in c:\\users\\joshu\\appdata\\local\\programs\\python\\python310\\lib\\site-packages (8.0.58)\n",
      "Collecting ultralytics\n",
      "  Downloading ultralytics-8.2.86-py3-none-any.whl.metadata (41 kB)\n",
      "Requirement already satisfied: numpy<2.0.0,>=1.23.0 in c:\\users\\joshu\\appdata\\local\\programs\\python\\python310\\lib\\site-packages (from ultralytics) (1.26.4)\n",
      "Requirement already satisfied: matplotlib>=3.3.0 in c:\\users\\joshu\\appdata\\roaming\\python\\python310\\site-packages (from ultralytics) (3.5.2)\n",
      "Requirement already satisfied: opencv-python>=4.6.0 in c:\\users\\joshu\\appdata\\local\\programs\\python\\python310\\lib\\site-packages (from ultralytics) (4.6.0.66)\n",
      "Requirement already satisfied: pillow>=7.1.2 in c:\\users\\joshu\\appdata\\roaming\\python\\python310\\site-packages (from ultralytics) (9.2.0)\n",
      "Requirement already satisfied: pyyaml>=5.3.1 in c:\\users\\joshu\\appdata\\local\\programs\\python\\python310\\lib\\site-packages (from ultralytics) (6.0)\n",
      "Requirement already satisfied: requests>=2.23.0 in c:\\users\\joshu\\appdata\\local\\programs\\python\\python310\\lib\\site-packages (from ultralytics) (2.28.1)\n",
      "Requirement already satisfied: scipy>=1.4.1 in c:\\users\\joshu\\appdata\\local\\programs\\python\\python310\\lib\\site-packages (from ultralytics) (1.14.0)\n",
      "Requirement already satisfied: torch>=1.8.0 in c:\\users\\joshu\\appdata\\local\\programs\\python\\python310\\lib\\site-packages (from ultralytics) (2.4.0+cu121)\n",
      "Requirement already satisfied: torchvision>=0.9.0 in c:\\users\\joshu\\appdata\\local\\programs\\python\\python310\\lib\\site-packages (from ultralytics) (0.19.0)\n",
      "Requirement already satisfied: tqdm>=4.64.0 in c:\\users\\joshu\\appdata\\local\\programs\\python\\python310\\lib\\site-packages (from ultralytics) (4.64.1)\n",
      "Requirement already satisfied: psutil in c:\\users\\joshu\\appdata\\roaming\\python\\python310\\site-packages (from ultralytics) (5.9.1)\n",
      "Collecting py-cpuinfo (from ultralytics)\n",
      "  Downloading py_cpuinfo-9.0.0-py3-none-any.whl.metadata (794 bytes)\n",
      "Requirement already satisfied: pandas>=1.1.4 in c:\\users\\joshu\\appdata\\local\\programs\\python\\python310\\lib\\site-packages (from ultralytics) (1.4.2)\n",
      "Requirement already satisfied: seaborn>=0.11.0 in c:\\users\\joshu\\appdata\\roaming\\python\\python310\\site-packages (from ultralytics) (0.11.2)\n",
      "Collecting ultralytics-thop>=2.0.0 (from ultralytics)\n",
      "  Downloading ultralytics_thop-2.0.6-py3-none-any.whl.metadata (9.1 kB)\n",
      "Collecting torch>=1.8.0 (from ultralytics)\n",
      "  Downloading torch-2.3.1-cp310-cp310-win_amd64.whl.metadata (26 kB)\n",
      "Requirement already satisfied: cycler>=0.10 in c:\\users\\joshu\\appdata\\roaming\\python\\python310\\site-packages (from matplotlib>=3.3.0->ultralytics) (0.11.0)\n",
      "Requirement already satisfied: fonttools>=4.22.0 in c:\\users\\joshu\\appdata\\roaming\\python\\python310\\site-packages (from matplotlib>=3.3.0->ultralytics) (4.34.4)\n",
      "Requirement already satisfied: kiwisolver>=1.0.1 in c:\\users\\joshu\\appdata\\roaming\\python\\python310\\site-packages (from matplotlib>=3.3.0->ultralytics) (1.4.4)\n",
      "Requirement already satisfied: packaging>=20.0 in c:\\users\\joshu\\appdata\\roaming\\python\\python310\\site-packages (from matplotlib>=3.3.0->ultralytics) (21.3)\n",
      "Requirement already satisfied: pyparsing>=2.2.1 in c:\\users\\joshu\\appdata\\roaming\\python\\python310\\site-packages (from matplotlib>=3.3.0->ultralytics) (3.0.9)\n",
      "Requirement already satisfied: python-dateutil>=2.7 in c:\\users\\joshu\\appdata\\roaming\\python\\python310\\site-packages (from matplotlib>=3.3.0->ultralytics) (2.8.2)\n",
      "Requirement already satisfied: pytz>=2020.1 in c:\\users\\joshu\\appdata\\roaming\\python\\python310\\site-packages (from pandas>=1.1.4->ultralytics) (2022.1)\n",
      "Requirement already satisfied: charset-normalizer<3,>=2 in c:\\users\\joshu\\appdata\\local\\programs\\python\\python310\\lib\\site-packages (from requests>=2.23.0->ultralytics) (2.1.1)\n",
      "Requirement already satisfied: idna<4,>=2.5 in c:\\users\\joshu\\appdata\\local\\programs\\python\\python310\\lib\\site-packages (from requests>=2.23.0->ultralytics) (3.3)\n",
      "Requirement already satisfied: urllib3<1.27,>=1.21.1 in c:\\users\\joshu\\appdata\\local\\programs\\python\\python310\\lib\\site-packages (from requests>=2.23.0->ultralytics) (1.26.18)\n",
      "Requirement already satisfied: certifi>=2017.4.17 in c:\\users\\joshu\\appdata\\local\\programs\\python\\python310\\lib\\site-packages (from requests>=2.23.0->ultralytics) (2024.8.30)\n",
      "Requirement already satisfied: filelock in c:\\users\\joshu\\appdata\\local\\programs\\python\\python310\\lib\\site-packages (from torch>=1.8.0->ultralytics) (3.12.2)\n",
      "Requirement already satisfied: typing-extensions>=4.8.0 in c:\\users\\joshu\\appdata\\local\\programs\\python\\python310\\lib\\site-packages (from torch>=1.8.0->ultralytics) (4.12.2)\n",
      "Requirement already satisfied: sympy in c:\\users\\joshu\\appdata\\local\\programs\\python\\python310\\lib\\site-packages (from torch>=1.8.0->ultralytics) (1.12)\n",
      "Requirement already satisfied: networkx in c:\\users\\joshu\\appdata\\local\\programs\\python\\python310\\lib\\site-packages (from torch>=1.8.0->ultralytics) (3.1)\n",
      "Requirement already satisfied: jinja2 in c:\\users\\joshu\\appdata\\local\\programs\\python\\python310\\lib\\site-packages (from torch>=1.8.0->ultralytics) (3.1.2)\n",
      "Requirement already satisfied: fsspec in c:\\users\\joshu\\appdata\\local\\programs\\python\\python310\\lib\\site-packages (from torch>=1.8.0->ultralytics) (2023.6.0)\n",
      "Collecting mkl<=2021.4.0,>=2021.1.1 (from torch>=1.8.0->ultralytics)\n",
      "  Downloading mkl-2021.4.0-py2.py3-none-win_amd64.whl.metadata (1.4 kB)\n",
      "INFO: pip is looking at multiple versions of torchvision to determine which version is compatible with other requirements. This could take a while.\n",
      "Collecting torchvision>=0.9.0 (from ultralytics)\n",
      "  Downloading torchvision-0.18.1-cp310-cp310-win_amd64.whl.metadata (6.6 kB)\n",
      "Requirement already satisfied: colorama in c:\\users\\joshu\\appdata\\roaming\\python\\python310\\site-packages (from tqdm>=4.64.0->ultralytics) (0.4.5)\n",
      "Collecting intel-openmp==2021.* (from mkl<=2021.4.0,>=2021.1.1->torch>=1.8.0->ultralytics)\n",
      "  Downloading intel_openmp-2021.4.0-py2.py3-none-win_amd64.whl.metadata (1.2 kB)\n",
      "Collecting tbb==2021.* (from mkl<=2021.4.0,>=2021.1.1->torch>=1.8.0->ultralytics)\n",
      "  Downloading tbb-2021.13.1-py3-none-win_amd64.whl.metadata (1.1 kB)\n",
      "Requirement already satisfied: six>=1.5 in c:\\users\\joshu\\appdata\\roaming\\python\\python310\\site-packages (from python-dateutil>=2.7->matplotlib>=3.3.0->ultralytics) (1.16.0)\n",
      "Requirement already satisfied: MarkupSafe>=2.0 in c:\\users\\joshu\\appdata\\local\\programs\\python\\python310\\lib\\site-packages (from jinja2->torch>=1.8.0->ultralytics) (2.1.1)\n",
      "Requirement already satisfied: mpmath>=0.19 in c:\\users\\joshu\\appdata\\local\\programs\\python\\python310\\lib\\site-packages (from sympy->torch>=1.8.0->ultralytics) (1.3.0)\n",
      "Downloading ultralytics-8.2.86-py3-none-any.whl (872 kB)\n",
      "   --------------------------------------- 872.0/872.0 kB 13.0 MB/s eta 0:00:00\n",
      "Downloading torch-2.3.1-cp310-cp310-win_amd64.whl (159.8 MB)\n",
      "   ---------------------------------------- 159.8/159.8 MB 2.8 MB/s eta 0:00:00\n",
      "Downloading torchvision-0.18.1-cp310-cp310-win_amd64.whl (1.2 MB)\n",
      "   ---------------------------------------- 1.2/1.2 MB 4.5 MB/s eta 0:00:00\n",
      "Downloading ultralytics_thop-2.0.6-py3-none-any.whl (26 kB)\n",
      "Downloading py_cpuinfo-9.0.0-py3-none-any.whl (22 kB)\n",
      "Downloading mkl-2021.4.0-py2.py3-none-win_amd64.whl (228.5 MB)\n",
      "   --------------------------------------- 228.5/228.5 MB 15.9 MB/s eta 0:00:00\n",
      "Downloading intel_openmp-2021.4.0-py2.py3-none-win_amd64.whl (3.5 MB)\n",
      "   ---------------------------------------- 3.5/3.5 MB 2.3 MB/s eta 0:00:00\n",
      "Downloading tbb-2021.13.1-py3-none-win_amd64.whl (286 kB)\n",
      "Installing collected packages: tbb, py-cpuinfo, intel-openmp, mkl, torch, ultralytics-thop, torchvision, ultralytics\n",
      "  Attempting uninstall: torch\n",
      "    Found existing installation: torch 2.4.0+cu121\n",
      "    Uninstalling torch-2.4.0+cu121:\n",
      "      Successfully uninstalled torch-2.4.0+cu121\n",
      "  Attempting uninstall: torchvision\n",
      "    Found existing installation: torchvision 0.19.0\n",
      "    Uninstalling torchvision-0.19.0:\n",
      "      Successfully uninstalled torchvision-0.19.0\n",
      "  Attempting uninstall: ultralytics\n",
      "    Found existing installation: ultralytics 8.0.58\n",
      "    Uninstalling ultralytics-8.0.58:\n",
      "      Successfully uninstalled ultralytics-8.0.58\n",
      "Successfully installed intel-openmp-2021.4.0 mkl-2021.4.0 py-cpuinfo-9.0.0 tbb-2021.13.1 torch-2.3.1 torchvision-0.18.1 ultralytics-8.2.86 ultralytics-thop-2.0.6\n",
      "Note: you may need to restart the kernel to use updated packages.\n"
     ]
    },
    {
     "name": "stderr",
     "output_type": "stream",
     "text": [
      "  WARNING: Failed to remove contents in a temporary directory 'C:\\Users\\joshu\\AppData\\Local\\Programs\\Python\\Python310\\Lib\\site-packages\\~=rch'.\n",
      "  You can safely remove it manually.\n",
      "  WARNING: Failed to remove contents in a temporary directory 'C:\\Users\\joshu\\AppData\\Local\\Programs\\Python\\Python310\\Lib\\site-packages\\~-rchvision'.\n",
      "  You can safely remove it manually.\n",
      "ERROR: pip's dependency resolver does not currently take into account all the packages that are installed. This behaviour is the source of the following dependency conflicts.\n",
      "torchaudio 2.4.0+cu121 requires torch==2.4.0+cu121, but you have torch 2.3.1 which is incompatible.\n"
     ]
    }
   ],
   "source": [
    "# pip install --upgrade ultralytics\n"
   ]
  },
  {
   "cell_type": "markdown",
   "metadata": {},
   "source": [
    "load trained model"
   ]
  },
  {
   "cell_type": "code",
   "execution_count": 1,
   "metadata": {},
   "outputs": [
    {
     "ename": "KeyboardInterrupt",
     "evalue": "",
     "output_type": "error",
     "traceback": [
      "\u001b[1;31m---------------------------------------------------------------------------\u001b[0m",
      "\u001b[1;31mKeyboardInterrupt\u001b[0m                         Traceback (most recent call last)",
      "Input \u001b[1;32mIn [1]\u001b[0m, in \u001b[0;36m<cell line: 1>\u001b[1;34m()\u001b[0m\n\u001b[1;32m----> 1\u001b[0m \u001b[38;5;28;01mfrom\u001b[39;00m \u001b[38;5;21;01multralytics\u001b[39;00m \u001b[38;5;28;01mimport\u001b[39;00m YOLO\n\u001b[0;32m      2\u001b[0m model \u001b[38;5;241m=\u001b[39m YOLO(\u001b[38;5;124m'\u001b[39m\u001b[38;5;130;01m\\\\\u001b[39;00m\u001b[38;5;124mUsers\u001b[39m\u001b[38;5;130;01m\\\\\u001b[39;00m\u001b[38;5;124m... model location\u001b[39m\u001b[38;5;124m'\u001b[39m)\n",
      "File \u001b[1;32mc:\\Users\\joshu\\AppData\\Local\\Programs\\Python\\Python310\\lib\\site-packages\\ultralytics\\__init__.py:10\u001b[0m, in \u001b[0;36m<module>\u001b[1;34m\u001b[0m\n\u001b[0;32m      7\u001b[0m \u001b[38;5;66;03m# Set ENV Variables (place before imports)\u001b[39;00m\n\u001b[0;32m      8\u001b[0m os\u001b[38;5;241m.\u001b[39menviron[\u001b[38;5;124m\"\u001b[39m\u001b[38;5;124mOMP_NUM_THREADS\u001b[39m\u001b[38;5;124m\"\u001b[39m] \u001b[38;5;241m=\u001b[39m \u001b[38;5;124m\"\u001b[39m\u001b[38;5;124m1\u001b[39m\u001b[38;5;124m\"\u001b[39m  \u001b[38;5;66;03m# reduce CPU utilization during training\u001b[39;00m\n\u001b[1;32m---> 10\u001b[0m \u001b[38;5;28;01mfrom\u001b[39;00m \u001b[38;5;21;01multralytics\u001b[39;00m\u001b[38;5;21;01m.\u001b[39;00m\u001b[38;5;21;01mdata\u001b[39;00m\u001b[38;5;21;01m.\u001b[39;00m\u001b[38;5;21;01mexplorer\u001b[39;00m\u001b[38;5;21;01m.\u001b[39;00m\u001b[38;5;21;01mexplorer\u001b[39;00m \u001b[38;5;28;01mimport\u001b[39;00m Explorer\n\u001b[0;32m     11\u001b[0m \u001b[38;5;28;01mfrom\u001b[39;00m \u001b[38;5;21;01multralytics\u001b[39;00m\u001b[38;5;21;01m.\u001b[39;00m\u001b[38;5;21;01mmodels\u001b[39;00m \u001b[38;5;28;01mimport\u001b[39;00m NAS, RTDETR, SAM, YOLO, FastSAM, YOLOWorld\n\u001b[0;32m     12\u001b[0m \u001b[38;5;28;01mfrom\u001b[39;00m \u001b[38;5;21;01multralytics\u001b[39;00m\u001b[38;5;21;01m.\u001b[39;00m\u001b[38;5;21;01mutils\u001b[39;00m \u001b[38;5;28;01mimport\u001b[39;00m ASSETS, SETTINGS\n",
      "File \u001b[1;32mc:\\Users\\joshu\\AppData\\Local\\Programs\\Python\\Python310\\lib\\site-packages\\ultralytics\\data\\__init__.py:3\u001b[0m, in \u001b[0;36m<module>\u001b[1;34m\u001b[0m\n\u001b[0;32m      1\u001b[0m \u001b[38;5;66;03m# Ultralytics YOLO 🚀, AGPL-3.0 license\u001b[39;00m\n\u001b[1;32m----> 3\u001b[0m \u001b[38;5;28;01mfrom\u001b[39;00m \u001b[38;5;21;01m.\u001b[39;00m\u001b[38;5;21;01mbase\u001b[39;00m \u001b[38;5;28;01mimport\u001b[39;00m BaseDataset\n\u001b[0;32m      4\u001b[0m \u001b[38;5;28;01mfrom\u001b[39;00m \u001b[38;5;21;01m.\u001b[39;00m\u001b[38;5;21;01mbuild\u001b[39;00m \u001b[38;5;28;01mimport\u001b[39;00m build_dataloader, build_grounding, build_yolo_dataset, load_inference_source\n\u001b[0;32m      5\u001b[0m \u001b[38;5;28;01mfrom\u001b[39;00m \u001b[38;5;21;01m.\u001b[39;00m\u001b[38;5;21;01mdataset\u001b[39;00m \u001b[38;5;28;01mimport\u001b[39;00m (\n\u001b[0;32m      6\u001b[0m     ClassificationDataset,\n\u001b[0;32m      7\u001b[0m     GroundingDataset,\n\u001b[1;32m   (...)\u001b[0m\n\u001b[0;32m     11\u001b[0m     YOLOMultiModalDataset,\n\u001b[0;32m     12\u001b[0m )\n",
      "File \u001b[1;32mc:\\Users\\joshu\\AppData\\Local\\Programs\\Python\\Python310\\lib\\site-packages\\ultralytics\\data\\base.py:15\u001b[0m, in \u001b[0;36m<module>\u001b[1;34m\u001b[0m\n\u001b[0;32m     13\u001b[0m \u001b[38;5;28;01mimport\u001b[39;00m \u001b[38;5;21;01mnumpy\u001b[39;00m \u001b[38;5;28;01mas\u001b[39;00m \u001b[38;5;21;01mnp\u001b[39;00m\n\u001b[0;32m     14\u001b[0m \u001b[38;5;28;01mimport\u001b[39;00m \u001b[38;5;21;01mpsutil\u001b[39;00m\n\u001b[1;32m---> 15\u001b[0m \u001b[38;5;28;01mfrom\u001b[39;00m \u001b[38;5;21;01mtorch\u001b[39;00m\u001b[38;5;21;01m.\u001b[39;00m\u001b[38;5;21;01mutils\u001b[39;00m\u001b[38;5;21;01m.\u001b[39;00m\u001b[38;5;21;01mdata\u001b[39;00m \u001b[38;5;28;01mimport\u001b[39;00m Dataset\n\u001b[0;32m     17\u001b[0m \u001b[38;5;28;01mfrom\u001b[39;00m \u001b[38;5;21;01multralytics\u001b[39;00m\u001b[38;5;21;01m.\u001b[39;00m\u001b[38;5;21;01mdata\u001b[39;00m\u001b[38;5;21;01m.\u001b[39;00m\u001b[38;5;21;01mutils\u001b[39;00m \u001b[38;5;28;01mimport\u001b[39;00m FORMATS_HELP_MSG, HELP_URL, IMG_FORMATS\n\u001b[0;32m     18\u001b[0m \u001b[38;5;28;01mfrom\u001b[39;00m \u001b[38;5;21;01multralytics\u001b[39;00m\u001b[38;5;21;01m.\u001b[39;00m\u001b[38;5;21;01mutils\u001b[39;00m \u001b[38;5;28;01mimport\u001b[39;00m DEFAULT_CFG, LOCAL_RANK, LOGGER, NUM_THREADS, TQDM\n",
      "File \u001b[1;32mc:\\Users\\joshu\\AppData\\Local\\Programs\\Python\\Python310\\lib\\site-packages\\torch\\__init__.py:132\u001b[0m, in \u001b[0;36m<module>\u001b[1;34m\u001b[0m\n\u001b[0;32m    130\u001b[0m is_loaded \u001b[38;5;241m=\u001b[39m \u001b[38;5;28;01mFalse\u001b[39;00m\n\u001b[0;32m    131\u001b[0m \u001b[38;5;28;01mif\u001b[39;00m with_load_library_flags:\n\u001b[1;32m--> 132\u001b[0m     res \u001b[38;5;241m=\u001b[39m \u001b[43mkernel32\u001b[49m\u001b[38;5;241;43m.\u001b[39;49m\u001b[43mLoadLibraryExW\u001b[49m\u001b[43m(\u001b[49m\u001b[43mdll\u001b[49m\u001b[43m,\u001b[49m\u001b[43m \u001b[49m\u001b[38;5;28;43;01mNone\u001b[39;49;00m\u001b[43m,\u001b[49m\u001b[43m \u001b[49m\u001b[38;5;241;43m0x00001100\u001b[39;49m\u001b[43m)\u001b[49m\n\u001b[0;32m    133\u001b[0m     last_error \u001b[38;5;241m=\u001b[39m ctypes\u001b[38;5;241m.\u001b[39mget_last_error()\n\u001b[0;32m    134\u001b[0m     \u001b[38;5;28;01mif\u001b[39;00m res \u001b[38;5;129;01mis\u001b[39;00m \u001b[38;5;28;01mNone\u001b[39;00m \u001b[38;5;129;01mand\u001b[39;00m last_error \u001b[38;5;241m!=\u001b[39m \u001b[38;5;241m126\u001b[39m:\n",
      "\u001b[1;31mKeyboardInterrupt\u001b[0m: "
     ]
    }
   ],
   "source": [
    "from ultralytics import YOLO\n",
    "model = YOLO('\\\\Users\\\\... model location')"
   ]
  },
  {
   "cell_type": "markdown",
   "metadata": {},
   "source": [
    "evaluate"
   ]
  },
  {
   "cell_type": "code",
   "execution_count": 2,
   "metadata": {},
   "outputs": [
    {
     "name": "stdout",
     "output_type": "stream",
     "text": [
      "Ultralytics YOLOv8.2.86  Python-3.10.6 torch-2.4.0+cu124 CUDA:0 (NVIDIA GeForce RTX 3060 Ti, 8192MiB)\n",
      "YOLOv8n-seg summary (fused): 195 layers, 3,258,259 parameters, 0 gradients, 12.0 GFLOPs\n"
     ]
    },
    {
     "name": "stderr",
     "output_type": "stream",
     "text": [
      "\u001b[34m\u001b[1mval: \u001b[0mScanning C:\\Users\\joshu\\Documents\\0 uni courses\\fourth year\\760\\segmentation\\Kvasir-SEG-Noise\\labels\\val.cache... 172 images, 0 backgrounds, 0 corrupt: 100%|██████████| 172/172 [00:00<?, ?it/s]\n",
      "                 Class     Images  Instances      Box(P          R      mAP50  mAP50-95)     Mask(P          R      mAP50  mAP50-95): 100%|██████████| 11/11 [00:02<00:00,  4.01it/s]\n"
     ]
    },
    {
     "name": "stdout",
     "output_type": "stream",
     "text": [
      "                   all        172       1520      0.532      0.101      0.099     0.0688      0.531        0.1     0.0973     0.0661\n",
      "Speed: 1.1ms preprocess, 4.2ms inference, 0.0ms loss, 1.2ms postprocess per image\n",
      "Results saved to \u001b[1mruns\\segment\\val39\u001b[0m\n",
      "Class indices with average precision: [0]\n",
      "Average precision for all classes: [[    0.09898    0.096554    0.093926    0.088849    0.085084    0.079234    0.066791    0.049185    0.027373   0.0022897]]\n",
      "Mean average precision at IoU=0.50: 0.09897972471045055\n",
      "Mean recall: 0.1006578947368421\n"
     ]
    }
   ],
   "source": [
    "import torch\n",
    "from ultralytics import YOLO\n",
    "\n",
    "model = YOLO('runs/segment/noise10epochs/weights/best.pt') \n",
    "\n",
    "results = model.val(data='config.yaml', imgsz=640)\n",
    "\n",
    "print(\"Class indices with average precision:\", results.ap_class_index)\n",
    "print(\"Average precision for all classes:\", results.box.all_ap)\n",
    "print(\"Mean average precision at IoU=0.50:\", results.box.map50)\n",
    "print(\"Mean recall:\", results.box.mr)"
   ]
  },
  {
   "cell_type": "code",
   "execution_count": 23,
   "metadata": {},
   "outputs": [
    {
     "data": {
      "text/plain": [
       "'2.4.0+cu124'"
      ]
     },
     "execution_count": 23,
     "metadata": {},
     "output_type": "execute_result"
    }
   ],
   "source": [
    "torch.__version__"
   ]
  },
  {
   "cell_type": "markdown",
   "metadata": {},
   "source": [
    "predict"
   ]
  },
  {
   "cell_type": "markdown",
   "metadata": {},
   "source": [
    "results = model.predict(source = \"data...\", save=True)"
   ]
  }
 ],
 "metadata": {
  "kernelspec": {
   "display_name": "Python 3",
   "language": "python",
   "name": "python3"
  },
  "language_info": {
   "codemirror_mode": {
    "name": "ipython",
    "version": 3
   },
   "file_extension": ".py",
   "mimetype": "text/x-python",
   "name": "python",
   "nbconvert_exporter": "python",
   "pygments_lexer": "ipython3",
   "version": "3.10.5"
  }
 },
 "nbformat": 4,
 "nbformat_minor": 2
}
