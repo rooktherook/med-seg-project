{
 "cells": [
  {
   "cell_type": "markdown",
   "metadata": {},
   "source": [
    "# Spleen Dataset\n",
    "http://medicaldecathlon.com/"
   ]
  },
  {
   "cell_type": "code",
   "execution_count": 1,
   "metadata": {},
   "outputs": [],
   "source": [
    "# Imports\n",
    "import json\n",
    "import os\n",
    "import torch\n",
    "import shutil\n",
    "import nibabel as nib\n",
    "import numpy as np\n",
    "from skimage.transform import resize\n",
    "import matplotlib.pyplot as plt\n",
    "from skimage.io import imsave\n",
    "import random\n",
    "import imageio\n",
    "import cv2\n"
   ]
  },
  {
   "cell_type": "markdown",
   "metadata": {},
   "source": [
    "# Data Loading\n",
    "- Set base_dir\n",
    "- Make sure to resize the image and then set the max images because its gonna take too long.\n",
    "set to "
   ]
  },
  {
   "cell_type": "code",
   "execution_count": 3,
   "metadata": {},
   "outputs": [],
   "source": [
    "    \n",
    "def load_nifti_image(file_path):\n",
    "    return nib.load(file_path).get_fdata()\n",
    "\n",
    "def split_train_test(data, max_train_images, max_test_images, seed):\n",
    "    random.seed(seed)\n",
    "    random.shuffle(data)\n",
    "\n",
    "    train_data = data[:max_train_images]\n",
    "    test_data = data[max_train_images:max_train_images + max_test_images]\n",
    "    finetune_data = data[max_train_images + max_test_images:]\n",
    "\n",
    "    return train_data, test_data, finetune_data\n",
    "\n",
    "\n",
    "def save_images_and_labels(data, base_dir, img_dir, lbl_dir, image_rows, image_cols, prefix):\n",
    "    os.makedirs(img_dir, exist_ok=True)\n",
    "    os.makedirs(lbl_dir, exist_ok=True)\n",
    "    \n",
    "    for idx, entry in enumerate(data):\n",
    "        img_path = os.path.join(base_dir, entry['image'])\n",
    "        lbl_path = os.path.join(base_dir, entry['label'])\n",
    "        \n",
    "        img = load_nifti_image(img_path)\n",
    "        lbl = load_nifti_image(lbl_path)\n",
    "        \n",
    "        for i in range(img.shape[2]):\n",
    "            img_2d = img[:, :, i]\n",
    "            lbl_2d = lbl[:, :, i]\n",
    "            \n",
    "            img_2d = resize(img_2d, (image_rows, image_cols), preserve_range=True)\n",
    "            lbl_2d = resize(lbl_2d, (image_rows, image_cols), preserve_range=True)\n",
    "            \n",
    "            img_2d = (img_2d - np.min(img_2d)) / (np.max(img_2d) - np.min(img_2d)) * 255\n",
    "            lbl_2d = (lbl_2d - np.min(lbl_2d)) / (np.max(lbl_2d) - np.min(lbl_2d)) * 255\n",
    "            \n",
    "            img_2d = img_2d.astype(np.uint8)\n",
    "            lbl_2d = lbl_2d.astype(np.uint8)\n",
    "            \n",
    "            img_filename = f'{prefix}_img_{idx:04d}_{i:03d}.png'\n",
    "            lbl_filename = f'{prefix}_img_{idx:04d}_{i:03d}.png'\n",
    "            \n",
    "            img_save_path = os.path.join(img_dir, img_filename)\n",
    "            lbl_save_path = os.path.join(lbl_dir, lbl_filename)\n",
    "            \n",
    "            imageio.imwrite(img_save_path, img_2d)\n",
    "            imageio.imwrite(lbl_save_path, lbl_2d)\n"
   ]
  },
  {
   "cell_type": "code",
   "execution_count": null,
   "metadata": {},
   "outputs": [],
   "source": [
    "base_dir = 'spleen_data/Task09_Spleen'\n",
    "\n",
    "json_path = os.path.join(base_dir, 'dataset.json')\n",
    "with open(json_path, 'r') as f:\n",
    "    data_json = json.load(f)\n",
    "\n",
    "image_rows = 512\n",
    "image_cols = 512\n",
    "\n",
    "max_train_images = 20\n",
    "max_test_images = 5\n",
    "seed = 0\n",
    "\n",
    "train_data, test_data, finetune_data = split_train_test(data_json['training'], max_train_images, max_test_images, seed)\n",
    "\n",
    "current_dir = os.getcwd()\n",
    "train_img_dir = os.path.join(current_dir, 'images/train')\n",
    "train_lbl_dir = os.path.join(current_dir, 'mask/train')\n",
    "test_img_dir = os.path.join(current_dir, 'images/val')\n",
    "test_lbl_dir = os.path.join(current_dir, 'mask/val')\n",
    "finetune_img_dir = os.path.join(current_dir, 'images/finetune')\n",
    "finetune_lbl_dir = os.path.join(current_dir, 'mask/finetune')\n",
    "\n",
    "\n",
    "\n",
    "# mask_dir = os.path.join(current_dir, 'mask')\n",
    "# img_dir = os.path.join(current_dir, 'images')\n",
    "# if os.path.exists(mask_dir) and os.path.isdir(mask_dir):\n",
    "#     shutil.rmtree(mask_dir)\n",
    "\n",
    "# if os.path.exists(img_dir) and os.path.isdir(img_dir):\n",
    "#     shutil.rmtree(img_dir)\n",
    "\n",
    "\n",
    "# save_images_and_labels(train_data, base_dir, train_img_dir, train_lbl_dir, image_rows, image_cols, 'train')\n",
    "\n",
    "# save_images_and_labels(test_data, base_dir, test_img_dir, test_lbl_dir, image_rows, image_cols, 'test')\n",
    "\n",
    "save_images_and_labels(finetune_data, base_dir, finetune_img_dir, finetune_lbl_dir, image_rows, image_cols, 'finetune')"
   ]
  },
  {
   "cell_type": "markdown",
   "metadata": {},
   "source": [
    "# Segmentation"
   ]
  },
  {
   "cell_type": "code",
   "execution_count": 4,
   "metadata": {},
   "outputs": [],
   "source": [
    "def createmask(input_dir, output_dir):\n",
    "    \n",
    "    \n",
    "    os.makedirs(output_dir, exist_ok=True)\n",
    "\n",
    "    \n",
    "    for j in os.listdir(input_dir):\n",
    "        image_path = os.path.join(input_dir, j)\n",
    "        mask = cv2.imread(image_path, cv2.IMREAD_GRAYSCALE)\n",
    "        _, mask = cv2.threshold(mask, 1, 255, cv2.THRESH_BINARY)\n",
    "\n",
    "        H, W = mask.shape\n",
    "        contours, hierarchy = cv2.findContours(mask, cv2.RETR_EXTERNAL, cv2.CHAIN_APPROX_SIMPLE)\n",
    "\n",
    "        polygons = []\n",
    "        for cnt in contours:\n",
    "            if cv2.contourArea(cnt) > 1:\n",
    "                polygon = []\n",
    "                for point in cnt:\n",
    "                    x, y = point[0]\n",
    "                    polygon.append(x / W)\n",
    "                    polygon.append(y / H)\n",
    "                polygons.append(polygon)\n",
    "\n",
    "        with open('{}.txt'.format(os.path.join(output_dir, j)[:-4]), 'w') as f:\n",
    "            for polygon in polygons:\n",
    "                for p_, p in enumerate(polygon):\n",
    "                    if p_ == len(polygon) - 1:\n",
    "                        f.write('{}\\n'.format(p))\n",
    "                    elif p_ == 0:\n",
    "                        f.write('0 {} '.format(p))\n",
    "                    else:\n",
    "                        f.write('{} '.format(p))\n",
    "\n",
    "            f.close()"
   ]
  },
  {
   "cell_type": "code",
   "execution_count": 5,
   "metadata": {},
   "outputs": [],
   "source": [
    "input_train_masks = 'mask/train'\n",
    "output_train_masks = 'labels/train'\n",
    "input_test_masks = 'mask/val'\n",
    "output_test_masks = 'labels/val'\n",
    "\n",
    "current_dir = os.getcwd()\n",
    "label_dir = os.path.join(current_dir, 'labels')\n",
    "if os.path.exists(label_dir) and os.path.isdir(label_dir):\n",
    "    shutil.rmtree(label_dir)\n",
    "\n",
    "createmask(input_train_masks, output_train_masks)\n",
    "createmask(input_test_masks, output_test_masks)"
   ]
  },
  {
   "cell_type": "code",
   "execution_count": 1,
   "metadata": {},
   "outputs": [
    {
     "name": "stdout",
     "output_type": "stream",
     "text": [
      "2.1.1+cu121\n",
      "Number of GPUs available: 1\n",
      "GPU 0: NVIDIA GeForce RTX 2070 SUPER\n",
      "Using GPU: NVIDIA GeForce RTX 2070 SUPER\n"
     ]
    }
   ],
   "source": [
    "import torch\n",
    "\n",
    "print(torch.__version__)\n",
    "if torch.cuda.is_available():\n",
    "    num_gpus = torch.cuda.device_count()\n",
    "    print(f\"Number of GPUs available: {num_gpus}\")\n",
    "    \n",
    "    for i in range(num_gpus):\n",
    "        print(f\"GPU {i}: {torch.cuda.get_device_name(i)}\")\n",
    "    \n",
    "    device = 'cuda:0'\n",
    "    print(f\"Using GPU: {torch.cuda.get_device_name(0)}\")\n",
    "else:\n",
    "    device = 'cpu'\n",
    "    print(\"CUDA is not available. Training on CPU.\")"
   ]
  },
  {
   "cell_type": "markdown",
   "metadata": {},
   "source": [
    "# Running The Experiment."
   ]
  },
  {
   "cell_type": "code",
   "execution_count": null,
   "metadata": {},
   "outputs": [],
   "source": [
    "from ultralytics import YOLO\n",
    "# https://docs.ultralytics.com/usage/cfg/#train\n",
    "\n",
    "model = YOLO('yolov8n-seg.pt')  \n",
    "# model = YOLO('yolov8s-p2.yaml').load('yolov8s.pt')  \n",
    " \n",
    "# model.train(data='config.yaml', epochs=100, imgsz=640, seed=1, lr0=0.001, lrf=0.00005, close_mosaic=25)\n",
    "# Make Epochs 10, Mosaic = less than number of epochs, at least 10% of the epochs.\n",
    "# model.train(data='config.yaml', epochs=50, imgsz=640, seed=1, optimizer=\"Adam\", lr0=0.001, lrf=0.00005, close_mosaic= 45)\n",
    "model.train(data='original.yaml', epochs=30, imgsz=640, seed=1, optimizer=\"Adam\", lr0=0.001, lrf=0.00005, close_mosaic=10)\n",
    "\n",
    "# model.train(data='config.yaml', epochs=20, imgsz=640, seed=1, lr0=0.0001, lrf=0.000005, close_mosaic=10)\n",
    "# model.train(data='config.yaml', epochs=20, imgsz=640, seed=1)"
   ]
  },
  {
   "cell_type": "code",
   "execution_count": 2,
   "metadata": {},
   "outputs": [],
   "source": [
    "from ultralytics import YOLO \n",
    "\n",
    "def diffmodel(yaml, path = 'runs/segment/train13/weights/best.pt'):\n",
    "    model = YOLO(path)  # or 'yolov8s.pt', 'yolov8m.pt', 'yolov8l.pt', 'yolov8x.pt'\n",
    "\n",
    "    results = model.val(data=yaml, imgsz=640)\n",
    "\n",
    "\n",
    "    print(\"Class indices with average precision:\", results.ap_class_index)\n",
    "    print(\"Average precision for all classes:\", results.box.all_ap)\n",
    "    print(\"Mean average precision at IoU=0.50:\", results.box.map50)\n",
    "    print(\"Mean recall:\", results.box.mr)\n",
    "\n",
    "    precision = results.box.mp\n",
    "    recall = results.box.mr\n",
    "\n",
    "    f1_score = 2 * (precision * recall) / (precision + recall)\n",
    "\n",
    "    print(f\"Name: {yaml}\")\n",
    "    print(f\"F1 Score: {f1_score}\")"
   ]
  },
  {
   "cell_type": "code",
   "execution_count": 5,
   "metadata": {},
   "outputs": [
    {
     "name": "stdout",
     "output_type": "stream",
     "text": [
      "Ultralytics YOLOv8.2.8  Python-3.10.5 torch-2.1.1+cu121 CUDA:0 (NVIDIA GeForce RTX 2070 SUPER, 8192MiB)\n",
      "YOLOv8n-seg summary (fused): 195 layers, 3258259 parameters, 0 gradients, 12.0 GFLOPs\n"
     ]
    },
    {
     "name": "stderr",
     "output_type": "stream",
     "text": [
      "\u001b[34m\u001b[1mval: \u001b[0mScanning C:\\Users\\Ben\\Documents\\WorkComp\\Uoa Engineering Master\\Year 4\\Sem2\\760\\Project\\compsci-760-project\\doubleblur_noise_denoise\\labels\\val.cache... 327 images, 232 backgrounds, 0 corrupt: 100%|██████████| 327/327 [00:00<?, ?it/s]\n",
      "                 Class     Images  Instances      Box(P          R      mAP50  mAP50-95)     Mask(P          R      mAP50  mAP50-95): 100%|██████████| 21/21 [00:04<00:00,  4.34it/s]\n"
     ]
    },
    {
     "name": "stdout",
     "output_type": "stream",
     "text": [
      "                   all        327         96      0.702      0.344      0.373      0.195      0.637      0.302      0.341      0.142\n",
      "Speed: 0.5ms preprocess, 6.9ms inference, 0.0ms loss, 2.6ms postprocess per image\n",
      "Results saved to \u001b[1mruns\\segment\\val61\u001b[0m\n",
      "Class indices with average precision: [0]\n",
      "Average precision for all classes: [[    0.37317     0.34901     0.30776     0.27921     0.24342     0.16897     0.13303    0.069082    0.026922   0.0011092]]\n",
      "Mean average precision at IoU=0.50: 0.37316565433870114\n",
      "Mean recall: 0.34375\n",
      "Name: blurred30x.yaml\n",
      "F1 Score: 0.4615089049984497\n"
     ]
    }
   ],
   "source": [
    "diffmodel('blurred30x.yaml')"
   ]
  },
  {
   "cell_type": "code",
   "execution_count": 4,
   "metadata": {},
   "outputs": [
    {
     "name": "stdout",
     "output_type": "stream",
     "text": [
      "\n",
      "Training model with configuration from: blurred30x.yaml\n",
      "New https://pypi.org/project/ultralytics/8.3.17 available  Update with 'pip install -U ultralytics'\n",
      "Ultralytics YOLOv8.2.8  Python-3.10.5 torch-2.1.1+cu121 CUDA:0 (NVIDIA GeForce RTX 2070 SUPER, 8192MiB)\n",
      "\u001b[34m\u001b[1mengine\\trainer: \u001b[0mtask=segment, mode=train, model=yolov8n-seg.pt, data=blurred30x.yaml, epochs=30, time=None, patience=100, batch=16, imgsz=640, save=True, save_period=-1, cache=False, device=None, workers=8, project=None, name=train27, exist_ok=False, pretrained=True, optimizer=Adam, verbose=True, seed=1, deterministic=True, single_cls=False, rect=False, cos_lr=False, close_mosaic=10, resume=False, amp=True, fraction=1.0, profile=False, freeze=None, multi_scale=False, overlap_mask=True, mask_ratio=4, dropout=0.0, val=True, split=val, save_json=False, save_hybrid=False, conf=None, iou=0.7, max_det=300, half=False, dnn=False, plots=True, source=None, vid_stride=1, stream_buffer=False, visualize=False, augment=False, agnostic_nms=False, classes=None, retina_masks=False, embed=None, show=False, save_frames=False, save_txt=False, save_conf=False, save_crop=False, show_labels=True, show_conf=True, show_boxes=True, line_width=None, format=torchscript, keras=False, optimize=False, int8=False, dynamic=False, simplify=False, opset=None, workspace=4, nms=False, lr0=0.001, lrf=5e-05, momentum=0.937, weight_decay=0.0005, warmup_epochs=3.0, warmup_momentum=0.8, warmup_bias_lr=0.1, box=7.5, cls=0.5, dfl=1.5, pose=12.0, kobj=1.0, label_smoothing=0.0, nbs=64, hsv_h=0.015, hsv_s=0.7, hsv_v=0.4, degrees=0.0, translate=0.1, scale=0.5, shear=0.0, perspective=0.0, flipud=0.0, fliplr=0.5, bgr=0.0, mosaic=1.0, mixup=0.0, copy_paste=0.0, auto_augment=randaugment, erasing=0.4, crop_fraction=1.0, cfg=None, tracker=botsort.yaml, save_dir=runs\\segment\\train27\n",
      "Overriding model.yaml nc=80 with nc=1\n",
      "\n",
      "                   from  n    params  module                                       arguments                     \n",
      "  0                  -1  1       464  ultralytics.nn.modules.conv.Conv             [3, 16, 3, 2]                 \n",
      "  1                  -1  1      4672  ultralytics.nn.modules.conv.Conv             [16, 32, 3, 2]                \n",
      "  2                  -1  1      7360  ultralytics.nn.modules.block.C2f             [32, 32, 1, True]             \n",
      "  3                  -1  1     18560  ultralytics.nn.modules.conv.Conv             [32, 64, 3, 2]                \n",
      "  4                  -1  2     49664  ultralytics.nn.modules.block.C2f             [64, 64, 2, True]             \n",
      "  5                  -1  1     73984  ultralytics.nn.modules.conv.Conv             [64, 128, 3, 2]               \n",
      "  6                  -1  2    197632  ultralytics.nn.modules.block.C2f             [128, 128, 2, True]           \n",
      "  7                  -1  1    295424  ultralytics.nn.modules.conv.Conv             [128, 256, 3, 2]              \n",
      "  8                  -1  1    460288  ultralytics.nn.modules.block.C2f             [256, 256, 1, True]           \n",
      "  9                  -1  1    164608  ultralytics.nn.modules.block.SPPF            [256, 256, 5]                 \n",
      " 10                  -1  1         0  torch.nn.modules.upsampling.Upsample         [None, 2, 'nearest']          \n",
      " 11             [-1, 6]  1         0  ultralytics.nn.modules.conv.Concat           [1]                           \n",
      " 12                  -1  1    148224  ultralytics.nn.modules.block.C2f             [384, 128, 1]                 \n",
      " 13                  -1  1         0  torch.nn.modules.upsampling.Upsample         [None, 2, 'nearest']          \n",
      " 14             [-1, 4]  1         0  ultralytics.nn.modules.conv.Concat           [1]                           \n",
      " 15                  -1  1     37248  ultralytics.nn.modules.block.C2f             [192, 64, 1]                  \n",
      " 16                  -1  1     36992  ultralytics.nn.modules.conv.Conv             [64, 64, 3, 2]                \n",
      " 17            [-1, 12]  1         0  ultralytics.nn.modules.conv.Concat           [1]                           \n",
      " 18                  -1  1    123648  ultralytics.nn.modules.block.C2f             [192, 128, 1]                 \n",
      " 19                  -1  1    147712  ultralytics.nn.modules.conv.Conv             [128, 128, 3, 2]              \n",
      " 20             [-1, 9]  1         0  ultralytics.nn.modules.conv.Concat           [1]                           \n",
      " 21                  -1  1    493056  ultralytics.nn.modules.block.C2f             [384, 256, 1]                 \n",
      " 22        [15, 18, 21]  1   1004275  ultralytics.nn.modules.head.Segment          [1, 32, 64, [64, 128, 256]]   \n",
      "YOLOv8n-seg summary: 261 layers, 3263811 parameters, 3263795 gradients, 12.1 GFLOPs\n",
      "\n",
      "Transferred 381/417 items from pretrained weights\n",
      "Freezing layer 'model.22.dfl.conv.weight'\n",
      "\u001b[34m\u001b[1mAMP: \u001b[0mrunning Automatic Mixed Precision (AMP) checks with YOLOv8n...\n",
      "\u001b[34m\u001b[1mAMP: \u001b[0mchecks passed \n"
     ]
    },
    {
     "name": "stderr",
     "output_type": "stream",
     "text": [
      "\u001b[34m\u001b[1mtrain: \u001b[0mScanning C:\\Users\\Ben\\Documents\\WorkComp\\Uoa Engineering Master\\Year 4\\Sem2\\760\\Project\\compsci-760-project\\doubleblur_noise_denoise\\labels\\train... 1921 images, 1325 backgrounds, 0 corrupt: 100%|██████████| 1921/1921 [00:08<00:00, 232.04it/s]\n"
     ]
    },
    {
     "name": "stdout",
     "output_type": "stream",
     "text": [
      "\u001b[34m\u001b[1mtrain: \u001b[0mNew cache created: C:\\Users\\Ben\\Documents\\WorkComp\\Uoa Engineering Master\\Year 4\\Sem2\\760\\Project\\compsci-760-project\\doubleblur_noise_denoise\\labels\\train.cache\n"
     ]
    },
    {
     "name": "stderr",
     "output_type": "stream",
     "text": [
      "C:\\Users\\Ben\\AppData\\Roaming\\Python\\Python310\\site-packages\\albumentations\\__init__.py:13: UserWarning: A new version of Albumentations is available: 1.4.18 (you have 1.4.14). Upgrade using: pip install -U albumentations. To disable automatic update checks, set the environment variable NO_ALBUMENTATIONS_UPDATE to 1.\n",
      "  check_for_updates()\n"
     ]
    },
    {
     "name": "stdout",
     "output_type": "stream",
     "text": [
      "\u001b[34m\u001b[1malbumentations: \u001b[0mBlur(p=0.01, blur_limit=(3, 7)), MedianBlur(p=0.01, blur_limit=(3, 7)), ToGray(p=0.01), CLAHE(p=0.01, clip_limit=(1, 4.0), tile_grid_size=(8, 8))\n"
     ]
    },
    {
     "name": "stderr",
     "output_type": "stream",
     "text": [
      "C:\\Users\\Ben\\AppData\\Roaming\\Python\\Python310\\site-packages\\albumentations\\core\\composition.py:161: UserWarning: Got processor for bboxes, but no transform to process it.\n",
      "  self._set_keys()\n",
      "\u001b[34m\u001b[1mval: \u001b[0mScanning C:\\Users\\Ben\\Documents\\WorkComp\\Uoa Engineering Master\\Year 4\\Sem2\\760\\Project\\compsci-760-project\\doubleblur_noise_denoise\\labels\\val.cache... 327 images, 232 backgrounds, 0 corrupt: 100%|██████████| 327/327 [00:00<?, ?it/s]\n"
     ]
    },
    {
     "name": "stdout",
     "output_type": "stream",
     "text": [
      "Plotting labels to runs\\segment\\train27\\labels.jpg... \n",
      "\u001b[34m\u001b[1moptimizer:\u001b[0m Adam(lr=0.001, momentum=0.937) with parameter groups 66 weight(decay=0.0), 77 weight(decay=0.0005), 76 bias(decay=0.0)\n",
      "Image sizes 640 train, 640 val\n",
      "Using 8 dataloader workers\n",
      "Logging results to \u001b[1mruns\\segment\\train27\u001b[0m\n",
      "Starting training for 30 epochs...\n",
      "\n",
      "      Epoch    GPU_mem   box_loss   seg_loss   cls_loss   dfl_loss  Instances       Size\n"
     ]
    },
    {
     "name": "stderr",
     "output_type": "stream",
     "text": [
      "       1/30      2.82G      2.153      3.864        4.8      1.874          0        640: 100%|██████████| 121/121 [00:35<00:00,  3.37it/s]\n",
      "                 Class     Images  Instances      Box(P          R      mAP50  mAP50-95)     Mask(P          R      mAP50  mAP50-95): 100%|██████████| 11/11 [00:02<00:00,  4.04it/s]"
     ]
    },
    {
     "name": "stdout",
     "output_type": "stream",
     "text": [
      "                   all        327         96     0.0392     0.0208     0.0206    0.00721          0          0          0          0\n"
     ]
    },
    {
     "name": "stderr",
     "output_type": "stream",
     "text": [
      "\n"
     ]
    },
    {
     "name": "stdout",
     "output_type": "stream",
     "text": [
      "\n",
      "      Epoch    GPU_mem   box_loss   seg_loss   cls_loss   dfl_loss  Instances       Size\n"
     ]
    },
    {
     "name": "stderr",
     "output_type": "stream",
     "text": [
      "       2/30      2.67G      1.888       2.86      2.195      1.593          0        640: 100%|██████████| 121/121 [00:25<00:00,  4.74it/s]\n",
      "                 Class     Images  Instances      Box(P          R      mAP50  mAP50-95)     Mask(P          R      mAP50  mAP50-95): 100%|██████████| 11/11 [00:03<00:00,  3.51it/s]"
     ]
    },
    {
     "name": "stdout",
     "output_type": "stream",
     "text": [
      "                   all        327         96      0.645      0.375      0.468      0.206      0.645      0.375      0.457      0.155\n"
     ]
    },
    {
     "name": "stderr",
     "output_type": "stream",
     "text": [
      "\n"
     ]
    },
    {
     "name": "stdout",
     "output_type": "stream",
     "text": [
      "\n",
      "      Epoch    GPU_mem   box_loss   seg_loss   cls_loss   dfl_loss  Instances       Size\n"
     ]
    },
    {
     "name": "stderr",
     "output_type": "stream",
     "text": [
      "       3/30      2.69G      1.776      2.727      1.858      1.541          0        640: 100%|██████████| 121/121 [00:23<00:00,  5.15it/s]\n",
      "                 Class     Images  Instances      Box(P          R      mAP50  mAP50-95)     Mask(P          R      mAP50  mAP50-95): 100%|██████████| 11/11 [00:02<00:00,  3.82it/s]"
     ]
    },
    {
     "name": "stdout",
     "output_type": "stream",
     "text": [
      "                   all        327         96      0.664      0.577      0.607       0.33      0.726      0.583      0.645      0.295\n"
     ]
    },
    {
     "name": "stderr",
     "output_type": "stream",
     "text": [
      "\n"
     ]
    },
    {
     "name": "stdout",
     "output_type": "stream",
     "text": [
      "\n",
      "      Epoch    GPU_mem   box_loss   seg_loss   cls_loss   dfl_loss  Instances       Size\n"
     ]
    },
    {
     "name": "stderr",
     "output_type": "stream",
     "text": [
      "       4/30      2.69G      1.741      2.498       1.84      1.533          0        640: 100%|██████████| 121/121 [00:24<00:00,  5.00it/s]\n",
      "                 Class     Images  Instances      Box(P          R      mAP50  mAP50-95)     Mask(P          R      mAP50  mAP50-95): 100%|██████████| 11/11 [00:02<00:00,  3.74it/s]"
     ]
    },
    {
     "name": "stdout",
     "output_type": "stream",
     "text": [
      "                   all        327         96        0.7      0.635      0.651      0.292      0.686       0.66      0.668      0.301\n"
     ]
    },
    {
     "name": "stderr",
     "output_type": "stream",
     "text": [
      "\n"
     ]
    },
    {
     "name": "stdout",
     "output_type": "stream",
     "text": [
      "\n",
      "      Epoch    GPU_mem   box_loss   seg_loss   cls_loss   dfl_loss  Instances       Size\n"
     ]
    },
    {
     "name": "stderr",
     "output_type": "stream",
     "text": [
      "       5/30      2.69G       1.67      2.436      1.768      1.464          0        640: 100%|██████████| 121/121 [00:23<00:00,  5.17it/s]\n",
      "                 Class     Images  Instances      Box(P          R      mAP50  mAP50-95)     Mask(P          R      mAP50  mAP50-95): 100%|██████████| 11/11 [00:02<00:00,  4.04it/s]"
     ]
    },
    {
     "name": "stdout",
     "output_type": "stream",
     "text": [
      "                   all        327         96        0.7       0.56      0.641      0.325      0.697      0.562      0.656      0.257\n"
     ]
    },
    {
     "name": "stderr",
     "output_type": "stream",
     "text": [
      "\n"
     ]
    },
    {
     "name": "stdout",
     "output_type": "stream",
     "text": [
      "\n",
      "      Epoch    GPU_mem   box_loss   seg_loss   cls_loss   dfl_loss  Instances       Size\n"
     ]
    },
    {
     "name": "stderr",
     "output_type": "stream",
     "text": [
      "       6/30      2.68G      1.621      2.332      1.556      1.421          2        640: 100%|██████████| 121/121 [00:23<00:00,  5.16it/s]\n",
      "                 Class     Images  Instances      Box(P          R      mAP50  mAP50-95)     Mask(P          R      mAP50  mAP50-95): 100%|██████████| 11/11 [00:02<00:00,  4.05it/s]"
     ]
    },
    {
     "name": "stdout",
     "output_type": "stream",
     "text": [
      "                   all        327         96      0.797      0.667      0.751      0.451      0.784      0.656      0.768      0.403\n"
     ]
    },
    {
     "name": "stderr",
     "output_type": "stream",
     "text": [
      "\n"
     ]
    },
    {
     "name": "stdout",
     "output_type": "stream",
     "text": [
      "\n",
      "      Epoch    GPU_mem   box_loss   seg_loss   cls_loss   dfl_loss  Instances       Size\n"
     ]
    },
    {
     "name": "stderr",
     "output_type": "stream",
     "text": [
      "       7/30       2.7G      1.602      2.382      1.575      1.429          1        640: 100%|██████████| 121/121 [00:23<00:00,  5.20it/s]\n",
      "                 Class     Images  Instances      Box(P          R      mAP50  mAP50-95)     Mask(P          R      mAP50  mAP50-95): 100%|██████████| 11/11 [00:02<00:00,  3.94it/s]"
     ]
    },
    {
     "name": "stdout",
     "output_type": "stream",
     "text": [
      "                   all        327         96      0.838      0.648      0.799      0.457      0.853      0.646      0.785      0.382\n"
     ]
    },
    {
     "name": "stderr",
     "output_type": "stream",
     "text": [
      "\n"
     ]
    },
    {
     "name": "stdout",
     "output_type": "stream",
     "text": [
      "\n",
      "      Epoch    GPU_mem   box_loss   seg_loss   cls_loss   dfl_loss  Instances       Size\n"
     ]
    },
    {
     "name": "stderr",
     "output_type": "stream",
     "text": [
      "       8/30      2.69G      1.611      2.301      1.551      1.412          0        640: 100%|██████████| 121/121 [00:22<00:00,  5.35it/s]\n",
      "                 Class     Images  Instances      Box(P          R      mAP50  mAP50-95)     Mask(P          R      mAP50  mAP50-95): 100%|██████████| 11/11 [00:02<00:00,  4.26it/s]"
     ]
    },
    {
     "name": "stdout",
     "output_type": "stream",
     "text": [
      "                   all        327         96      0.691      0.708      0.747      0.425      0.691      0.708      0.752      0.375\n"
     ]
    },
    {
     "name": "stderr",
     "output_type": "stream",
     "text": [
      "\n"
     ]
    },
    {
     "name": "stdout",
     "output_type": "stream",
     "text": [
      "\n",
      "      Epoch    GPU_mem   box_loss   seg_loss   cls_loss   dfl_loss  Instances       Size\n"
     ]
    },
    {
     "name": "stderr",
     "output_type": "stream",
     "text": [
      "       9/30      2.69G      1.657      2.391      1.551      1.448          0        640: 100%|██████████| 121/121 [00:23<00:00,  5.14it/s]\n",
      "                 Class     Images  Instances      Box(P          R      mAP50  mAP50-95)     Mask(P          R      mAP50  mAP50-95): 100%|██████████| 11/11 [00:02<00:00,  4.15it/s]"
     ]
    },
    {
     "name": "stdout",
     "output_type": "stream",
     "text": [
      "                   all        327         96      0.694       0.51      0.611      0.301      0.642      0.469       0.54       0.15\n"
     ]
    },
    {
     "name": "stderr",
     "output_type": "stream",
     "text": [
      "\n"
     ]
    },
    {
     "name": "stdout",
     "output_type": "stream",
     "text": [
      "\n",
      "      Epoch    GPU_mem   box_loss   seg_loss   cls_loss   dfl_loss  Instances       Size\n"
     ]
    },
    {
     "name": "stderr",
     "output_type": "stream",
     "text": [
      "      10/30      2.68G      1.555      2.282      1.386      1.413          1        640: 100%|██████████| 121/121 [00:22<00:00,  5.37it/s]\n",
      "                 Class     Images  Instances      Box(P          R      mAP50  mAP50-95)     Mask(P          R      mAP50  mAP50-95): 100%|██████████| 11/11 [00:02<00:00,  4.00it/s]"
     ]
    },
    {
     "name": "stdout",
     "output_type": "stream",
     "text": [
      "                   all        327         96      0.911      0.677      0.818      0.528      0.928      0.688       0.82      0.497\n"
     ]
    },
    {
     "name": "stderr",
     "output_type": "stream",
     "text": [
      "\n"
     ]
    },
    {
     "name": "stdout",
     "output_type": "stream",
     "text": [
      "\n",
      "      Epoch    GPU_mem   box_loss   seg_loss   cls_loss   dfl_loss  Instances       Size\n"
     ]
    },
    {
     "name": "stderr",
     "output_type": "stream",
     "text": [
      "      11/30      2.69G      1.482      2.035      1.314      1.333          0        640: 100%|██████████| 121/121 [00:22<00:00,  5.31it/s]\n",
      "                 Class     Images  Instances      Box(P          R      mAP50  mAP50-95)     Mask(P          R      mAP50  mAP50-95): 100%|██████████| 11/11 [00:02<00:00,  3.86it/s]"
     ]
    },
    {
     "name": "stdout",
     "output_type": "stream",
     "text": [
      "                   all        327         96      0.798      0.719      0.801       0.47      0.782      0.712      0.778      0.359\n"
     ]
    },
    {
     "name": "stderr",
     "output_type": "stream",
     "text": [
      "\n"
     ]
    },
    {
     "name": "stdout",
     "output_type": "stream",
     "text": [
      "\n",
      "      Epoch    GPU_mem   box_loss   seg_loss   cls_loss   dfl_loss  Instances       Size\n"
     ]
    },
    {
     "name": "stderr",
     "output_type": "stream",
     "text": [
      "      12/30      2.69G      1.483      2.141      1.289      1.339          0        640: 100%|██████████| 121/121 [00:22<00:00,  5.34it/s]\n",
      "                 Class     Images  Instances      Box(P          R      mAP50  mAP50-95)     Mask(P          R      mAP50  mAP50-95): 100%|██████████| 11/11 [00:02<00:00,  4.10it/s]"
     ]
    },
    {
     "name": "stdout",
     "output_type": "stream",
     "text": [
      "                   all        327         96      0.835      0.771      0.863      0.521      0.861       0.76      0.849      0.411\n"
     ]
    },
    {
     "name": "stderr",
     "output_type": "stream",
     "text": [
      "\n"
     ]
    },
    {
     "name": "stdout",
     "output_type": "stream",
     "text": [
      "\n",
      "      Epoch    GPU_mem   box_loss   seg_loss   cls_loss   dfl_loss  Instances       Size\n"
     ]
    },
    {
     "name": "stderr",
     "output_type": "stream",
     "text": [
      "      13/30      2.69G      1.457      2.155      1.251      1.301          0        640: 100%|██████████| 121/121 [00:22<00:00,  5.42it/s]\n",
      "                 Class     Images  Instances      Box(P          R      mAP50  mAP50-95)     Mask(P          R      mAP50  mAP50-95): 100%|██████████| 11/11 [00:02<00:00,  4.31it/s]"
     ]
    },
    {
     "name": "stdout",
     "output_type": "stream",
     "text": [
      "                   all        327         96      0.841      0.812      0.876      0.539      0.838      0.807      0.867       0.48\n"
     ]
    },
    {
     "name": "stderr",
     "output_type": "stream",
     "text": [
      "\n"
     ]
    },
    {
     "name": "stdout",
     "output_type": "stream",
     "text": [
      "\n",
      "      Epoch    GPU_mem   box_loss   seg_loss   cls_loss   dfl_loss  Instances       Size\n"
     ]
    },
    {
     "name": "stderr",
     "output_type": "stream",
     "text": [
      "      14/30      2.68G      1.524      2.164      1.377      1.331          1        640: 100%|██████████| 121/121 [00:22<00:00,  5.38it/s]\n",
      "                 Class     Images  Instances      Box(P          R      mAP50  mAP50-95)     Mask(P          R      mAP50  mAP50-95): 100%|██████████| 11/11 [00:02<00:00,  4.00it/s]"
     ]
    },
    {
     "name": "stdout",
     "output_type": "stream",
     "text": [
      "                   all        327         96      0.785      0.685      0.763      0.439      0.797      0.693      0.788      0.441\n"
     ]
    },
    {
     "name": "stderr",
     "output_type": "stream",
     "text": [
      "\n"
     ]
    },
    {
     "name": "stdout",
     "output_type": "stream",
     "text": [
      "\n",
      "      Epoch    GPU_mem   box_loss   seg_loss   cls_loss   dfl_loss  Instances       Size\n"
     ]
    },
    {
     "name": "stderr",
     "output_type": "stream",
     "text": [
      "      15/30      2.69G      1.541      2.207      1.371      1.361          1        640: 100%|██████████| 121/121 [00:22<00:00,  5.35it/s]\n",
      "                 Class     Images  Instances      Box(P          R      mAP50  mAP50-95)     Mask(P          R      mAP50  mAP50-95): 100%|██████████| 11/11 [00:02<00:00,  4.52it/s]"
     ]
    },
    {
     "name": "stdout",
     "output_type": "stream",
     "text": [
      "                   all        327         96      0.776      0.685      0.755      0.422      0.764      0.675      0.748      0.313\n"
     ]
    },
    {
     "name": "stderr",
     "output_type": "stream",
     "text": [
      "\n"
     ]
    },
    {
     "name": "stdout",
     "output_type": "stream",
     "text": [
      "\n",
      "      Epoch    GPU_mem   box_loss   seg_loss   cls_loss   dfl_loss  Instances       Size\n"
     ]
    },
    {
     "name": "stderr",
     "output_type": "stream",
     "text": [
      "      16/30      2.69G      1.409      2.032      1.287      1.314          1        640: 100%|██████████| 121/121 [00:22<00:00,  5.40it/s]\n",
      "                 Class     Images  Instances      Box(P          R      mAP50  mAP50-95)     Mask(P          R      mAP50  mAP50-95): 100%|██████████| 11/11 [00:02<00:00,  4.18it/s]"
     ]
    },
    {
     "name": "stdout",
     "output_type": "stream",
     "text": [
      "                   all        327         96      0.885      0.802      0.869      0.528      0.871      0.812      0.872      0.506\n"
     ]
    },
    {
     "name": "stderr",
     "output_type": "stream",
     "text": [
      "\n"
     ]
    },
    {
     "name": "stdout",
     "output_type": "stream",
     "text": [
      "\n",
      "      Epoch    GPU_mem   box_loss   seg_loss   cls_loss   dfl_loss  Instances       Size\n"
     ]
    },
    {
     "name": "stderr",
     "output_type": "stream",
     "text": [
      "      17/30      2.69G      1.386      2.062      1.285      1.285          0        640: 100%|██████████| 121/121 [00:22<00:00,  5.38it/s]\n",
      "                 Class     Images  Instances      Box(P          R      mAP50  mAP50-95)     Mask(P          R      mAP50  mAP50-95): 100%|██████████| 11/11 [00:02<00:00,  4.32it/s]"
     ]
    },
    {
     "name": "stdout",
     "output_type": "stream",
     "text": [
      "                   all        327         96      0.897      0.819      0.882      0.555      0.944      0.823      0.895      0.496\n"
     ]
    },
    {
     "name": "stderr",
     "output_type": "stream",
     "text": [
      "\n"
     ]
    },
    {
     "name": "stdout",
     "output_type": "stream",
     "text": [
      "\n",
      "      Epoch    GPU_mem   box_loss   seg_loss   cls_loss   dfl_loss  Instances       Size\n"
     ]
    },
    {
     "name": "stderr",
     "output_type": "stream",
     "text": [
      "      18/30      2.68G      1.393      1.942      1.156      1.307          0        640: 100%|██████████| 121/121 [00:22<00:00,  5.39it/s]\n",
      "                 Class     Images  Instances      Box(P          R      mAP50  mAP50-95)     Mask(P          R      mAP50  mAP50-95): 100%|██████████| 11/11 [00:02<00:00,  4.32it/s]"
     ]
    },
    {
     "name": "stdout",
     "output_type": "stream",
     "text": [
      "                   all        327         96      0.909      0.781      0.874      0.561      0.862      0.845      0.885      0.534\n"
     ]
    },
    {
     "name": "stderr",
     "output_type": "stream",
     "text": [
      "\n"
     ]
    },
    {
     "name": "stdout",
     "output_type": "stream",
     "text": [
      "\n",
      "      Epoch    GPU_mem   box_loss   seg_loss   cls_loss   dfl_loss  Instances       Size\n"
     ]
    },
    {
     "name": "stderr",
     "output_type": "stream",
     "text": [
      "      19/30      2.69G       1.29      1.828     0.9995       1.22          0        640: 100%|██████████| 121/121 [00:23<00:00,  5.24it/s]\n",
      "                 Class     Images  Instances      Box(P          R      mAP50  mAP50-95)     Mask(P          R      mAP50  mAP50-95): 100%|██████████| 11/11 [00:02<00:00,  4.13it/s]"
     ]
    },
    {
     "name": "stdout",
     "output_type": "stream",
     "text": [
      "                   all        327         96      0.886      0.854      0.914      0.605      0.897      0.865      0.924      0.566\n"
     ]
    },
    {
     "name": "stderr",
     "output_type": "stream",
     "text": [
      "\n"
     ]
    },
    {
     "name": "stdout",
     "output_type": "stream",
     "text": [
      "\n",
      "      Epoch    GPU_mem   box_loss   seg_loss   cls_loss   dfl_loss  Instances       Size\n"
     ]
    },
    {
     "name": "stderr",
     "output_type": "stream",
     "text": [
      "      20/30      2.69G        1.3      1.899      1.015      1.215          0        640: 100%|██████████| 121/121 [00:22<00:00,  5.40it/s]\n",
      "                 Class     Images  Instances      Box(P          R      mAP50  mAP50-95)     Mask(P          R      mAP50  mAP50-95): 100%|██████████| 11/11 [00:02<00:00,  4.25it/s]"
     ]
    },
    {
     "name": "stdout",
     "output_type": "stream",
     "text": [
      "                   all        327         96      0.888      0.742      0.859      0.528      0.899      0.739      0.849      0.503\n"
     ]
    },
    {
     "name": "stderr",
     "output_type": "stream",
     "text": [
      "\n"
     ]
    },
    {
     "name": "stdout",
     "output_type": "stream",
     "text": [
      "Closing dataloader mosaic\n",
      "\u001b[34m\u001b[1malbumentations: \u001b[0mBlur(p=0.01, blur_limit=(3, 7)), MedianBlur(p=0.01, blur_limit=(3, 7)), ToGray(p=0.01), CLAHE(p=0.01, clip_limit=(1, 4.0), tile_grid_size=(8, 8))\n"
     ]
    },
    {
     "name": "stderr",
     "output_type": "stream",
     "text": [
      "C:\\Users\\Ben\\AppData\\Roaming\\Python\\Python310\\site-packages\\albumentations\\core\\composition.py:161: UserWarning: Got processor for bboxes, but no transform to process it.\n",
      "  self._set_keys()\n"
     ]
    },
    {
     "name": "stdout",
     "output_type": "stream",
     "text": [
      "\n",
      "      Epoch    GPU_mem   box_loss   seg_loss   cls_loss   dfl_loss  Instances       Size\n"
     ]
    },
    {
     "name": "stderr",
     "output_type": "stream",
     "text": [
      "      21/30      2.82G      1.264      1.869      1.035      1.316          0        640: 100%|██████████| 121/121 [00:23<00:00,  5.05it/s]\n",
      "                 Class     Images  Instances      Box(P          R      mAP50  mAP50-95)     Mask(P          R      mAP50  mAP50-95): 100%|██████████| 11/11 [00:02<00:00,  4.34it/s]"
     ]
    },
    {
     "name": "stdout",
     "output_type": "stream",
     "text": [
      "                   all        327         96      0.633      0.698      0.711       0.34      0.657      0.758      0.761       0.37\n"
     ]
    },
    {
     "name": "stderr",
     "output_type": "stream",
     "text": [
      "\n"
     ]
    },
    {
     "name": "stdout",
     "output_type": "stream",
     "text": [
      "\n",
      "      Epoch    GPU_mem   box_loss   seg_loss   cls_loss   dfl_loss  Instances       Size\n"
     ]
    },
    {
     "name": "stderr",
     "output_type": "stream",
     "text": [
      "      22/30      2.68G      1.287      1.859      1.002      1.314          0        640: 100%|██████████| 121/121 [00:21<00:00,  5.56it/s]\n",
      "                 Class     Images  Instances      Box(P          R      mAP50  mAP50-95)     Mask(P          R      mAP50  mAP50-95): 100%|██████████| 11/11 [00:02<00:00,  4.17it/s]"
     ]
    },
    {
     "name": "stdout",
     "output_type": "stream",
     "text": [
      "                   all        327         96      0.914      0.844      0.914      0.526      0.914      0.844      0.915      0.513\n"
     ]
    },
    {
     "name": "stderr",
     "output_type": "stream",
     "text": [
      "\n"
     ]
    },
    {
     "name": "stdout",
     "output_type": "stream",
     "text": [
      "\n",
      "      Epoch    GPU_mem   box_loss   seg_loss   cls_loss   dfl_loss  Instances       Size\n"
     ]
    },
    {
     "name": "stderr",
     "output_type": "stream",
     "text": [
      "      23/30      2.69G      1.246       1.76     0.9276       1.27          0        640: 100%|██████████| 121/121 [00:21<00:00,  5.57it/s]\n",
      "                 Class     Images  Instances      Box(P          R      mAP50  mAP50-95)     Mask(P          R      mAP50  mAP50-95): 100%|██████████| 11/11 [00:02<00:00,  4.54it/s]"
     ]
    },
    {
     "name": "stdout",
     "output_type": "stream",
     "text": [
      "                   all        327         96      0.905       0.79      0.863      0.506      0.905      0.796      0.868      0.472\n"
     ]
    },
    {
     "name": "stderr",
     "output_type": "stream",
     "text": [
      "\n"
     ]
    },
    {
     "name": "stdout",
     "output_type": "stream",
     "text": [
      "\n",
      "      Epoch    GPU_mem   box_loss   seg_loss   cls_loss   dfl_loss  Instances       Size\n"
     ]
    },
    {
     "name": "stderr",
     "output_type": "stream",
     "text": [
      "      24/30      2.69G      1.182      1.733     0.8293      1.242          0        640: 100%|██████████| 121/121 [00:21<00:00,  5.53it/s]\n",
      "                 Class     Images  Instances      Box(P          R      mAP50  mAP50-95)     Mask(P          R      mAP50  mAP50-95): 100%|██████████| 11/11 [00:02<00:00,  4.15it/s]"
     ]
    },
    {
     "name": "stdout",
     "output_type": "stream",
     "text": [
      "                   all        327         96      0.961      0.833       0.92      0.578      0.961      0.833      0.921      0.572\n"
     ]
    },
    {
     "name": "stderr",
     "output_type": "stream",
     "text": [
      "\n"
     ]
    },
    {
     "name": "stdout",
     "output_type": "stream",
     "text": [
      "\n",
      "      Epoch    GPU_mem   box_loss   seg_loss   cls_loss   dfl_loss  Instances       Size\n"
     ]
    },
    {
     "name": "stderr",
     "output_type": "stream",
     "text": [
      "      25/30      2.69G      1.193      1.626     0.8611      1.247          0        640: 100%|██████████| 121/121 [00:21<00:00,  5.56it/s]\n",
      "                 Class     Images  Instances      Box(P          R      mAP50  mAP50-95)     Mask(P          R      mAP50  mAP50-95): 100%|██████████| 11/11 [00:02<00:00,  4.22it/s]"
     ]
    },
    {
     "name": "stdout",
     "output_type": "stream",
     "text": [
      "                   all        327         96      0.934      0.878      0.924      0.565      0.923      0.868      0.918      0.556\n"
     ]
    },
    {
     "name": "stderr",
     "output_type": "stream",
     "text": [
      "\n"
     ]
    },
    {
     "name": "stdout",
     "output_type": "stream",
     "text": [
      "\n",
      "      Epoch    GPU_mem   box_loss   seg_loss   cls_loss   dfl_loss  Instances       Size\n"
     ]
    },
    {
     "name": "stderr",
     "output_type": "stream",
     "text": [
      "      26/30      2.68G      1.164      1.667     0.7496      1.238          0        640: 100%|██████████| 121/121 [00:22<00:00,  5.44it/s]\n",
      "                 Class     Images  Instances      Box(P          R      mAP50  mAP50-95)     Mask(P          R      mAP50  mAP50-95): 100%|██████████| 11/11 [00:02<00:00,  4.54it/s]"
     ]
    },
    {
     "name": "stdout",
     "output_type": "stream",
     "text": [
      "                   all        327         96      0.987      0.807      0.931      0.595      0.987      0.807      0.924       0.55\n"
     ]
    },
    {
     "name": "stderr",
     "output_type": "stream",
     "text": [
      "\n"
     ]
    },
    {
     "name": "stdout",
     "output_type": "stream",
     "text": [
      "\n",
      "      Epoch    GPU_mem   box_loss   seg_loss   cls_loss   dfl_loss  Instances       Size\n"
     ]
    },
    {
     "name": "stderr",
     "output_type": "stream",
     "text": [
      "      27/30      2.69G      1.097      1.544     0.7031      1.192          0        640: 100%|██████████| 121/121 [00:21<00:00,  5.56it/s]\n",
      "                 Class     Images  Instances      Box(P          R      mAP50  mAP50-95)     Mask(P          R      mAP50  mAP50-95): 100%|██████████| 11/11 [00:02<00:00,  4.40it/s]"
     ]
    },
    {
     "name": "stdout",
     "output_type": "stream",
     "text": [
      "                   all        327         96      0.899      0.875      0.916      0.598       0.91      0.885      0.923      0.578\n"
     ]
    },
    {
     "name": "stderr",
     "output_type": "stream",
     "text": [
      "\n"
     ]
    },
    {
     "name": "stdout",
     "output_type": "stream",
     "text": [
      "\n",
      "      Epoch    GPU_mem   box_loss   seg_loss   cls_loss   dfl_loss  Instances       Size\n"
     ]
    },
    {
     "name": "stderr",
     "output_type": "stream",
     "text": [
      "      28/30      2.68G      1.076      1.591      0.725      1.195          0        640: 100%|██████████| 121/121 [00:21<00:00,  5.58it/s]\n",
      "                 Class     Images  Instances      Box(P          R      mAP50  mAP50-95)     Mask(P          R      mAP50  mAP50-95): 100%|██████████| 11/11 [00:02<00:00,  4.61it/s]"
     ]
    },
    {
     "name": "stdout",
     "output_type": "stream",
     "text": [
      "                   all        327         96      0.941      0.833      0.913      0.575      0.931      0.833      0.913      0.569\n"
     ]
    },
    {
     "name": "stderr",
     "output_type": "stream",
     "text": [
      "\n"
     ]
    },
    {
     "name": "stdout",
     "output_type": "stream",
     "text": [
      "\n",
      "      Epoch    GPU_mem   box_loss   seg_loss   cls_loss   dfl_loss  Instances       Size\n"
     ]
    },
    {
     "name": "stderr",
     "output_type": "stream",
     "text": [
      "      29/30      2.68G      1.022      1.542     0.7218      1.155          0        640: 100%|██████████| 121/121 [00:21<00:00,  5.58it/s]\n",
      "                 Class     Images  Instances      Box(P          R      mAP50  mAP50-95)     Mask(P          R      mAP50  mAP50-95): 100%|██████████| 11/11 [00:02<00:00,  4.70it/s]"
     ]
    },
    {
     "name": "stdout",
     "output_type": "stream",
     "text": [
      "                   all        327         96      0.948      0.792      0.908      0.575      0.961      0.802      0.914      0.544\n"
     ]
    },
    {
     "name": "stderr",
     "output_type": "stream",
     "text": [
      "\n"
     ]
    },
    {
     "name": "stdout",
     "output_type": "stream",
     "text": [
      "\n",
      "      Epoch    GPU_mem   box_loss   seg_loss   cls_loss   dfl_loss  Instances       Size\n"
     ]
    },
    {
     "name": "stderr",
     "output_type": "stream",
     "text": [
      "      30/30      2.68G      1.036      1.497     0.6468      1.149          0        640: 100%|██████████| 121/121 [00:21<00:00,  5.57it/s]\n",
      "                 Class     Images  Instances      Box(P          R      mAP50  mAP50-95)     Mask(P          R      mAP50  mAP50-95): 100%|██████████| 11/11 [00:02<00:00,  4.50it/s]\n"
     ]
    },
    {
     "name": "stdout",
     "output_type": "stream",
     "text": [
      "                   all        327         96      0.922      0.862      0.922       0.61      0.933      0.872      0.925      0.587\n",
      "\n",
      "30 epochs completed in 0.243 hours.\n",
      "Optimizer stripped from runs\\segment\\train27\\weights\\last.pt, 6.8MB\n",
      "Optimizer stripped from runs\\segment\\train27\\weights\\best.pt, 6.8MB\n",
      "\n",
      "Validating runs\\segment\\train27\\weights\\best.pt...\n",
      "Ultralytics YOLOv8.2.8  Python-3.10.5 torch-2.1.1+cu121 CUDA:0 (NVIDIA GeForce RTX 2070 SUPER, 8192MiB)\n",
      "YOLOv8n-seg summary (fused): 195 layers, 3258259 parameters, 0 gradients, 12.0 GFLOPs\n"
     ]
    },
    {
     "name": "stderr",
     "output_type": "stream",
     "text": [
      "                 Class     Images  Instances      Box(P          R      mAP50  mAP50-95)     Mask(P          R      mAP50  mAP50-95): 100%|██████████| 11/11 [00:04<00:00,  2.75it/s]\n"
     ]
    },
    {
     "name": "stdout",
     "output_type": "stream",
     "text": [
      "                   all        327         96      0.916      0.875      0.922      0.609      0.927      0.885      0.925      0.589\n",
      "Speed: 0.5ms preprocess, 3.4ms inference, 0.0ms loss, 3.6ms postprocess per image\n",
      "Results saved to \u001b[1mruns\\segment\\train27\u001b[0m\n",
      "Training complete for: blurred30x.yaml\n",
      "F1 Score not found for blurred30x.yaml. Check results format.\n"
     ]
    }
   ],
   "source": [
    "train_models('blurred30x.yaml')"
   ]
  },
  {
   "cell_type": "code",
   "execution_count": 3,
   "metadata": {},
   "outputs": [],
   "source": [
    "from ultralytics import YOLO \n",
    "import logging\n",
    "\n",
    "\n",
    "def train_models(yaml_file, model_name='yolov8n-seg.pt', epochs=30, imgsz=640, seed=1, optimizer=\"Adam\", lr0=0.001, lrf=0.00005, close_mosaic=10):\n",
    "    model = YOLO(model_name)\n",
    "    \n",
    "    try:\n",
    "        print(f\"\\nTraining model with configuration from: {yaml_file}\")\n",
    "        \n",
    "        results = model.train(\n",
    "            data=yaml_file,  \n",
    "            epochs=epochs,  \n",
    "            imgsz=imgsz,\n",
    "            seed=seed,\n",
    "            optimizer=optimizer, \n",
    "            lr0=lr0,\n",
    "            lrf=lrf,\n",
    "            close_mosaic=close_mosaic \n",
    "        )\n",
    "        \n",
    "        print(f\"Training complete for: {yaml_file}\")\n",
    "        print(f\"F1 Score not found for {yaml_file}. Check results format.\")\n",
    "    \n",
    "    except Exception as e:\n",
    "\n",
    "        print(f\"Error occurred while training with {yaml_file}: {e}\")\n"
   ]
  },
  {
   "cell_type": "code",
   "execution_count": null,
   "metadata": {},
   "outputs": [],
   "source": [
    "train_models('blurred30x.yaml')"
   ]
  },
  {
   "cell_type": "code",
   "execution_count": null,
   "metadata": {},
   "outputs": [],
   "source": [
    "train_models('denoised.yaml')"
   ]
  },
  {
   "cell_type": "code",
   "execution_count": null,
   "metadata": {},
   "outputs": [],
   "source": [
    "train_models('doubleblurunblur_ft.yaml')"
   ]
  },
  {
   "cell_type": "code",
   "execution_count": null,
   "metadata": {},
   "outputs": [],
   "source": [
    "train_models('doubleblur.yaml')"
   ]
  },
  {
   "cell_type": "code",
   "execution_count": null,
   "metadata": {},
   "outputs": [],
   "source": [
    "train_models('doubleblurunblur.yaml')"
   ]
  },
  {
   "cell_type": "code",
   "execution_count": null,
   "metadata": {},
   "outputs": [],
   "source": [
    "train_models('lowres.yaml')"
   ]
  },
  {
   "cell_type": "code",
   "execution_count": null,
   "metadata": {},
   "outputs": [],
   "source": [
    "train_models('lowresx4.yaml')"
   ]
  },
  {
   "cell_type": "code",
   "execution_count": null,
   "metadata": {},
   "outputs": [],
   "source": [
    "train_models('lowresx8.yaml')"
   ]
  },
  {
   "cell_type": "code",
   "execution_count": null,
   "metadata": {},
   "outputs": [],
   "source": [
    "train_models('noise.yaml')"
   ]
  },
  {
   "cell_type": "code",
   "execution_count": null,
   "metadata": {},
   "outputs": [],
   "source": [
    "train_models('original_upscaled.yaml')"
   ]
  },
  {
   "cell_type": "code",
   "execution_count": null,
   "metadata": {},
   "outputs": [],
   "source": [
    "# Relevant ones.\n",
    "filter_non_empty_masks('doubleblur')\n",
    "filter_non_empty_masks('doubleblur_deblurred')\n",
    "filter_non_empty_masks('noisy_ft_denoised')\n",
    "filter_non_empty_masks('noisy')\n",
    "filter_non_empty_masks('lowres')\n",
    "filter_non_empty_masks('lowresx4')\n",
    "filter_non_empty_masks('lowresx8')"
   ]
  },
  {
   "cell_type": "code",
   "execution_count": null,
   "metadata": {},
   "outputs": [],
   "source": [
    "# diffmodel('doubleblur.yaml','runs/segment/doubleblur/weights/best.pt')\n",
    "# diffmodel('doubleblurunblur.yaml','runs/segment/doubleunblur/weights/best.pt')\n",
    "# diffmodel('denoised_ft.yaml','runs/segment/denoised_ft/weights/best.pt')\n",
    "# diffmodel('noise.yaml','runs/segment/noise/weights/best.pt')\n",
    "# diffmodel('lowres.yaml','runs/segment/lowres/weights/best.pt')\n",
    "# diffmodel('lowresx4.yaml','runs/segment/lowresx4/weights/best.pt')\n",
    "# diffmodel('lowresx8.yaml','runs/segment/lowresx8/weights/best.pt')"
   ]
  },
  {
   "cell_type": "code",
   "execution_count": null,
   "metadata": {},
   "outputs": [],
   "source": [
    "\n",
    "import torch\n",
    "from ultralytics import YOLO\n",
    "\n",
    "diffmodel('blur.yaml','runs/segment/train13/weights/best.pt')\n",
    "diffmodel('blurunblur.yaml')\n",
    "diffmodel('denoised_ft.yaml')\n",
    "diffmodel('denoised.yaml')\n",
    "diffmodel('doubleblurunblur_ft.yaml')\n",
    "diffmodel('doubleblur.yaml')\n",
    "diffmodel('doubleblurunblur.yaml')\n",
    "diffmodel('lowres.yaml')\n",
    "diffmodel('lowresx4.yaml')\n",
    "diffmodel('lowresx8.yaml')\n",
    "diffmodel('noise.yaml')\n",
    "diffmodel('original_upscaled.yaml')\n",
    "diffmodel('original.yaml')"
   ]
  },
  {
   "cell_type": "code",
   "execution_count": null,
   "metadata": {},
   "outputs": [],
   "source": [
    "diffmodel('original.yaml')"
   ]
  }
 ],
 "metadata": {
  "kernelspec": {
   "display_name": "Python 3",
   "language": "python",
   "name": "python3"
  },
  "language_info": {
   "codemirror_mode": {
    "name": "ipython",
    "version": 3
   },
   "file_extension": ".py",
   "mimetype": "text/x-python",
   "name": "python",
   "nbconvert_exporter": "python",
   "pygments_lexer": "ipython3",
   "version": "3.10.5"
  }
 },
 "nbformat": 4,
 "nbformat_minor": 2
}
